{
  "nbformat": 4,
  "nbformat_minor": 0,
  "metadata": {
    "colab": {
      "provenance": [],
      "authorship_tag": "ABX9TyP/Wg4jmIqlITGZoyvPMLoR",
      "include_colab_link": true
    },
    "kernelspec": {
      "name": "python3",
      "display_name": "Python 3"
    },
    "language_info": {
      "name": "python"
    }
  },
  "cells": [
    {
      "cell_type": "markdown",
      "metadata": {
        "id": "view-in-github",
        "colab_type": "text"
      },
      "source": [
        "<a href=\"https://colab.research.google.com/github/leeCodingStudio/firstPython/blob/master/02_%ED%8C%8C%EC%9D%B4%EC%8D%AC%EC%9D%98_%EC%B6%9C%EB%A0%A5.ipynb\" target=\"_parent\"><img src=\"https://colab.research.google.com/assets/colab-badge.svg\" alt=\"Open In Colab\"/></a>"
      ]
    },
    {
      "cell_type": "markdown",
      "source": [
        "# 1. print 함수\n",
        "* 매개변수로 지정된 데이터를 출력하고 줄을 변경"
      ],
      "metadata": {
        "id": "kugSPBnrPuJD"
      }
    },
    {
      "cell_type": "code",
      "source": [
        "print('안녕하세요 파이썬')\n",
        "print(10)\n",
        "print('10')"
      ],
      "metadata": {
        "colab": {
          "base_uri": "https://localhost:8080/"
        },
        "id": "uW1DzrfPP_N7",
        "outputId": "ce21f42e-c671-46a6-8ff8-d710c81bbb68"
      },
      "execution_count": 1,
      "outputs": [
        {
          "output_type": "stream",
          "name": "stdout",
          "text": [
            "안녕하세요 파이썬\n",
            "10\n",
            "10\n"
          ]
        }
      ]
    },
    {
      "cell_type": "markdown",
      "source": [
        "# 2. 주석문"
      ],
      "metadata": {
        "id": "ycH-ExwtTMBO"
      }
    },
    {
      "cell_type": "code",
      "source": [
        "# 한 줄 주석문\n",
        "'''\n",
        "여기는 여러줄을 주석으로 처리합니다.\n",
        "따라서 프로그램에 영향을 주지 않습니다.\n",
        "'''\n",
        "print('파이썬 출력하기') # 문자열 출력은 싱글 따옴표 '' 또는 쌍 따옴표 \"\"를 사용함"
      ],
      "metadata": {
        "colab": {
          "base_uri": "https://localhost:8080/"
        },
        "id": "yF1VwDejUaC-",
        "outputId": "4cfd09bb-1b97-4f0e-a706-01be018ef11d"
      },
      "execution_count": 2,
      "outputs": [
        {
          "output_type": "stream",
          "name": "stdout",
          "text": [
            "파이썬 출력하기\n"
          ]
        }
      ]
    },
    {
      "cell_type": "markdown",
      "source": [
        "# 3. print 함수의 활용"
      ],
      "metadata": {
        "id": "VeoS2tC1VjfE"
      }
    },
    {
      "cell_type": "code",
      "source": [
        "print(10 + 5)\n",
        "print(10 - 5)\n",
        "print(10 * 5)\n",
        "print(10 / 5)\n",
        "print(10 % 3)\n",
        "print('10 + 3')\n",
        "print('10' + 3) # TypeError: can only concatenate str (not \"int\") to str"
      ],
      "metadata": {
        "colab": {
          "base_uri": "https://localhost:8080/",
          "height": 321
        },
        "id": "aQJ7aQ6cVrD2",
        "outputId": "9ade148e-dd08-4cd1-9365-da63b35e6390"
      },
      "execution_count": 3,
      "outputs": [
        {
          "output_type": "stream",
          "name": "stdout",
          "text": [
            "15\n",
            "5\n",
            "50\n",
            "2.0\n",
            "1\n",
            "10 + 3\n"
          ]
        },
        {
          "output_type": "error",
          "ename": "TypeError",
          "evalue": "ignored",
          "traceback": [
            "\u001b[0;31m---------------------------------------------------------------------------\u001b[0m",
            "\u001b[0;31mTypeError\u001b[0m                                 Traceback (most recent call last)",
            "\u001b[0;32m<ipython-input-3-f51f7b396e2d>\u001b[0m in \u001b[0;36m<module>\u001b[0;34m\u001b[0m\n\u001b[1;32m      5\u001b[0m \u001b[0mprint\u001b[0m\u001b[0;34m(\u001b[0m\u001b[0;36m10\u001b[0m \u001b[0;34m%\u001b[0m \u001b[0;36m3\u001b[0m\u001b[0;34m)\u001b[0m\u001b[0;34m\u001b[0m\u001b[0;34m\u001b[0m\u001b[0m\n\u001b[1;32m      6\u001b[0m \u001b[0mprint\u001b[0m\u001b[0;34m(\u001b[0m\u001b[0;34m'10 + 3'\u001b[0m\u001b[0;34m)\u001b[0m\u001b[0;34m\u001b[0m\u001b[0;34m\u001b[0m\u001b[0m\n\u001b[0;32m----> 7\u001b[0;31m \u001b[0mprint\u001b[0m\u001b[0;34m(\u001b[0m\u001b[0;34m'10'\u001b[0m \u001b[0;34m+\u001b[0m \u001b[0;36m3\u001b[0m\u001b[0;34m)\u001b[0m \u001b[0;31m# TypeError: can only concatenate str (not \"int\") to str\u001b[0m\u001b[0;34m\u001b[0m\u001b[0;34m\u001b[0m\u001b[0m\n\u001b[0m",
            "\u001b[0;31mTypeError\u001b[0m: can only concatenate str (not \"int\") to str"
          ]
        }
      ]
    },
    {
      "cell_type": "code",
      "source": [
        "print('Hello', 'Python')\n",
        "print('Hello', 'Python', 'Hi', 'Python')\n",
        "print('Hello', end='') # end: print 출력 후 어떻게 처리할지에 대한 옵션\n",
        "print('Python')\n",
        "print('Hello')\n",
        "print('Hello', end=' ')\n",
        "print('Python')\n",
        "print('Hello', end='🎁') # 윈도우키 + .\n",
        "print('Python')"
      ],
      "metadata": {
        "colab": {
          "base_uri": "https://localhost:8080/"
        },
        "id": "ESIU9ZvdrNb0",
        "outputId": "f227197a-167f-4218-91bb-d7a9f6be8fb6"
      },
      "execution_count": 13,
      "outputs": [
        {
          "output_type": "stream",
          "name": "stdout",
          "text": [
            "Hello Python\n",
            "Hello Python Hi Python\n",
            "HelloPython\n",
            "Hello\n",
            "Hello Python\n",
            "Hello🎁Python\n"
          ]
        }
      ]
    },
    {
      "cell_type": "markdown",
      "source": [
        "# 4. 출력 서식 지정하기\n",
        "* %d(정수) %f(실수), %s(문자열)를 사용하여 출력 서식을 지정\n",
        "* 서식을 제외한 문자는 입력한 그대로 출력이 됨\n",
        "* 서식을 지정해서 출력할 데이터가 2개 이상인 경우는 소괄호로 데이터를 묶어야 함"
      ],
      "metadata": {
        "id": "ex8JINdytAHm"
      }
    },
    {
      "cell_type": "code",
      "source": [
        "print('정수: 100')\n",
        "print('정수:', 100)\n",
        "print('정수: %d' % 100)\n",
        "print(f'정수: {100}')"
      ],
      "metadata": {
        "colab": {
          "base_uri": "https://localhost:8080/"
        },
        "id": "XUU3NruztaPl",
        "outputId": "cd11cac9-f04e-45de-aa8c-dce00cd953bf"
      },
      "execution_count": 25,
      "outputs": [
        {
          "output_type": "stream",
          "name": "stdout",
          "text": [
            "정수: 100\n",
            "정수: 100\n",
            "정수: 100\n",
            "정수: 100\n"
          ]
        }
      ]
    },
    {
      "cell_type": "code",
      "source": [
        "print('정수: %d' % 100.5)"
      ],
      "metadata": {
        "colab": {
          "base_uri": "https://localhost:8080/"
        },
        "id": "jAwSPC0cu_Rt",
        "outputId": "ee066717-d0cc-4ec1-a057-e7ddfdfdc192"
      },
      "execution_count": 26,
      "outputs": [
        {
          "output_type": "stream",
          "name": "stdout",
          "text": [
            "정수: 100\n"
          ]
        }
      ]
    },
    {
      "cell_type": "code",
      "source": [
        "print('실수: %f' % 100.5)"
      ],
      "metadata": {
        "colab": {
          "base_uri": "https://localhost:8080/"
        },
        "id": "z_gKZgk0uVwY",
        "outputId": "2bb128b6-e163-4b67-fab3-88f4344a21c8"
      },
      "execution_count": 23,
      "outputs": [
        {
          "output_type": "stream",
          "name": "stdout",
          "text": [
            "실수: 100.500000\n"
          ]
        }
      ]
    },
    {
      "cell_type": "code",
      "source": [
        "print('실수: %f' % 100)"
      ],
      "metadata": {
        "colab": {
          "base_uri": "https://localhost:8080/"
        },
        "id": "H1tudWL-u5bl",
        "outputId": "18b6b6b7-9e63-49bd-eb4d-5c5865834d8c"
      },
      "execution_count": 24,
      "outputs": [
        {
          "output_type": "stream",
          "name": "stdout",
          "text": [
            "실수: 100.000000\n"
          ]
        }
      ]
    },
    {
      "cell_type": "code",
      "source": [
        "print('문자열 %s' % 'Python')\n",
        "print('문자열 %s' % 100)"
      ],
      "metadata": {
        "colab": {
          "base_uri": "https://localhost:8080/"
        },
        "id": "BOzLxSkOuk6Y",
        "outputId": "f3c3b7f8-7315-4a67-a3f9-e69022dcfcfc"
      },
      "execution_count": 22,
      "outputs": [
        {
          "output_type": "stream",
          "name": "stdout",
          "text": [
            "문자열 Python\n",
            "문자열 100\n"
          ]
        }
      ]
    },
    {
      "cell_type": "code",
      "source": [
        "print('5 + 3 = 8')\n",
        "print('%d + %d = %d' % (5, 3, 5+3))"
      ],
      "metadata": {
        "colab": {
          "base_uri": "https://localhost:8080/"
        },
        "id": "LMQ-yXG5vV9R",
        "outputId": "1282b2ab-3166-43b9-b7d1-f3d75d6dc530"
      },
      "execution_count": 28,
      "outputs": [
        {
          "output_type": "stream",
          "name": "stdout",
          "text": [
            "5 + 3 = 8\n",
            "5 + 3 = 8\n"
          ]
        }
      ]
    },
    {
      "cell_type": "code",
      "source": [
        "print('%5d' % 100)\n",
        "print('%5d' % 10000)\n",
        "print('%05d' % 100)"
      ],
      "metadata": {
        "colab": {
          "base_uri": "https://localhost:8080/"
        },
        "id": "Fp9eqwp0v0j7",
        "outputId": "8ab9dd64-d6f2-4c6f-f474-f76cf34b7486"
      },
      "execution_count": 34,
      "outputs": [
        {
          "output_type": "stream",
          "name": "stdout",
          "text": [
            "  100\n",
            "10000\n",
            "00100\n"
          ]
        }
      ]
    },
    {
      "cell_type": "code",
      "source": [
        "print('%6.2f' % 123.45) # 6: 총자리수 2: 소수자리\n",
        "print('%6.2f' % 123.4567) # 반올림\n",
        "print('%6.2f' % 123.4) # 남은 자리는 0으로 채움"
      ],
      "metadata": {
        "colab": {
          "base_uri": "https://localhost:8080/"
        },
        "id": "iMBsX3b-wVvN",
        "outputId": "fb9a26f0-243a-4d1b-938b-a9a5a764b74a"
      },
      "execution_count": 44,
      "outputs": [
        {
          "output_type": "stream",
          "name": "stdout",
          "text": [
            "123.45\n",
            "123.46\n",
            "123.40\n"
          ]
        }
      ]
    },
    {
      "cell_type": "code",
      "source": [
        "print('%5s' % 'ABC')"
      ],
      "metadata": {
        "colab": {
          "base_uri": "https://localhost:8080/"
        },
        "id": "jW-ezZcCxZ0Z",
        "outputId": "80353bd8-6232-4546-f3c6-074fc2c3a8dd"
      },
      "execution_count": 45,
      "outputs": [
        {
          "output_type": "stream",
          "name": "stdout",
          "text": [
            "  ABC\n"
          ]
        }
      ]
    },
    {
      "cell_type": "code",
      "source": [
        "# 5 / 3 = ?\n",
        "print('%d / %d = %d' % (5, 3, 5/3))\n",
        "print('%d / %d = %f' % (5, 3, 5/3))\n",
        "print('%d / %d = %4.2f' % (5, 3, 5/3))"
      ],
      "metadata": {
        "colab": {
          "base_uri": "https://localhost:8080/"
        },
        "id": "JyOSAzSIxo7h",
        "outputId": "f7fc9cbe-f41c-4f90-ef3e-b951ae749b70"
      },
      "execution_count": 48,
      "outputs": [
        {
          "output_type": "stream",
          "name": "stdout",
          "text": [
            "5 / 3 = 1\n",
            "5 / 3 = 1.666667\n",
            "5 / 3 = 1.67\n"
          ]
        }
      ]
    },
    {
      "cell_type": "markdown",
      "source": [
        "# 5. format 함수와 출력 인덱스 사용"
      ],
      "metadata": {
        "id": "saddQZXQy6R9"
      }
    },
    {
      "cell_type": "code",
      "source": [
        "# 인덱스: 0부터 순서대로 진행되는 정수\n",
        "print('{} {}'.format('김사과', '반하나'))\n",
        "print('{0} {1}'.format('김사과', '반하나'))\n",
        "print('{1} {0}'.format('김사과', '반하나'))"
      ],
      "metadata": {
        "colab": {
          "base_uri": "https://localhost:8080/"
        },
        "id": "KO-R-zxkzB2f",
        "outputId": "4953719b-7977-4e66-e84d-421dfe987050"
      },
      "execution_count": 50,
      "outputs": [
        {
          "output_type": "stream",
          "name": "stdout",
          "text": [
            "김사과 반하나\n",
            "김사과 반하나\n",
            "반하나 김사과\n"
          ]
        }
      ]
    },
    {
      "cell_type": "code",
      "source": [
        "print('{0:3s}님은 {1:03d}살 입니다'.format('김사과', 20))"
      ],
      "metadata": {
        "colab": {
          "base_uri": "https://localhost:8080/"
        },
        "id": "GwuzKE4jz0S8",
        "outputId": "deefbffd-aae2-435c-ff4e-6788ba00e517"
      },
      "execution_count": 52,
      "outputs": [
        {
          "output_type": "stream",
          "name": "stdout",
          "text": [
            "김사과님은 020살 입니다\n"
          ]
        }
      ]
    }
  ]
}