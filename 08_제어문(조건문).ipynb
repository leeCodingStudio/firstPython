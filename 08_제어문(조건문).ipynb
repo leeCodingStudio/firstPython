{
  "nbformat": 4,
  "nbformat_minor": 0,
  "metadata": {
    "colab": {
      "provenance": [],
      "authorship_tag": "ABX9TyO0PK1aU3tnATvuU8FRoLZb",
      "include_colab_link": true
    },
    "kernelspec": {
      "name": "python3",
      "display_name": "Python 3"
    },
    "language_info": {
      "name": "python"
    }
  },
  "cells": [
    {
      "cell_type": "markdown",
      "metadata": {
        "id": "view-in-github",
        "colab_type": "text"
      },
      "source": [
        "<a href=\"https://colab.research.google.com/github/leeCodingStudio/firstPython/blob/master/08_%EC%A0%9C%EC%96%B4%EB%AC%B8(%EC%A1%B0%EA%B1%B4%EB%AC%B8).ipynb\" target=\"_parent\"><img src=\"https://colab.research.google.com/assets/colab-badge.svg\" alt=\"Open In Colab\"/></a>"
      ]
    },
    {
      "cell_type": "markdown",
      "source": [
        "# 1. 제어문\n",
        "* 프로그램의 흐름을 제어하는 문장\n",
        "  * 조건문\n",
        "  * 반복문"
      ],
      "metadata": {
        "id": "LOSljmJZpVkN"
      }
    },
    {
      "cell_type": "markdown",
      "source": [
        "# 2. 조건문"
      ],
      "metadata": {
        "id": "qxlIE_-SqHMy"
      }
    },
    {
      "cell_type": "markdown",
      "source": [
        "### 2-1. 비교연산자\n",
        "* <, >, <=, >=, ==, !=\n",
        "* 항상 결과는 bool형으로 반환"
      ],
      "metadata": {
        "id": "sk0_t-d0qe3e"
      }
    },
    {
      "cell_type": "code",
      "source": [
        "print(10 > 5)\n",
        "print(10 < 5)\n",
        "print(10 >= 5)\n",
        "print(10 <= 5)\n",
        "print(10 == 5)\n",
        "print(10 != 5)"
      ],
      "metadata": {
        "colab": {
          "base_uri": "https://localhost:8080/"
        },
        "id": "eLY6Zfvxrl4R",
        "outputId": "ccbac4b8-ce56-45d2-c0a4-834691fe3b6b"
      },
      "execution_count": 3,
      "outputs": [
        {
          "output_type": "stream",
          "name": "stdout",
          "text": [
            "True\n",
            "False\n",
            "True\n",
            "False\n",
            "False\n",
            "True\n"
          ]
        }
      ]
    },
    {
      "cell_type": "markdown",
      "source": [
        "### 2-2. if문\n",
        "\n",
        "```\n",
        "if 조건식(결과가 True 또는 False가 나오는 문장):\n",
        "  조건식이 True인 경우 실행할 문장\n",
        "  ...\n",
        "```"
      ],
      "metadata": {
        "id": "-S-3UACIrqzG"
      }
    },
    {
      "cell_type": "code",
      "source": [
        "bool1 = True\n",
        "\n",
        "if bool1:\n",
        "  print('결과는 참입니다')\n",
        "print('프로그램을 종료합니다')"
      ],
      "metadata": {
        "colab": {
          "base_uri": "https://localhost:8080/"
        },
        "id": "t2XhPyrWtBdf",
        "outputId": "bb50504f-6679-4fbf-c49b-84c757a19716"
      },
      "execution_count": 4,
      "outputs": [
        {
          "output_type": "stream",
          "name": "stdout",
          "text": [
            "결과는 참입니다\n",
            "프로그램을 종료합니다\n"
          ]
        }
      ]
    },
    {
      "cell_type": "code",
      "source": [
        "bool2 = False\n",
        "\n",
        "if bool2:\n",
        "  print('결과는 참입니다')\n",
        "print('프로그램을 종료합니다')"
      ],
      "metadata": {
        "colab": {
          "base_uri": "https://localhost:8080/"
        },
        "id": "yaYgkNE1tTda",
        "outputId": "982ec3c6-d61d-4611-99af-3ce3f3b4cb7f"
      },
      "execution_count": 5,
      "outputs": [
        {
          "output_type": "stream",
          "name": "stdout",
          "text": [
            "프로그램을 종료합니다\n"
          ]
        }
      ]
    },
    {
      "cell_type": "code",
      "source": [
        "age = int(input('나이를 입력하세요: '))\n",
        "\n",
        "if age > 19:\n",
        "  print('성인입니다')\n",
        "\n",
        "print('입력한 나이: ', age)"
      ],
      "metadata": {
        "colab": {
          "base_uri": "https://localhost:8080/"
        },
        "id": "Ua1Pbt55tqA5",
        "outputId": "5402a3ec-a871-46b0-f50f-f890812de070"
      },
      "execution_count": 7,
      "outputs": [
        {
          "output_type": "stream",
          "name": "stdout",
          "text": [
            "나이를 입력하세요: 20\n",
            "성인입니다\n",
            "입력한 나이:  20\n"
          ]
        }
      ]
    },
    {
      "cell_type": "code",
      "source": [
        "age = int(input('나이를 입력하세요: '))\n",
        "\n",
        "if age > 19:\n",
        "  print('성인입니다')\n",
        "  print('넷플릭스 성인영화를 감상할 수 있습니다')\n",
        "print('입력한 나이: ', age)"
      ],
      "metadata": {
        "colab": {
          "base_uri": "https://localhost:8080/"
        },
        "id": "_Op32twmuQqQ",
        "outputId": "806e12fd-7dfe-4a18-f1da-7f1e65bed5f5"
      },
      "execution_count": 8,
      "outputs": [
        {
          "output_type": "stream",
          "name": "stdout",
          "text": [
            "나이를 입력하세요: 20\n",
            "성인입니다\n",
            "넷플릭스 성인영화를 감상할 수 있습니다\n",
            "입력한 나이:  20\n"
          ]
        }
      ]
    },
    {
      "cell_type": "code",
      "source": [
        "age = int(input('나이를 입력하세요: '))\n",
        "\n",
        "if age > 19: print('성인입니다')\n",
        "print('입력한 나이: ', age)"
      ],
      "metadata": {
        "colab": {
          "base_uri": "https://localhost:8080/"
        },
        "id": "PuKsZLDxuypu",
        "outputId": "9cef92e9-5ab2-4735-c161-c74cdca5d6bf"
      },
      "execution_count": 9,
      "outputs": [
        {
          "output_type": "stream",
          "name": "stdout",
          "text": [
            "나이를 입력하세요: 20\n",
            "성인입니다\n",
            "입력한 나이:  20\n"
          ]
        }
      ]
    },
    {
      "cell_type": "markdown",
      "source": [
        "### 2-3. if ~ else 문\n",
        "```\n",
        "if 조건식(결과가 True 또는 False가 나오는 문장):\n",
        "  조건식이 True인 경우 실행할 문장\n",
        "  ...\n",
        "else:\n",
        "  조건식이 False인 경우 실행할 문장\n",
        "  ...\n",
        "```"
      ],
      "metadata": {
        "id": "l0o-mjG_vT3l"
      }
    },
    {
      "cell_type": "code",
      "source": [
        "age = int(input('나이를 입력하세요: '))\n",
        "\n",
        "if age > 19:\n",
        "  print('성인입니다')\n",
        "else:\n",
        "  print('미성년입니다')\n",
        "\n",
        "print('입력한 나이: ', age)"
      ],
      "metadata": {
        "colab": {
          "base_uri": "https://localhost:8080/"
        },
        "id": "O3dyuiOTv0HL",
        "outputId": "7eb4c3ce-f130-47a2-c150-51647e1a3cb1"
      },
      "execution_count": 10,
      "outputs": [
        {
          "output_type": "stream",
          "name": "stdout",
          "text": [
            "나이를 입력하세요: 15\n",
            "미성년입니다\n",
            "입력한 나이:  15\n"
          ]
        }
      ]
    },
    {
      "cell_type": "code",
      "source": [
        "age = int(input('나이를 입력하세요: '))\n",
        "\n",
        "if age > 19:\n",
        "  print('성인입니다')\n",
        "  print('넷플릭스 성인영화를 감상할 수 있습니다')\n",
        "else:\n",
        "  print('미성년입니다')\n",
        "  print('디즈니를 보세요')\n",
        "  \n",
        "print('입력한 나이: ', age)"
      ],
      "metadata": {
        "colab": {
          "base_uri": "https://localhost:8080/"
        },
        "id": "92m6_gAYwDKc",
        "outputId": "08f4d700-12db-45c6-f2dd-ee6721971670"
      },
      "execution_count": 11,
      "outputs": [
        {
          "output_type": "stream",
          "name": "stdout",
          "text": [
            "나이를 입력하세요: 15\n",
            "미성년입니다\n",
            "디즈니를 보세요\n",
            "입력한 나이:  15\n"
          ]
        }
      ]
    },
    {
      "cell_type": "markdown",
      "source": [
        "### 2-4. if ~ elif ~ else 문\n",
        "```\n",
        "if 조건식1(결과가 True 또는 False가 나오는 문장):\n",
        "  조건식1이 True인 경우 실행할 문장\n",
        "  ...\n",
        "elif 조건식2:\n",
        "  조건식2가 True인 경우 실행할 문장\n",
        "  ...\n",
        "elif 조건식3:\n",
        "  조건식3가 True인 경우 실행할 문장\n",
        "  ...\n",
        "else:\n",
        "  모든 조건식이 False인 경우 실행할 문장\n",
        "  ...\n",
        "```\n",
        "\n",
        "> else는 필수 문장이 아님!"
      ],
      "metadata": {
        "id": "NUL_dIcYwin0"
      }
    },
    {
      "cell_type": "code",
      "source": [
        "age = int(input('나이를 입력하세요: '))\n",
        "\n",
        "if age > 19:\n",
        "  print('성인입니다')\n",
        "elif age > 14:\n",
        "  print('청소년입니다')\n",
        "elif age > 6:\n",
        "  print('어린이입니다')\n",
        "elif age > 0:\n",
        "  print('유아입니다')\n",
        "# else:\n",
        "#   print('입력을 확인하세요')\n",
        "\n",
        "print('입력한 나이: ', age)"
      ],
      "metadata": {
        "colab": {
          "base_uri": "https://localhost:8080/"
        },
        "id": "hFBV0Ka4xciC",
        "outputId": "8f6b5e63-504a-4203-ab7b-ff45ddc38069"
      },
      "execution_count": 12,
      "outputs": [
        {
          "output_type": "stream",
          "name": "stdout",
          "text": [
            "나이를 입력하세요: 7\n",
            "어린이입니다\n",
            "입력한 나이:  7\n"
          ]
        }
      ]
    },
    {
      "cell_type": "markdown",
      "source": [
        "### 2-5. 산술 연산자\n",
        "* +, -, *, /, %, //, **"
      ],
      "metadata": {
        "id": "LIu3qUL_3yuF"
      }
    },
    {
      "cell_type": "code",
      "source": [
        "print(10 + 3)\n",
        "print(10 - 3)\n",
        "print(10 * 3)\n",
        "print(10 / 3)\n",
        "print(10 % 3)\n",
        "print(10 // 3)\n",
        "print(10 ** 3)"
      ],
      "metadata": {
        "colab": {
          "base_uri": "https://localhost:8080/"
        },
        "id": "FS1ayxn64IW4",
        "outputId": "12f52db9-eed8-45ed-c7f1-96752dafaead"
      },
      "execution_count": 16,
      "outputs": [
        {
          "output_type": "stream",
          "name": "stdout",
          "text": [
            "13\n",
            "7\n",
            "30\n",
            "3.3333333333333335\n",
            "1\n",
            "3\n",
            "1000\n"
          ]
        }
      ]
    },
    {
      "cell_type": "markdown",
      "source": [
        "### 2-6. 삼항 연산자\n",
        "\n",
        "```\n",
        "결과가 True일 때 실행할 문장 if 조건식 else 결과가 False일 때 실행할 문장\n",
        "```"
      ],
      "metadata": {
        "id": "3GjbESYf4eGp"
      }
    },
    {
      "cell_type": "code",
      "source": [
        "num = int(input('숫자를 입력하세요: '))\n",
        "\n",
        "if num % 2 == 0:\n",
        "  print('짝수')\n",
        "else:\n",
        "  print('홀수')"
      ],
      "metadata": {
        "colab": {
          "base_uri": "https://localhost:8080/"
        },
        "id": "FfsRwJBI4609",
        "outputId": "7e96b372-3807-4098-8816-dfc56842536b"
      },
      "execution_count": 17,
      "outputs": [
        {
          "output_type": "stream",
          "name": "stdout",
          "text": [
            "숫자를 입력하세요: 11\n",
            "홀수\n"
          ]
        }
      ]
    },
    {
      "cell_type": "code",
      "source": [
        "num = int(input('숫자를 입력하세요: '))\n",
        "\n",
        "print('짝수') if num % 2 == 0 else print('홀수')"
      ],
      "metadata": {
        "colab": {
          "base_uri": "https://localhost:8080/"
        },
        "id": "JjEJPj7h5Tr-",
        "outputId": "b8f17548-8ad0-41cf-a85e-de4235857f11"
      },
      "execution_count": 19,
      "outputs": [
        {
          "output_type": "stream",
          "name": "stdout",
          "text": [
            "숫자를 입력하세요: 11\n",
            "홀수\n"
          ]
        }
      ]
    },
    {
      "cell_type": "markdown",
      "source": [
        "### 문제1.\n",
        "* 국어점수, 영어점수, 수학점수를 입력받아 총점, 평균, 학점을 구하는 프로그램을 작성해보자\n",
        "* 단, 학점은 평균 기준이며 90점 이상은 A, 80점 이상은 B, 70점 이상은 C, 60점 이상은 D, 나머지는 F로 함"
      ],
      "metadata": {
        "id": "fGTZ6UcF5jBG"
      }
    },
    {
      "cell_type": "code",
      "source": [
        "ko = int(input('국어 점수를 입력하세요: '))\n",
        "en = int(input('영어 점수를 입력하세요: '))\n",
        "ma = int(input('수학 점수를 입력하세요: '))\n",
        "\n",
        "total = ko + en + ma\n",
        "avg = total/3\n",
        "\n",
        "if avg >= 90:\n",
        "  score = 'A'\n",
        "elif avg >= 80:\n",
        "  score = 'B'\n",
        "elif avg >= 70:\n",
        "  score = 'C'\n",
        "elif avg >= 60:\n",
        "  score = 'D'\n",
        "else:\n",
        "  scpre = 'F'\n",
        "print('총합합 점수: %d, 평균점수: %d, 학점: %s' % (total, avg, score))"
      ],
      "metadata": {
        "colab": {
          "base_uri": "https://localhost:8080/"
        },
        "id": "OiRBkzm36hqm",
        "outputId": "cc4c8fb9-1898-4863-ab99-6f6733df3cb8"
      },
      "execution_count": 29,
      "outputs": [
        {
          "output_type": "stream",
          "name": "stdout",
          "text": [
            "국어 점수를 입력하세요: 91\n",
            "영어 점수를 입력하세요: 85\n",
            "수학 점수를 입력하세요: 93\n",
            "총합합 점수: 269, 평균점수: 89, 학점: B\n"
          ]
        }
      ]
    },
    {
      "cell_type": "code",
      "source": [
        "kor, eng, math = input('국어, 영어, 수학점수를 차례대로 입력하세요: ').split(' ')\n",
        "tot = int(kor) + int(eng) + int(math)\n",
        "avg = tot / 3\n",
        "\n",
        "hak = 'F학점'\n",
        "if avg >= 90:\n",
        "  hak = 'A학점'\n",
        "elif avg >= 80:\n",
        "  hak = 'B학점'\n",
        "elif avg >= 70:\n",
        "  hak = 'C학점'\n",
        "elif avg >= 60:\n",
        "  hak = 'D학점'\n",
        "\n",
        "print('총점: ', tot)\n",
        "print('평균: ', avg)\n",
        "print('학점: ', hak)"
      ],
      "metadata": {
        "colab": {
          "base_uri": "https://localhost:8080/"
        },
        "id": "cOX_i-nVRmP9",
        "outputId": "e13bb7c6-9fae-4a61-a147-197a282b49e5"
      },
      "execution_count": 28,
      "outputs": [
        {
          "output_type": "stream",
          "name": "stdout",
          "text": [
            "국어, 영어, 수학점수를 차례대로 입력하세요: 91 85 93\n",
            "총점:  269\n",
            "평균:  89.66666666666667\n",
            "학점:  B학점\n"
          ]
        }
      ]
    },
    {
      "cell_type": "markdown",
      "source": [
        "### 문제2.\n",
        "* 숫자를 입력받아 2의 배수인지, 3의 배수인지 아니면 2, 3의 배수가 모두 아닌지를 판별하는 프로그램을 작성해보자."
      ],
      "metadata": {
        "id": "mRuH2eQP6OG4"
      }
    },
    {
      "cell_type": "code",
      "source": [
        "num = int(input('숫자를 입력하세요: '))\n",
        "if num % 2 == 0:\n",
        "  print('2의 배수입니다.')\n",
        "elif num % 3 == 0:\n",
        "  print('3의 배수입니다.')\n",
        "else:\n",
        "  print('2와3의 배수가 아닙니다.')"
      ],
      "metadata": {
        "colab": {
          "base_uri": "https://localhost:8080/"
        },
        "id": "k-tyT6JV6geh",
        "outputId": "966f0c83-998a-4605-e9aa-cef451b35315"
      },
      "execution_count": 40,
      "outputs": [
        {
          "output_type": "stream",
          "name": "stdout",
          "text": [
            "숫자를 입력하세요: 27\n",
            "3의 배수입니다.\n"
          ]
        }
      ]
    },
    {
      "cell_type": "code",
      "source": [
        "num = int(input('숫자를 입력하세요: '))\n",
        "\n",
        "if num % 2 == 0:\n",
        "  if num % 3 == 0:\n",
        "    print(f'{num}은 2와 3의 배수')\n",
        "  else:\n",
        "    print(f'{num}은 2의 배수')\n",
        "elif num % 3 == 0:\n",
        "  print(f'{num}은 3의 배수')\n",
        "else:\n",
        "  print(f'{num}은 2와 3의 배수가 아님')"
      ],
      "metadata": {
        "colab": {
          "base_uri": "https://localhost:8080/"
        },
        "id": "nznjvuzMS4PQ",
        "outputId": "600c2b67-b0e2-4439-ce71-42840aa95cb9"
      },
      "execution_count": 38,
      "outputs": [
        {
          "output_type": "stream",
          "name": "stdout",
          "text": [
            "숫자를 입력하세요: 54\n",
            "54은 2와 3의 배수\n"
          ]
        }
      ]
    },
    {
      "cell_type": "code",
      "source": [
        "num = int(input('숫자를 입력하세요: '))\n",
        "\n",
        "print(f'{num}은 2의 배수') if num % 2 == 0 else print(f'{num}은 3의 배수') if num % 3 == 0 else print(f'{num}은 2와 3의 배수가 아님')"
      ],
      "metadata": {
        "colab": {
          "base_uri": "https://localhost:8080/"
        },
        "id": "8UbeRX2EUGw8",
        "outputId": "ce3dd3ef-65a0-4500-d8b7-fb5027bfccce"
      },
      "execution_count": 37,
      "outputs": [
        {
          "output_type": "stream",
          "name": "stdout",
          "text": [
            "숫자를 입력하세요: 17\n",
            "17은 2와 3의 배수가 아님\n"
          ]
        }
      ]
    },
    {
      "cell_type": "markdown",
      "source": [
        "### 2-7. 논리 연산자(AND)\n",
        "* 양쪽 두식의 값이 모두 True인 경우 결과가 True가 되는 연산자\n",
        "\n",
        "| A | B | 결과 |\n",
        "|:-----:|:-----:|:-----:|\n",
        "|True|True|True|\n",
        "|True|False|False|\n",
        "|False|True|False|\n",
        "|False|False|False|\n",
        "\n",
        "> 예) 정보처리 기사 자격을 취득하기 위해서는 모든 과목을 40점 이상이고 평균이 60점 이상이 되어야 함"
      ],
      "metadata": {
        "id": "E4SXC5ZzVOhG"
      }
    },
    {
      "cell_type": "code",
      "source": [
        "# 로그인 프로그램 만들기\n",
        "# 아이디: admin, 비밀번호: 1234\n",
        "userid = input('아이디를 입력하세요')\n",
        "userpw = input('비밀번호를 입력하세요')\n",
        "\n",
        "if userid == 'admin' and userpw == '1234':\n",
        "  print('로그인 되었습니다')\n",
        "else:\n",
        "  print('아이디 또는 비밀번호를 확인하세요')"
      ],
      "metadata": {
        "id": "XyeE8fUsXF8q",
        "colab": {
          "base_uri": "https://localhost:8080/"
        },
        "outputId": "458a9039-3919-495f-9f6a-a4048efb0803"
      },
      "execution_count": 41,
      "outputs": [
        {
          "output_type": "stream",
          "name": "stdout",
          "text": [
            "아이디를 입력하세요admin\n",
            "비밀번호를 입력하세요1234\n",
            "로그인 되었습니다\n"
          ]
        }
      ]
    },
    {
      "cell_type": "markdown",
      "source": [
        "### 2-8. 논리 연산자(OR)\n",
        "* 양쪽 두 식의 값이 하나라도 True인 경우 결과가 True가 되는 연산자\n",
        "\n",
        "| A | B | 결과 |\n",
        "|:-----:|:-----:|:-----:|\n",
        "|True|True|True|\n",
        "|True|False|True|\n",
        "|False|True|True|\n",
        "|False|False|False|\n",
        "\n",
        "> 엄빠 모셔와"
      ],
      "metadata": {
        "id": "o9OkBZ5sXqg_"
      }
    },
    {
      "cell_type": "code",
      "source": [
        "# 주민등록번호에 의한 성별을 판별하는 프로그램 만들기\n",
        "# 0010113068518\n",
        "\n",
        "juminNo = input('주민등록번호 13자리를 -없이 입력하세요')\n",
        "\n",
        "if juminNo[6] == '1' or juminNo[6] == '3' or juminNo[6] == '5' or juminNo[6] == '7' or juminNo[6] == '9':\n",
        "  print('남자')\n",
        "else:\n",
        "  print('여자')"
      ],
      "metadata": {
        "colab": {
          "base_uri": "https://localhost:8080/"
        },
        "id": "yPYYXm62Yb8B",
        "outputId": "cd52e08d-f921-4bfe-fc2b-f9a101718a73"
      },
      "execution_count": 42,
      "outputs": [
        {
          "output_type": "stream",
          "name": "stdout",
          "text": [
            "주민등록번호 13자리를 -없이 입력하세요0010113068518\n",
            "남자\n"
          ]
        }
      ]
    },
    {
      "cell_type": "markdown",
      "source": [
        "### 2-9. 논리연산자(NOT)\n",
        "* bool의 값을 반대로 변경해주는 연산자"
      ],
      "metadata": {
        "id": "zxm9DJG2Z2hG"
      }
    },
    {
      "cell_type": "code",
      "source": [
        "bool1 = True\n",
        "\n",
        "if bool1:\n",
        "  print('결과는 참입니다')\n",
        "else:\n",
        "  print('결과는 거짓입니다')"
      ],
      "metadata": {
        "colab": {
          "base_uri": "https://localhost:8080/"
        },
        "id": "AocfBzAaaWMg",
        "outputId": "138d373c-6318-40bd-d664-adc1e2a3ebf3"
      },
      "execution_count": 43,
      "outputs": [
        {
          "output_type": "stream",
          "name": "stdout",
          "text": [
            "결과는 참입니다\n"
          ]
        }
      ]
    },
    {
      "cell_type": "code",
      "source": [
        "bool1 = True\n",
        "\n",
        "if not bool1:\n",
        "  print('결과는 참입니다')\n",
        "else:\n",
        "  print('결과는 거짓입니다')"
      ],
      "metadata": {
        "colab": {
          "base_uri": "https://localhost:8080/"
        },
        "id": "7eNtS3fYamez",
        "outputId": "78322274-54bb-4393-aa25-692f5836027e"
      },
      "execution_count": 44,
      "outputs": [
        {
          "output_type": "stream",
          "name": "stdout",
          "text": [
            "결과는 거짓입니다\n"
          ]
        }
      ]
    },
    {
      "cell_type": "markdown",
      "source": [
        "### 과제\n",
        "아래와 같이 출력되는 이유를 알아보자"
      ],
      "metadata": {
        "id": "NvCTi5eka3mT"
      }
    },
    {
      "cell_type": "markdown",
      "source": [
        "이를 이해하기 위해서 먼저 10진수 소수를 2진수 소수로 바꾸는 계산법을 알아보자.\n",
        "예시로 먼저 0.125를 2진수로 변환할 때 과정을 살펴보자\n",
        "\n",
        "1. 해당 10진수에 2를 곱한다. -> 0.625 * 2 = 1.25\n",
        "2. 위에 결과에서 소수점 위에 숫자가 2진수에서 소수점 첫번째 자리 숫자이다. 이진수 0.1??\n",
        "3. 위에 1번에 있는 결과에서 소수만 가져와서 2를 곱한다. -> 0.25 * 2 = 0.5\n",
        "4. 3번에 결과에서 소수점 위에 숫자가 2진수에서 소수점 두번째 자리 숫자이다. 이진수 0.10?\n",
        "5. 위와 같이 반복하면 결과로 0.101 이나오는데 이것이 십진수 0.625의 이진수 값이다.\n",
        "\n",
        " 위와 같이 십진수를 이진수를 바꾸는 방법으로 일정 소수를 계산시 무한으로 나오는 소수가 존재한다. 예) 0.1 = 0.00011001100110011...\n",
        "\n",
        " 이런 무한히 나오는 소수는 컴퓨터에서 유한 한 비트 수에서 멈추면, 근삿값을 얻게 된다. 그다음 그 근삿값을 다시 사용자인 우리가 보기위한 10진수로 바꾸게 되면 0.1이 아닌 0.1000000000000000055511151231257827021181583404541015625 이 되며 파이선에서는 이것을 단순히 0.1로만 표시한다.\n",
        "\n",
        " 결국 부내적으로 연산을 하게되면 0.1 + 1.1 == 1.2 가 아닌 1.2000000000000002 라는 근삿값이 된어 아래와 같은 연산에서 False가 뜨게 되는 경우가 생긴다."
      ],
      "metadata": {
        "id": "Z0-EpBoBeWB-"
      }
    },
    {
      "cell_type": "code",
      "source": [
        "print(10 / 3) # 3.3333333333333335 ????"
      ],
      "metadata": {
        "colab": {
          "base_uri": "https://localhost:8080/"
        },
        "id": "9jHo69g-a6y5",
        "outputId": "4808fba8-61c1-4478-f424-011af24d48fe"
      },
      "execution_count": 45,
      "outputs": [
        {
          "output_type": "stream",
          "name": "stdout",
          "text": [
            "3.3333333333333335\n"
          ]
        }
      ]
    },
    {
      "cell_type": "code",
      "source": [
        "0.1 + 1.1 == 1.2 # False ????"
      ],
      "metadata": {
        "colab": {
          "base_uri": "https://localhost:8080/"
        },
        "id": "ctAvtGrcbkNV",
        "outputId": "4d605dfe-83e1-48b4-e7fc-f6c82f172fc7"
      },
      "execution_count": 46,
      "outputs": [
        {
          "output_type": "execute_result",
          "data": {
            "text/plain": [
              "False"
            ]
          },
          "metadata": {},
          "execution_count": 46
        }
      ]
    }
  ]
}