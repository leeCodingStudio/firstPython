{
  "nbformat": 4,
  "nbformat_minor": 0,
  "metadata": {
    "colab": {
      "provenance": [],
      "authorship_tag": "ABX9TyNRKtZJwisl6XhDMXFwbbpK",
      "include_colab_link": true
    },
    "kernelspec": {
      "name": "python3",
      "display_name": "Python 3"
    },
    "language_info": {
      "name": "python"
    }
  },
  "cells": [
    {
      "cell_type": "markdown",
      "metadata": {
        "id": "view-in-github",
        "colab_type": "text"
      },
      "source": [
        "<a href=\"https://colab.research.google.com/github/leeCodingStudio/firstPython/blob/master/12_%EC%82%AC%EC%9A%A9%EC%9E%90_%EC%A0%95%EC%9D%98_%ED%95%A8%EC%88%98.ipynb\" target=\"_parent\"><img src=\"https://colab.research.google.com/assets/colab-badge.svg\" alt=\"Open In Colab\"/></a>"
      ]
    },
    {
      "cell_type": "markdown",
      "source": [
        "# 1. 함수\n",
        "* 변수 x, y에 대한 x값이 정해지면 그에 따라 y값을 결정하는 것\n",
        "* 반복적으로 사용되는 가치있는 부분을 묶어서 하나의 집합으로 만듬\n",
        "* 코드를 대활용하기 위한 목적"
      ],
      "metadata": {
        "id": "p8qyQjOOw9Fy"
      }
    },
    {
      "cell_type": "markdown",
      "source": [
        "### 1-1. 이름만 있는 함수\n",
        "\n",
        "```\n",
        "def 함수면():\n",
        "  함수가 호출되면 실행할 문장\n",
        "  ...\n",
        "```\n",
        "\n",
        "```\n",
        "함수명() # 호출\n",
        "```"
      ],
      "metadata": {
        "id": "0ZqHVphVxrO5"
      }
    },
    {
      "cell_type": "code",
      "source": [
        "def func1():\n",
        "  print('처음으로 만드는 함수!')"
      ],
      "metadata": {
        "id": "cmSVQ46iyMD1"
      },
      "execution_count": null,
      "outputs": []
    },
    {
      "cell_type": "code",
      "source": [
        "func1()"
      ],
      "metadata": {
        "colab": {
          "base_uri": "https://localhost:8080/"
        },
        "id": "pJuyXRUmyTB6",
        "outputId": "8ed56335-4f50-4307-86eb-e9577682a001"
      },
      "execution_count": null,
      "outputs": [
        {
          "output_type": "stream",
          "name": "stdout",
          "text": [
            "처음으로 만드는 함수!\n"
          ]
        }
      ]
    },
    {
      "cell_type": "code",
      "source": [
        "for i in range(5):\n",
        "  func1()"
      ],
      "metadata": {
        "colab": {
          "base_uri": "https://localhost:8080/"
        },
        "id": "o4Gc09Ofyico",
        "outputId": "9fe47120-92d9-4b42-fb36-ff0ea8fe6caa"
      },
      "execution_count": null,
      "outputs": [
        {
          "output_type": "stream",
          "name": "stdout",
          "text": [
            "처음으로 만드는 함수!\n",
            "처음으로 만드는 함수!\n",
            "처음으로 만드는 함수!\n",
            "처음으로 만드는 함수!\n",
            "처음으로 만드는 함수!\n"
          ]
        }
      ]
    },
    {
      "cell_type": "markdown",
      "source": [
        "### 1-2. 매개변수가 있는 함수\n",
        "\n",
        "```\n",
        "def 함수명(변수1, 변수2, ...)\n",
        "  함수가 호출되면 실행할 문장\n",
        "  ...\n",
        "```\n",
        "\n",
        "```\n",
        "함수명(값1, 값2, ...) # 호출\n",
        "```"
      ],
      "metadata": {
        "id": "cxsDK173yoqw"
      }
    },
    {
      "cell_type": "code",
      "source": [
        "def func2(num):\n",
        "  print(f'입력받은 숫자: {num}')"
      ],
      "metadata": {
        "id": "3z9JEv_Iy0D8"
      },
      "execution_count": null,
      "outputs": []
    },
    {
      "cell_type": "code",
      "source": [
        "func2(10)"
      ],
      "metadata": {
        "colab": {
          "base_uri": "https://localhost:8080/"
        },
        "id": "6Hhc4TxazRuZ",
        "outputId": "ef4443a2-c17b-44da-940e-a68c3cb50b6c"
      },
      "execution_count": null,
      "outputs": [
        {
          "output_type": "stream",
          "name": "stdout",
          "text": [
            "입력받은 숫자: 10\n"
          ]
        }
      ]
    },
    {
      "cell_type": "code",
      "source": [
        "func2(4)"
      ],
      "metadata": {
        "colab": {
          "base_uri": "https://localhost:8080/"
        },
        "id": "w5ZRoGuTzTeR",
        "outputId": "2ddf8bb8-bb6e-4c51-8fb4-34a6eba60b88"
      },
      "execution_count": null,
      "outputs": [
        {
          "output_type": "stream",
          "name": "stdout",
          "text": [
            "입력받은 숫자: 4\n"
          ]
        }
      ]
    },
    {
      "cell_type": "code",
      "source": [
        "def func3(start, end):\n",
        "  sum = 0\n",
        "  for i in range(start, end+1):\n",
        "    sum += i\n",
        "  print(f'{start}부터 {end}까지의 합: {sum}')"
      ],
      "metadata": {
        "id": "nTXDxeBjzX-5"
      },
      "execution_count": null,
      "outputs": []
    },
    {
      "cell_type": "code",
      "source": [
        "func3(1, 10)"
      ],
      "metadata": {
        "colab": {
          "base_uri": "https://localhost:8080/"
        },
        "id": "mgpMNxHzz1Ev",
        "outputId": "0e818c90-9f59-42d0-9dad-821ce183533d"
      },
      "execution_count": null,
      "outputs": [
        {
          "output_type": "stream",
          "name": "stdout",
          "text": [
            "1부터 10까지의 합: 55\n"
          ]
        }
      ]
    },
    {
      "cell_type": "code",
      "source": [
        "func3(1, 100)"
      ],
      "metadata": {
        "colab": {
          "base_uri": "https://localhost:8080/"
        },
        "id": "w32R3WYRz3O3",
        "outputId": "721ab5b6-9a1a-40c5-9c91-ccdb657ec118"
      },
      "execution_count": null,
      "outputs": [
        {
          "output_type": "stream",
          "name": "stdout",
          "text": [
            "1부터 100까지의 합: 5050\n"
          ]
        }
      ]
    },
    {
      "cell_type": "markdown",
      "source": [
        "### 1-3. 리턴값이 있는 함수\n",
        "\n",
        "```\n",
        "def 함수명(변수1, 변수2 ...)\n",
        "  함수가 호출되면 실행할 문장\n",
        "  ...\n",
        "  return 값\n",
        "```\n",
        "\n",
        "```\n",
        "함수명(값1, 값2 ...) # 호출\n",
        "```"
      ],
      "metadata": {
        "id": "x2NI_PYCz8Xl"
      }
    },
    {
      "cell_type": "code",
      "source": [
        "def func4():\n",
        "  print('안녕하세요 Python')"
      ],
      "metadata": {
        "id": "_1ZRWt3Ju3ZS"
      },
      "execution_count": null,
      "outputs": []
    },
    {
      "cell_type": "code",
      "source": [
        "a = func4()\n",
        "print(f'a에 저장된 값: {a}')"
      ],
      "metadata": {
        "colab": {
          "base_uri": "https://localhost:8080/"
        },
        "id": "JVmocBLWu_qG",
        "outputId": "5cccbdb4-30bd-4a57-c408-f4cd7ad206c8"
      },
      "execution_count": null,
      "outputs": [
        {
          "output_type": "stream",
          "name": "stdout",
          "text": [
            "안녕하세요 Python\n",
            "a에 저장된 값: None\n"
          ]
        }
      ]
    },
    {
      "cell_type": "code",
      "source": [
        "def func5():\n",
        "  return '🎁'"
      ],
      "metadata": {
        "id": "HpL5CpwQvXrM"
      },
      "execution_count": null,
      "outputs": []
    },
    {
      "cell_type": "code",
      "source": [
        "presents = func5()\n",
        "print(f'presents에 저장된 값: {presents}')"
      ],
      "metadata": {
        "colab": {
          "base_uri": "https://localhost:8080/"
        },
        "id": "b0u4z2IPvjf_",
        "outputId": "ac1ee13e-2c2b-4589-9474-7df0bead12f6"
      },
      "execution_count": null,
      "outputs": [
        {
          "output_type": "stream",
          "name": "stdout",
          "text": [
            "presents에 저장된 값: 🎁\n"
          ]
        }
      ]
    },
    {
      "cell_type": "code",
      "source": [
        "def func6(num1, num2):\n",
        "  sum = num1 + num2\n",
        "  return sum"
      ],
      "metadata": {
        "id": "GL6b-gTGvxzv"
      },
      "execution_count": null,
      "outputs": []
    },
    {
      "cell_type": "code",
      "source": [
        "result = func6(10) # TypeError: func6() missing 1 required positional argument: 'num2'\n",
        "print(result)"
      ],
      "metadata": {
        "colab": {
          "base_uri": "https://localhost:8080/",
          "height": 193
        },
        "id": "UDjUEwvHwDfj",
        "outputId": "37e0e742-9486-4c8f-d604-b9a37a260a09"
      },
      "execution_count": null,
      "outputs": [
        {
          "output_type": "error",
          "ename": "TypeError",
          "evalue": "ignored",
          "traceback": [
            "\u001b[0;31m---------------------------------------------------------------------------\u001b[0m",
            "\u001b[0;31mTypeError\u001b[0m                                 Traceback (most recent call last)",
            "\u001b[0;32m<ipython-input-16-88a7f2c4ef71>\u001b[0m in \u001b[0;36m<module>\u001b[0;34m\u001b[0m\n\u001b[0;32m----> 1\u001b[0;31m \u001b[0mresult\u001b[0m \u001b[0;34m=\u001b[0m \u001b[0mfunc6\u001b[0m\u001b[0;34m(\u001b[0m\u001b[0;36m10\u001b[0m\u001b[0;34m)\u001b[0m\u001b[0;34m\u001b[0m\u001b[0;34m\u001b[0m\u001b[0m\n\u001b[0m\u001b[1;32m      2\u001b[0m \u001b[0mprint\u001b[0m\u001b[0;34m(\u001b[0m\u001b[0mresult\u001b[0m\u001b[0;34m)\u001b[0m\u001b[0;34m\u001b[0m\u001b[0;34m\u001b[0m\u001b[0m\n",
            "\u001b[0;31mTypeError\u001b[0m: func6() missing 1 required positional argument: 'num2'"
          ]
        }
      ]
    },
    {
      "cell_type": "code",
      "source": [
        "result = func6(10, 5)\n",
        "print(result)\n",
        "print(sum)\n",
        "print(num1)\n",
        "print(num2)"
      ],
      "metadata": {
        "colab": {
          "base_uri": "https://localhost:8080/",
          "height": 266
        },
        "id": "w6TUqkXhwUNC",
        "outputId": "3d1bb2ad-0390-4088-9832-177da65dcf5d"
      },
      "execution_count": null,
      "outputs": [
        {
          "output_type": "stream",
          "name": "stdout",
          "text": [
            "15\n",
            "<built-in function sum>\n"
          ]
        },
        {
          "output_type": "error",
          "ename": "NameError",
          "evalue": "ignored",
          "traceback": [
            "\u001b[0;31m---------------------------------------------------------------------------\u001b[0m",
            "\u001b[0;31mNameError\u001b[0m                                 Traceback (most recent call last)",
            "\u001b[0;32m<ipython-input-19-c2c1984f9e62>\u001b[0m in \u001b[0;36m<module>\u001b[0;34m\u001b[0m\n\u001b[1;32m      2\u001b[0m \u001b[0mprint\u001b[0m\u001b[0;34m(\u001b[0m\u001b[0mresult\u001b[0m\u001b[0;34m)\u001b[0m\u001b[0;34m\u001b[0m\u001b[0;34m\u001b[0m\u001b[0m\n\u001b[1;32m      3\u001b[0m \u001b[0mprint\u001b[0m\u001b[0;34m(\u001b[0m\u001b[0msum\u001b[0m\u001b[0;34m)\u001b[0m\u001b[0;34m\u001b[0m\u001b[0;34m\u001b[0m\u001b[0m\n\u001b[0;32m----> 4\u001b[0;31m \u001b[0mprint\u001b[0m\u001b[0;34m(\u001b[0m\u001b[0mnum1\u001b[0m\u001b[0;34m)\u001b[0m\u001b[0;34m\u001b[0m\u001b[0;34m\u001b[0m\u001b[0m\n\u001b[0m\u001b[1;32m      5\u001b[0m \u001b[0mprint\u001b[0m\u001b[0;34m(\u001b[0m\u001b[0mnum2\u001b[0m\u001b[0;34m)\u001b[0m\u001b[0;34m\u001b[0m\u001b[0;34m\u001b[0m\u001b[0m\n",
            "\u001b[0;31mNameError\u001b[0m: name 'num1' is not defined"
          ]
        }
      ]
    },
    {
      "cell_type": "markdown",
      "source": [
        "### 1-4. 디폴트 매개변수\n",
        "\n",
        "```\n",
        "def( 함수명(변수1 = 값1, 변수2 = 값2 ...)\n",
        "  함수가 호출되면 실행할 문장\n",
        "  ...\n",
        "  return 값\n",
        "```\n",
        "\n",
        "```\n",
        "변수 = 함수명(값1, 값2 ...) # 호출\n",
        "변수 = 함수명() # 호출\n",
        "```"
      ],
      "metadata": {
        "id": "LwyPjd8GwbxX"
      }
    },
    {
      "cell_type": "code",
      "source": [
        "print(func6())  # TypeError: func6() missing 2 required positional arguments: 'num1' and 'num2'"
      ],
      "metadata": {
        "colab": {
          "base_uri": "https://localhost:8080/",
          "height": 174
        },
        "id": "EseBO11qyw8i",
        "outputId": "619bd500-b7b0-4849-8b84-f819f07bdae9"
      },
      "execution_count": null,
      "outputs": [
        {
          "output_type": "error",
          "ename": "TypeError",
          "evalue": "ignored",
          "traceback": [
            "\u001b[0;31m---------------------------------------------------------------------------\u001b[0m",
            "\u001b[0;31mTypeError\u001b[0m                                 Traceback (most recent call last)",
            "\u001b[0;32m<ipython-input-22-a467b4bd42cd>\u001b[0m in \u001b[0;36m<module>\u001b[0;34m\u001b[0m\n\u001b[0;32m----> 1\u001b[0;31m \u001b[0mprint\u001b[0m\u001b[0;34m(\u001b[0m\u001b[0mfunc6\u001b[0m\u001b[0;34m(\u001b[0m\u001b[0;34m)\u001b[0m\u001b[0;34m)\u001b[0m\u001b[0;34m\u001b[0m\u001b[0;34m\u001b[0m\u001b[0m\n\u001b[0m",
            "\u001b[0;31mTypeError\u001b[0m: func6() missing 2 required positional arguments: 'num1' and 'num2'"
          ]
        }
      ]
    },
    {
      "cell_type": "code",
      "source": [
        "def func6(num1 = 1, num2 = 1):\n",
        "  sum = num1 + num2\n",
        "  return sum"
      ],
      "metadata": {
        "id": "u_7q2J_ay40q"
      },
      "execution_count": null,
      "outputs": []
    },
    {
      "cell_type": "code",
      "source": [
        "print(func6())"
      ],
      "metadata": {
        "colab": {
          "base_uri": "https://localhost:8080/"
        },
        "id": "hPNxsEa7zBx3",
        "outputId": "c5bfabc3-7c07-4882-f89c-fd70a68f6bf1"
      },
      "execution_count": null,
      "outputs": [
        {
          "output_type": "stream",
          "name": "stdout",
          "text": [
            "2\n"
          ]
        }
      ]
    },
    {
      "cell_type": "code",
      "source": [
        "print(func6(10, 5))"
      ],
      "metadata": {
        "colab": {
          "base_uri": "https://localhost:8080/"
        },
        "id": "NqCAgnOKzEI8",
        "outputId": "1b44f092-0b05-4177-f91a-8c7364770676"
      },
      "execution_count": null,
      "outputs": [
        {
          "output_type": "stream",
          "name": "stdout",
          "text": [
            "15\n"
          ]
        }
      ]
    },
    {
      "cell_type": "code",
      "source": [
        "result = func6(7, 3)\n",
        "print(result)"
      ],
      "metadata": {
        "colab": {
          "base_uri": "https://localhost:8080/"
        },
        "id": "CfRgaBYCzL6N",
        "outputId": "7e259f61-e500-44b6-eabe-e201f65e6f3b"
      },
      "execution_count": null,
      "outputs": [
        {
          "output_type": "stream",
          "name": "stdout",
          "text": [
            "10\n"
          ]
        }
      ]
    },
    {
      "cell_type": "markdown",
      "source": [
        "### 1-5. 매개변수의 개수가 가변적인 함수\n",
        "\n",
        "```\n",
        "def( 함수명(*변수)\n",
        "  함수가 호출되면 실행할 문장\n",
        "  ...\n",
        "  return 값\n",
        "```\n",
        "\n",
        "```\n",
        "변수 = 함수명(값1, 값2 ...) # 호출\n",
        "변수 = 함수명(값1) # 호출\n",
        "변수 = 함수명() # 호출\n",
        "```\n",
        "\n",
        "> 가변적인 매개 변수를 전달할 경우 함수안에서 튜플형태로 사용"
      ],
      "metadata": {
        "id": "tUe7TPpgzRtD"
      }
    },
    {
      "cell_type": "code",
      "source": [
        "def func7(*args):\n",
        "  result = 0\n",
        "  # print(args)\n",
        "  for i in args:\n",
        "    result += i\n",
        "  return result"
      ],
      "metadata": {
        "id": "UstuxPIJ0G1M"
      },
      "execution_count": null,
      "outputs": []
    },
    {
      "cell_type": "code",
      "source": [
        "print(func7())\n",
        "print(func7(10, 30, 20, 70))\n",
        "print(func7(10))"
      ],
      "metadata": {
        "colab": {
          "base_uri": "https://localhost:8080/"
        },
        "id": "bQlOV77R0gRy",
        "outputId": "779b4cb1-9b84-4476-a1dc-d405f8f10f11"
      },
      "execution_count": null,
      "outputs": [
        {
          "output_type": "stream",
          "name": "stdout",
          "text": [
            "0\n",
            "130\n",
            "10\n"
          ]
        }
      ]
    },
    {
      "cell_type": "markdown",
      "source": [
        "### 1-6. 매개변수를 딕셔너리 구조로 전달받는 함수\n",
        "\n",
        "```\n",
        "def 함수명(**변수):\n",
        "  함수가 호출되면 실행할 문장\n",
        "  ...\n",
        "  return 값\n",
        "```\n",
        "\n",
        "```\n",
        "변수 = 함수명(변수1=값1, 변수2=값2 ...) # 호출\n",
        "```\n",
        "\n",
        "> 디폴트 매개변수는 첫번째 매개변수에만 적용된다."
      ],
      "metadata": {
        "id": "Ho1t0G8c0ir9"
      }
    },
    {
      "cell_type": "code",
      "source": [
        "def func8(id, name, age):\n",
        "  print(f'아이디: {id}')\n",
        "  print(f'이름: {name}')\n",
        "  print(f'나이: {age}')"
      ],
      "metadata": {
        "id": "inEHVxtz2DWp"
      },
      "execution_count": null,
      "outputs": []
    },
    {
      "cell_type": "code",
      "source": [
        "# 매개변수명과 딕셔너리의 키가 같아야함\n",
        "# 딕셔너리의 키는 반드시 문자열 형태태\n",
        "dic1 = {'id':'apple', 'name':'김사과', 'age':20}"
      ],
      "metadata": {
        "id": "J5gEu8jg2WIX"
      },
      "execution_count": null,
      "outputs": []
    },
    {
      "cell_type": "code",
      "source": [
        "func8(**dic1)"
      ],
      "metadata": {
        "colab": {
          "base_uri": "https://localhost:8080/"
        },
        "id": "ppyAltR72kRf",
        "outputId": "9d6f7752-2c82-437c-8844-80f2abb84e85"
      },
      "execution_count": null,
      "outputs": [
        {
          "output_type": "stream",
          "name": "stdout",
          "text": [
            "아이디: apple\n",
            "이름: 김사과\n",
            "나이: 20\n"
          ]
        }
      ]
    },
    {
      "cell_type": "code",
      "source": [
        "# *의 데이터를 보낼 경우 키가 저장\n",
        "func8(*dic1)"
      ],
      "metadata": {
        "colab": {
          "base_uri": "https://localhost:8080/"
        },
        "id": "QVLP_kyZ2nOc",
        "outputId": "8afc6108-0a15-4014-a5ea-7f1efa569e5b"
      },
      "execution_count": null,
      "outputs": [
        {
          "output_type": "stream",
          "name": "stdout",
          "text": [
            "아이디: id\n",
            "이름: name\n",
            "나이: age\n"
          ]
        }
      ]
    },
    {
      "cell_type": "code",
      "source": [
        "def func9(**args):\n",
        "  # print(args)\n",
        "  for i in args:\n",
        "    if i == 'id':\n",
        "      id = args[i]\n",
        "    return id"
      ],
      "metadata": {
        "id": "P9Ozu01v3IFB"
      },
      "execution_count": null,
      "outputs": []
    },
    {
      "cell_type": "code",
      "source": [
        "user = func9(id='apple', name='김사과', age=20)\n",
        "print(user)"
      ],
      "metadata": {
        "colab": {
          "base_uri": "https://localhost:8080/"
        },
        "id": "-EsFPw-k3ZIw",
        "outputId": "5d65a8cc-6310-448d-9b64-ecc61ce4ad49"
      },
      "execution_count": null,
      "outputs": [
        {
          "output_type": "stream",
          "name": "stdout",
          "text": [
            "apple\n"
          ]
        }
      ]
    },
    {
      "cell_type": "markdown",
      "source": [
        "### 1-7. 리턴값이 여러개인 함수\n",
        "\n",
        "```\n",
        "def 함수명(변수1, 변수2 ...):\n",
        "  함수가 호출되면 실행할 문장\n",
        "  ...\n",
        "  return 값1, 값2, ...\n",
        "```\n",
        "\n",
        "```\n",
        "변수1, 변수2 ... = 함수면(변수1, 변수2 ...) # 호출\n",
        "```"
      ],
      "metadata": {
        "id": "6NWGQeJp3_Tz"
      }
    },
    {
      "cell_type": "code",
      "source": [
        "def func10(num1, num2):\n",
        "  return num1 + num2, num1 - num2, num1 * num2, num1 / num2"
      ],
      "metadata": {
        "id": "FX3hNQeP8dg5"
      },
      "execution_count": null,
      "outputs": []
    },
    {
      "cell_type": "code",
      "source": [
        "result1, result2, result3, result4 = func10(10, 3)"
      ],
      "metadata": {
        "id": "Ho5OtZLu8971"
      },
      "execution_count": null,
      "outputs": []
    },
    {
      "cell_type": "code",
      "source": [
        "print(f'덧셈: {result1}, 뺄셈: {result2}, 곱셈: {result3}, 나눗셈: {result4}')"
      ],
      "metadata": {
        "colab": {
          "base_uri": "https://localhost:8080/"
        },
        "id": "muiQ7kPz9Xg-",
        "outputId": "925761b7-4974-4b12-a3c5-e9a8efb55872"
      },
      "execution_count": null,
      "outputs": [
        {
          "output_type": "stream",
          "name": "stdout",
          "text": [
            "덧셈: 13, 뺄셈: 7, 곱셈: 30, 나눗셈: 3.3333333333333335\n"
          ]
        }
      ]
    },
    {
      "cell_type": "code",
      "source": [
        "_, _, result3, _ = func10(10, 3) # 곱셈의 결과만 필요할 때\n",
        "print(result3)"
      ],
      "metadata": {
        "colab": {
          "base_uri": "https://localhost:8080/"
        },
        "id": "5jEuA2CO9nc4",
        "outputId": "6391c629-5174-4d8a-921f-922b538608cd"
      },
      "execution_count": null,
      "outputs": [
        {
          "output_type": "stream",
          "name": "stdout",
          "text": [
            "30\n"
          ]
        }
      ]
    }
  ]
}