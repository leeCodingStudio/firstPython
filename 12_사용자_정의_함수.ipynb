{
  "nbformat": 4,
  "nbformat_minor": 0,
  "metadata": {
    "colab": {
      "provenance": [],
      "authorship_tag": "ABX9TyPYdEmDxrZpeKZTrDeUS1xE",
      "include_colab_link": true
    },
    "kernelspec": {
      "name": "python3",
      "display_name": "Python 3"
    },
    "language_info": {
      "name": "python"
    }
  },
  "cells": [
    {
      "cell_type": "markdown",
      "metadata": {
        "id": "view-in-github",
        "colab_type": "text"
      },
      "source": [
        "<a href=\"https://colab.research.google.com/github/leeCodingStudio/firstPython/blob/master/12_%EC%82%AC%EC%9A%A9%EC%9E%90_%EC%A0%95%EC%9D%98_%ED%95%A8%EC%88%98.ipynb\" target=\"_parent\"><img src=\"https://colab.research.google.com/assets/colab-badge.svg\" alt=\"Open In Colab\"/></a>"
      ]
    },
    {
      "cell_type": "markdown",
      "source": [
        "# 1. 함수\n",
        "* 변수 x, y에 대한 x값이 정해지면 그에 따라 y값을 결정하는 것\n",
        "* 반복적으로 사용되는 가치있는 부분을 묶어서 하나의 집합으로 만듬\n",
        "* 코드를 대활용하기 위한 목적"
      ],
      "metadata": {
        "id": "p8qyQjOOw9Fy"
      }
    },
    {
      "cell_type": "markdown",
      "source": [
        "### 1-1. 이름만 있는 함수\n",
        "\n",
        "```\n",
        "def 함수면():\n",
        "  함수가 호출되면 실행할 문장\n",
        "  ...\n",
        "```\n",
        "\n",
        "```\n",
        "함수명() # 호출\n",
        "```"
      ],
      "metadata": {
        "id": "0ZqHVphVxrO5"
      }
    },
    {
      "cell_type": "code",
      "source": [
        "def func1():\n",
        "  print('처음으로 만드는 함수!')"
      ],
      "metadata": {
        "id": "cmSVQ46iyMD1"
      },
      "execution_count": 1,
      "outputs": []
    },
    {
      "cell_type": "code",
      "source": [
        "func1()"
      ],
      "metadata": {
        "colab": {
          "base_uri": "https://localhost:8080/"
        },
        "id": "pJuyXRUmyTB6",
        "outputId": "6a0b852c-4543-42e3-8998-36d1ffa4f2ad"
      },
      "execution_count": 2,
      "outputs": [
        {
          "output_type": "stream",
          "name": "stdout",
          "text": [
            "처음으로 만드는 함수!\n"
          ]
        }
      ]
    },
    {
      "cell_type": "code",
      "source": [
        "for i in range(5):\n",
        "  func1()"
      ],
      "metadata": {
        "colab": {
          "base_uri": "https://localhost:8080/"
        },
        "id": "o4Gc09Ofyico",
        "outputId": "1c257a5a-f63e-44e0-a2fe-188783aa816a"
      },
      "execution_count": 3,
      "outputs": [
        {
          "output_type": "stream",
          "name": "stdout",
          "text": [
            "처음으로 만드는 함수!\n",
            "처음으로 만드는 함수!\n",
            "처음으로 만드는 함수!\n",
            "처음으로 만드는 함수!\n",
            "처음으로 만드는 함수!\n"
          ]
        }
      ]
    },
    {
      "cell_type": "markdown",
      "source": [
        "### 1-2. 매개변수가 있는 함수\n",
        "\n",
        "```\n",
        "def 함수명(변수1, 변수2, ...)\n",
        "  함수가 호출되면 실행할 문장\n",
        "  ...\n",
        "```\n",
        "\n",
        "```\n",
        "함수명(값1, 값2, ...) # 호출\n",
        "```"
      ],
      "metadata": {
        "id": "cxsDK173yoqw"
      }
    },
    {
      "cell_type": "code",
      "source": [
        "def func2(num):\n",
        "  print(f'입력받은 숫자: {num}')"
      ],
      "metadata": {
        "id": "3z9JEv_Iy0D8"
      },
      "execution_count": 6,
      "outputs": []
    },
    {
      "cell_type": "code",
      "source": [
        "func2(10)"
      ],
      "metadata": {
        "colab": {
          "base_uri": "https://localhost:8080/"
        },
        "id": "6Hhc4TxazRuZ",
        "outputId": "be880509-ab4c-49f6-fa22-20837787f12c"
      },
      "execution_count": 7,
      "outputs": [
        {
          "output_type": "stream",
          "name": "stdout",
          "text": [
            "입력받은 숫자: 10\n"
          ]
        }
      ]
    },
    {
      "cell_type": "code",
      "source": [
        "func2(4)"
      ],
      "metadata": {
        "colab": {
          "base_uri": "https://localhost:8080/"
        },
        "id": "w5ZRoGuTzTeR",
        "outputId": "33f1ac2f-0569-48c9-f2fc-bd8d04e08bfa"
      },
      "execution_count": 8,
      "outputs": [
        {
          "output_type": "stream",
          "name": "stdout",
          "text": [
            "입력받은 숫자: 4\n"
          ]
        }
      ]
    },
    {
      "cell_type": "code",
      "source": [
        "def func3(start, end):\n",
        "  sum = 0\n",
        "  for i in range(start, end+1):\n",
        "    sum += i\n",
        "  print(f'{start}부터 {end}까지의 합: {sum}')"
      ],
      "metadata": {
        "id": "nTXDxeBjzX-5"
      },
      "execution_count": 11,
      "outputs": []
    },
    {
      "cell_type": "code",
      "source": [
        "func3(1, 10)"
      ],
      "metadata": {
        "colab": {
          "base_uri": "https://localhost:8080/"
        },
        "id": "mgpMNxHzz1Ev",
        "outputId": "a4050e03-5301-4350-ee2d-668460f8c85b"
      },
      "execution_count": 12,
      "outputs": [
        {
          "output_type": "stream",
          "name": "stdout",
          "text": [
            "1부터 10까지의 합: 55\n"
          ]
        }
      ]
    },
    {
      "cell_type": "code",
      "source": [
        "func3(1, 100)"
      ],
      "metadata": {
        "colab": {
          "base_uri": "https://localhost:8080/"
        },
        "id": "w32R3WYRz3O3",
        "outputId": "a0625009-8756-4ebb-b8f8-2b05de3a9ecf"
      },
      "execution_count": 13,
      "outputs": [
        {
          "output_type": "stream",
          "name": "stdout",
          "text": [
            "1부터 100까지의 합: 5050\n"
          ]
        }
      ]
    },
    {
      "cell_type": "code",
      "source": [],
      "metadata": {
        "id": "x2NI_PYCz8Xl"
      },
      "execution_count": null,
      "outputs": []
    }
  ]
}