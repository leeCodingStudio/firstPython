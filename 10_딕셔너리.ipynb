{
  "nbformat": 4,
  "nbformat_minor": 0,
  "metadata": {
    "colab": {
      "provenance": [],
      "authorship_tag": "ABX9TyNKIGkgdQ/0j3mD93Pp/7j8",
      "include_colab_link": true
    },
    "kernelspec": {
      "name": "python3",
      "display_name": "Python 3"
    },
    "language_info": {
      "name": "python"
    }
  },
  "cells": [
    {
      "cell_type": "markdown",
      "metadata": {
        "id": "view-in-github",
        "colab_type": "text"
      },
      "source": [
        "<a href=\"https://colab.research.google.com/github/leeCodingStudio/firstPython/blob/master/10_%EB%94%95%EC%85%94%EB%84%88%EB%A6%AC.ipynb\" target=\"_parent\"><img src=\"https://colab.research.google.com/assets/colab-badge.svg\" alt=\"Open In Colab\"/></a>"
      ]
    },
    {
      "cell_type": "markdown",
      "source": [
        "# 1. 딕셔너리(Dictionart)\n",
        "* 대응관계를 나타내는 자료형으로 key와 value라는 것을 한쌍으로 갖는 형태태\n",
        "* 하나의 딕셔너리의 key는 중복될 수 없음\n",
        "* 하나의 딕셔너리의 value는 중복 될 수 있음"
      ],
      "metadata": {
        "id": "fM-wgFmYbCOZ"
      }
    },
    {
      "cell_type": "markdown",
      "source": [
        "### 1-1 딕셔너리 만들기\n",
        "\n",
        "```\n",
        "변수 = {키1:값1, 키2:값2 ... }\n",
        "```"
      ],
      "metadata": {
        "id": "JyaL9GZtbnbR"
      }
    },
    {
      "cell_type": "code",
      "source": [
        "dic1 = {} # 빈 딕셔너리를 생성\n",
        "print(dic1)"
      ],
      "metadata": {
        "colab": {
          "base_uri": "https://localhost:8080/"
        },
        "id": "TZFe6dh_bt1F",
        "outputId": "b4e5efb9-ee78-43b0-dbf9-a4c7397f4be2"
      },
      "execution_count": 2,
      "outputs": [
        {
          "output_type": "stream",
          "name": "stdout",
          "text": [
            "{}\n"
          ]
        }
      ]
    },
    {
      "cell_type": "code",
      "source": [
        "dic2 = {1:'김사과', 2:'반하나', 3:'오렌지', 4:'이메론'}\n",
        "print(dic2)"
      ],
      "metadata": {
        "colab": {
          "base_uri": "https://localhost:8080/"
        },
        "id": "pzWY_TeJbzdF",
        "outputId": "b50bb4a5-950f-43ab-e541-daa17b808e12"
      },
      "execution_count": 5,
      "outputs": [
        {
          "output_type": "stream",
          "name": "stdout",
          "text": [
            "{1: '김사과', 2: '반하나', 3: '오렌지', 4: '이메론'}\n"
          ]
        }
      ]
    },
    {
      "cell_type": "markdown",
      "source": [
        "### 1-2. key를 통해 value 찾기"
      ],
      "metadata": {
        "id": "y2dvWmvtcT4J"
      }
    },
    {
      "cell_type": "code",
      "source": [
        "dic2 = {1:'김사과', 2:'반하나', 3:'오렌지', 4:'이메론'}\n",
        "print(dic2[1])\n",
        "print(dic2[3])"
      ],
      "metadata": {
        "colab": {
          "base_uri": "https://localhost:8080/"
        },
        "id": "WTOt59oMcmJc",
        "outputId": "10ba81e8-ea7c-4686-89f8-03dfe62ca071"
      },
      "execution_count": 7,
      "outputs": [
        {
          "output_type": "stream",
          "name": "stdout",
          "text": [
            "김사과\n",
            "오렌지\n"
          ]
        }
      ]
    },
    {
      "cell_type": "code",
      "source": [
        "dic3 = {'no':1, 'userid':'apple', 'name':'김사과', 'hp':'010-1111-1111'}\n",
        "print(dic3['no'])\n",
        "print(dic3['userid'])"
      ],
      "metadata": {
        "colab": {
          "base_uri": "https://localhost:8080/"
        },
        "id": "gbA2ZIC2cvhp",
        "outputId": "c7cf77ea-6d37-4d8d-988a-f97cac90d934"
      },
      "execution_count": 8,
      "outputs": [
        {
          "output_type": "stream",
          "name": "stdout",
          "text": [
            "1\n",
            "apple\n"
          ]
        }
      ]
    },
    {
      "cell_type": "markdown",
      "source": [
        "### 1-3. 데이터 추가 및 삭제"
      ],
      "metadata": {
        "id": "-G7LkiGkdMss"
      }
    },
    {
      "cell_type": "code",
      "source": [
        "dic4 = {1:'apple'}\n",
        "print(dic4)\n",
        "\n",
        "dic4[100] = 'orange'\n",
        "print(dic4[100])\n",
        "\n",
        "dic4[50] = 'melon'\n",
        "print(dic4)\n",
        "\n",
        "del dic4[1]\n",
        "print(dic4)\n",
        "\n",
        "print(type(dic4))"
      ],
      "metadata": {
        "colab": {
          "base_uri": "https://localhost:8080/"
        },
        "id": "LORhZaE7dbHq",
        "outputId": "a1eb2cd1-3869-4bdd-c1f5-87eb0b174a33"
      },
      "execution_count": 12,
      "outputs": [
        {
          "output_type": "stream",
          "name": "stdout",
          "text": [
            "{1: 'apple'}\n",
            "orange\n",
            "{1: 'apple', 100: 'orange', 50: 'melon'}\n",
            "{100: 'orange', 50: 'melon'}\n",
            "<class 'dict'>\n"
          ]
        }
      ]
    },
    {
      "cell_type": "markdown",
      "source": [
        "### 1-4. 딕셔너리 함수"
      ],
      "metadata": {
        "id": "0cRKVllVdrl-"
      }
    },
    {
      "cell_type": "code",
      "source": [
        "dic3 = {'no':1, 'userid':'apple', 'name':'김사과', 'hp':'010-1111-1111'}"
      ],
      "metadata": {
        "id": "8YoEQ9yUeTB3"
      },
      "execution_count": 13,
      "outputs": []
    },
    {
      "cell_type": "code",
      "source": [
        "# keys(): key 리스트를 반환\n",
        "print(dic3.keys())"
      ],
      "metadata": {
        "colab": {
          "base_uri": "https://localhost:8080/"
        },
        "id": "Fg3u0OTqeW6N",
        "outputId": "08796d85-a5e9-4968-c974-339ef3378117"
      },
      "execution_count": 14,
      "outputs": [
        {
          "output_type": "stream",
          "name": "stdout",
          "text": [
            "dict_keys(['no', 'userid', 'name', 'hp'])\n"
          ]
        }
      ]
    },
    {
      "cell_type": "code",
      "source": [
        "# values(): value 리스트를 반환\n",
        "print(dic3.values())"
      ],
      "metadata": {
        "colab": {
          "base_uri": "https://localhost:8080/"
        },
        "id": "AXcL5mvcehQv",
        "outputId": "c28fd32b-ec71-4445-f737-cf019f272dc3"
      },
      "execution_count": 15,
      "outputs": [
        {
          "output_type": "stream",
          "name": "stdout",
          "text": [
            "dict_values([1, 'apple', '김사과', '010-1111-1111'])\n"
          ]
        }
      ]
    },
    {
      "cell_type": "code",
      "source": [
        "# items(): key와 value를 한쌍으로 묶는 튜플을 반환\n",
        "print(dic3.items())"
      ],
      "metadata": {
        "colab": {
          "base_uri": "https://localhost:8080/"
        },
        "id": "jRh64NZberZx",
        "outputId": "a33b4b3f-194f-441f-eb16-9fb442e65c00"
      },
      "execution_count": 17,
      "outputs": [
        {
          "output_type": "stream",
          "name": "stdout",
          "text": [
            "dict_items([('no', 1), ('userid', 'apple'), ('name', '김사과'), ('hp', '010-1111-1111')])\n"
          ]
        }
      ]
    },
    {
      "cell_type": "code",
      "source": [
        "print(dic3['userid'])\n",
        "\n",
        "# get(): key를 이용해서 value를 반환\n",
        "print(dic3.get('userid'))"
      ],
      "metadata": {
        "colab": {
          "base_uri": "https://localhost:8080/"
        },
        "id": "k86Q0Mrle1sS",
        "outputId": "facaa7b7-ec70-483b-f0ad-ca8f6e460389"
      },
      "execution_count": 18,
      "outputs": [
        {
          "output_type": "stream",
          "name": "stdout",
          "text": [
            "apple\n",
            "apple\n"
          ]
        }
      ]
    },
    {
      "cell_type": "code",
      "source": [
        "print(dic3['age']) # 키가 존재 하지 않으면 에러"
      ],
      "metadata": {
        "colab": {
          "base_uri": "https://localhost:8080/",
          "height": 174
        },
        "id": "ntySgIotfFQq",
        "outputId": "9276121a-66b0-49b1-8b57-4c6021b02beb"
      },
      "execution_count": 19,
      "outputs": [
        {
          "output_type": "error",
          "ename": "KeyError",
          "evalue": "ignored",
          "traceback": [
            "\u001b[0;31m---------------------------------------------------------------------------\u001b[0m",
            "\u001b[0;31mKeyError\u001b[0m                                  Traceback (most recent call last)",
            "\u001b[0;32m<ipython-input-19-0816588416da>\u001b[0m in \u001b[0;36m<module>\u001b[0;34m\u001b[0m\n\u001b[0;32m----> 1\u001b[0;31m \u001b[0mprint\u001b[0m\u001b[0;34m(\u001b[0m\u001b[0mdic3\u001b[0m\u001b[0;34m[\u001b[0m\u001b[0;34m'age'\u001b[0m\u001b[0;34m]\u001b[0m\u001b[0;34m)\u001b[0m \u001b[0;31m# 키가 존재 하지 않으면 에러\u001b[0m\u001b[0;34m\u001b[0m\u001b[0;34m\u001b[0m\u001b[0m\n\u001b[0m",
            "\u001b[0;31mKeyError\u001b[0m: 'age'"
          ]
        }
      ]
    },
    {
      "cell_type": "code",
      "source": [
        "print(dic3.get('age')) # None\n",
        "print(dic3.get('age', '나이를 알 수 없음'))"
      ],
      "metadata": {
        "colab": {
          "base_uri": "https://localhost:8080/"
        },
        "id": "4km4jHNVfVz3",
        "outputId": "3fef7f53-1e76-4850-e922-42591d9055b5"
      },
      "execution_count": 21,
      "outputs": [
        {
          "output_type": "stream",
          "name": "stdout",
          "text": [
            "None\n",
            "나이를 알 수 없음\n"
          ]
        }
      ]
    },
    {
      "cell_type": "code",
      "source": [
        "# in: key가 딕셔너리 안에 있는지 확인\n",
        "print('name' in dic3)\n",
        "print('age' in dic3)"
      ],
      "metadata": {
        "colab": {
          "base_uri": "https://localhost:8080/"
        },
        "id": "OLgOzzZzfW7z",
        "outputId": "d3301563-9bcc-45e2-d5f5-37bda8f7087b"
      },
      "execution_count": 23,
      "outputs": [
        {
          "output_type": "stream",
          "name": "stdout",
          "text": [
            "True\n",
            "False\n"
          ]
        }
      ]
    },
    {
      "cell_type": "markdown",
      "source": [
        "### 1-5. 반복문을 이용한 딕셔너리 활용"
      ],
      "metadata": {
        "id": "fWwfJ0Ybf2wR"
      }
    },
    {
      "cell_type": "code",
      "source": [
        "dic3 = {'no':1, 'userid':'apple', 'name':'김사과', 'hp':'010-1111-1111'}"
      ],
      "metadata": {
        "id": "4Ggm-6kogDnI"
      },
      "execution_count": 24,
      "outputs": []
    },
    {
      "cell_type": "code",
      "source": [
        "for i in dic3:\n",
        "  print(i, end=' ') # 키만 복사"
      ],
      "metadata": {
        "colab": {
          "base_uri": "https://localhost:8080/"
        },
        "id": "LEw_h34IgIh1",
        "outputId": "e19f6248-1379-472a-81da-ca76a01cd3e7"
      },
      "execution_count": 26,
      "outputs": [
        {
          "output_type": "stream",
          "name": "stdout",
          "text": [
            "no userid name hp "
          ]
        }
      ]
    },
    {
      "cell_type": "code",
      "source": [
        "for i in dic3.keys():\n",
        "  print(i, end=' ') # 키만 복사"
      ],
      "metadata": {
        "colab": {
          "base_uri": "https://localhost:8080/"
        },
        "id": "5XkS3T0ggLtx",
        "outputId": "e0c4be41-ed30-4615-a63c-d33335e4d453"
      },
      "execution_count": 27,
      "outputs": [
        {
          "output_type": "stream",
          "name": "stdout",
          "text": [
            "no userid name hp "
          ]
        }
      ]
    },
    {
      "cell_type": "code",
      "source": [
        "for i in dic3.values():\n",
        "  print(i, end=' ') # 값만 복사"
      ],
      "metadata": {
        "colab": {
          "base_uri": "https://localhost:8080/"
        },
        "id": "7DkbPTlJggT4",
        "outputId": "96e7dfbc-a804-468e-ab1c-450f6df4b4f2"
      },
      "execution_count": 28,
      "outputs": [
        {
          "output_type": "stream",
          "name": "stdout",
          "text": [
            "1 apple 김사과 010-1111-1111 "
          ]
        }
      ]
    },
    {
      "cell_type": "code",
      "source": [
        "for i in dic3:\n",
        "  print(dic3[i], end=' ')"
      ],
      "metadata": {
        "colab": {
          "base_uri": "https://localhost:8080/"
        },
        "id": "jnyeRNvCglJX",
        "outputId": "003444f2-09b7-434f-9940-1cf8e800bc3d"
      },
      "execution_count": 30,
      "outputs": [
        {
          "output_type": "stream",
          "name": "stdout",
          "text": [
            "1 apple 김사과 010-1111-1111 "
          ]
        }
      ]
    },
    {
      "cell_type": "code",
      "source": [
        "for i in dic3:\n",
        "  print(dic3.get(i), end= ' ')"
      ],
      "metadata": {
        "colab": {
          "base_uri": "https://localhost:8080/"
        },
        "id": "6Tfwz7ycg6Fv",
        "outputId": "38389e65-70e2-4cd0-ce27-6edae3dcf813"
      },
      "execution_count": 32,
      "outputs": [
        {
          "output_type": "stream",
          "name": "stdout",
          "text": [
            "1 apple 김사과 010-1111-1111 "
          ]
        }
      ]
    },
    {
      "cell_type": "code",
      "source": [
        "# 각 키를 순회하면서 키에 해당하는 값이 apple이 있는지 확인\n",
        "dic3 = {'no':1, 'userid':'apple', 'name':'김사과', 'hp':'010-1111-1111'}\n",
        "\n",
        "for i in dic3:\n",
        "  if dic3[i] == 'apple':\n",
        "    print('찾았습니다!')\n",
        "  else:\n",
        "    print('찾지 못했음!')"
      ],
      "metadata": {
        "colab": {
          "base_uri": "https://localhost:8080/"
        },
        "id": "YyeoTRBPhQbq",
        "outputId": "7e3c44c8-b4c1-4110-ab8d-2b71f18e058e"
      },
      "execution_count": 33,
      "outputs": [
        {
          "output_type": "stream",
          "name": "stdout",
          "text": [
            "찾지 못했음!\n",
            "찾았습니다!\n",
            "찾지 못했음!\n",
            "찾지 못했음!\n"
          ]
        }
      ]
    }
  ]
}