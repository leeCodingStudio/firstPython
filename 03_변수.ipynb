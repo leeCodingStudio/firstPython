{
  "nbformat": 4,
  "nbformat_minor": 0,
  "metadata": {
    "colab": {
      "provenance": [],
      "authorship_tag": "ABX9TyOWQfHGRj6ao4zoaLKYcuH1",
      "include_colab_link": true
    },
    "kernelspec": {
      "name": "python3",
      "display_name": "Python 3"
    },
    "language_info": {
      "name": "python"
    }
  },
  "cells": [
    {
      "cell_type": "markdown",
      "metadata": {
        "id": "view-in-github",
        "colab_type": "text"
      },
      "source": [
        "<a href=\"https://colab.research.google.com/github/leeCodingStudio/firstPython/blob/master/03_%EB%B3%80%EC%88%98.ipynb\" target=\"_parent\"><img src=\"https://colab.research.google.com/assets/colab-badge.svg\" alt=\"Open In Colab\"/></a>"
      ]
    },
    {
      "cell_type": "markdown",
      "source": [
        "# 1. 변수\n",
        "* 처리할 데이터를 저장시키는 기억장소\n",
        "* 저장된 실제 데이터(객체)의 메모리 주소값을 저장"
      ],
      "metadata": {
        "id": "Hw4crO63Q9s3"
      }
    },
    {
      "cell_type": "markdown",
      "source": [
        "### 1-1. 변수의 이름을 작성하는 방법\n",
        "* 데이터를 표현할 수 있는 이름으로 지어야 함\n",
        "* 문자부터 시작해야 함\n",
        "* 대소문자를 구분함\n",
        "* _로 시작할 수 있음\n",
        "* 미리 예약된 키워드는 사용할 수 없음"
      ],
      "metadata": {
        "id": "CtXZ4vc1RLVm"
      }
    },
    {
      "cell_type": "code",
      "source": [
        "name = '김사과'\n",
        "age = 20"
      ],
      "metadata": {
        "id": "vfZ97j0BUnpG"
      },
      "execution_count": null,
      "outputs": []
    },
    {
      "cell_type": "code",
      "source": [
        "print(name)\n",
        "print(age)"
      ],
      "metadata": {
        "colab": {
          "base_uri": "https://localhost:8080/"
        },
        "id": "tB2U42j2S-P6",
        "outputId": "32ab962c-e487-480d-ac15-8e6ceffd5c35"
      },
      "execution_count": null,
      "outputs": [
        {
          "output_type": "stream",
          "name": "stdout",
          "text": [
            "김사과\n",
            "20\n"
          ]
        }
      ]
    },
    {
      "cell_type": "code",
      "source": [
        "name = '반하나'\n",
        "print(name)"
      ],
      "metadata": {
        "colab": {
          "base_uri": "https://localhost:8080/"
        },
        "id": "F31syS71Viyt",
        "outputId": "b5a7ba34-1835-48a3-95f0-14257c2c41c0"
      },
      "execution_count": null,
      "outputs": [
        {
          "output_type": "stream",
          "name": "stdout",
          "text": [
            "반하나\n"
          ]
        }
      ]
    },
    {
      "cell_type": "code",
      "source": [
        "num1 = 10\n",
        "num2 = 3\n",
        "print('%d / %d = %4.2f' % (num1, num2, num1/num2) )"
      ],
      "metadata": {
        "colab": {
          "base_uri": "https://localhost:8080/"
        },
        "id": "XoQFR3eTWVG7",
        "outputId": "9e362d8f-8194-4b58-bc5c-5e0c9de0322e"
      },
      "execution_count": null,
      "outputs": [
        {
          "output_type": "stream",
          "name": "stdout",
          "text": [
            "10 / 3 = 3.33\n"
          ]
        }
      ]
    },
    {
      "cell_type": "markdown",
      "source": [
        "# 2. 변수의 데이터 타입\n",
        "* 데이터 타입(자료형): 자료가 저장되는 형태를 의미"
      ],
      "metadata": {
        "id": "_cbGFvtIXhS3"
      }
    },
    {
      "cell_type": "code",
      "source": [
        "name = '김사과'\n",
        "age = 20\n",
        "weight = 50.5\n",
        "isLover = False"
      ],
      "metadata": {
        "id": "FfjpcavxYTZI"
      },
      "execution_count": null,
      "outputs": []
    },
    {
      "cell_type": "code",
      "source": [
        "# type():  변수의 데이터 타입을 반환해주는 함수\n",
        "print(type(name))\n",
        "print(type(age))\n",
        "print(type(weight))\n",
        "print(type(isLover))"
      ],
      "metadata": {
        "colab": {
          "base_uri": "https://localhost:8080/"
        },
        "id": "67PsDvldZLtT",
        "outputId": "0f8c2c79-736f-4133-bba9-1e96408194e1"
      },
      "execution_count": null,
      "outputs": [
        {
          "output_type": "stream",
          "name": "stdout",
          "text": [
            "<class 'str'>\n",
            "<class 'int'>\n",
            "<class 'float'>\n",
            "<class 'bool'>\n"
          ]
        }
      ]
    },
    {
      "cell_type": "markdown",
      "source": [
        "# 3. 변수의 삭제\n",
        "* del: 객체를 삭제하는데, 사용. (파이썬은 데이터를 저장할 수 있는 모든 것은 객체)"
      ],
      "metadata": {
        "id": "N-evZ_rqZtZo"
      }
    },
    {
      "cell_type": "code",
      "source": [
        "print(isLover)"
      ],
      "metadata": {
        "colab": {
          "base_uri": "https://localhost:8080/"
        },
        "id": "4xzIO1JEemJd",
        "outputId": "52431098-6579-4b33-8046-af9f79d8ec7c"
      },
      "execution_count": null,
      "outputs": [
        {
          "output_type": "stream",
          "name": "stdout",
          "text": [
            "False\n"
          ]
        }
      ]
    },
    {
      "cell_type": "code",
      "source": [
        "del isLover"
      ],
      "metadata": {
        "id": "EeXodb_-fKrW"
      },
      "execution_count": null,
      "outputs": []
    },
    {
      "cell_type": "code",
      "source": [
        "print(isLover) # NameError: name 'isLover' is not defined"
      ],
      "metadata": {
        "colab": {
          "base_uri": "https://localhost:8080/",
          "height": 174
        },
        "id": "3uqGLPrYfNFZ",
        "outputId": "1ac87e66-7444-4945-ce97-c2d0d00e9669"
      },
      "execution_count": null,
      "outputs": [
        {
          "output_type": "error",
          "ename": "NameError",
          "evalue": "ignored",
          "traceback": [
            "\u001b[0;31m---------------------------------------------------------------------------\u001b[0m",
            "\u001b[0;31mNameError\u001b[0m                                 Traceback (most recent call last)",
            "\u001b[0;32m<ipython-input-13-6053910d0aff>\u001b[0m in \u001b[0;36m<module>\u001b[0;34m\u001b[0m\n\u001b[0;32m----> 1\u001b[0;31m \u001b[0mprint\u001b[0m\u001b[0;34m(\u001b[0m\u001b[0misLover\u001b[0m\u001b[0;34m)\u001b[0m\u001b[0;34m\u001b[0m\u001b[0;34m\u001b[0m\u001b[0m\n\u001b[0m",
            "\u001b[0;31mNameError\u001b[0m: name 'isLover' is not defined"
          ]
        }
      ]
    }
  ]
}