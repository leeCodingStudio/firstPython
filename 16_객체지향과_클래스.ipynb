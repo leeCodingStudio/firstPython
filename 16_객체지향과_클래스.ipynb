{
  "nbformat": 4,
  "nbformat_minor": 0,
  "metadata": {
    "colab": {
      "provenance": [],
      "authorship_tag": "ABX9TyNukpcR48a5NcbWaRim1Cc2",
      "include_colab_link": true
    },
    "kernelspec": {
      "name": "python3",
      "display_name": "Python 3"
    },
    "language_info": {
      "name": "python"
    }
  },
  "cells": [
    {
      "cell_type": "markdown",
      "metadata": {
        "id": "view-in-github",
        "colab_type": "text"
      },
      "source": [
        "<a href=\"https://colab.research.google.com/github/leeCodingStudio/firstPython/blob/master/16_%EA%B0%9D%EC%B2%B4%EC%A7%80%ED%96%A5%EA%B3%BC_%ED%81%B4%EB%9E%98%EC%8A%A4.ipynb\" target=\"_parent\"><img src=\"https://colab.research.google.com/assets/colab-badge.svg\" alt=\"Open In Colab\"/></a>"
      ]
    },
    {
      "cell_type": "markdown",
      "source": [
        "# 1. 객체지향 프로그래밍\n",
        "* 문제를 여러개의 객체 단위로 나눠 작업하는 방식"
      ],
      "metadata": {
        "id": "3QFl3jzRx0u4"
      }
    },
    {
      "cell_type": "markdown",
      "source": [
        "### 1-1. 객체(Object)란?\n",
        "* 물리적으로 존재하거나 추상적으로 생각할 수 있는 것 중에서 자신의 속성을 가지고 있고 다른 것과 식별 가능한 것을 말함"
      ],
      "metadata": {
        "id": "fYpLP-F0yLjf"
      }
    },
    {
      "cell_type": "markdown",
      "source": [
        "### 1-2. 클래스(class)란?\n",
        "* 객체를 생성하기 위한 일종의 설계도와 같음\n",
        "* 클래스는 프로퍼티(필드), 메소드(함수)\n",
        "  * 프로퍼티(Property): 데이터가 저장되는 곳\n",
        "  * 메소드(Method): 객체의 동작에 해당하는 실행 블록"
      ],
      "metadata": {
        "id": "w9R-rFJ9yc40"
      }
    },
    {
      "cell_type": "markdown",
      "source": [
        "### 1-3. 클래스와 객체\n",
        "* 건축 설계도가 클래스라면, 실제로 지어진 집은 객체\n",
        "* 객체는 클래스로 생성되러 구체화된 인스턴스\n",
        "* 실제로 클래스가 인스턴스롸 되어 메모리에 상주하는 형태를 객체라고 부름\n",
        "* 파이썬의 모든 변수와 함수는 객체로 저장"
      ],
      "metadata": {
        "id": "unhcpd5T20X9"
      }
    },
    {
      "cell_type": "markdown",
      "source": [
        "# 2. 클래스 만들기\n",
        "\n",
        "```\n",
        "class 클래스명:\n",
        "  프로퍼티명1 = 값1\n",
        "  프로퍼티명2 = 값2\n",
        "  ...\n",
        "\n",
        "  def 메소드명1(self, 변수1, 변수2 ...):\n",
        "    메소드가 호출되면 실행할 문장\n",
        "    ...\n",
        "\n",
        "  def 메소드명2(self, 변수1, 변수2 ...):\n",
        "    메소드가 호출되면 실행할 문장\n",
        "    ...\n",
        "```\n",
        "\n",
        "* 클래스를 통해 호출되는 변수를 프로퍼티(필드)라고 부름\n",
        "* 클래스를 통해 호출되는 함수를 메소드라고 부름\n",
        "* self: 클래스의 각 호출한 객체를 가리킴"
      ],
      "metadata": {
        "id": "LmwxKltF3T-l"
      }
    },
    {
      "cell_type": "code",
      "source": [
        "class Dog:\n",
        "  pass # 내용이 없는 블록을 만들 때 사용"
      ],
      "metadata": {
        "id": "peo47G433zs1"
      },
      "execution_count": 2,
      "outputs": []
    },
    {
      "cell_type": "code",
      "source": [
        "def func1():\n",
        "  pass"
      ],
      "metadata": {
        "id": "Xs1J9y-B4PC5"
      },
      "execution_count": 3,
      "outputs": []
    },
    {
      "cell_type": "code",
      "source": [
        "# 클래스를 통해 객체를 생성\n",
        "Rucy = Dog()\n",
        "print(Rucy)\n",
        "print(type(Rucy))"
      ],
      "metadata": {
        "colab": {
          "base_uri": "https://localhost:8080/"
        },
        "id": "Nduh_Rr54XSM",
        "outputId": "4324a437-86be-4187-e86e-a58d476f6c4f"
      },
      "execution_count": 4,
      "outputs": [
        {
          "output_type": "stream",
          "name": "stdout",
          "text": [
            "<__main__.Dog object at 0x7f2d6808cb80>\n",
            "<class '__main__.Dog'>\n"
          ]
        }
      ]
    },
    {
      "cell_type": "code",
      "source": [
        "li1 = list([1, 2, 3, 4, 5])\n",
        "print(li1)\n",
        "print(type(li1))\n",
        "print(id(li1))"
      ],
      "metadata": {
        "colab": {
          "base_uri": "https://localhost:8080/"
        },
        "id": "-fR0MVtZ5AxH",
        "outputId": "f5ba863d-c246-44fb-bf02-e1ee396f30fc"
      },
      "execution_count": 8,
      "outputs": [
        {
          "output_type": "stream",
          "name": "stdout",
          "text": [
            "[1, 2, 3, 4, 5]\n",
            "<class 'list'>\n",
            "139832623535424\n"
          ]
        }
      ]
    },
    {
      "cell_type": "code",
      "source": [
        "PPomi = Dog()\n",
        "print(PPomi)\n",
        "print(type(PPomi))"
      ],
      "metadata": {
        "colab": {
          "base_uri": "https://localhost:8080/"
        },
        "id": "lA2J31o75ShN",
        "outputId": "756e3c48-b074-4924-be8c-1055c51d981f"
      },
      "execution_count": 6,
      "outputs": [
        {
          "output_type": "stream",
          "name": "stdout",
          "text": [
            "<__main__.Dog object at 0x7f2d6808cbb0>\n",
            "<class '__main__.Dog'>\n"
          ]
        }
      ]
    },
    {
      "cell_type": "code",
      "source": [
        "li2 = list([1, 2, 3, 4, 5])\n",
        "print(li2)\n",
        "print(type(li2))\n",
        "print(id(li2))"
      ],
      "metadata": {
        "colab": {
          "base_uri": "https://localhost:8080/"
        },
        "id": "xDer0-Tg5o12",
        "outputId": "61cf69ae-4de7-4071-b879-28d5d999bcab"
      },
      "execution_count": 9,
      "outputs": [
        {
          "output_type": "stream",
          "name": "stdout",
          "text": [
            "[1, 2, 3, 4, 5]\n",
            "<class 'list'>\n",
            "139832622352000\n"
          ]
        }
      ]
    },
    {
      "cell_type": "code",
      "source": [
        "class Dog:\n",
        "  name = '루시'\n",
        "  age = 13\n",
        "  family = '포메'\n",
        "\n",
        "  def eat(self):\n",
        "    print(self)\n",
        "    print('사료를 먹습니다!')"
      ],
      "metadata": {
        "id": "6k_s83Wl6GL1"
      },
      "execution_count": 19,
      "outputs": []
    },
    {
      "cell_type": "code",
      "source": [
        "Rucy = Dog()\n",
        "print(Rucy.name)\n",
        "print(Rucy.age)\n",
        "print(Rucy.family)\n",
        "Rucy.eat()\n",
        "print(Rucy)"
      ],
      "metadata": {
        "colab": {
          "base_uri": "https://localhost:8080/"
        },
        "id": "eud_TOOx7iKE",
        "outputId": "dab553a9-f33f-4dec-adb4-1a7f7eae7de2"
      },
      "execution_count": 20,
      "outputs": [
        {
          "output_type": "stream",
          "name": "stdout",
          "text": [
            "루시\n",
            "13\n",
            "포메\n",
            "<__main__.Dog object at 0x7f2d51d33610>\n",
            "사료를 먹습니다!\n",
            "<__main__.Dog object at 0x7f2d51d33610>\n"
          ]
        }
      ]
    },
    {
      "cell_type": "code",
      "source": [
        "PPomi = Dog()\n",
        "print(PPomi.name)\n",
        "print(PPomi.age)\n",
        "print(PPomi.family)\n",
        "PPomi.eat()\n",
        "print(PPomi)"
      ],
      "metadata": {
        "colab": {
          "base_uri": "https://localhost:8080/"
        },
        "id": "6r-iPHAG7vjy",
        "outputId": "cd9878da-4f15-4fdd-a491-96ffeea758ac"
      },
      "execution_count": 21,
      "outputs": [
        {
          "output_type": "stream",
          "name": "stdout",
          "text": [
            "루시\n",
            "13\n",
            "포메\n",
            "<__main__.Dog object at 0x7f2d51d33bb0>\n",
            "사료를 먹습니다!\n",
            "<__main__.Dog object at 0x7f2d51d33bb0>\n"
          ]
        }
      ]
    },
    {
      "cell_type": "markdown",
      "source": [
        "# 3. 생성자(Constructor)\n",
        "* 클래스를 객체화 시킬 때 가장 먼저 자동으로 실행되는 메소드\n",
        "* __ init __(self)\n",
        "* 생성자에서는 해당 클래스가 다루는 데이터를 정의하고 초기화함"
      ],
      "metadata": {
        "id": "hCSULPqZ8Y8d"
      }
    },
    {
      "cell_type": "code",
      "source": [
        "class Dog:\n",
        "  def __init__(self):\n",
        "    print(self, 'init 호출!')"
      ],
      "metadata": {
        "id": "Nfw0utwGDNuT"
      },
      "execution_count": 24,
      "outputs": []
    },
    {
      "cell_type": "code",
      "source": [
        "Rucy = Dog()"
      ],
      "metadata": {
        "colab": {
          "base_uri": "https://localhost:8080/"
        },
        "id": "SZ1HtcjXDevU",
        "outputId": "6a415608-21c0-404f-a1c7-58371e7f0b5b"
      },
      "execution_count": 25,
      "outputs": [
        {
          "output_type": "stream",
          "name": "stdout",
          "text": [
            "<__main__.Dog object at 0x7f2d6808cdf0> init 호출!\n"
          ]
        }
      ]
    },
    {
      "cell_type": "code",
      "source": [
        "class Dog:\n",
        "  def __init__(self):\n",
        "    self.name = '이름없음'\n",
        "    self.age = 0"
      ],
      "metadata": {
        "id": "q19zJyMwDjh_"
      },
      "execution_count": 26,
      "outputs": []
    },
    {
      "cell_type": "code",
      "source": [
        "Rucy = Dog()\n",
        "print(Rucy)\n",
        "print(Rucy.name)\n",
        "print(Rucy.age)"
      ],
      "metadata": {
        "colab": {
          "base_uri": "https://localhost:8080/"
        },
        "id": "LHEP-JvDEr18",
        "outputId": "ea7d722e-ede5-4fe0-c9fd-d031545ccbac"
      },
      "execution_count": 27,
      "outputs": [
        {
          "output_type": "stream",
          "name": "stdout",
          "text": [
            "<__main__.Dog object at 0x7f2d51bd5040>\n",
            "이름없음\n",
            "0\n"
          ]
        }
      ]
    },
    {
      "cell_type": "code",
      "source": [
        "PPomi = Dog()\n",
        "print(PPomi)\n",
        "print(PPomi.name)\n",
        "print(PPomi.age)"
      ],
      "metadata": {
        "colab": {
          "base_uri": "https://localhost:8080/"
        },
        "id": "PEYOY59kFAJZ",
        "outputId": "aadc3d7e-3cf9-4ccf-cd6c-cdb6775f4033"
      },
      "execution_count": 28,
      "outputs": [
        {
          "output_type": "stream",
          "name": "stdout",
          "text": [
            "<__main__.Dog object at 0x7f2d69af7580>\n",
            "이름없음\n",
            "0\n"
          ]
        }
      ]
    },
    {
      "cell_type": "code",
      "source": [
        "Rucy.name = '루시'\n",
        "Rucy.age = 13"
      ],
      "metadata": {
        "id": "TYIUEQb-FErB"
      },
      "execution_count": 29,
      "outputs": []
    },
    {
      "cell_type": "code",
      "source": [
        "PPomi.name = '뽀미'\n",
        "PPomi.age = 7"
      ],
      "metadata": {
        "id": "mWL7PHAnFRKA"
      },
      "execution_count": 30,
      "outputs": []
    },
    {
      "cell_type": "code",
      "source": [
        "print(Rucy)\n",
        "print(Rucy.name)\n",
        "print(Rucy.age)"
      ],
      "metadata": {
        "colab": {
          "base_uri": "https://localhost:8080/"
        },
        "id": "As2xkAFWFWhv",
        "outputId": "7d778139-5062-444f-bb7e-a84a91f51b81"
      },
      "execution_count": 31,
      "outputs": [
        {
          "output_type": "stream",
          "name": "stdout",
          "text": [
            "<__main__.Dog object at 0x7f2d51bd5040>\n",
            "루시\n",
            "13\n"
          ]
        }
      ]
    },
    {
      "cell_type": "code",
      "source": [
        "print(PPomi)\n",
        "print(PPomi.name)\n",
        "print(PPomi.age)"
      ],
      "metadata": {
        "colab": {
          "base_uri": "https://localhost:8080/"
        },
        "id": "ulwbFvJEFXtx",
        "outputId": "7c20c2a9-2697-4279-f09c-f7f716c8ca94"
      },
      "execution_count": 32,
      "outputs": [
        {
          "output_type": "stream",
          "name": "stdout",
          "text": [
            "<__main__.Dog object at 0x7f2d69af7580>\n",
            "뽀미\n",
            "7\n"
          ]
        }
      ]
    },
    {
      "cell_type": "code",
      "source": [
        "class Dog:\n",
        "  def __init__(self):\n",
        "    self.name = '이름없음'\n",
        "    self.age = 0\n",
        "    # nickname = '닉네임 없음' # 메소드 안에서만 사용할 수 있는 지역변수\n",
        "    self.nickname = '닉네임 없음'\n",
        "    # print(f'{nickname} 객체가 생성됨')\n",
        "\n",
        "  # def go(self):\n",
        "  #   print(f'{nickname}가 달립니다!') # NameError: name 'nickname' is not defined\n",
        "\n",
        "  def go(self):\n",
        "    print(f'{self.nickname}가 달립니다!')"
      ],
      "metadata": {
        "id": "7oey1EkFFYpm"
      },
      "execution_count": 40,
      "outputs": []
    },
    {
      "cell_type": "code",
      "source": [
        "Rucy = Dog()\n",
        "Rucy.name = '루시'\n",
        "Rucy.go()"
      ],
      "metadata": {
        "colab": {
          "base_uri": "https://localhost:8080/"
        },
        "id": "oJ8LGvDGGyTO",
        "outputId": "8c9aadf1-fa55-4613-d6d5-93b887671369"
      },
      "execution_count": 41,
      "outputs": [
        {
          "output_type": "stream",
          "name": "stdout",
          "text": [
            "닉네임 없음가 달립니다!\n"
          ]
        }
      ]
    },
    {
      "cell_type": "code",
      "source": [
        "PPomi = Dog()\n",
        "PPomi.name = '뽀미'\n",
        "PPomi.go()"
      ],
      "metadata": {
        "colab": {
          "base_uri": "https://localhost:8080/"
        },
        "id": "8mFRmEzbG_N5",
        "outputId": "2758ea82-d432-4221-c02a-9cd660ddf9d4"
      },
      "execution_count": 42,
      "outputs": [
        {
          "output_type": "stream",
          "name": "stdout",
          "text": [
            "닉네임 없음가 달립니다!\n"
          ]
        }
      ]
    },
    {
      "cell_type": "code",
      "source": [
        "class Dog:\n",
        "  def __init__(self, name, age, nickname='닉네임없음'):\n",
        "    self.name = name\n",
        "    self.age = age\n",
        "    self.nickname = nickname"
      ],
      "metadata": {
        "id": "m1G2GxT0H-8b"
      },
      "execution_count": 44,
      "outputs": []
    },
    {
      "cell_type": "code",
      "source": [
        "Rucy = Dog() # TypeError: __init__() missing 2 required positional arguments: 'name' and 'age'"
      ],
      "metadata": {
        "colab": {
          "base_uri": "https://localhost:8080/",
          "height": 174
        },
        "id": "VSpB2uXIIBd8",
        "outputId": "f707fb79-8bc9-45c5-c671-06803fbbd30b"
      },
      "execution_count": 45,
      "outputs": [
        {
          "output_type": "error",
          "ename": "TypeError",
          "evalue": "ignored",
          "traceback": [
            "\u001b[0;31m---------------------------------------------------------------------------\u001b[0m",
            "\u001b[0;31mTypeError\u001b[0m                                 Traceback (most recent call last)",
            "\u001b[0;32m<ipython-input-45-39792c53ce6b>\u001b[0m in \u001b[0;36m<module>\u001b[0;34m\u001b[0m\n\u001b[0;32m----> 1\u001b[0;31m \u001b[0mRucy\u001b[0m \u001b[0;34m=\u001b[0m \u001b[0mDog\u001b[0m\u001b[0;34m(\u001b[0m\u001b[0;34m)\u001b[0m\u001b[0;34m\u001b[0m\u001b[0;34m\u001b[0m\u001b[0m\n\u001b[0m",
            "\u001b[0;31mTypeError\u001b[0m: __init__() missing 2 required positional arguments: 'name' and 'age'"
          ]
        }
      ]
    },
    {
      "cell_type": "code",
      "source": [
        "Rucy = Dog('루시', 13)"
      ],
      "metadata": {
        "id": "cAABavO3IVVA"
      },
      "execution_count": 46,
      "outputs": []
    },
    {
      "cell_type": "code",
      "source": [
        "print(Rucy.name)\n",
        "print(Rucy.age)\n",
        "print(Rucy.nickname)"
      ],
      "metadata": {
        "colab": {
          "base_uri": "https://localhost:8080/"
        },
        "id": "nLDD7eO6IcOI",
        "outputId": "d0addabe-dbae-4782-e922-19202b966ca5"
      },
      "execution_count": 47,
      "outputs": [
        {
          "output_type": "stream",
          "name": "stdout",
          "text": [
            "루시\n",
            "13\n",
            "닉네임없음\n"
          ]
        }
      ]
    },
    {
      "cell_type": "code",
      "source": [
        "PPomi = Dog('뽀미', 7)"
      ],
      "metadata": {
        "id": "QScwtfDwIlEM"
      },
      "execution_count": 48,
      "outputs": []
    },
    {
      "cell_type": "code",
      "source": [
        "print(PPomi.name)\n",
        "print(PPomi.age)\n",
        "print(PPomi.nickname)"
      ],
      "metadata": {
        "colab": {
          "base_uri": "https://localhost:8080/"
        },
        "id": "oIKYSRteIp2Y",
        "outputId": "2bad9c08-ad13-4cc2-f95d-41c57474319f"
      },
      "execution_count": 49,
      "outputs": [
        {
          "output_type": "stream",
          "name": "stdout",
          "text": [
            "뽀미\n",
            "7\n",
            "닉네임없음\n"
          ]
        }
      ]
    }
  ]
}