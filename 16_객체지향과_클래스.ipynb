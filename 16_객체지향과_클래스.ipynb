{
  "nbformat": 4,
  "nbformat_minor": 0,
  "metadata": {
    "colab": {
      "provenance": [],
      "authorship_tag": "ABX9TyOwk10erMtru9oqPXCJ5Eej",
      "include_colab_link": true
    },
    "kernelspec": {
      "name": "python3",
      "display_name": "Python 3"
    },
    "language_info": {
      "name": "python"
    }
  },
  "cells": [
    {
      "cell_type": "markdown",
      "metadata": {
        "id": "view-in-github",
        "colab_type": "text"
      },
      "source": [
        "<a href=\"https://colab.research.google.com/github/leeCodingStudio/firstPython/blob/master/16_%EA%B0%9D%EC%B2%B4%EC%A7%80%ED%96%A5%EA%B3%BC_%ED%81%B4%EB%9E%98%EC%8A%A4.ipynb\" target=\"_parent\"><img src=\"https://colab.research.google.com/assets/colab-badge.svg\" alt=\"Open In Colab\"/></a>"
      ]
    },
    {
      "cell_type": "markdown",
      "source": [
        "# 1. 객체지향 프로그래밍\n",
        "* 문제를 여러개의 객체 단위로 나눠 작업하는 방식"
      ],
      "metadata": {
        "id": "3QFl3jzRx0u4"
      }
    },
    {
      "cell_type": "markdown",
      "source": [
        "### 1-1. 객체(Object)란?\n",
        "* 물리적으로 존재하거나 추상적으로 생각할 수 있는 것 중에서 자신의 속성을 가지고 있고 다른 것과 식별 가능한 것을 말함"
      ],
      "metadata": {
        "id": "fYpLP-F0yLjf"
      }
    },
    {
      "cell_type": "markdown",
      "source": [
        "### 1-2. 클래스(class)란?\n",
        "* 객체를 생성하기 위한 일종의 설계도와 같음\n",
        "* 클래스는 프로퍼티(필드), 메소드(함수)\n",
        "  * 프로퍼티(Property): 데이터가 저장되는 곳\n",
        "  * 메소드(Method): 객체의 동작에 해당하는 실행 블록"
      ],
      "metadata": {
        "id": "w9R-rFJ9yc40"
      }
    },
    {
      "cell_type": "markdown",
      "source": [
        "### 1-3. 클래스와 객체\n",
        "* 건축 설계도가 클래스라면, 실제로 지어진 집은 객체\n",
        "* 객체는 클래스로 생성되러 구체화된 인스턴스\n",
        "* 실제로 클래스가 인스턴스롸 되어 메모리에 상주하는 형태를 객체라고 부름\n",
        "* 파이썬의 모든 변수와 함수는 객체로 저장"
      ],
      "metadata": {
        "id": "unhcpd5T20X9"
      }
    },
    {
      "cell_type": "markdown",
      "source": [
        "# 2. 클래스 만들기\n",
        "\n",
        "```\n",
        "class 클래스명:\n",
        "  프로퍼티명1 = 값1\n",
        "  프로퍼티명2 = 값2\n",
        "  ...\n",
        "\n",
        "  def 메소드명1(self, 변수1, 변수2 ...):\n",
        "    메소드가 호출되면 실행할 문장\n",
        "    ...\n",
        "\n",
        "  def 메소드명2(self, 변수1, 변수2 ...):\n",
        "    메소드가 호출되면 실행할 문장\n",
        "    ...\n",
        "```\n",
        "\n",
        "* 클래스를 통해 호출되는 변수를 프로퍼티(필드)라고 부름\n",
        "* 클래스를 통해 호출되는 함수를 메소드라고 부름\n",
        "* self: 클래스의 각 호출한 객체를 가리킴"
      ],
      "metadata": {
        "id": "LmwxKltF3T-l"
      }
    },
    {
      "cell_type": "code",
      "source": [
        "class Dog:\n",
        "  pass # 내용이 없는 블록을 만들 때 사용"
      ],
      "metadata": {
        "id": "peo47G433zs1"
      },
      "execution_count": 28,
      "outputs": []
    },
    {
      "cell_type": "code",
      "source": [
        "def func1():\n",
        "  pass"
      ],
      "metadata": {
        "id": "Xs1J9y-B4PC5"
      },
      "execution_count": 29,
      "outputs": []
    },
    {
      "cell_type": "code",
      "source": [
        "# 클래스를 통해 객체를 생성\n",
        "Rucy = Dog()\n",
        "print(Rucy)\n",
        "print(type(Rucy))"
      ],
      "metadata": {
        "colab": {
          "base_uri": "https://localhost:8080/"
        },
        "id": "Nduh_Rr54XSM",
        "outputId": "e061f747-cce7-4e1f-e752-78df84238605"
      },
      "execution_count": 30,
      "outputs": [
        {
          "output_type": "stream",
          "name": "stdout",
          "text": [
            "<__main__.Dog object at 0x7f5e747a1790>\n",
            "<class '__main__.Dog'>\n"
          ]
        }
      ]
    },
    {
      "cell_type": "code",
      "source": [
        "li1 = list([1, 2, 3, 4, 5])\n",
        "print(li1)\n",
        "print(type(li1))\n",
        "print(id(li1))"
      ],
      "metadata": {
        "colab": {
          "base_uri": "https://localhost:8080/"
        },
        "id": "-fR0MVtZ5AxH",
        "outputId": "a25ce374-cfcb-4be0-c7db-441987fb22ef"
      },
      "execution_count": 31,
      "outputs": [
        {
          "output_type": "stream",
          "name": "stdout",
          "text": [
            "[1, 2, 3, 4, 5]\n",
            "<class 'list'>\n",
            "140043657787072\n"
          ]
        }
      ]
    },
    {
      "cell_type": "code",
      "source": [
        "PPomi = Dog()\n",
        "print(PPomi)\n",
        "print(type(PPomi))"
      ],
      "metadata": {
        "colab": {
          "base_uri": "https://localhost:8080/"
        },
        "id": "lA2J31o75ShN",
        "outputId": "3dba1543-7c50-45a5-b158-f022cb0396d5"
      },
      "execution_count": 32,
      "outputs": [
        {
          "output_type": "stream",
          "name": "stdout",
          "text": [
            "<__main__.Dog object at 0x7f5e76101850>\n",
            "<class '__main__.Dog'>\n"
          ]
        }
      ]
    },
    {
      "cell_type": "code",
      "source": [
        "li2 = list([1, 2, 3, 4, 5])\n",
        "print(li2)\n",
        "print(type(li2))\n",
        "print(id(li2))"
      ],
      "metadata": {
        "colab": {
          "base_uri": "https://localhost:8080/"
        },
        "id": "xDer0-Tg5o12",
        "outputId": "edca3dce-e5e3-4a18-f17b-90d647bbdc87"
      },
      "execution_count": 33,
      "outputs": [
        {
          "output_type": "stream",
          "name": "stdout",
          "text": [
            "[1, 2, 3, 4, 5]\n",
            "<class 'list'>\n",
            "140043657772160\n"
          ]
        }
      ]
    },
    {
      "cell_type": "code",
      "source": [
        "class Dog:\n",
        "  name = '루시'\n",
        "  age = 13\n",
        "  family = '포메'\n",
        "\n",
        "  def eat(self):\n",
        "    print(self)\n",
        "    print('사료를 먹습니다!')"
      ],
      "metadata": {
        "id": "6k_s83Wl6GL1"
      },
      "execution_count": 34,
      "outputs": []
    },
    {
      "cell_type": "code",
      "source": [
        "Rucy = Dog()\n",
        "print(Rucy.name)\n",
        "print(Rucy.age)\n",
        "print(Rucy.family)\n",
        "Rucy.eat()\n",
        "print(Rucy)"
      ],
      "metadata": {
        "colab": {
          "base_uri": "https://localhost:8080/"
        },
        "id": "eud_TOOx7iKE",
        "outputId": "965d15e4-e236-4285-c201-89be150c3cd7"
      },
      "execution_count": 35,
      "outputs": [
        {
          "output_type": "stream",
          "name": "stdout",
          "text": [
            "루시\n",
            "13\n",
            "포메\n",
            "<__main__.Dog object at 0x7f5e74792e50>\n",
            "사료를 먹습니다!\n",
            "<__main__.Dog object at 0x7f5e74792e50>\n"
          ]
        }
      ]
    },
    {
      "cell_type": "code",
      "source": [
        "PPomi = Dog()\n",
        "print(PPomi.name)\n",
        "print(PPomi.age)\n",
        "print(PPomi.family)\n",
        "PPomi.eat()\n",
        "print(PPomi)"
      ],
      "metadata": {
        "colab": {
          "base_uri": "https://localhost:8080/"
        },
        "id": "6r-iPHAG7vjy",
        "outputId": "eb13e176-8e41-484b-8579-5f34e9bc1833"
      },
      "execution_count": 36,
      "outputs": [
        {
          "output_type": "stream",
          "name": "stdout",
          "text": [
            "루시\n",
            "13\n",
            "포메\n",
            "<__main__.Dog object at 0x7f5e747a17c0>\n",
            "사료를 먹습니다!\n",
            "<__main__.Dog object at 0x7f5e747a17c0>\n"
          ]
        }
      ]
    },
    {
      "cell_type": "markdown",
      "source": [
        "# 3. 생성자(Constructor)\n",
        "* 클래스를 객체화 시킬 때 가장 먼저 자동으로 실행되는 메소드\n",
        "* __ init __(self)\n",
        "* 생성자에서는 해당 클래스가 다루는 데이터를 정의하고 초기화함"
      ],
      "metadata": {
        "id": "hCSULPqZ8Y8d"
      }
    },
    {
      "cell_type": "code",
      "source": [
        "class Dog:\n",
        "  def __init__(self):\n",
        "    print(self, 'init 호출!')"
      ],
      "metadata": {
        "id": "Nfw0utwGDNuT"
      },
      "execution_count": 37,
      "outputs": []
    },
    {
      "cell_type": "code",
      "source": [
        "Rucy = Dog()"
      ],
      "metadata": {
        "colab": {
          "base_uri": "https://localhost:8080/"
        },
        "id": "SZ1HtcjXDevU",
        "outputId": "1f2ca106-1360-475a-d8ba-c256740aa6e8"
      },
      "execution_count": 38,
      "outputs": [
        {
          "output_type": "stream",
          "name": "stdout",
          "text": [
            "<__main__.Dog object at 0x7f5e74792760> init 호출!\n"
          ]
        }
      ]
    },
    {
      "cell_type": "code",
      "source": [
        "class Dog:\n",
        "  def __init__(self):\n",
        "    self.name = '이름없음'\n",
        "    self.age = 0"
      ],
      "metadata": {
        "id": "q19zJyMwDjh_"
      },
      "execution_count": 39,
      "outputs": []
    },
    {
      "cell_type": "code",
      "source": [
        "Rucy = Dog()\n",
        "print(Rucy)\n",
        "print(Rucy.name)\n",
        "print(Rucy.age)"
      ],
      "metadata": {
        "colab": {
          "base_uri": "https://localhost:8080/"
        },
        "id": "LHEP-JvDEr18",
        "outputId": "3f9d7354-2e42-4ad0-d9fc-4b4f2ddf21d6"
      },
      "execution_count": 40,
      "outputs": [
        {
          "output_type": "stream",
          "name": "stdout",
          "text": [
            "<__main__.Dog object at 0x7f5e74792550>\n",
            "이름없음\n",
            "0\n"
          ]
        }
      ]
    },
    {
      "cell_type": "code",
      "source": [
        "PPomi = Dog()\n",
        "print(PPomi)\n",
        "print(PPomi.name)\n",
        "print(PPomi.age)"
      ],
      "metadata": {
        "colab": {
          "base_uri": "https://localhost:8080/"
        },
        "id": "PEYOY59kFAJZ",
        "outputId": "34b93f7c-39bf-4f83-81e0-ad466f3a2f10"
      },
      "execution_count": 41,
      "outputs": [
        {
          "output_type": "stream",
          "name": "stdout",
          "text": [
            "<__main__.Dog object at 0x7f5e7451c0d0>\n",
            "이름없음\n",
            "0\n"
          ]
        }
      ]
    },
    {
      "cell_type": "code",
      "source": [
        "Rucy.name = '루시'\n",
        "Rucy.age = 13"
      ],
      "metadata": {
        "id": "TYIUEQb-FErB"
      },
      "execution_count": 42,
      "outputs": []
    },
    {
      "cell_type": "code",
      "source": [
        "PPomi.name = '뽀미'\n",
        "PPomi.age = 7"
      ],
      "metadata": {
        "id": "mWL7PHAnFRKA"
      },
      "execution_count": 43,
      "outputs": []
    },
    {
      "cell_type": "code",
      "source": [
        "print(Rucy)\n",
        "print(Rucy.name)\n",
        "print(Rucy.age)"
      ],
      "metadata": {
        "colab": {
          "base_uri": "https://localhost:8080/"
        },
        "id": "As2xkAFWFWhv",
        "outputId": "ef69dcd1-88ad-40ed-e970-8d1e7589e945"
      },
      "execution_count": 44,
      "outputs": [
        {
          "output_type": "stream",
          "name": "stdout",
          "text": [
            "<__main__.Dog object at 0x7f5e74792550>\n",
            "루시\n",
            "13\n"
          ]
        }
      ]
    },
    {
      "cell_type": "code",
      "source": [
        "print(PPomi)\n",
        "print(PPomi.name)\n",
        "print(PPomi.age)"
      ],
      "metadata": {
        "colab": {
          "base_uri": "https://localhost:8080/"
        },
        "id": "ulwbFvJEFXtx",
        "outputId": "6500e82e-9b97-48d0-ae5a-8b3c6dc8387a"
      },
      "execution_count": 45,
      "outputs": [
        {
          "output_type": "stream",
          "name": "stdout",
          "text": [
            "<__main__.Dog object at 0x7f5e7451c0d0>\n",
            "뽀미\n",
            "7\n"
          ]
        }
      ]
    },
    {
      "cell_type": "code",
      "source": [
        "class Dog:\n",
        "  def __init__(self):\n",
        "    self.name = '이름없음'\n",
        "    self.age = 0\n",
        "    # nickname = '닉네임 없음' # 메소드 안에서만 사용할 수 있는 지역변수\n",
        "    self.nickname = '닉네임 없음'\n",
        "    # print(f'{nickname} 객체가 생성됨')\n",
        "\n",
        "  # def go(self):\n",
        "  #   print(f'{nickname}가 달립니다!') # NameError: name 'nickname' is not defined\n",
        "\n",
        "  def go(self):\n",
        "    print(f'{self.nickname}가 달립니다!')"
      ],
      "metadata": {
        "id": "7oey1EkFFYpm"
      },
      "execution_count": 46,
      "outputs": []
    },
    {
      "cell_type": "code",
      "source": [
        "Rucy = Dog()\n",
        "Rucy.name = '루시'\n",
        "Rucy.go()"
      ],
      "metadata": {
        "colab": {
          "base_uri": "https://localhost:8080/"
        },
        "id": "oJ8LGvDGGyTO",
        "outputId": "993a2759-fdfe-4c84-c753-8a4c8a1b80b6"
      },
      "execution_count": 47,
      "outputs": [
        {
          "output_type": "stream",
          "name": "stdout",
          "text": [
            "닉네임 없음가 달립니다!\n"
          ]
        }
      ]
    },
    {
      "cell_type": "code",
      "source": [
        "PPomi = Dog()\n",
        "PPomi.name = '뽀미'\n",
        "PPomi.go()"
      ],
      "metadata": {
        "colab": {
          "base_uri": "https://localhost:8080/"
        },
        "id": "8mFRmEzbG_N5",
        "outputId": "f5c38fea-1941-4485-ec30-2a5ff5b9abde"
      },
      "execution_count": 48,
      "outputs": [
        {
          "output_type": "stream",
          "name": "stdout",
          "text": [
            "닉네임 없음가 달립니다!\n"
          ]
        }
      ]
    },
    {
      "cell_type": "code",
      "source": [
        "class Dog:\n",
        "  def __init__(self, name, age, nickname='닉네임없음'):\n",
        "    self.name = name\n",
        "    self.age = age\n",
        "    self.nickname = nickname"
      ],
      "metadata": {
        "id": "m1G2GxT0H-8b"
      },
      "execution_count": 49,
      "outputs": []
    },
    {
      "cell_type": "code",
      "source": [
        "Rucy = Dog() # TypeError: __init__() missing 2 required positional arguments: 'name' and 'age'"
      ],
      "metadata": {
        "colab": {
          "base_uri": "https://localhost:8080/",
          "height": 174
        },
        "id": "VSpB2uXIIBd8",
        "outputId": "5e2a1f28-835a-4479-de6a-56539587f281"
      },
      "execution_count": 50,
      "outputs": [
        {
          "output_type": "error",
          "ename": "TypeError",
          "evalue": "ignored",
          "traceback": [
            "\u001b[0;31m---------------------------------------------------------------------------\u001b[0m",
            "\u001b[0;31mTypeError\u001b[0m                                 Traceback (most recent call last)",
            "\u001b[0;32m<ipython-input-50-389e38b1f391>\u001b[0m in \u001b[0;36m<module>\u001b[0;34m\u001b[0m\n\u001b[0;32m----> 1\u001b[0;31m \u001b[0mRucy\u001b[0m \u001b[0;34m=\u001b[0m \u001b[0mDog\u001b[0m\u001b[0;34m(\u001b[0m\u001b[0;34m)\u001b[0m \u001b[0;31m# TypeError: __init__() missing 2 required positional arguments: 'name' and 'age'\u001b[0m\u001b[0;34m\u001b[0m\u001b[0;34m\u001b[0m\u001b[0m\n\u001b[0m",
            "\u001b[0;31mTypeError\u001b[0m: __init__() missing 2 required positional arguments: 'name' and 'age'"
          ]
        }
      ]
    },
    {
      "cell_type": "code",
      "source": [
        "Rucy = Dog('루시', 13)"
      ],
      "metadata": {
        "id": "cAABavO3IVVA"
      },
      "execution_count": 51,
      "outputs": []
    },
    {
      "cell_type": "code",
      "source": [
        "print(Rucy.name)\n",
        "print(Rucy.age)\n",
        "print(Rucy.nickname)"
      ],
      "metadata": {
        "colab": {
          "base_uri": "https://localhost:8080/"
        },
        "id": "nLDD7eO6IcOI",
        "outputId": "2c7ee907-7a17-4af3-8d0d-b0cd500ad4a8"
      },
      "execution_count": 52,
      "outputs": [
        {
          "output_type": "stream",
          "name": "stdout",
          "text": [
            "루시\n",
            "13\n",
            "닉네임없음\n"
          ]
        }
      ]
    },
    {
      "cell_type": "code",
      "source": [
        "PPomi = Dog('뽀미', 7)"
      ],
      "metadata": {
        "id": "QScwtfDwIlEM"
      },
      "execution_count": 53,
      "outputs": []
    },
    {
      "cell_type": "code",
      "source": [
        "print(PPomi.name)\n",
        "print(PPomi.age)\n",
        "print(PPomi.nickname)"
      ],
      "metadata": {
        "id": "oIKYSRteIp2Y",
        "colab": {
          "base_uri": "https://localhost:8080/"
        },
        "outputId": "ed0fe4d1-d88b-4b37-d043-8a57daeee16f"
      },
      "execution_count": 55,
      "outputs": [
        {
          "output_type": "stream",
          "name": "stdout",
          "text": [
            "뽀미\n",
            "7\n",
            "닉네임없음\n"
          ]
        }
      ]
    },
    {
      "cell_type": "markdown",
      "source": [
        "# 4. 에소드 정의하기\n",
        "* 해당 클래스의 객체에서만 호출가능한 함수\n",
        "* 해당 객체의 속성에 대한 연산을 행함\n",
        "* 객체이름.메소드명() 형태로 호출됨"
      ],
      "metadata": {
        "id": "cxrI-Uix5UJ3"
      }
    },
    {
      "cell_type": "markdown",
      "source": [
        "### 4-1. 메소드 정의하기"
      ],
      "metadata": {
        "id": "wtz0EEmX-zKc"
      }
    },
    {
      "cell_type": "code",
      "source": [
        "class Counter:\n",
        "  def __init__(self):\n",
        "    self.num = 0\n",
        "  def increment(self):\n",
        "    self.num += 1\n",
        "  def decrement(self):\n",
        "    self.num -= 1\n",
        "  def current_value(self):\n",
        "    return self.num\n",
        "  def reset(self):\n",
        "    self.num = 0"
      ],
      "metadata": {
        "id": "hZcksmVm6Wxp"
      },
      "execution_count": 80,
      "outputs": []
    },
    {
      "cell_type": "code",
      "source": [
        "KBbank = Counter()\n",
        "print(KBbank.num)"
      ],
      "metadata": {
        "colab": {
          "base_uri": "https://localhost:8080/"
        },
        "id": "jHvpur8z6jEC",
        "outputId": "c842d202-ee79-444e-ea5a-cd96593c1433"
      },
      "execution_count": 81,
      "outputs": [
        {
          "output_type": "stream",
          "name": "stdout",
          "text": [
            "0\n"
          ]
        }
      ]
    },
    {
      "cell_type": "code",
      "source": [
        "KBbank.increment()\n",
        "print(KBbank.num)"
      ],
      "metadata": {
        "colab": {
          "base_uri": "https://localhost:8080/"
        },
        "id": "5F2xxw3365xj",
        "outputId": "b20104bc-3f63-4247-bb51-550ed8d9194d"
      },
      "execution_count": 82,
      "outputs": [
        {
          "output_type": "stream",
          "name": "stdout",
          "text": [
            "1\n"
          ]
        }
      ]
    },
    {
      "cell_type": "code",
      "source": [
        "KBbank.decrement()\n",
        "print(KBbank.num)"
      ],
      "metadata": {
        "colab": {
          "base_uri": "https://localhost:8080/"
        },
        "id": "vtcRgpyV7PVA",
        "outputId": "eee70763-c9c7-488e-f075-5a5f37644514"
      },
      "execution_count": 83,
      "outputs": [
        {
          "output_type": "stream",
          "name": "stdout",
          "text": [
            "0\n"
          ]
        }
      ]
    },
    {
      "cell_type": "code",
      "source": [
        "print(KBbank.current_value())"
      ],
      "metadata": {
        "colab": {
          "base_uri": "https://localhost:8080/"
        },
        "id": "Go-fkJ0M8_-s",
        "outputId": "ac08dde8-50d2-4a37-da68-ef5723c0c63a"
      },
      "execution_count": 84,
      "outputs": [
        {
          "output_type": "stream",
          "name": "stdout",
          "text": [
            "0\n"
          ]
        }
      ]
    },
    {
      "cell_type": "code",
      "source": [
        "KBbank.increment()\n",
        "KBbank.increment()\n",
        "KBbank.increment()\n",
        "KBbank.increment()\n",
        "KBbank.increment()\n",
        "print(f'현재 대기인원 : {KBbank.current_value()}')"
      ],
      "metadata": {
        "colab": {
          "base_uri": "https://localhost:8080/"
        },
        "id": "qs1RDcQr9aNg",
        "outputId": "a389660a-b766-4457-fa42-1d84bd1f50e2"
      },
      "execution_count": 85,
      "outputs": [
        {
          "output_type": "stream",
          "name": "stdout",
          "text": [
            "현재 대기인원 : 5\n"
          ]
        }
      ]
    },
    {
      "cell_type": "code",
      "source": [
        "HanaBank = Counter()\n",
        "print(f'현재 대기인원 : {HanaBank.current_value()}')"
      ],
      "metadata": {
        "colab": {
          "base_uri": "https://localhost:8080/"
        },
        "id": "D6p67uQD9qIG",
        "outputId": "d325fb75-77e4-4ff1-d259-cfd3bf10589b"
      },
      "execution_count": 86,
      "outputs": [
        {
          "output_type": "stream",
          "name": "stdout",
          "text": [
            "현재 대기인원 : 0\n"
          ]
        }
      ]
    },
    {
      "cell_type": "code",
      "source": [
        "HanaBank.increment()\n",
        "HanaBank.increment()\n",
        "HanaBank.increment()\n",
        "print(f'현재 대기인원 : {HanaBank.current_value()}')"
      ],
      "metadata": {
        "colab": {
          "base_uri": "https://localhost:8080/"
        },
        "id": "pjOUoVOE94jt",
        "outputId": "ae4fc78f-7588-4b36-b26f-0dfbc05db35e"
      },
      "execution_count": 87,
      "outputs": [
        {
          "output_type": "stream",
          "name": "stdout",
          "text": [
            "현재 대기인원 : 3\n"
          ]
        }
      ]
    },
    {
      "cell_type": "code",
      "source": [
        "HanaBank.reset()\n",
        "print(f'현재 대기인원 : {HanaBank.current_value()}')"
      ],
      "metadata": {
        "colab": {
          "base_uri": "https://localhost:8080/"
        },
        "id": "BFn_eZcN-DE3",
        "outputId": "97b297c6-921f-4276-c41a-806083d87ab0"
      },
      "execution_count": 88,
      "outputs": [
        {
          "output_type": "stream",
          "name": "stdout",
          "text": [
            "현재 대기인원 : 0\n"
          ]
        }
      ]
    },
    {
      "cell_type": "markdown",
      "source": [
        "### 4-2. 메소드 타입\n",
        "* instance method: 객체 형태로 호출되기 때문에 해당 메소드를 호출한 객체에서만 영향을 미침\n",
        "* class method: 클래스 이름으로 호출하는 메소드(메소드 선언 위에 @staticmethod라고 표시)"
      ],
      "metadata": {
        "id": "5eSCVLKf-cIs"
      }
    },
    {
      "cell_type": "code",
      "source": [
        "class Math:\n",
        "  def add(self, x, y):\n",
        "    return x + y\n",
        "  def multiply(slef, x, y):\n",
        "    return x * y"
      ],
      "metadata": {
        "id": "ekSRXZkL_o5d"
      },
      "execution_count": 89,
      "outputs": []
    },
    {
      "cell_type": "code",
      "source": [
        "math = Math()"
      ],
      "metadata": {
        "id": "CagiTX63_7nY"
      },
      "execution_count": 90,
      "outputs": []
    },
    {
      "cell_type": "code",
      "source": [
        "result1 = math.add(10, 3)\n",
        "print(result1)"
      ],
      "metadata": {
        "colab": {
          "base_uri": "https://localhost:8080/"
        },
        "id": "tLNSQGNh_9TN",
        "outputId": "0e09278d-e724-44fd-8d01-caccee31d1bd"
      },
      "execution_count": 91,
      "outputs": [
        {
          "output_type": "stream",
          "name": "stdout",
          "text": [
            "13\n"
          ]
        }
      ]
    },
    {
      "cell_type": "code",
      "source": [
        "result2 = math.multiply(10, 3)\n",
        "print(result2)"
      ],
      "metadata": {
        "colab": {
          "base_uri": "https://localhost:8080/"
        },
        "id": "JTN-0jG6AFAf",
        "outputId": "4ce99ac2-ad9e-41ef-e7c4-622f9f96feb5"
      },
      "execution_count": 93,
      "outputs": [
        {
          "output_type": "stream",
          "name": "stdout",
          "text": [
            "30\n"
          ]
        }
      ]
    },
    {
      "cell_type": "code",
      "source": [
        "class Math:\n",
        "  @staticmethod\n",
        "  def add(x, y):\n",
        "    return x + y\n",
        "  @staticmethod\n",
        "  def multiply(x, y):\n",
        "    return x * y"
      ],
      "metadata": {
        "id": "9Z9ral5TBEBh"
      },
      "execution_count": 94,
      "outputs": []
    },
    {
      "cell_type": "code",
      "source": [
        "result1 = Math.add(10, 3)\n",
        "print(result1)"
      ],
      "metadata": {
        "colab": {
          "base_uri": "https://localhost:8080/"
        },
        "id": "qLtV4ASkBJ-t",
        "outputId": "44f7e258-4452-47d6-b519-ec2ce2321362"
      },
      "execution_count": 95,
      "outputs": [
        {
          "output_type": "stream",
          "name": "stdout",
          "text": [
            "13\n"
          ]
        }
      ]
    },
    {
      "cell_type": "code",
      "source": [
        "result2 = Math.multiply(10, 3)\n",
        "print(result2)"
      ],
      "metadata": {
        "colab": {
          "base_uri": "https://localhost:8080/"
        },
        "id": "xRjeBe2uBQbS",
        "outputId": "bdfb0919-a95b-4b98-817d-72e9f5e1a600"
      },
      "execution_count": 96,
      "outputs": [
        {
          "output_type": "stream",
          "name": "stdout",
          "text": [
            "30\n"
          ]
        }
      ]
    },
    {
      "cell_type": "code",
      "source": [
        "class Math:\n",
        "  @staticmethod\n",
        "  def add(x, y):\n",
        "    return x + y\n",
        "  @staticmethod\n",
        "  def multiply(x, y):\n",
        "    return x * y\n",
        "\n",
        "  def div(self, x, y):\n",
        "    return x / y"
      ],
      "metadata": {
        "id": "f9Bb8rUIBUoV"
      },
      "execution_count": 101,
      "outputs": []
    },
    {
      "cell_type": "code",
      "source": [
        "math = Math()\n",
        "result3 = math.div(10, 3)\n",
        "print(result3)"
      ],
      "metadata": {
        "colab": {
          "base_uri": "https://localhost:8080/"
        },
        "id": "o-Gp5cSoB3f6",
        "outputId": "ee187172-1301-455f-ea0b-1bd04ab98a9e"
      },
      "execution_count": 103,
      "outputs": [
        {
          "output_type": "stream",
          "name": "stdout",
          "text": [
            "3.3333333333333335\n"
          ]
        }
      ]
    }
  ]
}