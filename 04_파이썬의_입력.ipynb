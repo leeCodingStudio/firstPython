{
  "nbformat": 4,
  "nbformat_minor": 0,
  "metadata": {
    "colab": {
      "provenance": [],
      "authorship_tag": "ABX9TyNSIkYZA46X/0Tg1pIae8X0",
      "include_colab_link": true
    },
    "kernelspec": {
      "name": "python3",
      "display_name": "Python 3"
    },
    "language_info": {
      "name": "python"
    }
  },
  "cells": [
    {
      "cell_type": "markdown",
      "metadata": {
        "id": "view-in-github",
        "colab_type": "text"
      },
      "source": [
        "<a href=\"https://colab.research.google.com/github/leeCodingStudio/firstPython/blob/master/04_%ED%8C%8C%EC%9D%B4%EC%8D%AC%EC%9D%98_%EC%9E%85%EB%A0%A5.ipynb\" target=\"_parent\"><img src=\"https://colab.research.google.com/assets/colab-badge.svg\" alt=\"Open In Colab\"/></a>"
      ]
    },
    {
      "cell_type": "markdown",
      "source": [
        "# 1. input 함수\n",
        "* 사용자(개발자)에게 데이터를 입력받을 수 있는 함수\n",
        "* 데이터를 문자형으로 입력받음"
      ],
      "metadata": {
        "id": "Ie1BS3iofvKA"
      }
    },
    {
      "cell_type": "code",
      "source": [
        "input()"
      ],
      "metadata": {
        "colab": {
          "base_uri": "https://localhost:8080/",
          "height": 54
        },
        "id": "GbN3iuxhgYOg",
        "outputId": "8aead004-bbbc-43fe-c8db-96cb621f88e3"
      },
      "execution_count": null,
      "outputs": [
        {
          "name": "stdout",
          "output_type": "stream",
          "text": [
            "김사과\n"
          ]
        },
        {
          "output_type": "execute_result",
          "data": {
            "text/plain": [
              "'김사과'"
            ],
            "application/vnd.google.colaboratory.intrinsic+json": {
              "type": "string"
            }
          },
          "metadata": {},
          "execution_count": 1
        }
      ]
    },
    {
      "cell_type": "code",
      "source": [
        "name = input()"
      ],
      "metadata": {
        "colab": {
          "base_uri": "https://localhost:8080/"
        },
        "id": "PBFrA1B6gZ6I",
        "outputId": "a39c6eb0-f06a-4070-9780-f0a7ec5d9aa7"
      },
      "execution_count": null,
      "outputs": [
        {
          "name": "stdout",
          "output_type": "stream",
          "text": [
            "김사과\n"
          ]
        }
      ]
    },
    {
      "cell_type": "code",
      "source": [
        "print(name)"
      ],
      "metadata": {
        "colab": {
          "base_uri": "https://localhost:8080/"
        },
        "id": "9tEPLmt3gmiR",
        "outputId": "ce9e01d0-532d-418f-cae0-bf4b8b69675a"
      },
      "execution_count": null,
      "outputs": [
        {
          "output_type": "stream",
          "name": "stdout",
          "text": [
            "김사과\n"
          ]
        }
      ]
    },
    {
      "cell_type": "code",
      "source": [
        "name = input('이름을 입력하세요')"
      ],
      "metadata": {
        "colab": {
          "base_uri": "https://localhost:8080/"
        },
        "id": "N2zdOWiMg0Qf",
        "outputId": "a28e7b23-1a79-43a1-831b-bc9f6c50df17"
      },
      "execution_count": null,
      "outputs": [
        {
          "name": "stdout",
          "output_type": "stream",
          "text": [
            "이름을 입력하세요김사과\n"
          ]
        }
      ]
    },
    {
      "cell_type": "code",
      "source": [
        "print(\"%s님 안녕하세요!\" % name)"
      ],
      "metadata": {
        "colab": {
          "base_uri": "https://localhost:8080/"
        },
        "id": "fs47JCJlg6dL",
        "outputId": "d99eeea0-d57a-46db-81c6-5ed5127c6a2d"
      },
      "execution_count": null,
      "outputs": [
        {
          "output_type": "stream",
          "name": "stdout",
          "text": [
            "김사과님 안녕하세요!\n"
          ]
        }
      ]
    },
    {
      "cell_type": "code",
      "source": [
        "name, age, weight = '김사과', 20, 50.5\n",
        "print(name, age, weight)"
      ],
      "metadata": {
        "colab": {
          "base_uri": "https://localhost:8080/"
        },
        "id": "CS5tHsd4hAPA",
        "outputId": "6c228874-2a94-43ac-8c16-93c516653611"
      },
      "execution_count": null,
      "outputs": [
        {
          "output_type": "stream",
          "name": "stdout",
          "text": [
            "김사과 20 50.5\n"
          ]
        }
      ]
    },
    {
      "cell_type": "code",
      "source": [
        "# split(): 매개변수로 전달된 문자를 기준으로 데이터를 나눠서 저장\n",
        "name, age, weight = input('이름, 나이, 몸무게를 차례대로 입력하세요: ').split(' ')"
      ],
      "metadata": {
        "colab": {
          "base_uri": "https://localhost:8080/"
        },
        "id": "Zxu9r463hUVE",
        "outputId": "1865aaf4-188f-40fb-8cb6-d90c2431cf6a"
      },
      "execution_count": null,
      "outputs": [
        {
          "name": "stdout",
          "output_type": "stream",
          "text": [
            "이름, 나이, 몸무게를 차례대로 입력하세요: 김사과 20 50.5\n"
          ]
        }
      ]
    },
    {
      "cell_type": "code",
      "source": [
        "print(name, age, weight)"
      ],
      "metadata": {
        "colab": {
          "base_uri": "https://localhost:8080/"
        },
        "id": "lsh8ktI0hxL5",
        "outputId": "fdb59ab7-5c6d-4c2a-fd4e-3a2d4a016bed"
      },
      "execution_count": null,
      "outputs": [
        {
          "output_type": "stream",
          "name": "stdout",
          "text": [
            "김사과 20 50.5\n"
          ]
        }
      ]
    },
    {
      "cell_type": "code",
      "source": [
        "emoji1, emoji2, emoji3 = '😊 😂 😍'.split(' ')\n",
        "print(emoji1)\n",
        "print(emoji2)\n",
        "print(emoji3)"
      ],
      "metadata": {
        "colab": {
          "base_uri": "https://localhost:8080/"
        },
        "id": "Bl80NEMqiAtw",
        "outputId": "77a323cb-b029-44c8-89a8-9e86e6dc0d14"
      },
      "execution_count": null,
      "outputs": [
        {
          "output_type": "stream",
          "name": "stdout",
          "text": [
            "😊\n",
            "😂\n",
            "😍\n"
          ]
        }
      ]
    },
    {
      "cell_type": "code",
      "source": [
        "name, age, weight = input('이름, 나이, 몸무게를 차례대로 입력하세요: ').split('/')\n",
        "print(name, age, weight)"
      ],
      "metadata": {
        "colab": {
          "base_uri": "https://localhost:8080/"
        },
        "id": "0dRISgVRi3tZ",
        "outputId": "62b1d5d5-d3d7-4c80-97c0-4ee9c3ce316c"
      },
      "execution_count": null,
      "outputs": [
        {
          "output_type": "stream",
          "name": "stdout",
          "text": [
            "이름, 나이, 몸무게를 차례대로 입력하세요: 반하나/25/60\n",
            "반하나 25 60\n"
          ]
        }
      ]
    },
    {
      "cell_type": "code",
      "source": [
        "num1 = input('첫번째 숫자를 입력하세요: ')\n",
        "num2 = input('두번째 숫자를 입력하세요: ')\n",
        "print('결과: ', num1 + num2)"
      ],
      "metadata": {
        "colab": {
          "base_uri": "https://localhost:8080/"
        },
        "id": "662EtEz0jCov",
        "outputId": "047e0044-29b1-4c51-c542-f58c51383606"
      },
      "execution_count": null,
      "outputs": [
        {
          "output_type": "stream",
          "name": "stdout",
          "text": [
            "첫번째 숫자를 입력하세요: 10\n",
            "두번째 숫자를 입력하세요: 5\n",
            "결과:  105\n"
          ]
        }
      ]
    },
    {
      "cell_type": "code",
      "source": [
        "# int(): 문자열을 숫자(정수)타입으로 변환\n",
        "num1 = input('첫번째 숫자를 입력하세요: ') # or int(input('첫번째 숫자를 입력하세요: '))\n",
        "num2 = input('두번째 숫자를 입력하세요: ')\n",
        "print('결과: ', int(num1) + int(num2))"
      ],
      "metadata": {
        "colab": {
          "base_uri": "https://localhost:8080/"
        },
        "id": "Z9HYRR46juBw",
        "outputId": "ddbf98a2-9981-4470-d46e-e63cbb63031c"
      },
      "execution_count": null,
      "outputs": [
        {
          "output_type": "stream",
          "name": "stdout",
          "text": [
            "첫번째 숫자를 입력하세요: 10\n",
            "두번째 숫자를 입력하세요: 5\n",
            "결과:  15\n"
          ]
        }
      ]
    },
    {
      "cell_type": "markdown",
      "source": [
        "### 문제\n",
        "* 국어점수, 영어점수, 수학점수를 입력받아 총점, 평균을 구하는 프로그램을 작성해보자"
      ],
      "metadata": {
        "id": "DW0E4JCej5iP"
      }
    },
    {
      "cell_type": "code",
      "source": [
        "ko = int(input('국어 점수를 입력하세요: '))\n",
        "en = int(input('영어 점수를 입력하세요: '))\n",
        "ma = int(input('수학 점수를 입력하세요: '))\n",
        "print('총점: ', ko + en + ma)\n",
        "print('평균: ',  (ko + en + ma)/3)"
      ],
      "metadata": {
        "colab": {
          "base_uri": "https://localhost:8080/"
        },
        "id": "1IDZiYxzkTUc",
        "outputId": "979cdb82-d599-4017-f3bb-2c0ff939ca55"
      },
      "execution_count": null,
      "outputs": [
        {
          "output_type": "stream",
          "name": "stdout",
          "text": [
            "국어 점수를 입력하세요: 88\n",
            "영어 점수를 입력하세요: 85\n",
            "수학 점수를 입력하세요: 92\n",
            "총점:  265\n",
            "평균:  88.33333333333333\n"
          ]
        }
      ]
    },
    {
      "cell_type": "code",
      "source": [
        "kor, eng, math = input('국어, 영어, 수학점수를 차례대로 입력하세요: ').split(' ')\n",
        "# print('총점: ', int(kor + eng + math)) # 문자로 결합 후, int()를 통해 숫자로 변환\n",
        "print('총점: ', int(kor) + int(eng) + int(math))\n",
        "print('평균: ', (int(kor) + int(eng) + int(math))/3)"
      ],
      "metadata": {
        "colab": {
          "base_uri": "https://localhost:8080/"
        },
        "id": "a12G80lCmREC",
        "outputId": "544a62fb-2e8c-4b2c-fe28-b204260bb5d8"
      },
      "execution_count": null,
      "outputs": [
        {
          "output_type": "stream",
          "name": "stdout",
          "text": [
            "국어, 영어, 수학점수를 차례대로 입력하세요: 88 85 92\n",
            "총점:  265\n",
            "평균:  88.33333333333333\n"
          ]
        }
      ]
    }
  ]
}