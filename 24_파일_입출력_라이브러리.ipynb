{
  "cells": [
    {
      "cell_type": "markdown",
      "metadata": {
        "id": "view-in-github",
        "colab_type": "text"
      },
      "source": [
        "<a href=\"https://colab.research.google.com/github/leeCodingStudio/firstPython/blob/master/24_%ED%8C%8C%EC%9D%BC_%EC%9E%85%EC%B6%9C%EB%A0%A5_%EB%9D%BC%EC%9D%B4%EB%B8%8C%EB%9F%AC%EB%A6%AC.ipynb\" target=\"_parent\"><img src=\"https://colab.research.google.com/assets/colab-badge.svg\" alt=\"Open In Colab\"/></a>"
      ]
    },
    {
      "cell_type": "markdown",
      "id": "64ddc4d2",
      "metadata": {
        "id": "64ddc4d2"
      },
      "source": [
        "# 1.파일 읽기 및 저장하기"
      ]
    },
    {
      "cell_type": "markdown",
      "id": "ca0f693b",
      "metadata": {
        "id": "ca0f693b"
      },
      "source": [
        "### 1-1. fileinput\n",
        "* 텍스트 파일을 읽고, 쓰고, 저장하는 기능을 편리하게 사용할 수 있도록 해주는 라이브러리\n",
        "* 여러개의 파일을 읽어서 수정할 수 있음"
      ]
    },
    {
      "cell_type": "code",
      "execution_count": null,
      "id": "7abbbbf4",
      "metadata": {
        "id": "7abbbbf4"
      },
      "outputs": [],
      "source": [
        "import fileinput\n",
        "import os\n",
        "import glob"
      ]
    },
    {
      "cell_type": "code",
      "execution_count": null,
      "id": "40667ea7",
      "metadata": {
        "id": "40667ea7",
        "outputId": "b1564840-0e1a-4f1f-9309-f97a819f3b90"
      },
      "outputs": [
        {
          "data": {
            "text/plain": [
              "'C:\\\\LeeCoding\\\\Python\\\\Jupyter'"
            ]
          },
          "execution_count": 2,
          "metadata": {},
          "output_type": "execute_result"
        }
      ],
      "source": [
        "# 형재 경로 확인\n",
        "os.getcwd()"
      ]
    },
    {
      "cell_type": "code",
      "execution_count": null,
      "id": "23bc42ec",
      "metadata": {
        "id": "23bc42ec",
        "outputId": "36364a95-c356-4936-8490-ec5ebb75e73c"
      },
      "outputs": [
        {
          "data": {
            "text/plain": [
              "['.ipynb_checkpoints', '24 파일 입출력 라이브러리.ipynb', 'sample']"
            ]
          },
          "execution_count": 3,
          "metadata": {},
          "output_type": "execute_result"
        }
      ],
      "source": [
        "# 디렉토리 내 파일 확인\n",
        "os.listdir(os.getcwd())"
      ]
    },
    {
      "cell_type": "code",
      "execution_count": null,
      "id": "9c8d1a66",
      "metadata": {
        "id": "9c8d1a66"
      },
      "outputs": [],
      "source": [
        "# 경로 설정\n",
        "path = 'sample/'"
      ]
    },
    {
      "cell_type": "code",
      "execution_count": null,
      "id": "cab40a45",
      "metadata": {
        "id": "cab40a45",
        "outputId": "cdcbfce0-a1be-4206-9376-665680e978b1"
      },
      "outputs": [
        {
          "data": {
            "text/plain": [
              "['sample\\\\새파일1.txt',\n",
              " 'sample\\\\새파일2.txt',\n",
              " 'sample\\\\새파일3.txt',\n",
              " 'sample\\\\새파일4.txt',\n",
              " 'sample\\\\새파일5.txt']"
            ]
          },
          "execution_count": 5,
          "metadata": {},
          "output_type": "execute_result"
        }
      ],
      "source": [
        "# glob(): 해당 경로의 파일 이름을 리스트로 반환\n",
        "glob.glob(os.path.join(path, '*.txt'))"
      ]
    },
    {
      "cell_type": "code",
      "execution_count": null,
      "id": "a90cfb29",
      "metadata": {
        "id": "a90cfb29",
        "outputId": "c8f330ca-92a2-4359-f25b-1f965c8104c5"
      },
      "outputs": [
        {
          "name": "stdout",
          "output_type": "stream",
          "text": [
            "첫번째 라인입니다\n",
            "\n",
            "2번째 줄입니다.\n",
            "\n",
            "3번째 줄입니다.\n",
            "첫번째 라인입니다\n",
            "\n",
            "5번째 줄입니다.\n",
            "\n",
            "6번째 줄입니다.\n",
            "첫번째 라인입니다\n",
            "\n",
            "8번째 줄입니다.\n",
            "\n",
            "9번째 줄입니다.\n",
            "첫번째 라인입니다\n",
            "\n",
            "11번째 줄입니다.\n",
            "\n",
            "12번째 줄입니다.\n",
            "첫번째 라인입니다\n",
            "\n",
            "14번째 줄입니다.\n",
            "\n",
            "15번째 줄입니다.\n"
          ]
        }
      ],
      "source": [
        "with fileinput.input(glob.glob(os.path.join(path, '*.txt'))) as f:\n",
        "    for line in f:\n",
        "        print(line)"
      ]
    },
    {
      "cell_type": "code",
      "execution_count": null,
      "id": "2234967a",
      "metadata": {
        "id": "2234967a"
      },
      "outputs": [],
      "source": [
        "txt_files = glob.glob(os.path.join(path, '*.txt'))"
      ]
    },
    {
      "cell_type": "code",
      "execution_count": null,
      "id": "093262bf",
      "metadata": {
        "id": "093262bf",
        "outputId": "a0ed3c54-cfd8-4439-f83b-f369dcf968cd"
      },
      "outputs": [
        {
          "name": "stdout",
          "output_type": "stream",
          "text": [
            "['sample\\\\새파일1.txt', 'sample\\\\새파일2.txt', 'sample\\\\새파일3.txt', 'sample\\\\새파일4.txt', 'sample\\\\새파일5.txt']\n"
          ]
        }
      ],
      "source": [
        "print(txt_files)"
      ]
    },
    {
      "cell_type": "code",
      "execution_count": null,
      "id": "8ec9ef26",
      "metadata": {
        "id": "8ec9ef26"
      },
      "outputs": [],
      "source": [
        "# 각파일의 펏번째 라인을 찾아 변경하기\n",
        "with fileinput.input(txt_files, inplace=True) as f:\n",
        "    for line in f:\n",
        "        if f.isfirstline():\n",
        "            print('첫번째 라인입니다', end = '\\n')\n",
        "        else:\n",
        "            print(line, end='')"
      ]
    },
    {
      "cell_type": "code",
      "execution_count": null,
      "id": "474b5226",
      "metadata": {
        "id": "474b5226"
      },
      "outputs": [],
      "source": [
        "# 검색된 라인 변경하기\n",
        "with fileinput.input(txt_files, inplace=True) as f:\n",
        "    for line in f:\n",
        "        if line == '첫번째 라인입니다\\n':\n",
        "            print('1번째 라인입니다', end = '\\n')\n",
        "        else:\n",
        "            print(line, end='')"
      ]
    },
    {
      "cell_type": "code",
      "execution_count": null,
      "id": "f357d42c",
      "metadata": {
        "id": "f357d42c"
      },
      "outputs": [],
      "source": [
        "# 키워드 포함 라인 변경하기\n",
        "with fileinput.input(txt_files, inplace=True) as f:\n",
        "    for line in f:\n",
        "        if '1번째' in line:\n",
        "            print('첫번째 줄입니다.', end = '\\n')\n",
        "        else:\n",
        "            print(line, end='')"
      ]
    },
    {
      "cell_type": "code",
      "execution_count": null,
      "id": "cf307a79",
      "metadata": {
        "id": "cf307a79"
      },
      "outputs": [],
      "source": [
        "# 텍스트 치환하기\n",
        "with fileinput.input(txt_files, inplace=True) as f:\n",
        "    for line in f:\n",
        "        if '12번째' in line:\n",
        "            print(line.replace('12번째', '열두번째'), end = '')\n",
        "        else:\n",
        "            print(line, end='')"
      ]
    },
    {
      "cell_type": "markdown",
      "id": "cd7a263d",
      "metadata": {
        "id": "cd7a263d"
      },
      "source": [
        "### 1-2. pickle\n",
        "* 파이썬에서 사용하는 딕셔너리, 리스트, 클래스 등의 자료형을 변환 없이 그대로 파일로 저장하고 불러올 때 사용하는 모듈"
      ]
    },
    {
      "cell_type": "code",
      "execution_count": null,
      "id": "bc54d71c",
      "metadata": {
        "id": "bc54d71c"
      },
      "outputs": [],
      "source": [
        "import pickle"
      ]
    },
    {
      "cell_type": "code",
      "execution_count": null,
      "id": "708f0e8c",
      "metadata": {
        "id": "708f0e8c"
      },
      "outputs": [],
      "source": [
        "data = ['apple', 'banana', 'orange']"
      ]
    },
    {
      "cell_type": "code",
      "execution_count": null,
      "id": "8f705e1a",
      "metadata": {
        "id": "8f705e1a"
      },
      "outputs": [],
      "source": [
        "# 파일 저장\n",
        "with open('list.pkl', 'wb') as f:\n",
        "    pickle.dump(data, f)"
      ]
    },
    {
      "cell_type": "code",
      "execution_count": null,
      "id": "c05c4527",
      "metadata": {
        "id": "c05c4527"
      },
      "outputs": [],
      "source": [
        "# 파일 읽기\n",
        "with open('list.pkl', 'rb') as f:\n",
        "    data = pickle.load(f)"
      ]
    },
    {
      "cell_type": "code",
      "execution_count": null,
      "id": "fb5ba6a1",
      "metadata": {
        "id": "fb5ba6a1",
        "outputId": "93c0f69b-9549-4d8b-b186-dec5f9934539"
      },
      "outputs": [
        {
          "data": {
            "text/plain": [
              "list"
            ]
          },
          "execution_count": 18,
          "metadata": {},
          "output_type": "execute_result"
        }
      ],
      "source": [
        "type(data)"
      ]
    },
    {
      "cell_type": "code",
      "execution_count": null,
      "id": "570b9af3",
      "metadata": {
        "id": "570b9af3",
        "outputId": "42384c82-ff24-4420-82cc-40f8e6733b3d"
      },
      "outputs": [
        {
          "name": "stdout",
          "output_type": "stream",
          "text": [
            "['apple', 'banana', 'orange']\n"
          ]
        }
      ],
      "source": [
        "print(data)"
      ]
    },
    {
      "cell_type": "code",
      "execution_count": null,
      "id": "f314ac38",
      "metadata": {
        "id": "f314ac38"
      },
      "outputs": [],
      "source": [
        "# 딕셔너리 저장\n",
        "data = {}\n",
        "data[1] = {'id':1, 'userid':'apple', 'name':'김사과', 'gender':'여자', 'age':20}"
      ]
    },
    {
      "cell_type": "code",
      "execution_count": null,
      "id": "9bcc52cc",
      "metadata": {
        "id": "9bcc52cc"
      },
      "outputs": [],
      "source": [
        "# 파일 저장\n",
        "with open('dict.pkl', 'wb') as f:\n",
        "    pickle.dump(data, f)"
      ]
    },
    {
      "cell_type": "code",
      "execution_count": null,
      "id": "478564ec",
      "metadata": {
        "id": "478564ec"
      },
      "outputs": [],
      "source": [
        "# 파일 읽기\n",
        "with open('dict.pkl', 'rb') as f:\n",
        "    data = pickle.load(f)"
      ]
    },
    {
      "cell_type": "code",
      "execution_count": null,
      "id": "32a3d01f",
      "metadata": {
        "id": "32a3d01f",
        "outputId": "53cf326d-06f8-4ca2-c920-3b45c58084ec"
      },
      "outputs": [
        {
          "data": {
            "text/plain": [
              "dict"
            ]
          },
          "execution_count": 23,
          "metadata": {},
          "output_type": "execute_result"
        }
      ],
      "source": [
        "type(data)"
      ]
    },
    {
      "cell_type": "code",
      "execution_count": null,
      "id": "768269d4",
      "metadata": {
        "id": "768269d4",
        "outputId": "50bfad90-fc90-4b2c-e5ba-038ec8ef996c"
      },
      "outputs": [
        {
          "name": "stdout",
          "output_type": "stream",
          "text": [
            "{1: {'id': 1, 'userid': 'apple', 'name': '김사과', 'gender': '여자', 'age': 20}}\n"
          ]
        }
      ],
      "source": [
        "print(data)"
      ]
    },
    {
      "cell_type": "markdown",
      "id": "461dbbce",
      "metadata": {
        "id": "461dbbce"
      },
      "source": [
        "# 2. 파일 찾기, 복사, 이동하기"
      ]
    },
    {
      "cell_type": "markdown",
      "id": "e7f715f7",
      "metadata": {
        "id": "e7f715f7"
      },
      "source": [
        "### 2-1. 파일 확장자로 찾기"
      ]
    },
    {
      "cell_type": "code",
      "execution_count": null,
      "id": "55aa43ee",
      "metadata": {
        "id": "55aa43ee",
        "outputId": "f91dbe69-7783-424a-fa60-2d73eae1239c"
      },
      "outputs": [
        {
          "data": {
            "text/plain": [
              "'C:\\\\LeeCoding\\\\Python\\\\Jupyter'"
            ]
          },
          "execution_count": 25,
          "metadata": {},
          "output_type": "execute_result"
        }
      ],
      "source": [
        "os.getcwd()"
      ]
    },
    {
      "cell_type": "code",
      "execution_count": null,
      "id": "e2128912",
      "metadata": {
        "id": "e2128912",
        "outputId": "a905a6bc-6dfe-404a-c68b-c7497bdf66d7"
      },
      "outputs": [
        {
          "name": "stdout",
          "output_type": "stream",
          "text": [
            "주피터노트북.txt\n"
          ]
        }
      ],
      "source": [
        "for filename in glob.glob('*.txt'):\n",
        "    print(filename)"
      ]
    },
    {
      "cell_type": "code",
      "execution_count": null,
      "id": "ba6bf029",
      "metadata": {
        "id": "ba6bf029",
        "outputId": "730bac77-3337-43fd-b94d-88c4dd09422f"
      },
      "outputs": [
        {
          "name": "stdout",
          "output_type": "stream",
          "text": [
            "sample\\새파일1.txt\n",
            "sample\\새파일2.txt\n",
            "sample\\새파일3.txt\n",
            "sample\\새파일4.txt\n",
            "sample\\새파일5.txt\n"
          ]
        }
      ],
      "source": [
        "# txt 파일 찾기 : 하위 경로\n",
        "for filename in glob.glob('**/*.txt'):\n",
        "    print(filename)"
      ]
    },
    {
      "cell_type": "code",
      "execution_count": null,
      "id": "f194747b",
      "metadata": {
        "id": "f194747b",
        "outputId": "c72e67d0-56bd-46be-f05f-c1d05527f1b7"
      },
      "outputs": [
        {
          "name": "stdout",
          "output_type": "stream",
          "text": [
            "주피터노트북.txt\n",
            "sample\\새파일1.txt\n",
            "sample\\새파일2.txt\n",
            "sample\\새파일3.txt\n",
            "sample\\새파일4.txt\n",
            "sample\\새파일5.txt\n"
          ]
        }
      ],
      "source": [
        "# txt 파일 찾기 : 현재와 하위 경로 모두 포함\n",
        "for filename in glob.glob('**/*.txt', recursive=True):\n",
        "    print(filename)"
      ]
    },
    {
      "cell_type": "code",
      "execution_count": null,
      "id": "11395a3e",
      "metadata": {
        "id": "11395a3e",
        "outputId": "be6834e6-ab06-46ca-a75a-3a598e923f83"
      },
      "outputs": [
        {
          "name": "stdout",
          "output_type": "stream",
          "text": [
            "dict.pkl\n",
            "list.pkl\n"
          ]
        }
      ],
      "source": [
        "# 파일명 글자수로 찾기\n",
        "for filename in glob.glob('????.*', recursive=True): # 글자수 4개\n",
        "    print(filename)"
      ]
    },
    {
      "cell_type": "code",
      "execution_count": null,
      "id": "825c14bf",
      "metadata": {
        "id": "825c14bf",
        "outputId": "eb8773c5-ec92-4163-9877-30ae7f70fd5c"
      },
      "outputs": [
        {
          "name": "stdout",
          "output_type": "stream",
          "text": [
            "주피터노트북.txt\n"
          ]
        }
      ],
      "source": [
        "for filename in glob.glob('??????.*', recursive=True): # 글자수 6개\n",
        "    print(filename)"
      ]
    },
    {
      "cell_type": "code",
      "execution_count": null,
      "id": "4db06e08",
      "metadata": {
        "id": "4db06e08",
        "outputId": "3bed97c3-0a92-4731-c748-01a8ced0e347"
      },
      "outputs": [
        {
          "name": "stdout",
          "output_type": "stream",
          "text": [
            "dict.pkl\n",
            "list.pkl\n"
          ]
        }
      ],
      "source": [
        "# 문자열 패턴 포함 파일명 찾기\n",
        "for filename in glob.glob('[a-z][a-z][a-z][a-z].*', recursive=True): # 알파벳 글자수 4개\n",
        "    print(filename)"
      ]
    },
    {
      "cell_type": "code",
      "execution_count": null,
      "id": "b093932d",
      "metadata": {
        "id": "b093932d",
        "outputId": "fbc7f03c-108f-4c3c-9b69-b4400cd06280"
      },
      "outputs": [
        {
          "name": "stdout",
          "output_type": "stream",
          "text": [
            "sample\\새파일1.txt\n",
            "sample\\새파일2.txt\n",
            "sample\\새파일3.txt\n",
            "sample\\새파일4.txt\n",
            "sample\\새파일5.txt\n"
          ]
        }
      ],
      "source": [
        "for filename in glob.glob('**/새파일*.*', recursive=True):\n",
        "    print(filename)"
      ]
    },
    {
      "cell_type": "code",
      "execution_count": null,
      "id": "0700ff24",
      "metadata": {
        "id": "0700ff24",
        "outputId": "de8badd4-67b8-4d26-b791-9d4b8eb42655"
      },
      "outputs": [
        {
          "name": "stdout",
          "output_type": "stream",
          "text": [
            "project\\25. 프로젝트 실습.ipynb\n",
            "project\\프로젝트 개요.txt\n"
          ]
        }
      ],
      "source": [
        "for filename in glob.glob('**/*프로젝트*.*', recursive=True):\n",
        "    print(filename)"
      ]
    },
    {
      "cell_type": "markdown",
      "id": "48850a8e",
      "metadata": {
        "id": "48850a8e"
      },
      "source": [
        "### 2-2. fnmatch\n",
        "* glob과 동일하게 특정한 패턴을 따르는 파일명을 찾아주는 모듈\n",
        "* 파일명 매칭 여부를 True, False 형태로 반환하기 때문에 os.listdir() 함수와 함께 사용"
      ]
    },
    {
      "cell_type": "code",
      "execution_count": null,
      "id": "e2aa6518",
      "metadata": {
        "id": "e2aa6518"
      },
      "outputs": [],
      "source": [
        "import fnmatch"
      ]
    },
    {
      "cell_type": "code",
      "execution_count": null,
      "id": "c1ea3072",
      "metadata": {
        "id": "c1ea3072",
        "outputId": "a6cfa23f-e3f3-4bcc-f112-251866deb73f"
      },
      "outputs": [
        {
          "name": "stdout",
          "output_type": "stream",
          "text": [
            "새파일1.txt\n",
            "새파일2.txt\n",
            "새파일3.txt\n",
            "새파일4.txt\n",
            "새파일5.txt\n"
          ]
        }
      ],
      "source": [
        "# 파일명은 '새' 시작하고 확장명은 .txt를 검색\n",
        "# 확장자를 제외한 파일명의 길이는 4개이며, 파일명의 마지막 문자는 숫자임\n",
        "for filename in os.listdir('./sample'):\n",
        "    if fnmatch.fnmatch(filename, '새??[0-9].txt'):\n",
        "        print(filename)"
      ]
    },
    {
      "cell_type": "markdown",
      "id": "fb87dda0",
      "metadata": {
        "id": "fb87dda0"
      },
      "source": [
        "### 2-3. shutil\n",
        "* 파일을 복사하거나 이동할 때 사용하는 내장 모듈"
      ]
    },
    {
      "cell_type": "code",
      "execution_count": null,
      "id": "35e28cf0",
      "metadata": {
        "id": "35e28cf0"
      },
      "outputs": [],
      "source": [
        "import shutil"
      ]
    },
    {
      "cell_type": "code",
      "execution_count": null,
      "id": "1f00ead6",
      "metadata": {
        "id": "1f00ead6",
        "outputId": "e76b781b-9e16-473d-8531-f7b4a13d8259"
      },
      "outputs": [
        {
          "data": {
            "text/plain": [
              "'./sample/새파일1_복사본.txt'"
            ]
          },
          "execution_count": 43,
          "metadata": {},
          "output_type": "execute_result"
        }
      ],
      "source": [
        "# 파일 복사하기\n",
        "shutil.copy('./sample/새파일1.txt', './sample/새파일1_복사본.txt')"
      ]
    },
    {
      "cell_type": "code",
      "execution_count": null,
      "id": "7926c29a",
      "metadata": {
        "id": "7926c29a",
        "outputId": "dd937347-a614-4ec9-f915-1eb1fe4af9eb"
      },
      "outputs": [
        {
          "data": {
            "text/plain": [
              "'새파일1_복사본.txt'"
            ]
          },
          "execution_count": 46,
          "metadata": {},
          "output_type": "execute_result"
        }
      ],
      "source": [
        "# 파일 이동하기\n",
        "shutil.move('./sample/새파일1_복사본.txt', './새파일1_복사본.txt')"
      ]
    },
    {
      "cell_type": "code",
      "execution_count": null,
      "id": "b38472b0",
      "metadata": {
        "id": "b38472b0",
        "outputId": "f83e0207-55be-40b5-b6ac-f55aec0215aa"
      },
      "outputs": [
        {
          "data": {
            "text/plain": [
              "'./새파일1_복사본.py'"
            ]
          },
          "execution_count": 47,
          "metadata": {},
          "output_type": "execute_result"
        }
      ],
      "source": [
        "# 확장명 바꾸기\n",
        "shutil.move('./새파일1_복사본.txt', './새파일1_복사본.py')"
      ]
    },
    {
      "cell_type": "code",
      "execution_count": null,
      "id": "c356ec7a",
      "metadata": {
        "scrolled": true,
        "id": "c356ec7a",
        "outputId": "8d30436d-80ca-4cb3-c68a-d8d5acd233be"
      },
      "outputs": [
        {
          "data": {
            "text/plain": [
              "'./새파일1_복사본.txt'"
            ]
          },
          "execution_count": 48,
          "metadata": {},
          "output_type": "execute_result"
        }
      ],
      "source": [
        "# 확장명 바꾸기\n",
        "shutil.move('./새파일1_복사본.py', './새파일1_복사본.txt')"
      ]
    },
    {
      "cell_type": "markdown",
      "id": "3bd71367",
      "metadata": {
        "id": "3bd71367"
      },
      "source": [
        "# 3. 파일 압축"
      ]
    },
    {
      "cell_type": "markdown",
      "id": "f90fb64b",
      "metadata": {
        "id": "f90fb64b"
      },
      "source": [
        "### 3-1. 데이터 압축\n",
        "* 대용량 데이터 및 대량의 파일을 전송 시, 전송 속도가 느리며 전송 문제가 발생할 가능성이 매우 높음\n",
        "* 데이터 압축의 종류\n",
        "    * 손실 압축: 사람이 눈치채지 못할 수준의 정보만 버리고 압축하는 방법\n",
        "    * 무손실 압축: 데이터 손실이 전혀 없는 압축\n",
        "* 압축률: 압축된 자료량(압축된 데이터 크기) / 원시 자료량(원래 데이터 크기)\n",
        "* 다양한 압축 알고리즘에 따라 압축 성능 및 시간이 좌우됨\n",
        "* 압축: 인코딩(Encoding)\n",
        "* 압측 해제: 디코딩(Decoding)"
      ]
    },
    {
      "cell_type": "markdown",
      "id": "46502e49",
      "metadata": {
        "id": "46502e49"
      },
      "source": [
        "### 3-2. zlib\n",
        "* 데이터를 압축하거나 해제할 때 사용하는 모듈\n",
        "* compress()와 decompress() 함수로 문자열을 압축하거나 해제\n",
        "* 데이터 크기를 줄여서 전송이 필요한 경우 사용"
      ]
    },
    {
      "cell_type": "code",
      "execution_count": null,
      "id": "df9d5252",
      "metadata": {
        "id": "df9d5252"
      },
      "outputs": [],
      "source": [
        "import zlib"
      ]
    },
    {
      "cell_type": "code",
      "execution_count": null,
      "id": "eca2726f",
      "metadata": {
        "id": "eca2726f"
      },
      "outputs": [],
      "source": [
        "data = 'Hello Python!' * 10000"
      ]
    },
    {
      "cell_type": "code",
      "execution_count": null,
      "id": "d8f2e722",
      "metadata": {
        "id": "d8f2e722",
        "outputId": "a021df79-84dd-4e33-f6fd-662cd7096557"
      },
      "outputs": [
        {
          "data": {
            "text/plain": [
              "'Hello Python!Hello Python!Hello Python!Hello Python!Hello Python!Hello Python!Hello Python!Hello Python!Hello Python!Hello Python!Hello Python!Hello Python!Hello Python!Hello Python!Hello Python!Hello Python!Hello Python!Hello Python!Hello Python!Hello Python!Hello Python!Hello Python!Hello Python!Hello Python!Hello Python!Hello Python!Hello Python!Hello Python!Hello Python!Hello Python!Hello Python!Hello Python!Hello Python!Hello Python!Hello Python!Hello Python!Hello Python!Hello Python!Hello Python!Hello Python!Hello Python!Hello Python!Hello Python!Hello Python!Hello Python!Hello Python!Hello Python!Hello Python!Hello Python!Hello Python!Hello Python!Hello Python!Hello Python!Hello Python!Hello Python!Hello Python!Hello Python!Hello Python!Hello Python!Hello Python!Hello Python!Hello Python!Hello Python!Hello Python!Hello Python!Hello Python!Hello Python!Hello Python!Hello Python!Hello Python!Hello Python!Hello Python!Hello Python!Hello Python!Hello Python!Hello Python!Hello Python!Hello Python!Hello Python!Hello Python!Hello Python!Hello Python!Hello Python!Hello Python!Hello Python!Hello Python!Hello Python!Hello Python!Hello Python!Hello Python!Hello Python!Hello Python!Hello Python!Hello Python!Hello Python!Hello Python!Hello Python!Hello Python!Hello Python!Hello Python!Hello Python!Hello Python!Hello Python!Hello Python!Hello Python!Hello Python!Hello Python!Hello Python!Hello Python!Hello Python!Hello Python!Hello Python!Hello Python!Hello Python!Hello Python!Hello Python!Hello Python!Hello Python!Hello Python!Hello Python!Hello Python!Hello Python!Hello Python!Hello Python!Hello Python!Hello Python!Hello Python!Hello Python!Hello Python!Hello Python!Hello Python!Hello Python!Hello Python!Hello Python!Hello Python!Hello Python!Hello Python!Hello Python!Hello Python!Hello Python!Hello Python!Hello Python!Hello Python!Hello Python!Hello Python!Hello Python!Hello Python!Hello Python!Hello Python!Hello Python!Hello Python!Hello Python!Hello Python!Hello Python!Hello Python!Hello Python!Hello Python!Hello Python!Hello Python!Hello Python!Hello Python!Hello Python!Hello Python!Hello Python!Hello Python!Hello Python!Hello Python!Hello Python!Hello Python!Hello Python!Hello Python!Hello Python!Hello Python!Hello Python!Hello Python!Hello Python!Hello Python!Hello Python!Hello Python!Hello Python!Hello Python!Hello Python!Hello Python!Hello Python!Hello Python!Hello Python!Hello Python!Hello Python!Hello Python!Hello Python!Hello Python!Hello Python!Hello Python!Hello Python!Hello Python!Hello Python!Hello Python!Hello Python!Hello Python!Hello Python!Hello Python!Hello Python!Hello Python!Hello Python!Hello Python!Hello Python!Hello Python!Hello Python!Hello Python!Hello Python!Hello Python!Hello Python!Hello Python!Hello Python!Hello Python!Hello Python!Hello Python!Hello Python!Hello Python!Hello Python!Hello Python!Hello Python!Hello Python!Hello Python!Hello Python!Hello Python!Hello Python!Hello Python!Hello Python!Hello Python!Hello Python!Hello Python!Hello Python!Hello Python!Hello Python!Hello Python!Hello Python!Hello Python!Hello Python!Hello Python!Hello Python!Hello Python!Hello Python!Hello Python!Hello Python!Hello Python!Hello Python!Hello Python!Hello Python!Hello Python!Hello Python!Hello Python!Hello Python!Hello Python!Hello Python!Hello Python!Hello Python!Hello Python!Hello Python!Hello Python!Hello Python!Hello Python!Hello Python!Hello Python!Hello Python!Hello Python!Hello Python!Hello Python!Hello Python!Hello Python!Hello Python!Hello Python!Hello Python!Hello Python!Hello Python!Hello Python!Hello Python!Hello Python!Hello Python!Hello Python!Hello Python!Hello Python!Hello Python!Hello Python!Hello Python!Hello Python!Hello Python!Hello Python!Hello Python!Hello Python!Hello Python!Hello Python!Hello Python!Hello Python!Hello Python!Hello Python!Hello Python!Hello Python!Hello Python!Hello Python!Hello Python!Hello Python!Hello Python!Hello Python!Hello Python!Hello Python!Hello Python!Hello Python!Hello Python!Hello Python!Hello Python!Hello Python!Hello Python!Hello Python!Hello Python!Hello Python!Hello Python!Hello Python!Hello Python!Hello Python!Hello Python!Hello Python!Hello Python!Hello Python!Hello Python!Hello Python!Hello Python!Hello Python!Hello Python!Hello Python!Hello Python!Hello Python!Hello Python!Hello Python!Hello Python!Hello Python!Hello Python!Hello Python!Hello Python!Hello Python!Hello Python!Hello Python!Hello Python!Hello Python!Hello Python!Hello Python!Hello Python!Hello Python!Hello Python!Hello Python!Hello Python!Hello Python!Hello Python!Hello Python!Hello Python!Hello Python!Hello Python!Hello Python!Hello Python!Hello Python!Hello Python!Hello Python!Hello Python!Hello Python!Hello Python!Hello Python!Hello Python!Hello Python!Hello Python!Hello Python!Hello Python!Hello Python!Hello Python!Hello Python!Hello Python!Hello Python!Hello Python!Hello Python!Hello Python!Hello Python!Hello Python!Hello Python!Hello Python!Hello Python!Hello Python!Hello Python!Hello Python!Hello Python!Hello Python!Hello Python!Hello Python!Hello Python!Hello Python!Hello Python!Hello Python!Hello Python!Hello Python!Hello Python!Hello Python!Hello Python!Hello Python!Hello Python!Hello Python!Hello Python!Hello Python!Hello Python!Hello Python!Hello Python!Hello Python!Hello Python!Hello Python!Hello Python!Hello Python!Hello Python!Hello Python!Hello Python!Hello Python!Hello Python!Hello Python!Hello Python!Hello Python!Hello Python!Hello Python!Hello Python!Hello Python!Hello Python!Hello Python!Hello Python!Hello Python!Hello Python!Hello Python!Hello Python!Hello Python!Hello Python!Hello Python!Hello Python!Hello Python!Hello Python!Hello Python!Hello Python!Hello Python!Hello Python!Hello Python!Hello Python!Hello Python!Hello Python!Hello Python!Hello Python!Hello Python!Hello Python!Hello Python!Hello Python!Hello Python!Hello Python!Hello Python!Hello Python!Hello Python!Hello Python!Hello Python!Hello Python!Hello Python!Hello Python!Hello Python!Hello Python!Hello Python!Hello Python!Hello Python!Hello Python!Hello Python!Hello Python!Hello Python!Hello Python!Hello Python!Hello Python!Hello Python!Hello Python!Hello Python!Hello Python!Hello Python!Hello Python!Hello Python!Hello Python!Hello Python!Hello Python!Hello Python!Hello Python!Hello Python!Hello Python!Hello Python!Hello Python!Hello Python!Hello Python!Hello Python!Hello Python!Hello Python!Hello Python!Hello Python!Hello Python!Hello Python!Hello Python!Hello Python!Hello Python!Hello Python!Hello Python!Hello Python!Hello Python!Hello Python!Hello Python!Hello Python!Hello Python!Hello Python!Hello Python!Hello Python!Hello Python!Hello Python!Hello Python!Hello Python!Hello Python!Hello Python!Hello Python!Hello Python!Hello Python!Hello Python!Hello Python!Hello Python!Hello Python!Hello Python!Hello Python!Hello Python!Hello Python!Hello Python!Hello Python!Hello Python!Hello Python!Hello Python!Hello Python!Hello Python!Hello Python!Hello Python!Hello Python!Hello Python!Hello Python!Hello Python!Hello Python!Hello Python!Hello Python!Hello Python!Hello Python!Hello Python!Hello Python!Hello Python!Hello Python!Hello Python!Hello Python!Hello Python!Hello Python!Hello Python!Hello Python!Hello Python!Hello Python!Hello Python!Hello Python!Hello Python!Hello Python!Hello Python!Hello Python!Hello Python!Hello Python!Hello Python!Hello Python!Hello Python!Hello Python!Hello Python!Hello Python!Hello Python!Hello Python!Hello Python!Hello Python!Hello Python!Hello Python!Hello Python!Hello Python!Hello Python!Hello Python!Hello Python!Hello Python!Hello Python!Hello Python!Hello Python!Hello Python!Hello Python!Hello Python!Hello Python!Hello Python!Hello Python!Hello Python!Hello Python!Hello Python!Hello Python!Hello Python!Hello Python!Hello Python!Hello Python!Hello Python!Hello Python!Hello Python!Hello Python!Hello Python!Hello Python!Hello Python!Hello Python!Hello Python!Hello Python!Hello Python!Hello Python!Hello Python!Hello Python!Hello Python!Hello Python!Hello Python!Hello Python!Hello Python!Hello Python!Hello Python!Hello Python!Hello Python!Hello Python!Hello Python!Hello Python!Hello Python!Hello Python!Hello Python!Hello Python!Hello Python!Hello Python!Hello Python!Hello Python!Hello Python!Hello Python!Hello Python!Hello Python!Hello Python!Hello Python!Hello Python!Hello Python!Hello Python!Hello Python!Hello Python!Hello Python!Hello Python!Hello Python!Hello Python!Hello Python!Hello Python!Hello Python!Hello Python!Hello Python!Hello Python!Hello Python!Hello Python!Hello Python!Hello Python!Hello Python!Hello Python!Hello Python!Hello Python!Hello Python!Hello Python!Hello Python!Hello Python!Hello Python!Hello Python!Hello Python!Hello Python!Hello Python!Hello Python!Hello Python!Hello Python!Hello Python!Hello Python!Hello Python!Hello Python!Hello Python!Hello Python!Hello Python!Hello Python!Hello Python!Hello Python!Hello Python!Hello Python!Hello Python!Hello Python!Hello Python!Hello Python!Hello Python!Hello Python!Hello Python!Hello Python!Hello Python!Hello Python!Hello Python!Hello Python!Hello Python!Hello Python!Hello Python!Hello Python!Hello Python!Hello Python!Hello Python!Hello Python!Hello Python!Hello Python!Hello Python!Hello Python!Hello Python!Hello Python!Hello Python!Hello Python!Hello Python!Hello Python!Hello Python!Hello Python!Hello Python!Hello Python!Hello Python!Hello Python!Hello Python!Hello Python!Hello Python!Hello Python!Hello Python!Hello Python!Hello Python!Hello Python!Hello Python!Hello Python!Hello Python!Hello Python!Hello Python!Hello Python!Hello Python!Hello Python!Hello Python!Hello Python!Hello Python!Hello Python!Hello Python!Hello Python!Hello Python!Hello Python!Hello Python!Hello Python!Hello Python!Hello Python!Hello Python!Hello Python!Hello Python!Hello Python!Hello Python!Hello Python!Hello Python!Hello Python!Hello Python!Hello Python!Hello Python!Hello Python!Hello Python!Hello Python!Hello Python!Hello Python!Hello Python!Hello Python!Hello Python!Hello Python!Hello Python!Hello Python!Hello Python!Hello Python!Hello Python!Hello Python!Hello Python!Hello Python!Hello Python!Hello Python!Hello Python!Hello Python!Hello Python!Hello Python!Hello Python!Hello Python!Hello Python!Hello Python!Hello Python!Hello Python!Hello Python!Hello Python!Hello Python!Hello Python!Hello Python!Hello Python!Hello Python!Hello Python!Hello Python!Hello Python!Hello Python!Hello Python!Hello Python!Hello Python!Hello Python!Hello Python!Hello Python!Hello Python!Hello Python!Hello Python!Hello Python!Hello Python!Hello Python!Hello Python!Hello Python!Hello Python!Hello Python!Hello Python!Hello Python!Hello Python!Hello Python!Hello Python!Hello Python!Hello Python!Hello Python!Hello Python!Hello Python!Hello Python!Hello Python!Hello Python!Hello Python!Hello Python!Hello Python!Hello Python!Hello Python!Hello Python!Hello Python!Hello Python!Hello Python!Hello Python!Hello Python!Hello Python!Hello Python!Hello Python!Hello Python!Hello Python!Hello Python!Hello Python!Hello Python!Hello Python!Hello Python!Hello Python!Hello Python!Hello Python!Hello Python!Hello Python!Hello Python!Hello Python!Hello Python!Hello Python!Hello Python!Hello Python!Hello Python!Hello Python!Hello Python!Hello Python!Hello Python!Hello Python!Hello Python!Hello Python!Hello Python!Hello Python!Hello Python!Hello Python!Hello Python!Hello Python!Hello Python!Hello Python!Hello Python!Hello Python!Hello Python!Hello Python!Hello Python!Hello Python!Hello Python!Hello Python!Hello Python!Hello Python!Hello Python!Hello Python!Hello Python!Hello Python!Hello Python!Hello Python!Hello Python!Hello Python!Hello Python!Hello Python!Hello Python!Hello Python!Hello Python!Hello Python!Hello Python!Hello Python!Hello Python!Hello Python!Hello Python!Hello Python!Hello Python!Hello Python!Hello Python!Hello Python!Hello Python!Hello Python!Hello Python!Hello Python!Hello Python!Hello Python!Hello Python!Hello Python!Hello Python!Hello Python!Hello Python!Hello Python!Hello Python!Hello Python!Hello Python!Hello Python!Hello Python!Hello Python!Hello Python!Hello Python!Hello Python!Hello Python!Hello Python!Hello Python!Hello Python!Hello Python!Hello Python!Hello Python!Hello Python!Hello Python!Hello Python!Hello Python!Hello Python!Hello Python!Hello Python!Hello Python!Hello Python!Hello Python!Hello Python!Hello Python!Hello Python!Hello Python!Hello Python!Hello Python!Hello Python!Hello Python!Hello Python!Hello Python!Hello Python!Hello Python!Hello Python!Hello Python!Hello Python!Hello Python!Hello Python!Hello Python!Hello Python!Hello Python!Hello Python!Hello Python!Hello Python!Hello Python!Hello Python!Hello Python!Hello Python!Hello Python!Hello Python!Hello Python!Hello Python!Hello Python!Hello Python!Hello Python!Hello Python!Hello Python!Hello Python!Hello Python!Hello Python!Hello Python!Hello Python!Hello Python!Hello Python!Hello Python!Hello Python!Hello Python!Hello Python!Hello Python!Hello Python!Hello Python!Hello Python!Hello Python!Hello Python!Hello Python!Hello Python!Hello Python!Hello Python!Hello Python!Hello Python!Hello Python!Hello Python!Hello Python!Hello Python!Hello Python!Hello Python!Hello Python!Hello Python!Hello Python!Hello Python!Hello Python!Hello Python!Hello Python!Hello Python!Hello Python!Hello Python!Hello Python!Hello Python!Hello Python!Hello Python!Hello Python!Hello Python!Hello Python!Hello Python!Hello Python!Hello Python!Hello Python!Hello Python!Hello Python!Hello Python!Hello Python!Hello Python!Hello Python!Hello Python!Hello Python!Hello Python!Hello Python!Hello Python!Hello Python!Hello Python!Hello Python!Hello Python!Hello Python!Hello Python!Hello Python!Hello Python!Hello Python!Hello Python!Hello Python!Hello Python!Hello Python!Hello Python!Hello Python!Hello Python!Hello Python!Hello Python!Hello Python!Hello Python!Hello Python!Hello Python!Hello Python!Hello Python!Hello Python!Hello Python!Hello Python!Hello Python!Hello Python!Hello Python!Hello Python!Hello Python!Hello Python!Hello Python!Hello Python!Hello Python!Hello Python!Hello Python!Hello Python!Hello Python!Hello Python!Hello Python!Hello Python!Hello Python!Hello Python!Hello Python!Hello Python!Hello Python!Hello Python!Hello Python!Hello Python!Hello Python!Hello Python!Hello Python!Hello Python!Hello Python!Hello Python!Hello Python!Hello Python!Hello Python!Hello Python!Hello Python!Hello Python!Hello Python!Hello Python!Hello Python!Hello Python!Hello Python!Hello Python!Hello Python!Hello Python!Hello Python!Hello Python!Hello Python!Hello Python!Hello Python!Hello Python!Hello Python!Hello Python!Hello Python!Hello Python!Hello Python!Hello Python!Hello Python!Hello Python!Hello Python!Hello Python!Hello Python!Hello Python!Hello Python!Hello Python!Hello Python!Hello Python!Hello Python!Hello Python!Hello Python!Hello Python!Hello Python!Hello Python!Hello Python!Hello Python!Hello Python!Hello Python!Hello Python!Hello Python!Hello Python!Hello Python!Hello Python!Hello Python!Hello Python!Hello Python!Hello Python!Hello Python!Hello Python!Hello Python!Hello Python!Hello Python!Hello Python!Hello Python!Hello Python!Hello Python!Hello Python!Hello Python!Hello Python!Hello Python!Hello Python!Hello Python!Hello Python!Hello Python!Hello Python!Hello Python!Hello Python!Hello Python!Hello Python!Hello Python!Hello Python!Hello Python!Hello Python!Hello Python!Hello Python!Hello Python!Hello Python!Hello Python!Hello Python!Hello Python!Hello Python!Hello Python!Hello Python!Hello Python!Hello Python!Hello Python!Hello Python!Hello Python!Hello Python!Hello Python!Hello Python!Hello Python!Hello Python!Hello Python!Hello Python!Hello Python!Hello Python!Hello Python!Hello Python!Hello Python!Hello Python!Hello Python!Hello Python!Hello Python!Hello Python!Hello Python!Hello Python!Hello Python!Hello Python!Hello Python!Hello Python!Hello Python!Hello Python!Hello Python!Hello Python!Hello Python!Hello Python!Hello Python!Hello Python!Hello Python!Hello Python!Hello Python!Hello Python!Hello Python!Hello Python!Hello Python!Hello Python!Hello Python!Hello Python!Hello Python!Hello Python!Hello Python!Hello Python!Hello Python!Hello Python!Hello Python!Hello Python!Hello Python!Hello Python!Hello Python!Hello Python!Hello Python!Hello Python!Hello Python!Hello Python!Hello Python!Hello Python!Hello Python!Hello Python!Hello Python!Hello Python!Hello Python!Hello Python!Hello Python!Hello Python!Hello Python!Hello Python!Hello Python!Hello Python!Hello Python!Hello Python!Hello Python!Hello Python!Hello Python!Hello Python!Hello Python!Hello Python!Hello Python!Hello Python!Hello Python!Hello Python!Hello Python!Hello Python!Hello Python!Hello Python!Hello Python!Hello Python!Hello Python!Hello Python!Hello Python!Hello Python!Hello Python!Hello Python!Hello Python!Hello Python!Hello Python!Hello Python!Hello Python!Hello Python!Hello Python!Hello Python!Hello Python!Hello Python!Hello Python!Hello Python!Hello Python!Hello Python!Hello Python!Hello Python!Hello Python!Hello Python!Hello Python!Hello Python!Hello Python!Hello Python!Hello Python!Hello Python!Hello Python!Hello Python!Hello Python!Hello Python!Hello Python!Hello Python!Hello Python!Hello Python!Hello Python!Hello Python!Hello Python!Hello Python!Hello Python!Hello Python!Hello Python!Hello Python!Hello Python!Hello Python!Hello Python!Hello Python!Hello Python!Hello Python!Hello Python!Hello Python!Hello Python!Hello Python!Hello Python!Hello Python!Hello Python!Hello Python!Hello Python!Hello Python!Hello Python!Hello Python!Hello Python!Hello Python!Hello Python!Hello Python!Hello Python!Hello Python!Hello Python!Hello Python!Hello Python!Hello Python!Hello Python!Hello Python!Hello Python!Hello Python!Hello Python!Hello Python!Hello Python!Hello Python!Hello Python!Hello Python!Hello Python!Hello Python!Hello Python!Hello Python!Hello Python!Hello Python!Hello Python!Hello Python!Hello Python!Hello Python!Hello Python!Hello Python!Hello Python!Hello Python!Hello Python!Hello Python!Hello Python!Hello Python!Hello Python!Hello Python!Hello Python!Hello Python!Hello Python!Hello Python!Hello Python!Hello Python!Hello Python!Hello Python!Hello Python!Hello Python!Hello Python!Hello Python!Hello Python!Hello Python!Hello Python!Hello Python!Hello Python!Hello Python!Hello Python!Hello Python!Hello Python!Hello Python!Hello Python!Hello Python!Hello Python!Hello Python!Hello Python!Hello Python!Hello Python!Hello Python!Hello Python!Hello Python!Hello Python!Hello Python!Hello Python!Hello Python!Hello Python!Hello Python!Hello Python!Hello Python!Hello Python!Hello Python!Hello Python!Hello Python!Hello Python!Hello Python!Hello Python!Hello Python!Hello Python!Hello Python!Hello Python!Hello Python!Hello Python!Hello Python!Hello Python!Hello Python!Hello Python!Hello Python!Hello Python!Hello Python!Hello Python!Hello Python!Hello Python!Hello Python!Hello Python!Hello Python!Hello Python!Hello Python!Hello Python!Hello Python!Hello Python!Hello Python!Hello Python!Hello Python!Hello Python!Hello Python!Hello Python!Hello Python!Hello Python!Hello Python!Hello Python!Hello Python!Hello Python!Hello Python!Hello Python!Hello Python!Hello Python!Hello Python!Hello Python!Hello Python!Hello Python!Hello Python!Hello Python!Hello Python!Hello Python!Hello Python!Hello Python!Hello Python!Hello Python!Hello Python!Hello Python!Hello Python!Hello Python!Hello Python!Hello Python!Hello Python!Hello Python!Hello Python!Hello Python!Hello Python!Hello Python!Hello Python!Hello Python!Hello Python!Hello Python!Hello Python!Hello Python!Hello Python!Hello Python!Hello Python!Hello Python!Hello Python!Hello Python!Hello Python!Hello Python!Hello Python!Hello Python!Hello Python!Hello Python!Hello Python!Hello Python!Hello Python!Hello Python!Hello Python!Hello Python!Hello Python!Hello Python!Hello Python!Hello Python!Hello Python!Hello Python!Hello Python!Hello Python!Hello Python!Hello Python!Hello Python!Hello Python!Hello Python!Hello Python!Hello Python!Hello Python!Hello Python!Hello Python!Hello Python!Hello Python!Hello Python!Hello Python!Hello Python!Hello Python!Hello Python!Hello Python!Hello Python!Hello Python!Hello Python!Hello Python!Hello Python!Hello Python!Hello Python!Hello Python!Hello Python!Hello Python!Hello Python!Hello Python!Hello Python!Hello Python!Hello Python!Hello Python!Hello Python!Hello Python!Hello Python!Hello Python!Hello Python!Hello Python!Hello Python!Hello Python!Hello Python!Hello Python!Hello Python!Hello Python!Hello Python!Hello Python!Hello Python!Hello Python!Hello Python!Hello Python!Hello Python!Hello Python!Hello Python!Hello Python!Hello Python!Hello Python!Hello Python!Hello Python!Hello Python!Hello Python!Hello Python!Hello Python!Hello Python!Hello Python!Hello Python!Hello Python!Hello Python!Hello Python!Hello Python!Hello Python!Hello Python!Hello Python!Hello Python!Hello Python!Hello Python!Hello Python!Hello Python!Hello Python!Hello Python!Hello Python!Hello Python!Hello Python!Hello Python!Hello Python!Hello Python!Hello Python!Hello Python!Hello Python!Hello Python!Hello Python!Hello Python!Hello Python!Hello Python!Hello Python!Hello Python!Hello Python!Hello Python!Hello Python!Hello Python!Hello Python!Hello Python!Hello Python!Hello Python!Hello Python!Hello Python!Hello Python!Hello Python!Hello Python!Hello Python!Hello Python!Hello Python!Hello Python!Hello Python!Hello Python!Hello Python!Hello Python!Hello Python!Hello Python!Hello Python!Hello Python!Hello Python!Hello Python!Hello Python!Hello Python!Hello Python!Hello Python!Hello Python!Hello Python!Hello Python!Hello Python!Hello Python!Hello Python!Hello Python!Hello Python!Hello Python!Hello Python!Hello Python!Hello Python!Hello Python!Hello Python!Hello Python!Hello Python!Hello Python!Hello Python!Hello Python!Hello Python!Hello Python!Hello Python!Hello Python!Hello Python!Hello Python!Hello Python!Hello Python!Hello Python!Hello Python!Hello Python!Hello Python!Hello Python!Hello Python!Hello Python!Hello Python!Hello Python!Hello Python!Hello Python!Hello Python!Hello Python!Hello Python!Hello Python!Hello Python!Hello Python!Hello Python!Hello Python!Hello Python!Hello Python!Hello Python!Hello Python!Hello Python!Hello Python!Hello Python!Hello Python!Hello Python!Hello Python!Hello Python!Hello Python!Hello Python!Hello Python!Hello Python!Hello Python!Hello Python!Hello Python!Hello Python!Hello Python!Hello Python!Hello Python!Hello Python!Hello Python!Hello Python!Hello Python!Hello Python!Hello Python!Hello Python!Hello Python!Hello Python!Hello Python!Hello Python!Hello Python!Hello Python!Hello Python!Hello Python!Hello Python!Hello Python!Hello Python!Hello Python!Hello Python!Hello Python!Hello Python!Hello Python!Hello Python!Hello Python!Hello Python!Hello Python!Hello Python!Hello Python!Hello Python!Hello Python!Hello Python!Hello Python!Hello Python!Hello Python!Hello Python!Hello Python!Hello Python!Hello Python!Hello Python!Hello Python!Hello Python!Hello Python!Hello Python!Hello Python!Hello Python!Hello Python!Hello Python!Hello Python!Hello Python!Hello Python!Hello Python!Hello Python!Hello Python!Hello Python!Hello Python!Hello Python!Hello Python!Hello Python!Hello Python!Hello Python!Hello Python!Hello Python!Hello Python!Hello Python!Hello Python!Hello Python!Hello Python!Hello Python!Hello Python!Hello Python!Hello Python!Hello Python!Hello Python!Hello Python!Hello Python!Hello Python!Hello Python!Hello Python!Hello Python!Hello Python!Hello Python!Hello Python!Hello Python!Hello Python!Hello Python!Hello Python!Hello Python!Hello Python!Hello Python!Hello Python!Hello Python!Hello Python!Hello Python!Hello Python!Hello Python!Hello Python!Hello Python!Hello Python!Hello Python!Hello Python!Hello Python!Hello Python!Hello Python!Hello Python!Hello Python!Hello Python!Hello Python!Hello Python!Hello Python!Hello Python!Hello Python!Hello Python!Hello Python!Hello Python!Hello Python!Hello Python!Hello Python!Hello Python!Hello Python!Hello Python!Hello Python!Hello Python!Hello Python!Hello Python!Hello Python!Hello Python!Hello Python!Hello Python!Hello Python!Hello Python!Hello Python!Hello Python!Hello Python!Hello Python!Hello Python!Hello Python!Hello Python!Hello Python!Hello Python!Hello Python!Hello Python!Hello Python!Hello Python!Hello Python!Hello Python!Hello Python!Hello Python!Hello Python!Hello Python!Hello Python!Hello Python!Hello Python!Hello Python!Hello Python!Hello Python!Hello Python!Hello Python!Hello Python!Hello Python!Hello Python!Hello Python!Hello Python!Hello Python!Hello Python!Hello Python!Hello Python!Hello Python!Hello Python!Hello Python!Hello Python!Hello Python!Hello Python!Hello Python!Hello Python!Hello Python!Hello Python!Hello Python!Hello Python!Hello Python!Hello Python!Hello Python!Hello Python!Hello Python!Hello Python!Hello Python!Hello Python!Hello Python!Hello Python!Hello Python!Hello Python!Hello Python!Hello Python!Hello Python!Hello Python!Hello Python!Hello Python!Hello Python!Hello Python!Hello Python!Hello Python!Hello Python!Hello Python!Hello Python!Hello Python!Hello Python!Hello Python!Hello Python!Hello Python!Hello Python!Hello Python!Hello Python!Hello Python!Hello Python!Hello Python!Hello Python!Hello Python!Hello Python!Hello Python!Hello Python!Hello Python!Hello Python!Hello Python!Hello Python!Hello Python!Hello Python!Hello Python!Hello Python!Hello Python!Hello Python!Hello Python!Hello Python!Hello Python!Hello Python!Hello Python!Hello Python!Hello Python!Hello Python!Hello Python!Hello Python!Hello Python!Hello Python!Hello Python!Hello Python!Hello Python!Hello Python!Hello Python!Hello Python!Hello Python!Hello Python!Hello Python!Hello Python!Hello Python!Hello Python!Hello Python!Hello Python!Hello Python!Hello Python!Hello Python!Hello Python!Hello Python!Hello Python!Hello Python!Hello Python!Hello Python!Hello Python!Hello Python!Hello Python!Hello Python!Hello Python!Hello Python!Hello Python!Hello Python!Hello Python!Hello Python!Hello Python!Hello Python!Hello Python!Hello Python!Hello Python!Hello Python!Hello Python!Hello Python!Hello Python!Hello Python!Hello Python!Hello Python!Hello Python!Hello Python!Hello Python!Hello Python!Hello Python!Hello Python!Hello Python!Hello Python!Hello Python!Hello Python!Hello Python!Hello Python!Hello Python!Hello Python!Hello Python!Hello Python!Hello Python!Hello Python!Hello Python!Hello Python!Hello Python!Hello Python!Hello Python!Hello Python!Hello Python!Hello Python!Hello Python!Hello Python!Hello Python!Hello Python!Hello Python!Hello Python!Hello Python!Hello Python!Hello Python!Hello Python!Hello Python!Hello Python!Hello Python!Hello Python!Hello Python!Hello Python!Hello Python!Hello Python!Hello Python!Hello Python!Hello Python!Hello Python!Hello Python!Hello Python!Hello Python!Hello Python!Hello Python!Hello Python!Hello Python!Hello Python!Hello Python!Hello Python!Hello Python!Hello Python!Hello Python!Hello Python!Hello Python!Hello Python!Hello Python!Hello Python!Hello Python!Hello Python!Hello Python!Hello Python!Hello Python!Hello Python!Hello Python!Hello Python!Hello Python!Hello Python!Hello Python!Hello Python!Hello Python!Hello Python!Hello Python!Hello Python!Hello Python!Hello Python!Hello Python!Hello Python!Hello Python!Hello Python!Hello Python!Hello Python!Hello Python!Hello Python!Hello Python!Hello Python!Hello Python!Hello Python!Hello Python!Hello Python!Hello Python!Hello Python!Hello Python!Hello Python!Hello Python!Hello Python!Hello Python!Hello Python!Hello Python!Hello Python!Hello Python!Hello Python!Hello Python!Hello Python!Hello Python!Hello Python!Hello Python!Hello Python!Hello Python!Hello Python!Hello Python!Hello Python!Hello Python!Hello Python!Hello Python!Hello Python!Hello Python!Hello Python!Hello Python!Hello Python!Hello Python!Hello Python!Hello Python!Hello Python!Hello Python!Hello Python!Hello Python!Hello Python!Hello Python!Hello Python!Hello Python!Hello Python!Hello Python!Hello Python!Hello Python!Hello Python!Hello Python!Hello Python!Hello Python!Hello Python!Hello Python!Hello Python!Hello Python!Hello Python!Hello Python!Hello Python!Hello Python!Hello Python!Hello Python!Hello Python!Hello Python!Hello Python!Hello Python!Hello Python!Hello Python!Hello Python!Hello Python!Hello Python!Hello Python!Hello Python!Hello Python!Hello Python!Hello Python!Hello Python!Hello Python!Hello Python!Hello Python!Hello Python!Hello Python!Hello Python!Hello Python!Hello Python!Hello Python!Hello Python!Hello Python!Hello Python!Hello Python!Hello Python!Hello Python!Hello Python!Hello Python!Hello Python!Hello Python!Hello Python!Hello Python!Hello Python!Hello Python!Hello Python!Hello Python!Hello Python!Hello Python!Hello Python!Hello Python!Hello Python!Hello Python!Hello Python!Hello Python!Hello Python!Hello Python!Hello Python!Hello Python!Hello Python!Hello Python!Hello Python!Hello Python!Hello Python!Hello Python!Hello Python!Hello Python!Hello Python!Hello Python!Hello Python!Hello Python!Hello Python!Hello Python!Hello Python!Hello Python!Hello Python!Hello Python!Hello Python!Hello Python!Hello Python!Hello Python!Hello Python!Hello Python!Hello Python!Hello Python!Hello Python!Hello Python!Hello Python!Hello Python!Hello Python!Hello Python!Hello Python!Hello Python!Hello Python!Hello Python!Hello Python!Hello Python!Hello Python!Hello Python!Hello Python!Hello Python!Hello Python!Hello Python!Hello Python!Hello Python!Hello Python!Hello Python!Hello Python!Hello Python!Hello Python!Hello Python!Hello Python!Hello Python!Hello Python!Hello Python!Hello Python!Hello Python!Hello Python!Hello Python!Hello Python!Hello Python!Hello Python!Hello Python!Hello Python!Hello Python!Hello Python!Hello Python!Hello Python!Hello Python!Hello Python!Hello Python!Hello Python!Hello Python!Hello Python!Hello Python!Hello Python!Hello Python!Hello Python!Hello Python!Hello Python!Hello Python!Hello Python!Hello Python!Hello Python!Hello Python!Hello Python!Hello Python!Hello Python!Hello Python!Hello Python!Hello Python!Hello Python!Hello Python!Hello Python!Hello Python!Hello Python!Hello Python!Hello Python!Hello Python!Hello Python!Hello Python!Hello Python!Hello Python!Hello Python!Hello Python!Hello Python!Hello Python!Hello Python!Hello Python!Hello Python!Hello Python!Hello Python!Hello Python!Hello Python!Hello Python!Hello Python!Hello Python!Hello Python!Hello Python!Hello Python!Hello Python!Hello Python!Hello Python!Hello Python!Hello Python!Hello Python!Hello Python!Hello Python!Hello Python!Hello Python!Hello Python!Hello Python!Hello Python!Hello Python!Hello Python!Hello Python!Hello Python!Hello Python!Hello Python!Hello Python!Hello Python!Hello Python!Hello Python!Hello Python!Hello Python!Hello Python!Hello Python!Hello Python!Hello Python!Hello Python!Hello Python!Hello Python!Hello Python!Hello Python!Hello Python!Hello Python!Hello Python!Hello Python!Hello Python!Hello Python!Hello Python!Hello Python!Hello Python!Hello Python!Hello Python!Hello Python!Hello Python!Hello Python!Hello Python!Hello Python!Hello Python!Hello Python!Hello Python!Hello Python!Hello Python!Hello Python!Hello Python!Hello Python!Hello Python!Hello Python!Hello Python!Hello Python!Hello Python!Hello Python!Hello Python!Hello Python!Hello Python!Hello Python!Hello Python!Hello Python!Hello Python!Hello Python!Hello Python!Hello Python!Hello Python!Hello Python!Hello Python!Hello Python!Hello Python!Hello Python!Hello Python!Hello Python!Hello Python!Hello Python!Hello Python!Hello Python!Hello Python!Hello Python!Hello Python!Hello Python!Hello Python!Hello Python!Hello Python!Hello Python!Hello Python!Hello Python!Hello Python!Hello Python!Hello Python!Hello Python!Hello Python!Hello Python!Hello Python!Hello Python!Hello Python!Hello Python!Hello Python!Hello Python!Hello Python!Hello Python!Hello Python!Hello Python!Hello Python!Hello Python!Hello Python!Hello Python!Hello Python!Hello Python!Hello Python!Hello Python!Hello Python!Hello Python!Hello Python!Hello Python!Hello Python!Hello Python!Hello Python!Hello Python!Hello Python!Hello Python!Hello Python!Hello Python!Hello Python!Hello Python!Hello Python!Hello Python!Hello Python!Hello Python!Hello Python!Hello Python!Hello Python!Hello Python!Hello Python!Hello Python!Hello Python!Hello Python!Hello Python!Hello Python!Hello Python!Hello Python!Hello Python!Hello Python!Hello Python!Hello Python!Hello Python!Hello Python!Hello Python!Hello Python!Hello Python!Hello Python!Hello Python!Hello Python!Hello Python!Hello Python!Hello Python!Hello Python!Hello Python!Hello Python!Hello Python!Hello Python!Hello Python!Hello Python!Hello Python!Hello Python!Hello Python!Hello Python!Hello Python!Hello Python!Hello Python!Hello Python!Hello Python!Hello Python!Hello Python!Hello Python!Hello Python!Hello Python!Hello Python!Hello Python!Hello Python!Hello Python!Hello Python!Hello Python!Hello Python!Hello Python!Hello Python!Hello Python!Hello Python!Hello Python!Hello Python!Hello Python!Hello Python!Hello Python!Hello Python!Hello Python!Hello Python!Hello Python!Hello Python!Hello Python!Hello Python!Hello Python!Hello Python!Hello Python!Hello Python!Hello Python!Hello Python!Hello Python!Hello Python!Hello Python!Hello Python!Hello Python!Hello Python!Hello Python!Hello Python!Hello Python!Hello Python!Hello Python!Hello Python!Hello Python!Hello Python!Hello Python!Hello Python!Hello Python!Hello Python!Hello Python!Hello Python!Hello Python!Hello Python!Hello Python!Hello Python!Hello Python!Hello Python!Hello Python!Hello Python!Hello Python!Hello Python!Hello Python!Hello Python!Hello Python!Hello Python!Hello Python!Hello Python!Hello Python!Hello Python!Hello Python!Hello Python!Hello Python!Hello Python!Hello Python!Hello Python!Hello Python!Hello Python!Hello Python!Hello Python!Hello Python!Hello Python!Hello Python!Hello Python!Hello Python!Hello Python!Hello Python!Hello Python!Hello Python!Hello Python!Hello Python!Hello Python!Hello Python!Hello Python!Hello Python!Hello Python!Hello Python!Hello Python!Hello Python!Hello Python!Hello Python!Hello Python!Hello Python!Hello Python!Hello Python!Hello Python!Hello Python!Hello Python!Hello Python!Hello Python!Hello Python!Hello Python!Hello Python!Hello Python!Hello Python!Hello Python!Hello Python!Hello Python!Hello Python!Hello Python!Hello Python!Hello Python!Hello Python!Hello Python!Hello Python!Hello Python!Hello Python!Hello Python!Hello Python!Hello Python!Hello Python!Hello Python!Hello Python!Hello Python!Hello Python!Hello Python!Hello Python!Hello Python!Hello Python!Hello Python!Hello Python!Hello Python!Hello Python!Hello Python!Hello Python!Hello Python!Hello Python!Hello Python!Hello Python!Hello Python!Hello Python!Hello Python!Hello Python!Hello Python!Hello Python!Hello Python!Hello Python!Hello Python!Hello Python!Hello Python!Hello Python!Hello Python!Hello Python!Hello Python!Hello Python!Hello Python!Hello Python!Hello Python!Hello Python!Hello Python!Hello Python!Hello Python!Hello Python!Hello Python!Hello Python!Hello Python!Hello Python!Hello Python!Hello Python!Hello Python!Hello Python!Hello Python!Hello Python!Hello Python!Hello Python!Hello Python!Hello Python!Hello Python!Hello Python!Hello Python!Hello Python!Hello Python!Hello Python!Hello Python!Hello Python!Hello Python!Hello Python!Hello Python!Hello Python!Hello Python!Hello Python!Hello Python!Hello Python!Hello Python!Hello Python!Hello Python!Hello Python!Hello Python!Hello Python!Hello Python!Hello Python!Hello Python!Hello Python!Hello Python!Hello Python!Hello Python!Hello Python!Hello Python!Hello Python!Hello Python!Hello Python!Hello Python!Hello Python!Hello Python!Hello Python!Hello Python!Hello Python!Hello Python!Hello Python!Hello Python!Hello Python!Hello Python!Hello Python!Hello Python!Hello Python!Hello Python!Hello Python!Hello Python!Hello Python!Hello Python!Hello Python!Hello Python!Hello Python!Hello Python!Hello Python!Hello Python!Hello Python!Hello Python!Hello Python!Hello Python!Hello Python!Hello Python!Hello Python!Hello Python!Hello Python!Hello Python!Hello Python!Hello Python!Hello Python!Hello Python!Hello Python!Hello Python!Hello Python!Hello Python!Hello Python!Hello Python!Hello Python!Hello Python!Hello Python!Hello Python!Hello Python!Hello Python!Hello Python!Hello Python!Hello Python!Hello Python!Hello Python!Hello Python!Hello Python!Hello Python!Hello Python!Hello Python!Hello Python!Hello Python!Hello Python!Hello Python!Hello Python!Hello Python!Hello Python!Hello Python!Hello Python!Hello Python!Hello Python!Hello Python!Hello Python!Hello Python!Hello Python!Hello Python!Hello Python!Hello Python!Hello Python!Hello Python!Hello Python!Hello Python!Hello Python!Hello Python!Hello Python!Hello Python!Hello Python!Hello Python!Hello Python!Hello Python!Hello Python!Hello Python!Hello Python!Hello Python!Hello Python!Hello Python!Hello Python!Hello Python!Hello Python!Hello Python!Hello Python!Hello Python!Hello Python!Hello Python!Hello Python!Hello Python!Hello Python!Hello Python!Hello Python!Hello Python!Hello Python!Hello Python!Hello Python!Hello Python!Hello Python!Hello Python!Hello Python!Hello Python!Hello Python!Hello Python!Hello Python!Hello Python!Hello Python!Hello Python!Hello Python!Hello Python!Hello Python!Hello Python!Hello Python!Hello Python!Hello Python!Hello Python!Hello Python!Hello Python!Hello Python!Hello Python!Hello Python!Hello Python!Hello Python!Hello Python!Hello Python!Hello Python!Hello Python!Hello Python!Hello Python!Hello Python!Hello Python!Hello Python!Hello Python!Hello Python!Hello Python!Hello Python!Hello Python!Hello Python!Hello Python!Hello Python!Hello Python!Hello Python!Hello Python!Hello Python!Hello Python!Hello Python!Hello Python!Hello Python!Hello Python!Hello Python!Hello Python!Hello Python!Hello Python!Hello Python!Hello Python!Hello Python!Hello Python!Hello Python!Hello Python!Hello Python!Hello Python!Hello Python!Hello Python!Hello Python!Hello Python!Hello Python!Hello Python!Hello Python!Hello Python!Hello Python!Hello Python!Hello Python!Hello Python!Hello Python!Hello Python!Hello Python!Hello Python!Hello Python!Hello Python!Hello Python!Hello Python!Hello Python!Hello Python!Hello Python!Hello Python!Hello Python!Hello Python!Hello Python!Hello Python!Hello Python!Hello Python!Hello Python!Hello Python!Hello Python!Hello Python!Hello Python!Hello Python!Hello Python!Hello Python!Hello Python!Hello Python!Hello Python!Hello Python!Hello Python!Hello Python!Hello Python!Hello Python!Hello Python!Hello Python!Hello Python!Hello Python!Hello Python!Hello Python!Hello Python!Hello Python!Hello Python!Hello Python!Hello Python!Hello Python!Hello Python!Hello Python!Hello Python!Hello Python!Hello Python!Hello Python!Hello Python!Hello Python!Hello Python!Hello Python!Hello Python!Hello Python!Hello Python!Hello Python!Hello Python!Hello Python!Hello Python!Hello Python!Hello Python!Hello Python!Hello Python!Hello Python!Hello Python!Hello Python!Hello Python!Hello Python!Hello Python!Hello Python!Hello Python!Hello Python!Hello Python!Hello Python!Hello Python!Hello Python!Hello Python!Hello Python!Hello Python!Hello Python!Hello Python!Hello Python!Hello Python!Hello Python!Hello Python!Hello Python!Hello Python!Hello Python!Hello Python!Hello Python!Hello Python!Hello Python!Hello Python!Hello Python!Hello Python!Hello Python!Hello Python!Hello Python!Hello Python!Hello Python!Hello Python!Hello Python!Hello Python!Hello Python!Hello Python!Hello Python!Hello Python!Hello Python!Hello Python!Hello Python!Hello Python!Hello Python!Hello Python!Hello Python!Hello Python!Hello Python!Hello Python!Hello Python!Hello Python!Hello Python!Hello Python!Hello Python!Hello Python!Hello Python!Hello Python!Hello Python!Hello Python!Hello Python!Hello Python!Hello Python!Hello Python!Hello Python!Hello Python!Hello Python!Hello Python!Hello Python!Hello Python!Hello Python!Hello Python!Hello Python!Hello Python!Hello Python!Hello Python!Hello Python!Hello Python!Hello Python!Hello Python!Hello Python!Hello Python!Hello Python!Hello Python!Hello Python!Hello Python!Hello Python!Hello Python!Hello Python!Hello Python!Hello Python!Hello Python!Hello Python!Hello Python!Hello Python!Hello Python!Hello Python!Hello Python!Hello Python!Hello Python!Hello Python!Hello Python!Hello Python!Hello Python!Hello Python!Hello Python!Hello Python!Hello Python!Hello Python!Hello Python!Hello Python!Hello Python!Hello Python!Hello Python!Hello Python!Hello Python!Hello Python!Hello Python!Hello Python!Hello Python!Hello Python!Hello Python!Hello Python!Hello Python!Hello Python!Hello Python!Hello Python!Hello Python!Hello Python!Hello Python!Hello Python!Hello Python!Hello Python!Hello Python!Hello Python!Hello Python!Hello Python!Hello Python!Hello Python!Hello Python!Hello Python!Hello Python!Hello Python!Hello Python!Hello Python!Hello Python!Hello Python!Hello Python!Hello Python!Hello Python!Hello Python!Hello Python!Hello Python!Hello Python!Hello Python!Hello Python!Hello Python!Hello Python!Hello Python!Hello Python!Hello Python!Hello Python!Hello Python!Hello Python!Hello Python!Hello Python!Hello Python!Hello Python!Hello Python!Hello Python!Hello Python!Hello Python!Hello Python!Hello Python!Hello Python!Hello Python!Hello Python!Hello Python!Hello Python!Hello Python!Hello Python!Hello Python!Hello Python!Hello Python!Hello Python!Hello Python!Hello Python!Hello Python!Hello Python!Hello Python!Hello Python!Hello Python!Hello Python!Hello Python!Hello Python!Hello Python!Hello Python!Hello Python!Hello Python!Hello Python!Hello Python!Hello Python!Hello Python!Hello Python!Hello Python!Hello Python!Hello Python!Hello Python!Hello Python!Hello Python!Hello Python!Hello Python!Hello Python!Hello Python!Hello Python!Hello Python!Hello Python!Hello Python!Hello Python!Hello Python!Hello Python!Hello Python!Hello Python!Hello Python!Hello Python!Hello Python!Hello Python!Hello Python!Hello Python!Hello Python!Hello Python!Hello Python!Hello Python!Hello Python!Hello Python!Hello Python!Hello Python!Hello Python!Hello Python!Hello Python!Hello Python!Hello Python!Hello Python!Hello Python!Hello Python!Hello Python!Hello Python!Hello Python!Hello Python!Hello Python!Hello Python!Hello Python!Hello Python!Hello Python!Hello Python!Hello Python!Hello Python!Hello Python!Hello Python!Hello Python!Hello Python!Hello Python!Hello Python!Hello Python!Hello Python!Hello Python!Hello Python!Hello Python!Hello Python!Hello Python!Hello Python!Hello Python!Hello Python!Hello Python!Hello Python!Hello Python!Hello Python!Hello Python!Hello Python!Hello Python!Hello Python!Hello Python!Hello Python!Hello Python!Hello Python!Hello Python!Hello Python!Hello Python!Hello Python!Hello Python!Hello Python!Hello Python!Hello Python!Hello Python!Hello Python!Hello Python!Hello Python!Hello Python!Hello Python!Hello Python!Hello Python!Hello Python!Hello Python!Hello Python!Hello Python!Hello Python!Hello Python!Hello Python!Hello Python!Hello Python!Hello Python!Hello Python!Hello Python!Hello Python!Hello Python!Hello Python!Hello Python!Hello Python!Hello Python!Hello Python!Hello Python!Hello Python!Hello Python!Hello Python!Hello Python!Hello Python!Hello Python!Hello Python!Hello Python!Hello Python!Hello Python!Hello Python!Hello Python!Hello Python!Hello Python!Hello Python!Hello Python!Hello Python!Hello Python!Hello Python!Hello Python!Hello Python!Hello Python!Hello Python!Hello Python!Hello Python!Hello Python!Hello Python!Hello Python!Hello Python!Hello Python!Hello Python!Hello Python!Hello Python!Hello Python!Hello Python!Hello Python!Hello Python!Hello Python!Hello Python!Hello Python!Hello Python!Hello Python!Hello Python!Hello Python!Hello Python!Hello Python!Hello Python!Hello Python!Hello Python!Hello Python!Hello Python!Hello Python!Hello Python!Hello Python!Hello Python!Hello Python!Hello Python!Hello Python!Hello Python!Hello Python!Hello Python!Hello Python!Hello Python!Hello Python!Hello Python!Hello Python!Hello Python!Hello Python!Hello Python!Hello Python!Hello Python!Hello Python!Hello Python!Hello Python!Hello Python!Hello Python!Hello Python!Hello Python!Hello Python!Hello Python!Hello Python!Hello Python!Hello Python!Hello Python!Hello Python!Hello Python!Hello Python!Hello Python!Hello Python!Hello Python!Hello Python!Hello Python!Hello Python!Hello Python!Hello Python!Hello Python!Hello Python!Hello Python!Hello Python!Hello Python!Hello Python!Hello Python!Hello Python!Hello Python!Hello Python!Hello Python!Hello Python!Hello Python!Hello Python!Hello Python!Hello Python!Hello Python!Hello Python!Hello Python!Hello Python!Hello Python!Hello Python!Hello Python!Hello Python!Hello Python!Hello Python!Hello Python!Hello Python!Hello Python!Hello Python!Hello Python!Hello Python!Hello Python!Hello Python!Hello Python!Hello Python!Hello Python!Hello Python!Hello Python!Hello Python!Hello Python!Hello Python!Hello Python!Hello Python!Hello Python!Hello Python!Hello Python!Hello Python!Hello Python!Hello Python!Hello Python!Hello Python!Hello Python!Hello Python!Hello Python!Hello Python!Hello Python!Hello Python!Hello Python!Hello Python!Hello Python!Hello Python!Hello Python!Hello Python!Hello Python!Hello Python!Hello Python!Hello Python!Hello Python!Hello Python!Hello Python!Hello Python!Hello Python!Hello Python!Hello Python!Hello Python!Hello Python!Hello Python!Hello Python!Hello Python!Hello Python!Hello Python!Hello Python!Hello Python!Hello Python!Hello Python!Hello Python!Hello Python!Hello Python!Hello Python!Hello Python!Hello Python!Hello Python!Hello Python!Hello Python!Hello Python!Hello Python!Hello Python!Hello Python!Hello Python!Hello Python!Hello Python!Hello Python!Hello Python!Hello Python!Hello Python!Hello Python!Hello Python!Hello Python!Hello Python!Hello Python!Hello Python!Hello Python!Hello Python!Hello Python!Hello Python!Hello Python!Hello Python!Hello Python!Hello Python!Hello Python!Hello Python!Hello Python!Hello Python!Hello Python!Hello Python!Hello Python!Hello Python!Hello Python!Hello Python!Hello Python!Hello Python!Hello Python!Hello Python!Hello Python!Hello Python!Hello Python!Hello Python!Hello Python!Hello Python!Hello Python!Hello Python!Hello Python!Hello Python!Hello Python!Hello Python!Hello Python!Hello Python!Hello Python!Hello Python!Hello Python!Hello Python!Hello Python!Hello Python!Hello Python!Hello Python!Hello Python!Hello Python!Hello Python!Hello Python!Hello Python!Hello Python!Hello Python!Hello Python!Hello Python!Hello Python!Hello Python!Hello Python!Hello Python!Hello Python!Hello Python!Hello Python!Hello Python!Hello Python!Hello Python!Hello Python!Hello Python!Hello Python!Hello Python!Hello Python!Hello Python!Hello Python!Hello Python!Hello Python!Hello Python!Hello Python!Hello Python!Hello Python!Hello Python!Hello Python!Hello Python!Hello Python!Hello Python!Hello Python!Hello Python!Hello Python!Hello Python!Hello Python!Hello Python!Hello Python!Hello Python!Hello Python!Hello Python!Hello Python!Hello Python!Hello Python!Hello Python!Hello Python!Hello Python!Hello Python!Hello Python!Hello Python!Hello Python!Hello Python!Hello Python!Hello Python!Hello Python!Hello Python!Hello Python!Hello Python!Hello Python!Hello Python!Hello Python!Hello Python!Hello Python!Hello Python!Hello Python!Hello Python!Hello Python!Hello Python!Hello Python!Hello Python!Hello Python!Hello Python!Hello Python!Hello Python!Hello Python!Hello Python!Hello Python!Hello Python!Hello Python!Hello Python!Hello Python!Hello Python!Hello Python!Hello Python!Hello Python!Hello Python!Hello Python!Hello Python!Hello Python!Hello Python!Hello Python!Hello Python!Hello Python!Hello Python!Hello Python!Hello Python!Hello Python!Hello Python!Hello Python!Hello Python!Hello Python!Hello Python!Hello Python!Hello Python!Hello Python!Hello Python!Hello Python!Hello Python!Hello Python!Hello Python!Hello Python!Hello Python!Hello Python!Hello Python!Hello Python!Hello Python!Hello Python!Hello Python!Hello Python!Hello Python!Hello Python!Hello Python!Hello Python!Hello Python!Hello Python!Hello Python!Hello Python!Hello Python!Hello Python!Hello Python!Hello Python!Hello Python!Hello Python!Hello Python!Hello Python!Hello Python!Hello Python!Hello Python!Hello Python!Hello Python!Hello Python!Hello Python!Hello Python!Hello Python!Hello Python!Hello Python!Hello Python!Hello Python!Hello Python!Hello Python!Hello Python!Hello Python!Hello Python!Hello Python!Hello Python!Hello Python!Hello Python!Hello Python!Hello Python!Hello Python!Hello Python!Hello Python!Hello Python!Hello Python!Hello Python!Hello Python!Hello Python!Hello Python!Hello Python!Hello Python!Hello Python!Hello Python!Hello Python!Hello Python!Hello Python!Hello Python!Hello Python!Hello Python!Hello Python!Hello Python!Hello Python!Hello Python!Hello Python!Hello Python!Hello Python!Hello Python!Hello Python!Hello Python!Hello Python!Hello Python!Hello Python!Hello Python!Hello Python!Hello Python!Hello Python!Hello Python!Hello Python!Hello Python!Hello Python!Hello Python!Hello Python!Hello Python!Hello Python!Hello Python!Hello Python!Hello Python!Hello Python!Hello Python!Hello Python!Hello Python!Hello Python!Hello Python!Hello Python!Hello Python!Hello Python!Hello Python!Hello Python!Hello Python!Hello Python!Hello Python!Hello Python!Hello Python!Hello Python!Hello Python!Hello Python!Hello Python!Hello Python!Hello Python!Hello Python!Hello Python!Hello Python!Hello Python!Hello Python!Hello Python!Hello Python!Hello Python!Hello Python!Hello Python!Hello Python!Hello Python!Hello Python!Hello Python!Hello Python!Hello Python!Hello Python!Hello Python!Hello Python!Hello Python!Hello Python!Hello Python!Hello Python!Hello Python!Hello Python!Hello Python!Hello Python!Hello Python!Hello Python!Hello Python!Hello Python!Hello Python!Hello Python!Hello Python!Hello Python!Hello Python!Hello Python!Hello Python!Hello Python!Hello Python!Hello Python!Hello Python!Hello Python!Hello Python!Hello Python!Hello Python!Hello Python!Hello Python!Hello Python!Hello Python!Hello Python!Hello Python!Hello Python!Hello Python!Hello Python!Hello Python!Hello Python!Hello Python!Hello Python!Hello Python!Hello Python!Hello Python!Hello Python!Hello Python!Hello Python!Hello Python!Hello Python!Hello Python!Hello Python!Hello Python!Hello Python!Hello Python!Hello Python!Hello Python!Hello Python!Hello Python!Hello Python!Hello Python!Hello Python!Hello Python!Hello Python!Hello Python!Hello Python!Hello Python!Hello Python!Hello Python!Hello Python!Hello Python!Hello Python!Hello Python!Hello Python!Hello Python!Hello Python!Hello Python!Hello Python!Hello Python!Hello Python!Hello Python!Hello Python!Hello Python!Hello Python!Hello Python!Hello Python!Hello Python!Hello Python!Hello Python!Hello Python!Hello Python!Hello Python!Hello Python!Hello Python!Hello Python!Hello Python!Hello Python!Hello Python!Hello Python!Hello Python!Hello Python!Hello Python!Hello Python!Hello Python!Hello Python!Hello Python!Hello Python!Hello Python!Hello Python!Hello Python!Hello Python!Hello Python!Hello Python!Hello Python!Hello Python!Hello Python!Hello Python!Hello Python!Hello Python!Hello Python!Hello Python!Hello Python!Hello Python!Hello Python!Hello Python!Hello Python!Hello Python!Hello Python!Hello Python!Hello Python!Hello Python!Hello Python!Hello Python!Hello Python!Hello Python!Hello Python!Hello Python!Hello Python!Hello Python!Hello Python!Hello Python!Hello Python!Hello Python!Hello Python!Hello Python!Hello Python!Hello Python!Hello Python!Hello Python!Hello Python!Hello Python!Hello Python!Hello Python!Hello Python!Hello Python!Hello Python!Hello Python!Hello Python!Hello Python!Hello Python!Hello Python!Hello Python!Hello Python!Hello Python!Hello Python!Hello Python!Hello Python!Hello Python!Hello Python!Hello Python!Hello Python!Hello Python!Hello Python!Hello Python!Hello Python!Hello Python!Hello Python!Hello Python!Hello Python!Hello Python!Hello Python!Hello Python!Hello Python!Hello Python!Hello Python!Hello Python!Hello Python!Hello Python!Hello Python!Hello Python!Hello Python!Hello Python!Hello Python!Hello Python!Hello Python!Hello Python!Hello Python!Hello Python!Hello Python!Hello Python!Hello Python!Hello Python!Hello Python!Hello Python!Hello Python!Hello Python!Hello Python!Hello Python!Hello Python!Hello Python!Hello Python!Hello Python!Hello Python!Hello Python!Hello Python!Hello Python!Hello Python!Hello Python!Hello Python!Hello Python!Hello Python!Hello Python!Hello Python!Hello Python!Hello Python!Hello Python!Hello Python!Hello Python!Hello Python!Hello Python!Hello Python!Hello Python!Hello Python!Hello Python!Hello Python!Hello Python!Hello Python!Hello Python!Hello Python!Hello Python!Hello Python!Hello Python!Hello Python!Hello Python!Hello Python!Hello Python!Hello Python!Hello Python!Hello Python!Hello Python!Hello Python!Hello Python!Hello Python!Hello Python!Hello Python!Hello Python!Hello Python!Hello Python!Hello Python!Hello Python!Hello Python!Hello Python!Hello Python!Hello Python!Hello Python!Hello Python!Hello Python!Hello Python!Hello Python!Hello Python!Hello Python!Hello Python!Hello Python!Hello Python!Hello Python!Hello Python!Hello Python!Hello Python!Hello Python!Hello Python!Hello Python!Hello Python!Hello Python!Hello Python!Hello Python!Hello Python!Hello Python!Hello Python!Hello Python!Hello Python!Hello Python!Hello Python!Hello Python!Hello Python!Hello Python!Hello Python!Hello Python!Hello Python!Hello Python!Hello Python!Hello Python!Hello Python!Hello Python!Hello Python!Hello Python!Hello Python!Hello Python!Hello Python!Hello Python!Hello Python!Hello Python!Hello Python!Hello Python!Hello Python!Hello Python!Hello Python!Hello Python!Hello Python!Hello Python!Hello Python!Hello Python!Hello Python!Hello Python!Hello Python!Hello Python!Hello Python!Hello Python!Hello Python!Hello Python!Hello Python!Hello Python!Hello Python!Hello Python!Hello Python!Hello Python!Hello Python!Hello Python!Hello Python!Hello Python!Hello Python!Hello Python!Hello Python!Hello Python!Hello Python!Hello Python!Hello Python!Hello Python!Hello Python!Hello Python!Hello Python!Hello Python!Hello Python!Hello Python!Hello Python!Hello Python!Hello Python!Hello Python!Hello Python!Hello Python!Hello Python!Hello Python!Hello Python!Hello Python!Hello Python!Hello Python!Hello Python!Hello Python!Hello Python!Hello Python!Hello Python!Hello Python!Hello Python!Hello Python!Hello Python!Hello Python!Hello Python!Hello Python!Hello Python!Hello Python!Hello Python!Hello Python!Hello Python!Hello Python!Hello Python!Hello Python!Hello Python!Hello Python!Hello Python!Hello Python!Hello Python!Hello Python!Hello Python!Hello Python!Hello Python!Hello Python!Hello Python!Hello Python!Hello Python!Hello Python!Hello Python!Hello Python!Hello Python!Hello Python!Hello Python!Hello Python!Hello Python!Hello Python!Hello Python!Hello Python!Hello Python!Hello Python!Hello Python!Hello Python!Hello Python!Hello Python!Hello Python!Hello Python!Hello Python!Hello Python!Hello Python!Hello Python!Hello Python!Hello Python!Hello Python!Hello Python!Hello Python!Hello Python!Hello Python!Hello Python!Hello Python!Hello Python!Hello Python!Hello Python!Hello Python!Hello Python!Hello Python!Hello Python!Hello Python!Hello Python!Hello Python!Hello Python!Hello Python!Hello Python!Hello Python!Hello Python!Hello Python!Hello Python!Hello Python!Hello Python!Hello Python!Hello Python!Hello Python!Hello Python!Hello Python!Hello Python!Hello Python!Hello Python!Hello Python!Hello Python!Hello Python!Hello Python!Hello Python!Hello Python!Hello Python!Hello Python!Hello Python!Hello Python!Hello Python!Hello Python!Hello Python!Hello Python!Hello Python!Hello Python!Hello Python!Hello Python!Hello Python!Hello Python!Hello Python!Hello Python!Hello Python!Hello Python!Hello Python!Hello Python!Hello Python!Hello Python!Hello Python!Hello Python!Hello Python!Hello Python!Hello Python!Hello Python!Hello Python!Hello Python!Hello Python!Hello Python!Hello Python!Hello Python!Hello Python!Hello Python!Hello Python!Hello Python!Hello Python!Hello Python!Hello Python!Hello Python!Hello Python!Hello Python!Hello Python!Hello Python!Hello Python!Hello Python!Hello Python!Hello Python!Hello Python!Hello Python!Hello Python!Hello Python!Hello Python!Hello Python!Hello Python!Hello Python!Hello Python!Hello Python!Hello Python!Hello Python!Hello Python!Hello Python!Hello Python!Hello Python!Hello Python!Hello Python!Hello Python!Hello Python!Hello Python!Hello Python!Hello Python!Hello Python!Hello Python!Hello Python!Hello Python!Hello Python!Hello Python!Hello Python!Hello Python!Hello Python!Hello Python!Hello Python!Hello Python!Hello Python!Hello Python!Hello Python!Hello Python!Hello Python!Hello Python!Hello Python!Hello Python!Hello Python!Hello Python!Hello Python!Hello Python!Hello Python!Hello Python!Hello Python!Hello Python!Hello Python!Hello Python!Hello Python!Hello Python!Hello Python!Hello Python!Hello Python!Hello Python!Hello Python!Hello Python!Hello Python!Hello Python!Hello Python!Hello Python!Hello Python!Hello Python!Hello Python!Hello Python!Hello Python!Hello Python!Hello Python!Hello Python!Hello Python!Hello Python!Hello Python!Hello Python!Hello Python!Hello Python!Hello Python!Hello Python!Hello Python!Hello Python!Hello Python!Hello Python!Hello Python!Hello Python!Hello Python!Hello Python!Hello Python!Hello Python!Hello Python!Hello Python!Hello Python!Hello Python!Hello Python!Hello Python!Hello Python!Hello Python!Hello Python!Hello Python!Hello Python!Hello Python!Hello Python!Hello Python!Hello Python!Hello Python!Hello Python!Hello Python!Hello Python!Hello Python!Hello Python!Hello Python!Hello Python!Hello Python!Hello Python!Hello Python!Hello Python!Hello Python!Hello Python!Hello Python!Hello Python!Hello Python!Hello Python!Hello Python!Hello Python!Hello Python!Hello Python!Hello Python!Hello Python!Hello Python!Hello Python!Hello Python!Hello Python!Hello Python!Hello Python!Hello Python!Hello Python!Hello Python!Hello Python!Hello Python!Hello Python!Hello Python!Hello Python!Hello Python!Hello Python!Hello Python!Hello Python!Hello Python!Hello Python!Hello Python!Hello Python!Hello Python!Hello Python!Hello Python!Hello Python!Hello Python!Hello Python!Hello Python!Hello Python!Hello Python!Hello Python!Hello Python!Hello Python!Hello Python!Hello Python!Hello Python!Hello Python!Hello Python!Hello Python!Hello Python!Hello Python!Hello Python!Hello Python!Hello Python!Hello Python!Hello Python!Hello Python!Hello Python!Hello Python!Hello Python!Hello Python!Hello Python!Hello Python!Hello Python!Hello Python!Hello Python!Hello Python!Hello Python!Hello Python!Hello Python!Hello Python!Hello Python!Hello Python!Hello Python!Hello Python!Hello Python!Hello Python!Hello Python!Hello Python!Hello Python!Hello Python!Hello Python!Hello Python!Hello Python!Hello Python!Hello Python!Hello Python!Hello Python!Hello Python!Hello Python!Hello Python!Hello Python!Hello Python!Hello Python!Hello Python!Hello Python!Hello Python!Hello Python!Hello Python!Hello Python!Hello Python!Hello Python!Hello Python!Hello Python!Hello Python!Hello Python!Hello Python!Hello Python!Hello Python!Hello Python!Hello Python!Hello Python!Hello Python!Hello Python!Hello Python!Hello Python!Hello Python!Hello Python!Hello Python!Hello Python!Hello Python!Hello Python!Hello Python!Hello Python!Hello Python!Hello Python!Hello Python!Hello Python!Hello Python!Hello Python!Hello Python!Hello Python!Hello Python!Hello Python!Hello Python!Hello Python!Hello Python!Hello Python!Hello Python!Hello Python!Hello Python!Hello Python!Hello Python!Hello Python!Hello Python!Hello Python!Hello Python!Hello Python!Hello Python!Hello Python!Hello Python!Hello Python!Hello Python!Hello Python!Hello Python!Hello Python!Hello Python!Hello Python!Hello Python!Hello Python!Hello Python!Hello Python!Hello Python!Hello Python!Hello Python!Hello Python!Hello Python!Hello Python!Hello Python!Hello Python!Hello Python!Hello Python!Hello Python!Hello Python!Hello Python!Hello Python!Hello Python!Hello Python!Hello Python!Hello Python!Hello Python!Hello Python!Hello Python!Hello Python!Hello Python!Hello Python!Hello Python!Hello Python!Hello Python!Hello Python!Hello Python!Hello Python!Hello Python!Hello Python!Hello Python!Hello Python!Hello Python!Hello Python!Hello Python!Hello Python!Hello Python!Hello Python!Hello Python!Hello Python!Hello Python!Hello Python!Hello Python!Hello Python!Hello Python!Hello Python!Hello Python!Hello Python!Hello Python!Hello Python!Hello Python!Hello Python!Hello Python!Hello Python!Hello Python!Hello Python!Hello Python!Hello Python!Hello Python!Hello Python!Hello Python!Hello Python!Hello Python!Hello Python!Hello Python!Hello Python!Hello Python!Hello Python!Hello Python!Hello Python!Hello Python!Hello Python!Hello Python!Hello Python!Hello Python!Hello Python!Hello Python!Hello Python!Hello Python!Hello Python!Hello Python!Hello Python!Hello Python!Hello Python!Hello Python!Hello Python!Hello Python!Hello Python!Hello Python!Hello Python!Hello Python!Hello Python!Hello Python!Hello Python!Hello Python!Hello Python!Hello Python!Hello Python!Hello Python!Hello Python!Hello Python!Hello Python!Hello Python!Hello Python!Hello Python!Hello Python!Hello Python!Hello Python!Hello Python!Hello Python!Hello Python!Hello Python!Hello Python!Hello Python!Hello Python!Hello Python!Hello Python!Hello Python!Hello Python!Hello Python!Hello Python!Hello Python!Hello Python!Hello Python!Hello Python!Hello Python!Hello Python!Hello Python!Hello Python!Hello Python!Hello Python!Hello Python!Hello Python!Hello Python!Hello Python!Hello Python!Hello Python!Hello Python!Hello Python!Hello Python!Hello Python!Hello Python!Hello Python!Hello Python!Hello Python!Hello Python!Hello Python!Hello Python!Hello Python!Hello Python!Hello Python!Hello Python!Hello Python!Hello Python!Hello Python!Hello Python!Hello Python!Hello Python!Hello Python!Hello Python!Hello Python!Hello Python!Hello Python!Hello Python!Hello Python!Hello Python!Hello Python!Hello Python!Hello Python!Hello Python!Hello Python!Hello Python!Hello Python!Hello Python!Hello Python!Hello Python!Hello Python!Hello Python!Hello Python!Hello Python!Hello Python!Hello Python!Hello Python!Hello Python!Hello Python!Hello Python!Hello Python!Hello Python!Hello Python!Hello Python!Hello Python!Hello Python!Hello Python!Hello Python!Hello Python!Hello Python!Hello Python!Hello Python!Hello Python!Hello Python!Hello Python!Hello Python!Hello Python!Hello Python!Hello Python!Hello Python!Hello Python!Hello Python!Hello Python!Hello Python!Hello Python!Hello Python!Hello Python!Hello Python!Hello Python!Hello Python!Hello Python!Hello Python!Hello Python!Hello Python!Hello Python!Hello Python!Hello Python!Hello Python!Hello Python!Hello Python!Hello Python!Hello Python!Hello Python!Hello Python!Hello Python!Hello Python!Hello Python!Hello Python!Hello Python!Hello Python!Hello Python!Hello Python!Hello Python!Hello Python!Hello Python!Hello Python!Hello Python!Hello Python!Hello Python!Hello Python!Hello Python!Hello Python!Hello Python!Hello Python!Hello Python!Hello Python!Hello Python!Hello Python!Hello Python!Hello Python!Hello Python!Hello Python!Hello Python!Hello Python!Hello Python!Hello Python!Hello Python!Hello Python!Hello Python!Hello Python!Hello Python!Hello Python!Hello Python!Hello Python!Hello Python!Hello Python!Hello Python!Hello Python!Hello Python!Hello Python!Hello Python!Hello Python!Hello Python!Hello Python!Hello Python!Hello Python!Hello Python!Hello Python!Hello Python!Hello Python!Hello Python!Hello Python!Hello Python!Hello Python!Hello Python!Hello Python!Hello Python!Hello Python!Hello Python!Hello Python!Hello Python!Hello Python!Hello Python!Hello Python!Hello Python!Hello Python!Hello Python!Hello Python!Hello Python!Hello Python!Hello Python!Hello Python!Hello Python!Hello Python!Hello Python!Hello Python!Hello Python!Hello Python!Hello Python!Hello Python!Hello Python!Hello Python!Hello Python!Hello Python!Hello Python!Hello Python!Hello Python!Hello Python!Hello Python!Hello Python!Hello Python!Hello Python!Hello Python!Hello Python!Hello Python!Hello Python!Hello Python!Hello Python!Hello Python!Hello Python!Hello Python!Hello Python!Hello Python!Hello Python!Hello Python!Hello Python!Hello Python!Hello Python!Hello Python!Hello Python!Hello Python!Hello Python!Hello Python!Hello Python!Hello Python!Hello Python!Hello Python!Hello Python!Hello Python!Hello Python!Hello Python!Hello Python!Hello Python!Hello Python!Hello Python!Hello Python!Hello Python!Hello Python!Hello Python!Hello Python!Hello Python!Hello Python!Hello Python!Hello Python!Hello Python!Hello Python!Hello Python!Hello Python!Hello Python!Hello Python!Hello Python!Hello Python!Hello Python!Hello Python!Hello Python!Hello Python!Hello Python!Hello Python!Hello Python!Hello Python!Hello Python!Hello Python!Hello Python!Hello Python!Hello Python!Hello Python!Hello Python!Hello Python!Hello Python!Hello Python!Hello Python!Hello Python!Hello Python!Hello Python!Hello Python!Hello Python!Hello Python!Hello Python!Hello Python!Hello Python!Hello Python!Hello Python!Hello Python!Hello Python!Hello Python!Hello Python!Hello Python!Hello Python!Hello Python!Hello Python!Hello Python!Hello Python!Hello Python!Hello Python!Hello Python!Hello Python!Hello Python!Hello Python!Hello Python!Hello Python!Hello Python!Hello Python!Hello Python!Hello Python!Hello Python!Hello Python!Hello Python!Hello Python!Hello Python!Hello Python!Hello Python!Hello Python!Hello Python!Hello Python!Hello Python!Hello Python!Hello Python!Hello Python!Hello Python!Hello Python!Hello Python!Hello Python!Hello Python!Hello Python!Hello Python!Hello Python!Hello Python!Hello Python!Hello Python!Hello Python!Hello Python!Hello Python!Hello Python!Hello Python!Hello Python!Hello Python!Hello Python!Hello Python!Hello Python!Hello Python!Hello Python!Hello Python!Hello Python!Hello Python!Hello Python!Hello Python!Hello Python!Hello Python!Hello Python!Hello Python!Hello Python!Hello Python!Hello Python!Hello Python!Hello Python!Hello Python!Hello Python!Hello Python!Hello Python!Hello Python!Hello Python!Hello Python!Hello Python!Hello Python!Hello Python!Hello Python!Hello Python!Hello Python!Hello Python!Hello Python!Hello Python!Hello Python!Hello Python!Hello Python!Hello Python!Hello Python!Hello Python!Hello Python!Hello Python!Hello Python!Hello Python!Hello Python!Hello Python!Hello Python!Hello Python!Hello Python!Hello Python!Hello Python!Hello Python!Hello Python!Hello Python!Hello Python!Hello Python!Hello Python!Hello Python!Hello Python!Hello Python!Hello Python!Hello Python!Hello Python!Hello Python!Hello Python!Hello Python!Hello Python!Hello Python!Hello Python!Hello Python!Hello Python!Hello Python!Hello Python!Hello Python!Hello Python!Hello Python!Hello Python!Hello Python!Hello Python!Hello Python!Hello Python!Hello Python!Hello Python!Hello Python!Hello Python!Hello Python!Hello Python!Hello Python!Hello Python!Hello Python!Hello Python!Hello Python!Hello Python!Hello Python!Hello Python!Hello Python!Hello Python!Hello Python!Hello Python!Hello Python!Hello Python!Hello Python!Hello Python!Hello Python!Hello Python!Hello Python!Hello Python!Hello Python!Hello Python!Hello Python!Hello Python!Hello Python!Hello Python!Hello Python!Hello Python!Hello Python!Hello Python!Hello Python!Hello Python!Hello Python!Hello Python!Hello Python!Hello Python!Hello Python!Hello Python!Hello Python!Hello Python!Hello Python!Hello Python!Hello Python!Hello Python!Hello Python!Hello Python!Hello Python!Hello Python!Hello Python!Hello Python!Hello Python!Hello Python!Hello Python!Hello Python!Hello Python!Hello Python!Hello Python!Hello Python!Hello Python!Hello Python!Hello Python!Hello Python!Hello Python!Hello Python!Hello Python!Hello Python!Hello Python!Hello Python!Hello Python!Hello Python!Hello Python!Hello Python!Hello Python!Hello Python!Hello Python!Hello Python!Hello Python!Hello Python!Hello Python!Hello Python!Hello Python!Hello Python!Hello Python!Hello Python!Hello Python!Hello Python!Hello Python!Hello Python!Hello Python!Hello Python!Hello Python!Hello Python!Hello Python!Hello Python!Hello Python!Hello Python!Hello Python!Hello Python!Hello Python!Hello Python!Hello Python!Hello Python!Hello Python!Hello Python!Hello Python!Hello Python!Hello Python!Hello Python!Hello Python!Hello Python!Hello Python!Hello Python!Hello Python!Hello Python!Hello Python!Hello Python!Hello Python!Hello Python!Hello Python!Hello Python!Hello Python!Hello Python!Hello Python!Hello Python!Hello Python!Hello Python!Hello Python!Hello Python!Hello Python!Hello Python!Hello Python!Hello Python!Hello Python!Hello Python!Hello Python!Hello Python!Hello Python!Hello Python!Hello Python!Hello Python!Hello Python!Hello Python!Hello Python!Hello Python!Hello Python!Hello Python!Hello Python!Hello Python!Hello Python!Hello Python!Hello Python!Hello Python!Hello Python!Hello Python!Hello Python!Hello Python!Hello Python!Hello Python!Hello Python!Hello Python!Hello Python!Hello Python!Hello Python!Hello Python!Hello Python!Hello Python!Hello Python!Hello Python!Hello Python!Hello Python!Hello Python!Hello Python!Hello Python!Hello Python!Hello Python!Hello Python!Hello Python!Hello Python!Hello Python!Hello Python!Hello Python!Hello Python!Hello Python!Hello Python!Hello Python!Hello Python!Hello Python!Hello Python!Hello Python!Hello Python!Hello Python!Hello Python!Hello Python!Hello Python!Hello Python!Hello Python!Hello Python!Hello Python!Hello Python!Hello Python!Hello Python!Hello Python!Hello Python!Hello Python!Hello Python!Hello Python!Hello Python!Hello Python!Hello Python!Hello Python!Hello Python!Hello Python!Hello Python!Hello Python!Hello Python!Hello Python!Hello Python!Hello Python!Hello Python!Hello Python!Hello Python!Hello Python!Hello Python!Hello Python!Hello Python!Hello Python!Hello Python!Hello Python!Hello Python!Hello Python!Hello Python!Hello Python!Hello Python!Hello Python!Hello Python!Hello Python!Hello Python!Hello Python!Hello Python!Hello Python!Hello Python!Hello Python!Hello Python!Hello Python!Hello Python!Hello Python!Hello Python!Hello Python!Hello Python!Hello Python!Hello Python!Hello Python!Hello Python!Hello Python!Hello Python!Hello Python!Hello Python!Hello Python!Hello Python!Hello Python!Hello Python!Hello Python!Hello Python!Hello Python!Hello Python!Hello Python!Hello Python!Hello Python!Hello Python!Hello Python!Hello Python!Hello Python!Hello Python!Hello Python!Hello Python!Hello Python!Hello Python!Hello Python!Hello Python!Hello Python!Hello Python!Hello Python!Hello Python!Hello Python!Hello Python!Hello Python!Hello Python!Hello Python!Hello Python!Hello Python!Hello Python!Hello Python!Hello Python!Hello Python!Hello Python!Hello Python!Hello Python!Hello Python!Hello Python!Hello Python!Hello Python!Hello Python!Hello Python!Hello Python!Hello Python!Hello Python!Hello Python!Hello Python!Hello Python!Hello Python!Hello Python!Hello Python!Hello Python!Hello Python!Hello Python!Hello Python!Hello Python!Hello Python!Hello Python!Hello Python!Hello Python!Hello Python!Hello Python!Hello Python!Hello Python!Hello Python!Hello Python!Hello Python!Hello Python!Hello Python!Hello Python!Hello Python!Hello Python!Hello Python!Hello Python!Hello Python!Hello Python!Hello Python!Hello Python!Hello Python!Hello Python!Hello Python!Hello Python!Hello Python!Hello Python!Hello Python!Hello Python!Hello Python!Hello Python!Hello Python!Hello Python!Hello Python!Hello Python!Hello Python!Hello Python!Hello Python!Hello Python!Hello Python!Hello Python!Hello Python!Hello Python!Hello Python!Hello Python!Hello Python!Hello Python!Hello Python!Hello Python!Hello Python!Hello Python!Hello Python!Hello Python!Hello Python!Hello Python!Hello Python!Hello Python!Hello Python!Hello Python!Hello Python!Hello Python!Hello Python!Hello Python!Hello Python!Hello Python!Hello Python!Hello Python!Hello Python!Hello Python!Hello Python!Hello Python!Hello Python!Hello Python!Hello Python!Hello Python!Hello Python!Hello Python!Hello Python!Hello Python!Hello Python!Hello Python!Hello Python!Hello Python!Hello Python!Hello Python!Hello Python!Hello Python!Hello Python!Hello Python!Hello Python!Hello Python!Hello Python!Hello Python!Hello Python!Hello Python!Hello Python!Hello Python!Hello Python!Hello Python!Hello Python!Hello Python!Hello Python!Hello Python!Hello Python!Hello Python!Hello Python!Hello Python!Hello Python!Hello Python!Hello Python!Hello Python!Hello Python!Hello Python!Hello Python!Hello Python!Hello Python!Hello Python!Hello Python!Hello Python!Hello Python!Hello Python!Hello Python!Hello Python!Hello Python!Hello Python!Hello Python!Hello Python!Hello Python!Hello Python!Hello Python!Hello Python!Hello Python!Hello Python!Hello Python!Hello Python!Hello Python!Hello Python!Hello Python!Hello Python!Hello Python!Hello Python!Hello Python!Hello Python!Hello Python!Hello Python!Hello Python!Hello Python!Hello Python!Hello Python!Hello Python!Hello Python!Hello Python!Hello Python!Hello Python!Hello Python!Hello Python!Hello Python!Hello Python!Hello Python!Hello Python!Hello Python!Hello Python!Hello Python!Hello Python!Hello Python!Hello Python!Hello Python!Hello Python!Hello Python!Hello Python!Hello Python!Hello Python!Hello Python!Hello Python!Hello Python!Hello Python!Hello Python!Hello Python!Hello Python!Hello Python!Hello Python!Hello Python!Hello Python!Hello Python!Hello Python!Hello Python!Hello Python!Hello Python!Hello Python!Hello Python!Hello Python!Hello Python!Hello Python!Hello Python!Hello Python!Hello Python!Hello Python!Hello Python!Hello Python!Hello Python!Hello Python!Hello Python!Hello Python!Hello Python!Hello Python!Hello Python!Hello Python!Hello Python!Hello Python!Hello Python!Hello Python!Hello Python!Hello Python!Hello Python!Hello Python!Hello Python!Hello Python!Hello Python!Hello Python!Hello Python!Hello Python!Hello Python!Hello Python!Hello Python!Hello Python!Hello Python!Hello Python!Hello Python!Hello Python!Hello Python!Hello Python!Hello Python!Hello Python!Hello Python!Hello Python!Hello Python!Hello Python!Hello Python!Hello Python!Hello Python!Hello Python!Hello Python!Hello Python!Hello Python!Hello Python!Hello Python!Hello Python!Hello Python!Hello Python!Hello Python!Hello Python!Hello Python!Hello Python!Hello Python!Hello Python!Hello Python!Hello Python!Hello Python!Hello Python!Hello Python!Hello Python!Hello Python!Hello Python!Hello Python!Hello Python!Hello Python!Hello Python!Hello Python!Hello Python!Hello Python!Hello Python!Hello Python!Hello Python!Hello Python!Hello Python!Hello Python!Hello Python!Hello Python!Hello Python!Hello Python!Hello Python!Hello Python!Hello Python!Hello Python!Hello Python!Hello Python!Hello Python!Hello Python!Hello Python!Hello Python!Hello Python!Hello Python!Hello Python!Hello Python!Hello Python!Hello Python!Hello Python!Hello Python!Hello Python!Hello Python!Hello Python!Hello Python!Hello Python!Hello Python!Hello Python!Hello Python!Hello Python!Hello Python!Hello Python!Hello Python!Hello Python!Hello Python!Hello Python!Hello Python!Hello Python!Hello Python!Hello Python!Hello Python!Hello Python!Hello Python!Hello Python!Hello Python!Hello Python!Hello Python!Hello Python!Hello Python!Hello Python!Hello Python!Hello Python!Hello Python!Hello Python!Hello Python!Hello Python!Hello Python!Hello Python!Hello Python!Hello Python!Hello Python!Hello Python!Hello Python!Hello Python!Hello Python!Hello Python!Hello Python!Hello Python!Hello Python!Hello Python!Hello Python!Hello Python!Hello Python!Hello Python!Hello Python!Hello Python!Hello Python!Hello Python!Hello Python!Hello Python!Hello Python!Hello Python!Hello Python!Hello Python!Hello Python!Hello Python!Hello Python!Hello Python!Hello Python!Hello Python!Hello Python!Hello Python!Hello Python!Hello Python!Hello Python!Hello Python!Hello Python!Hello Python!Hello Python!Hello Python!Hello Python!Hello Python!Hello Python!Hello Python!Hello Python!Hello Python!Hello Python!Hello Python!Hello Python!Hello Python!Hello Python!Hello Python!Hello Python!Hello Python!Hello Python!Hello Python!Hello Python!Hello Python!Hello Python!Hello Python!Hello Python!Hello Python!Hello Python!Hello Python!Hello Python!Hello Python!Hello Python!Hello Python!Hello Python!Hello Python!Hello Python!Hello Python!Hello Python!Hello Python!Hello Python!Hello Python!Hello Python!Hello Python!Hello Python!Hello Python!Hello Python!Hello Python!Hello Python!Hello Python!Hello Python!Hello Python!Hello Python!Hello Python!Hello Python!Hello Python!Hello Python!Hello Python!Hello Python!Hello Python!Hello Python!Hello Python!Hello Python!Hello Python!Hello Python!Hello Python!Hello Python!Hello Python!Hello Python!Hello Python!Hello Python!Hello Python!Hello Python!Hello Python!Hello Python!Hello Python!Hello Python!Hello Python!Hello Python!Hello Python!Hello Python!Hello Python!Hello Python!Hello Python!Hello Python!Hello Python!Hello Python!Hello Python!Hello Python!Hello Python!Hello Python!Hello Python!Hello Python!Hello Python!Hello Python!Hello Python!Hello Python!Hello Python!Hello Python!Hello Python!Hello Python!Hello Python!Hello Python!Hello Python!Hello Python!Hello Python!Hello Python!Hello Python!Hello Python!Hello Python!Hello Python!Hello Python!Hello Python!Hello Python!Hello Python!Hello Python!Hello Python!Hello Python!Hello Python!Hello Python!Hello Python!Hello Python!Hello Python!Hello Python!Hello Python!Hello Python!Hello Python!Hello Python!Hello Python!Hello Python!Hello Python!Hello Python!Hello Python!Hello Python!Hello Python!Hello Python!Hello Python!Hello Python!Hello Python!Hello Python!Hello Python!Hello Python!Hello Python!Hello Python!Hello Python!Hello Python!Hello Python!Hello Python!Hello Python!Hello Python!Hello Python!Hello Python!Hello Python!Hello Python!Hello Python!Hello Python!Hello Python!Hello Python!Hello Python!Hello Python!Hello Python!Hello Python!Hello Python!Hello Python!Hello Python!Hello Python!Hello Python!Hello Python!Hello Python!Hello Python!Hello Python!Hello Python!Hello Python!Hello Python!Hello Python!Hello Python!Hello Python!Hello Python!Hello Python!Hello Python!Hello Python!Hello Python!Hello Python!Hello Python!Hello Python!Hello Python!Hello Python!Hello Python!Hello Python!Hello Python!Hello Python!Hello Python!Hello Python!Hello Python!Hello Python!Hello Python!Hello Python!Hello Python!Hello Python!Hello Python!Hello Python!Hello Python!Hello Python!Hello Python!Hello Python!Hello Python!Hello Python!Hello Python!Hello Python!Hello Python!Hello Python!Hello Python!Hello Python!Hello Python!Hello Python!Hello Python!Hello Python!Hello Python!Hello Python!Hello Python!Hello Python!Hello Python!Hello Python!Hello Python!Hello Python!Hello Python!Hello Python!Hello Python!Hello Python!Hello Python!Hello Python!Hello Python!Hello Python!Hello Python!Hello Python!Hello Python!Hello Python!Hello Python!Hello Python!Hello Python!Hello Python!Hello Python!Hello Python!Hello Python!Hello Python!Hello Python!Hello Python!Hello Python!Hello Python!Hello Python!Hello Python!Hello Python!Hello Python!Hello Python!Hello Python!Hello Python!Hello Python!Hello Python!Hello Python!Hello Python!Hello Python!Hello Python!Hello Python!Hello Python!Hello Python!Hello Python!Hello Python!Hello Python!Hello Python!Hello Python!Hello Python!Hello Python!Hello Python!Hello Python!Hello Python!Hello Python!Hello Python!Hello Python!Hello Python!Hello Python!Hello Python!Hello Python!Hello Python!Hello Python!Hello Python!Hello Python!Hello Python!Hello Python!Hello Python!Hello Python!Hello Python!Hello Python!Hello Python!Hello Python!Hello Python!Hello Python!Hello Python!Hello Python!Hello Python!Hello Python!Hello Python!Hello Python!Hello Python!Hello Python!Hello Python!Hello Python!Hello Python!Hello Python!Hello Python!Hello Python!Hello Python!Hello Python!Hello Python!Hello Python!Hello Python!Hello Python!Hello Python!Hello Python!Hello Python!Hello Python!Hello Python!Hello Python!Hello Python!Hello Python!Hello Python!Hello Python!Hello Python!Hello Python!Hello Python!Hello Python!Hello Python!Hello Python!Hello Python!Hello Python!Hello Python!Hello Python!Hello Python!Hello Python!Hello Python!Hello Python!Hello Python!Hello Python!Hello Python!Hello Python!Hello Python!Hello Python!Hello Python!Hello Python!Hello Python!Hello Python!Hello Python!Hello Python!Hello Python!Hello Python!Hello Python!Hello Python!Hello Python!Hello Python!Hello Python!Hello Python!Hello Python!Hello Python!Hello Python!Hello Python!Hello Python!Hello Python!Hello Python!Hello Python!Hello Python!Hello Python!Hello Python!Hello Python!Hello Python!Hello Python!Hello Python!Hello Python!Hello Python!Hello Python!Hello Python!Hello Python!Hello Python!Hello Python!Hello Python!Hello Python!Hello Python!Hello Python!Hello Python!Hello Python!Hello Python!Hello Python!Hello Python!Hello Python!Hello Python!Hello Python!Hello Python!Hello Python!Hello Python!Hello Python!Hello Python!Hello Python!Hello Python!Hello Python!Hello Python!Hello Python!Hello Python!Hello Python!Hello Python!Hello Python!Hello Python!Hello Python!Hello Python!Hello Python!Hello Python!Hello Python!Hello Python!Hello Python!Hello Python!Hello Python!Hello Python!Hello Python!Hello Python!Hello Python!Hello Python!Hello Python!Hello Python!Hello Python!Hello Python!Hello Python!Hello Python!Hello Python!Hello Python!Hello Python!Hello Python!Hello Python!Hello Python!Hello Python!Hello Python!Hello Python!Hello Python!Hello Python!Hello Python!Hello Python!Hello Python!Hello Python!Hello Python!Hello Python!Hello Python!Hello Python!Hello Python!Hello Python!Hello Python!Hello Python!Hello Python!Hello Python!Hello Python!Hello Python!Hello Python!Hello Python!Hello Python!Hello Python!Hello Python!Hello Python!Hello Python!Hello Python!Hello Python!Hello Python!Hello Python!Hello Python!Hello Python!Hello Python!Hello Python!Hello Python!Hello Python!Hello Python!Hello Python!Hello Python!Hello Python!Hello Python!Hello Python!Hello Python!Hello Python!Hello Python!Hello Python!Hello Python!Hello Python!Hello Python!Hello Python!Hello Python!Hello Python!Hello Python!Hello Python!Hello Python!Hello Python!Hello Python!Hello Python!Hello Python!Hello Python!Hello Python!Hello Python!Hello Python!Hello Python!Hello Python!Hello Python!Hello Python!Hello Python!Hello Python!Hello Python!Hello Python!Hello Python!Hello Python!Hello Python!Hello Python!Hello Python!Hello Python!Hello Python!Hello Python!Hello Python!Hello Python!Hello Python!Hello Python!Hello Python!Hello Python!Hello Python!Hello Python!Hello Python!Hello Python!Hello Python!Hello Python!Hello Python!Hello Python!Hello Python!Hello Python!Hello Python!Hello Python!Hello Python!Hello Python!Hello Python!Hello Python!Hello Python!Hello Python!Hello Python!Hello Python!Hello Python!Hello Python!Hello Python!Hello Python!Hello Python!Hello Python!Hello Python!Hello Python!Hello Python!Hello Python!Hello Python!Hello Python!Hello Python!Hello Python!Hello Python!Hello Python!Hello Python!Hello Python!Hello Python!Hello Python!Hello Python!Hello Python!Hello Python!Hello Python!Hello Python!Hello Python!Hello Python!Hello Python!Hello Python!Hello Python!Hello Python!Hello Python!Hello Python!Hello Python!Hello Python!Hello Python!Hello Python!Hello Python!Hello Python!Hello Python!Hello Python!Hello Python!Hello Python!Hello Python!Hello Python!Hello Python!Hello Python!Hello Python!Hello Python!Hello Python!Hello Python!Hello Python!Hello Python!Hello Python!Hello Python!Hello Python!Hello Python!Hello Python!Hello Python!Hello Python!Hello Python!Hello Python!Hello Python!Hello Python!Hello Python!Hello Python!Hello Python!Hello Python!Hello Python!Hello Python!Hello Python!Hello Python!Hello Python!Hello Python!Hello Python!Hello Python!Hello Python!Hello Python!Hello Python!Hello Python!Hello Python!Hello Python!Hello Python!Hello Python!Hello Python!Hello Python!Hello Python!Hello Python!Hello Python!Hello Python!Hello Python!Hello Python!Hello Python!Hello Python!Hello Python!Hello Python!Hello Python!Hello Python!Hello Python!Hello Python!Hello Python!Hello Python!Hello Python!Hello Python!Hello Python!Hello Python!Hello Python!Hello Python!Hello Python!Hello Python!Hello Python!Hello Python!Hello Python!Hello Python!Hello Python!Hello Python!Hello Python!Hello Python!Hello Python!Hello Python!Hello Python!Hello Python!Hello Python!Hello Python!Hello Python!Hello Python!Hello Python!Hello Python!Hello Python!Hello Python!Hello Python!Hello Python!Hello Python!Hello Python!Hello Python!Hello Python!Hello Python!Hello Python!Hello Python!Hello Python!Hello Python!Hello Python!Hello Python!Hello Python!Hello Python!Hello Python!Hello Python!Hello Python!Hello Python!Hello Python!Hello Python!Hello Python!Hello Python!Hello Python!Hello Python!Hello Python!Hello Python!Hello Python!Hello Python!Hello Python!Hello Python!Hello Python!Hello Python!Hello Python!Hello Python!Hello Python!Hello Python!Hello Python!Hello Python!Hello Python!Hello Python!Hello Python!Hello Python!Hello Python!Hello Python!Hello Python!Hello Python!Hello Python!Hello Python!Hello Python!Hello Python!Hello Python!Hello Python!Hello Python!Hello Python!Hello Python!Hello Python!Hello Python!Hello Python!Hello Python!Hello Python!Hello Python!Hello Python!Hello Python!Hello Python!Hello Python!Hello Python!Hello Python!Hello Python!Hello Python!Hello Python!Hello Python!Hello Python!Hello Python!Hello Python!Hello Python!Hello Python!Hello Python!Hello Python!Hello Python!Hello Python!Hello Python!Hello Python!Hello Python!Hello Python!Hello Python!Hello Python!Hello Python!Hello Python!Hello Python!Hello Python!Hello Python!Hello Python!Hello Python!Hello Python!Hello Python!Hello Python!Hello Python!Hello Python!Hello Python!Hello Python!Hello Python!Hello Python!Hello Python!Hello Python!Hello Python!Hello Python!Hello Python!Hello Python!Hello Python!Hello Python!Hello Python!Hello Python!Hello Python!Hello Python!Hello Python!Hello Python!Hello Python!Hello Python!Hello Python!Hello Python!Hello Python!Hello Python!Hello Python!Hello Python!Hello Python!Hello Python!Hello Python!Hello Python!Hello Python!Hello Python!Hello Python!Hello Python!Hello Python!Hello Python!Hello Python!Hello Python!Hello Python!Hello Python!Hello Python!Hello Python!Hello Python!Hello Python!Hello Python!Hello Python!Hello Python!Hello Python!Hello Python!Hello Python!Hello Python!Hello Python!Hello Python!Hello Python!Hello Python!Hello Python!Hello Python!Hello Python!Hello Python!Hello Python!Hello Python!Hello Python!Hello Python!Hello Python!Hello Python!Hello Python!Hello Python!Hello Python!Hello Python!Hello Python!Hello Python!Hello Python!Hello Python!Hello Python!Hello Python!Hello Python!Hello Python!Hello Python!Hello Python!Hello Python!Hello Python!Hello Python!Hello Python!Hello Python!Hello Python!Hello Python!Hello Python!Hello Python!Hello Python!Hello Python!Hello Python!Hello Python!Hello Python!Hello Python!Hello Python!Hello Python!Hello Python!Hello Python!Hello Python!Hello Python!Hello Python!Hello Python!Hello Python!Hello Python!Hello Python!Hello Python!Hello Python!Hello Python!Hello Python!Hello Python!Hello Python!Hello Python!Hello Python!Hello Python!Hello Python!Hello Python!Hello Python!Hello Python!Hello Python!Hello Python!Hello Python!Hello Python!Hello Python!Hello Python!Hello Python!Hello Python!Hello Python!Hello Python!Hello Python!Hello Python!Hello Python!Hello Python!Hello Python!Hello Python!Hello Python!Hello Python!Hello Python!Hello Python!Hello Python!Hello Python!Hello Python!Hello Python!Hello Python!Hello Python!Hello Python!Hello Python!Hello Python!Hello Python!Hello Python!Hello Python!Hello Python!Hello Python!Hello Python!Hello Python!Hello Python!Hello Python!Hello Python!Hello Python!Hello Python!Hello Python!Hello Python!Hello Python!Hello Python!Hello Python!Hello Python!Hello Python!Hello Python!Hello Python!Hello Python!Hello Python!Hello Python!Hello Python!Hello Python!Hello Python!Hello Python!Hello Python!Hello Python!Hello Python!Hello Python!Hello Python!Hello Python!Hello Python!Hello Python!Hello Python!Hello Python!Hello Python!Hello Python!Hello Python!Hello Python!Hello Python!Hello Python!Hello Python!Hello Python!Hello Python!Hello Python!Hello Python!Hello Python!Hello Python!Hello Python!Hello Python!Hello Python!Hello Python!Hello Python!Hello Python!Hello Python!Hello Python!Hello Python!Hello Python!Hello Python!Hello Python!Hello Python!Hello Python!Hello Python!Hello Python!Hello Python!Hello Python!Hello Python!Hello Python!Hello Python!Hello Python!Hello Python!Hello Python!Hello Python!Hello Python!Hello Python!Hello Python!Hello Python!Hello Python!Hello Python!Hello Python!Hello Python!Hello Python!Hello Python!Hello Python!Hello Python!Hello Python!Hello Python!Hello Python!Hello Python!Hello Python!Hello Python!Hello Python!Hello Python!Hello Python!Hello Python!Hello Python!Hello Python!Hello Python!Hello Python!Hello Python!Hello Python!Hello Python!Hello Python!Hello Python!Hello Python!Hello Python!Hello Python!Hello Python!Hello Python!Hello Python!Hello Python!Hello Python!Hello Python!Hello Python!Hello Python!Hello Python!Hello Python!Hello Python!Hello Python!Hello Python!Hello Python!Hello Python!Hello Python!Hello Python!Hello Python!Hello Python!Hello Python!Hello Python!Hello Python!Hello Python!Hello Python!Hello Python!Hello Python!Hello Python!Hello Python!Hello Python!Hello Python!Hello Python!Hello Python!Hello Python!Hello Python!Hello Python!Hello Python!Hello Python!Hello Python!Hello Python!Hello Python!Hello Python!Hello Python!Hello Python!Hello Python!Hello Python!Hello Python!Hello Python!Hello Python!Hello Python!Hello Python!Hello Python!Hello Python!Hello Python!Hello Python!Hello Python!Hello Python!Hello Python!Hello Python!Hello Python!Hello Python!Hello Python!Hello Python!Hello Python!Hello Python!Hello Python!Hello Python!Hello Python!Hello Python!Hello Python!Hello Python!Hello Python!Hello Python!Hello Python!Hello Python!Hello Python!Hello Python!Hello Python!Hello Python!Hello Python!Hello Python!Hello Python!Hello Python!Hello Python!Hello Python!Hello Python!Hello Python!Hello Python!Hello Python!Hello Python!Hello Python!Hello Python!Hello Python!Hello Python!Hello Python!Hello Python!Hello Python!Hello Python!Hello Python!Hello Python!Hello Python!Hello Python!Hello Python!Hello Python!Hello Python!Hello Python!Hello Python!Hello Python!Hello Python!Hello Python!Hello Python!Hello Python!Hello Python!Hello Python!Hello Python!Hello Python!Hello Python!Hello Python!Hello Python!Hello Python!Hello Python!Hello Python!Hello Python!Hello Python!Hello Python!Hello Python!Hello Python!Hello Python!Hello Python!Hello Python!Hello Python!Hello Python!Hello Python!Hello Python!Hello Python!Hello Python!Hello Python!Hello Python!Hello Python!Hello Python!Hello Python!Hello Python!Hello Python!Hello Python!Hello Python!Hello Python!Hello Python!Hello Python!Hello Python!Hello Python!Hello Python!Hello Python!Hello Python!Hello Python!Hello Python!Hello Python!Hello Python!Hello Python!Hello Python!Hello Python!Hello Python!Hello Python!Hello Python!Hello Python!Hello Python!Hello Python!Hello Python!Hello Python!Hello Python!Hello Python!Hello Python!Hello Python!Hello Python!Hello Python!Hello Python!Hello Python!Hello Python!Hello Python!Hello Python!Hello Python!Hello Python!Hello Python!Hello Python!Hello Python!Hello Python!Hello Python!Hello Python!Hello Python!Hello Python!Hello Python!Hello Python!Hello Python!Hello Python!Hello Python!Hello Python!Hello Python!Hello Python!Hello Python!Hello Python!Hello Python!Hello Python!Hello Python!Hello Python!Hello Python!Hello Python!Hello Python!Hello Python!Hello Python!Hello Python!Hello Python!Hello Python!Hello Python!Hello Python!Hello Python!Hello Python!Hello Python!Hello Python!Hello Python!Hello Python!Hello Python!Hello Python!Hello Python!Hello Python!Hello Python!Hello Python!Hello Python!Hello Python!Hello Python!Hello Python!Hello Python!Hello Python!Hello Python!Hello Python!Hello Python!Hello Python!Hello Python!Hello Python!Hello Python!Hello Python!Hello Python!Hello Python!Hello Python!Hello Python!Hello Python!Hello Python!Hello Python!Hello Python!Hello Python!Hello Python!Hello Python!Hello Python!Hello Python!Hello Python!Hello Python!Hello Python!Hello Python!Hello Python!Hello Python!Hello Python!Hello Python!Hello Python!Hello Python!Hello Python!Hello Python!Hello Python!Hello Python!Hello Python!Hello Python!Hello Python!Hello Python!Hello Python!Hello Python!Hello Python!Hello Python!Hello Python!Hello Python!Hello Python!Hello Python!Hello Python!Hello Python!Hello Python!Hello Python!Hello Python!Hello Python!Hello Python!Hello Python!Hello Python!Hello Python!Hello Python!Hello Python!Hello Python!Hello Python!Hello Python!Hello Python!Hello Python!Hello Python!Hello Python!Hello Python!Hello Python!Hello Python!Hello Python!Hello Python!Hello Python!Hello Python!Hello Python!Hello Python!Hello Python!Hello Python!Hello Python!Hello Python!Hello Python!Hello Python!Hello Python!Hello Python!Hello Python!Hello Python!Hello Python!Hello Python!Hello Python!Hello Python!Hello Python!Hello Python!Hello Python!Hello Python!Hello Python!Hello Python!Hello Python!Hello Python!Hello Python!Hello Python!Hello Python!Hello Python!Hello Python!Hello Python!Hello Python!Hello Python!Hello Python!Hello Python!Hello Python!Hello Python!Hello Python!Hello Python!Hello Python!Hello Python!Hello Python!Hello Python!Hello Python!Hello Python!Hello Python!Hello Python!Hello Python!Hello Python!Hello Python!Hello Python!Hello Python!Hello Python!Hello Python!Hello Python!Hello Python!Hello Python!Hello Python!Hello Python!Hello Python!Hello Python!Hello Python!Hello Python!Hello Python!Hello Python!Hello Python!Hello Python!Hello Python!Hello Python!Hello Python!Hello Python!Hello Python!Hello Python!Hello Python!Hello Python!Hello Python!Hello Python!Hello Python!Hello Python!Hello Python!Hello Python!Hello Python!Hello Python!Hello Python!Hello Python!Hello Python!Hello Python!Hello Python!Hello Python!Hello Python!Hello Python!Hello Python!Hello Python!Hello Python!Hello Python!Hello Python!Hello Python!Hello Python!Hello Python!Hello Python!Hello Python!Hello Python!Hello Python!Hello Python!Hello Python!Hello Python!Hello Python!Hello Python!Hello Python!Hello Python!Hello Python!Hello Python!Hello Python!Hello Python!Hello Python!Hello Python!Hello Python!Hello Python!Hello Python!Hello Python!Hello Python!Hello Python!Hello Python!Hello Python!Hello Python!Hello Python!Hello Python!Hello Python!Hello Python!Hello Python!Hello Python!Hello Python!Hello Python!Hello Python!Hello Python!Hello Python!Hello Python!Hello Python!Hello Python!Hello Python!Hello Python!Hello Python!Hello Python!Hello Python!Hello Python!Hello Python!Hello Python!Hello Python!Hello Python!Hello Python!Hello Python!Hello Python!Hello Python!Hello Python!Hello Python!Hello Python!Hello Python!Hello Python!Hello Python!Hello Python!Hello Python!Hello Python!Hello Python!Hello Python!Hello Python!Hello Python!Hello Python!Hello Python!Hello Python!Hello Python!Hello Python!Hello Python!Hello Python!Hello Python!Hello Python!Hello Python!Hello Python!Hello Python!Hello Python!Hello Python!Hello Python!Hello Python!Hello Python!Hello Python!Hello Python!Hello Python!Hello Python!Hello Python!Hello Python!Hello Python!Hello Python!Hello Python!Hello Python!Hello Python!Hello Python!Hello Python!Hello Python!Hello Python!Hello Python!Hello Python!Hello Python!Hello Python!Hello Python!Hello Python!Hello Python!Hello Python!Hello Python!Hello Python!Hello Python!Hello Python!Hello Python!Hello Python!Hello Python!Hello Python!Hello Python!Hello Python!Hello Python!Hello Python!Hello Python!Hello Python!Hello Python!Hello Python!Hello Python!Hello Python!Hello Python!Hello Python!Hello Python!Hello Python!Hello Python!Hello Python!Hello Python!Hello Python!Hello Python!Hello Python!Hello Python!Hello Python!Hello Python!Hello Python!Hello Python!Hello Python!Hello Python!Hello Python!Hello Python!Hello Python!Hello Python!Hello Python!Hello Python!Hello Python!Hello Python!Hello Python!Hello Python!Hello Python!Hello Python!Hello Python!Hello Python!Hello Python!Hello Python!Hello Python!Hello Python!Hello Python!Hello Python!Hello Python!Hello Python!Hello Python!Hello Python!Hello Python!Hello Python!Hello Python!Hello Python!Hello Python!Hello Python!Hello Python!Hello Python!Hello Python!Hello Python!Hello Python!Hello Python!Hello Python!Hello Python!Hello Python!Hello Python!Hello Python!Hello Python!Hello Python!Hello Python!Hello Python!Hello Python!Hello Python!Hello Python!Hello Python!Hello Python!Hello Python!Hello Python!Hello Python!Hello Python!Hello Python!Hello Python!Hello Python!Hello Python!Hello Python!Hello Python!Hello Python!Hello Python!Hello Python!Hello Python!Hello Python!Hello Python!Hello Python!Hello Python!Hello Python!Hello Python!Hello Python!Hello Python!Hello Python!Hello Python!Hello Python!Hello Python!Hello Python!Hello Python!Hello Python!Hello Python!Hello Python!Hello Python!Hello Python!Hello Python!Hello Python!Hello Python!Hello Python!Hello Python!Hello Python!Hello Python!Hello Python!Hello Python!Hello Python!Hello Python!Hello Python!Hello Python!Hello Python!Hello Python!Hello Python!Hello Python!Hello Python!Hello Python!Hello Python!Hello Python!Hello Python!Hello Python!Hello Python!Hello Python!Hello Python!Hello Python!Hello Python!Hello Python!Hello Python!Hello Python!Hello Python!Hello Python!Hello Python!Hello Python!Hello Python!Hello Python!Hello Python!Hello Python!Hello Python!Hello Python!Hello Python!Hello Python!Hello Python!Hello Python!Hello Python!Hello Python!Hello Python!Hello Python!Hello Python!Hello Python!Hello Python!Hello Python!Hello Python!Hello Python!Hello Python!Hello Python!Hello Python!Hello Python!Hello Python!Hello Python!Hello Python!Hello Python!Hello Python!Hello Python!Hello Python!Hello Python!Hello Python!Hello Python!Hello Python!Hello Python!Hello Python!Hello Python!Hello Python!Hello Python!Hello Python!Hello Python!Hello Python!Hello Python!Hello Python!Hello Python!Hello Python!Hello Python!Hello Python!Hello Python!Hello Python!Hello Python!Hello Python!Hello Python!Hello Python!Hello Python!Hello Python!Hello Python!Hello Python!Hello Python!Hello Python!Hello Python!Hello Python!Hello Python!Hello Python!Hello Python!Hello Python!Hello Python!Hello Python!Hello Python!Hello Python!Hello Python!Hello Python!Hello Python!Hello Python!Hello Python!Hello Python!Hello Python!Hello Python!Hello Python!Hello Python!Hello Python!Hello Python!Hello Python!Hello Python!Hello Python!Hello Python!Hello Python!Hello Python!Hello Python!Hello Python!Hello Python!Hello Python!Hello Python!Hello Python!Hello Python!Hello Python!Hello Python!Hello Python!Hello Python!Hello Python!Hello Python!Hello Python!Hello Python!Hello Python!Hello Python!Hello Python!Hello Python!Hello Python!Hello Python!Hello Python!Hello Python!Hello Python!Hello Python!Hello Python!Hello Python!Hello Python!Hello Python!Hello Python!Hello Python!Hello Python!Hello Python!Hello Python!Hello Python!Hello Python!Hello Python!Hello Python!Hello Python!Hello Python!Hello Python!Hello Python!Hello Python!Hello Python!Hello Python!Hello Python!Hello Python!Hello Python!Hello Python!Hello Python!Hello Python!Hello Python!Hello Python!Hello Python!Hello Python!Hello Python!Hello Python!Hello Python!Hello Python!Hello Python!Hello Python!Hello Python!Hello Python!Hello Python!Hello Python!Hello Python!Hello Python!Hello Python!Hello Python!Hello Python!Hello Python!Hello Python!Hello Python!Hello Python!Hello Python!Hello Python!Hello Python!Hello Python!Hello Python!Hello Python!Hello Python!Hello Python!Hello Python!Hello Python!Hello Python!Hello Python!Hello Python!Hello Python!Hello Python!Hello Python!Hello Python!Hello Python!Hello Python!Hello Python!Hello Python!Hello Python!Hello Python!Hello Python!Hello Python!Hello Python!Hello Python!Hello Python!Hello Python!Hello Python!Hello Python!Hello Python!Hello Python!Hello Python!Hello Python!Hello Python!Hello Python!Hello Python!Hello Python!Hello Python!Hello Python!Hello Python!Hello Python!Hello Python!Hello Python!Hello Python!Hello Python!Hello Python!Hello Python!Hello Python!Hello Python!Hello Python!Hello Python!Hello Python!Hello Python!Hello Python!Hello Python!Hello Python!Hello Python!Hello Python!Hello Python!Hello Python!Hello Python!Hello Python!Hello Python!Hello Python!Hello Python!Hello Python!Hello Python!Hello Python!Hello Python!Hello Python!Hello Python!Hello Python!Hello Python!Hello Python!Hello Python!Hello Python!Hello Python!Hello Python!Hello Python!Hello Python!Hello Python!Hello Python!Hello Python!Hello Python!Hello Python!Hello Python!Hello Python!Hello Python!Hello Python!Hello Python!Hello Python!Hello Python!Hello Python!Hello Python!Hello Python!Hello Python!Hello Python!Hello Python!Hello Python!Hello Python!Hello Python!Hello Python!Hello Python!Hello Python!Hello Python!Hello Python!Hello Python!Hello Python!Hello Python!Hello Python!Hello Python!Hello Python!Hello Python!Hello Python!Hello Python!Hello Python!Hello Python!Hello Python!Hello Python!Hello Python!Hello Python!Hello Python!Hello Python!Hello Python!Hello Python!Hello Python!Hello Python!Hello Python!Hello Python!Hello Python!Hello Python!Hello Python!Hello Python!Hello Python!Hello Python!Hello Python!Hello Python!Hello Python!Hello Python!Hello Python!Hello Python!Hello Python!Hello Python!Hello Python!Hello Python!Hello Python!Hello Python!Hello Python!Hello Python!Hello Python!Hello Python!Hello Python!Hello Python!Hello Python!Hello Python!Hello Python!Hello Python!Hello Python!Hello Python!Hello Python!Hello Python!Hello Python!Hello Python!Hello Python!Hello Python!Hello Python!Hello Python!Hello Python!Hello Python!Hello Python!Hello Python!Hello Python!Hello Python!Hello Python!Hello Python!Hello Python!Hello Python!Hello Python!Hello Python!Hello Python!Hello Python!Hello Python!Hello Python!Hello Python!Hello Python!Hello Python!Hello Python!Hello Python!Hello Python!Hello Python!Hello Python!Hello Python!Hello Python!Hello Python!Hello Python!Hello Python!Hello Python!Hello Python!Hello Python!Hello Python!Hello Python!Hello Python!Hello Python!Hello Python!Hello Python!Hello Python!Hello Python!Hello Python!Hello Python!Hello Python!Hello Python!Hello Python!Hello Python!Hello Python!Hello Python!Hello Python!Hello Python!Hello Python!Hello Python!Hello Python!Hello Python!Hello Python!Hello Python!Hello Python!Hello Python!Hello Python!Hello Python!Hello Python!Hello Python!Hello Python!Hello Python!Hello Python!Hello Python!Hello Python!Hello Python!Hello Python!Hello Python!Hello Python!Hello Python!Hello Python!Hello Python!Hello Python!Hello Python!Hello Python!Hello Python!Hello Python!Hello Python!Hello Python!Hello Python!Hello Python!Hello Python!Hello Python!Hello Python!Hello Python!Hello Python!Hello Python!Hello Python!Hello Python!Hello Python!Hello Python!Hello Python!Hello Python!Hello Python!Hello Python!Hello Python!Hello Python!Hello Python!Hello Python!Hello Python!Hello Python!Hello Python!Hello Python!Hello Python!Hello Python!Hello Python!Hello Python!Hello Python!Hello Python!Hello Python!Hello Python!Hello Python!Hello Python!Hello Python!Hello Python!Hello Python!Hello Python!Hello Python!Hello Python!Hello Python!Hello Python!Hello Python!Hello Python!Hello Python!Hello Python!Hello Python!Hello Python!Hello Python!Hello Python!Hello Python!Hello Python!Hello Python!Hello Python!Hello Python!Hello Python!Hello Python!Hello Python!Hello Python!Hello Python!Hello Python!Hello Python!Hello Python!Hello Python!Hello Python!Hello Python!Hello Python!Hello Python!Hello Python!Hello Python!Hello Python!Hello Python!Hello Python!Hello Python!Hello Python!Hello Python!Hello Python!Hello Python!Hello Python!Hello Python!Hello Python!Hello Python!Hello Python!Hello Python!Hello Python!Hello Python!Hello Python!Hello Python!Hello Python!Hello Python!Hello Python!Hello Python!Hello Python!Hello Python!Hello Python!Hello Python!Hello Python!Hello Python!Hello Python!Hello Python!Hello Python!Hello Python!Hello Python!Hello Python!Hello Python!Hello Python!Hello Python!Hello Python!Hello Python!Hello Python!Hello Python!Hello Python!Hello Python!Hello Python!Hello Python!Hello Python!Hello Python!Hello Python!Hello Python!Hello Python!Hello Python!Hello Python!Hello Python!Hello Python!Hello Python!Hello Python!Hello Python!Hello Python!Hello Python!Hello Python!Hello Python!Hello Python!Hello Python!Hello Python!Hello Python!Hello Python!Hello Python!Hello Python!Hello Python!Hello Python!Hello Python!Hello Python!Hello Python!Hello Python!Hello Python!Hello Python!Hello Python!Hello Python!Hello Python!Hello Python!Hello Python!Hello Python!Hello Python!Hello Python!Hello Python!Hello Python!Hello Python!Hello Python!Hello Python!Hello Python!Hello Python!Hello Python!Hello Python!Hello Python!Hello Python!Hello Python!Hello Python!Hello Python!Hello Python!Hello Python!Hello Python!Hello Python!Hello Python!Hello Python!Hello Python!Hello Python!Hello Python!Hello Python!Hello Python!Hello Python!Hello Python!Hello Python!Hello Python!Hello Python!Hello Python!Hello Python!Hello Python!Hello Python!Hello Python!Hello Python!Hello Python!Hello Python!Hello Python!Hello Python!Hello Python!Hello Python!Hello Python!Hello Python!Hello Python!Hello Python!Hello Python!Hello Python!Hello Python!Hello Python!Hello Python!Hello Python!Hello Python!Hello Python!Hello Python!Hello Python!Hello Python!Hello Python!Hello Python!Hello Python!Hello Python!Hello Python!Hello Python!Hello Python!Hello Python!Hello Python!Hello Python!Hello Python!Hello Python!Hello Python!Hello Python!Hello Python!Hello Python!Hello Python!Hello Python!Hello Python!Hello Python!Hello Python!Hello Python!Hello Python!Hello Python!Hello Python!Hello Python!Hello Python!Hello Python!Hello Python!Hello Python!Hello Python!Hello Python!Hello Python!Hello Python!Hello Python!Hello Python!Hello Python!Hello Python!Hello Python!Hello Python!Hello Python!Hello Python!Hello Python!Hello Python!Hello Python!Hello Python!Hello Python!Hello Python!Hello Python!Hello Python!Hello Python!Hello Python!Hello Python!Hello Python!Hello Python!Hello Python!Hello Python!Hello Python!Hello Python!Hello Python!Hello Python!Hello Python!Hello Python!Hello Python!Hello Python!Hello Python!Hello Python!Hello Python!Hello Python!Hello Python!Hello Python!Hello Python!Hello Python!Hello Python!Hello Python!Hello Python!Hello Python!Hello Python!Hello Python!Hello Python!Hello Python!Hello Python!Hello Python!Hello Python!Hello Python!Hello Python!Hello Python!Hello Python!Hello Python!Hello Python!Hello Python!Hello Python!Hello Python!Hello Python!Hello Python!Hello Python!Hello Python!Hello Python!Hello Python!Hello Python!Hello Python!Hello Python!Hello Python!Hello Python!Hello Python!Hello Python!Hello Python!Hello Python!Hello Python!Hello Python!Hello Python!Hello Python!Hello Python!Hello Python!Hello Python!Hello Python!Hello Python!Hello Python!Hello Python!Hello Python!Hello Python!Hello Python!Hello Python!Hello Python!Hello Python!Hello Python!Hello Python!Hello Python!Hello Python!Hello Python!Hello Python!Hello Python!Hello Python!Hello Python!Hello Python!Hello Python!Hello Python!Hello Python!Hello Python!Hello Python!Hello Python!Hello Python!Hello Python!Hello Python!Hello Python!Hello Python!Hello Python!Hello Python!Hello Python!Hello Python!Hello Python!Hello Python!Hello Python!Hello Python!Hello Python!Hello Python!Hello Python!Hello Python!Hello Python!Hello Python!Hello Python!Hello Python!Hello Python!Hello Python!Hello Python!Hello Python!Hello Python!Hello Python!Hello Python!Hello Python!Hello Python!Hello Python!Hello Python!Hello Python!Hello Python!Hello Python!Hello Python!Hello Python!Hello Python!Hello Python!Hello Python!Hello Python!Hello Python!Hello Python!Hello Python!Hello Python!Hello Python!Hello Python!Hello Python!Hello Python!Hello Python!Hello Python!Hello Python!Hello Python!Hello Python!Hello Python!Hello Python!Hello Python!Hello Python!Hello Python!Hello Python!Hello Python!Hello Python!Hello Python!Hello Python!Hello Python!Hello Python!Hello Python!Hello Python!Hello Python!Hello Python!Hello Python!Hello Python!Hello Python!Hello Python!Hello Python!Hello Python!Hello Python!Hello Python!Hello Python!Hello Python!Hello Python!Hello Python!Hello Python!Hello Python!Hello Python!Hello Python!Hello Python!Hello Python!Hello Python!Hello Python!Hello Python!Hello Python!Hello Python!Hello Python!Hello Python!Hello Python!Hello Python!Hello Python!Hello Python!Hello Python!Hello Python!Hello Python!Hello Python!Hello Python!Hello Python!Hello Python!Hello Python!Hello Python!Hello Python!Hello Python!Hello Python!Hello Python!Hello Python!Hello Python!Hello Python!Hello Python!Hello Python!Hello Python!Hello Python!Hello Python!Hello Python!Hello Python!Hello Python!Hello Python!Hello Python!Hello Python!Hello Python!Hello Python!Hello Python!Hello Python!Hello Python!Hello Python!Hello Python!Hello Python!Hello Python!Hello Python!Hello Python!Hello Python!Hello Python!Hello Python!Hello Python!Hello Python!Hello Python!Hello Python!Hello Python!Hello Python!Hello Python!Hello Python!Hello Python!Hello Python!Hello Python!Hello Python!Hello Python!Hello Python!Hello Python!Hello Python!Hello Python!Hello Python!Hello Python!Hello Python!Hello Python!Hello Python!Hello Python!Hello Python!Hello Python!Hello Python!Hello Python!Hello Python!Hello Python!Hello Python!Hello Python!Hello Python!Hello Python!Hello Python!Hello Python!Hello Python!Hello Python!Hello Python!Hello Python!Hello Python!Hello Python!Hello Python!Hello Python!Hello Python!Hello Python!Hello Python!Hello Python!Hello Python!Hello Python!Hello Python!Hello Python!Hello Python!Hello Python!Hello Python!Hello Python!Hello Python!Hello Python!Hello Python!Hello Python!Hello Python!Hello Python!Hello Python!Hello Python!Hello Python!Hello Python!Hello Python!Hello Python!Hello Python!Hello Python!Hello Python!Hello Python!Hello Python!Hello Python!Hello Python!Hello Python!Hello Python!Hello Python!Hello Python!Hello Python!Hello Python!Hello Python!Hello Python!Hello Python!Hello Python!Hello Python!Hello Python!Hello Python!Hello Python!Hello Python!Hello Python!Hello Python!Hello Python!Hello Python!Hello Python!Hello Python!Hello Python!Hello Python!Hello Python!Hello Python!Hello Python!Hello Python!Hello Python!Hello Python!Hello Python!Hello Python!Hello Python!Hello Python!Hello Python!Hello Python!Hello Python!Hello Python!Hello Python!Hello Python!Hello Python!Hello Python!Hello Python!Hello Python!Hello Python!Hello Python!Hello Python!Hello Python!Hello Python!Hello Python!Hello Python!Hello Python!Hello Python!Hello Python!Hello Python!Hello Python!Hello Python!Hello Python!Hello Python!Hello Python!Hello Python!Hello Python!Hello Python!Hello Python!Hello Python!Hello Python!Hello Python!Hello Python!Hello Python!Hello Python!Hello Python!Hello Python!Hello Python!Hello Python!Hello Python!Hello Python!Hello Python!Hello Python!Hello Python!Hello Python!Hello Python!Hello Python!Hello Python!Hello Python!Hello Python!Hello Python!Hello Python!Hello Python!Hello Python!Hello Python!Hello Python!Hello Python!Hello Python!Hello Python!Hello Python!Hello Python!Hello Python!Hello Python!Hello Python!Hello Python!Hello Python!Hello Python!Hello Python!Hello Python!Hello Python!Hello Python!Hello Python!Hello Python!Hello Python!Hello Python!Hello Python!Hello Python!Hello Python!Hello Python!Hello Python!Hello Python!Hello Python!Hello Python!Hello Python!Hello Python!Hello Python!Hello Python!Hello Python!Hello Python!Hello Python!Hello Python!Hello Python!Hello Python!Hello Python!Hello Python!Hello Python!Hello Python!Hello Python!Hello Python!Hello Python!Hello Python!Hello Python!Hello Python!Hello Python!Hello Python!Hello Python!Hello Python!Hello Python!Hello Python!Hello Python!Hello Python!Hello Python!Hello Python!Hello Python!Hello Python!Hello Python!Hello Python!Hello Python!Hello Python!Hello Python!Hello Python!Hello Python!Hello Python!Hello Python!Hello Python!Hello Python!Hello Python!Hello Python!Hello Python!Hello Python!Hello Python!Hello Python!Hello Python!Hello Python!Hello Python!Hello Python!Hello Python!Hello Python!Hello Python!Hello Python!Hello Python!Hello Python!Hello Python!Hello Python!Hello Python!Hello Python!Hello Python!Hello Python!Hello Python!Hello Python!Hello Python!Hello Python!Hello Python!Hello Python!Hello Python!Hello Python!Hello Python!Hello Python!Hello Python!Hello Python!Hello Python!Hello Python!Hello Python!Hello Python!Hello Python!Hello Python!Hello Python!Hello Python!Hello Python!Hello Python!Hello Python!Hello Python!Hello Python!Hello Python!Hello Python!Hello Python!Hello Python!Hello Python!Hello Python!Hello Python!Hello Python!Hello Python!Hello Python!Hello Python!Hello Python!Hello Python!Hello Python!Hello Python!Hello Python!Hello Python!Hello Python!Hello Python!Hello Python!Hello Python!Hello Python!Hello Python!Hello Python!Hello Python!Hello Python!Hello Python!Hello Python!Hello Python!Hello Python!Hello Python!Hello Python!Hello Python!Hello Python!Hello Python!Hello Python!Hello Python!Hello Python!Hello Python!Hello Python!Hello Python!Hello Python!Hello Python!Hello Python!Hello Python!Hello Python!Hello Python!Hello Python!Hello Python!Hello Python!Hello Python!Hello Python!Hello Python!Hello Python!Hello Python!Hello Python!Hello Python!Hello Python!Hello Python!Hello Python!Hello Python!Hello Python!Hello Python!Hello Python!Hello Python!Hello Python!Hello Python!Hello Python!Hello Python!Hello Python!Hello Python!Hello Python!Hello Python!Hello Python!Hello Python!Hello Python!Hello Python!Hello Python!Hello Python!Hello Python!Hello Python!Hello Python!Hello Python!Hello Python!Hello Python!Hello Python!Hello Python!Hello Python!Hello Python!Hello Python!Hello Python!Hello Python!Hello Python!Hello Python!Hello Python!Hello Python!Hello Python!Hello Python!Hello Python!Hello Python!Hello Python!Hello Python!Hello Python!Hello Python!Hello Python!Hello Python!Hello Python!Hello Python!Hello Python!Hello Python!Hello Python!Hello Python!Hello Python!Hello Python!Hello Python!Hello Python!Hello Python!Hello Python!Hello Python!Hello Python!Hello Python!Hello Python!Hello Python!Hello Python!Hello Python!Hello Python!Hello Python!Hello Python!Hello Python!Hello Python!Hello Python!Hello Python!Hello Python!Hello Python!Hello Python!Hello Python!Hello Python!Hello Python!Hello Python!Hello Python!Hello Python!Hello Python!Hello Python!Hello Python!Hello Python!Hello Python!Hello Python!Hello Python!Hello Python!Hello Python!Hello Python!Hello Python!Hello Python!Hello Python!Hello Python!Hello Python!Hello Python!Hello Python!Hello Python!Hello Python!Hello Python!Hello Python!Hello Python!Hello Python!Hello Python!Hello Python!Hello Python!Hello Python!Hello Python!Hello Python!Hello Python!Hello Python!Hello Python!Hello Python!Hello Python!Hello Python!Hello Python!Hello Python!Hello Python!Hello Python!Hello Python!Hello Python!Hello Python!Hello Python!Hello Python!Hello Python!Hello Python!Hello Python!Hello Python!Hello Python!Hello Python!Hello Python!Hello Python!Hello Python!Hello Python!Hello Python!Hello Python!Hello Python!Hello Python!Hello Python!Hello Python!Hello Python!Hello Python!Hello Python!Hello Python!Hello Python!Hello Python!Hello Python!Hello Python!Hello Python!Hello Python!Hello Python!Hello Python!Hello Python!Hello Python!Hello Python!Hello Python!Hello Python!Hello Python!Hello Python!Hello Python!Hello Python!Hello Python!Hello Python!Hello Python!Hello Python!Hello Python!Hello Python!Hello Python!Hello Python!Hello Python!Hello Python!Hello Python!Hello Python!Hello Python!Hello Python!Hello Python!Hello Python!Hello Python!Hello Python!Hello Python!Hello Python!Hello Python!Hello Python!Hello Python!Hello Python!Hello Python!Hello Python!Hello Python!Hello Python!Hello Python!Hello Python!Hello Python!Hello Python!Hello Python!Hello Python!Hello Python!Hello Python!Hello Python!Hello Python!Hello Python!Hello Python!Hello Python!Hello Python!Hello Python!Hello Python!Hello Python!Hello Python!Hello Python!Hello Python!Hello Python!Hello Python!Hello Python!Hello Python!Hello Python!Hello Python!Hello Python!Hello Python!Hello Python!Hello Python!Hello Python!Hello Python!Hello Python!Hello Python!Hello Python!Hello Python!Hello Python!Hello Python!Hello Python!Hello Python!Hello Python!Hello Python!Hello Python!Hello Python!Hello Python!Hello Python!Hello Python!Hello Python!Hello Python!Hello Python!Hello Python!Hello Python!Hello Python!Hello Python!Hello Python!Hello Python!Hello Python!Hello Python!Hello Python!Hello Python!Hello Python!Hello Python!Hello Python!Hello Python!Hello Python!Hello Python!Hello Python!Hello Python!Hello Python!Hello Python!Hello Python!Hello Python!Hello Python!Hello Python!Hello Python!Hello Python!Hello Python!Hello Python!Hello Python!Hello Python!Hello Python!Hello Python!Hello Python!Hello Python!Hello Python!Hello Python!Hello Python!Hello Python!Hello Python!Hello Python!Hello Python!Hello Python!Hello Python!Hello Python!Hello Python!Hello Python!Hello Python!Hello Python!Hello Python!Hello Python!Hello Python!Hello Python!Hello Python!Hello Python!Hello Python!Hello Python!Hello Python!Hello Python!Hello Python!Hello Python!Hello Python!Hello Python!Hello Python!Hello Python!Hello Python!Hello Python!Hello Python!Hello Python!Hello Python!Hello Python!Hello Python!Hello Python!Hello Python!Hello Python!Hello Python!Hello Python!Hello Python!Hello Python!Hello Python!Hello Python!Hello Python!Hello Python!Hello Python!Hello Python!Hello Python!Hello Python!Hello Python!Hello Python!Hello Python!Hello Python!Hello Python!Hello Python!Hello Python!Hello Python!Hello Python!Hello Python!Hello Python!Hello Python!Hello Python!Hello Python!Hello Python!Hello Python!Hello Python!Hello Python!Hello Python!Hello Python!Hello Python!Hello Python!Hello Python!Hello Python!Hello Python!Hello Python!Hello Python!Hello Python!Hello Python!Hello Python!Hello Python!Hello Python!Hello Python!Hello Python!Hello Python!Hello Python!Hello Python!Hello Python!Hello Python!Hello Python!Hello Python!Hello Python!Hello Python!Hello Python!Hello Python!Hello Python!Hello Python!Hello Python!Hello Python!Hello Python!Hello Python!Hello Python!Hello Python!Hello Python!Hello Python!Hello Python!Hello Python!Hello Python!Hello Python!Hello Python!Hello Python!Hello Python!Hello Python!Hello Python!Hello Python!Hello Python!Hello Python!Hello Python!Hello Python!Hello Python!Hello Python!Hello Python!Hello Python!Hello Python!Hello Python!Hello Python!Hello Python!Hello Python!Hello Python!Hello Python!Hello Python!Hello Python!Hello Python!Hello Python!Hello Python!Hello Python!Hello Python!Hello Python!Hello Python!Hello Python!Hello Python!Hello Python!Hello Python!Hello Python!Hello Python!Hello Python!Hello Python!Hello Python!Hello Python!Hello Python!Hello Python!Hello Python!Hello Python!Hello Python!Hello Python!Hello Python!Hello Python!Hello Python!Hello Python!Hello Python!Hello Python!Hello Python!Hello Python!Hello Python!Hello Python!Hello Python!Hello Python!Hello Python!Hello Python!Hello Python!Hello Python!Hello Python!Hello Python!Hello Python!Hello Python!Hello Python!Hello Python!Hello Python!Hello Python!Hello Python!Hello Python!Hello Python!Hello Python!Hello Python!Hello Python!Hello Python!Hello Python!Hello Python!Hello Python!Hello Python!Hello Python!Hello Python!Hello Python!Hello Python!Hello Python!Hello Python!Hello Python!Hello Python!Hello Python!Hello Python!Hello Python!Hello Python!Hello Python!Hello Python!Hello Python!Hello Python!Hello Python!Hello Python!Hello Python!Hello Python!Hello Python!Hello Python!Hello Python!Hello Python!Hello Python!Hello Python!Hello Python!Hello Python!Hello Python!Hello Python!Hello Python!Hello Python!Hello Python!Hello Python!Hello Python!Hello Python!Hello Python!Hello Python!Hello Python!Hello Python!Hello Python!Hello Python!Hello Python!Hello Python!Hello Python!Hello Python!Hello Python!Hello Python!Hello Python!Hello Python!Hello Python!Hello Python!Hello Python!Hello Python!Hello Python!Hello Python!Hello Python!Hello Python!Hello Python!Hello Python!Hello Python!Hello Python!Hello Python!Hello Python!Hello Python!Hello Python!Hello Python!Hello Python!Hello Python!Hello Python!Hello Python!Hello Python!Hello Python!Hello Python!Hello Python!Hello Python!Hello Python!Hello Python!Hello Python!Hello Python!Hello Python!Hello Python!Hello Python!Hello Python!Hello Python!Hello Python!Hello Python!Hello Python!Hello Python!Hello Python!Hello Python!Hello Python!Hello Python!Hello Python!Hello Python!Hello Python!Hello Python!Hello Python!Hello Python!Hello Python!Hello Python!Hello Python!Hello Python!Hello Python!Hello Python!Hello Python!Hello Python!Hello Python!Hello Python!Hello Python!Hello Python!Hello Python!Hello Python!Hello Python!Hello Python!Hello Python!Hello Python!Hello Python!Hello Python!Hello Python!Hello Python!Hello Python!Hello Python!Hello Python!Hello Python!Hello Python!Hello Python!Hello Python!Hello Python!Hello Python!Hello Python!Hello Python!Hello Python!Hello Python!Hello Python!Hello Python!Hello Python!Hello Python!Hello Python!Hello Python!Hello Python!Hello Python!Hello Python!Hello Python!Hello Python!Hello Python!Hello Python!Hello Python!Hello Python!Hello Python!Hello Python!Hello Python!Hello Python!Hello Python!Hello Python!Hello Python!Hello Python!Hello Python!Hello Python!Hello Python!Hello Python!Hello Python!Hello Python!Hello Python!Hello Python!Hello Python!Hello Python!Hello Python!Hello Python!Hello Python!Hello Python!Hello Python!Hello Python!Hello Python!Hello Python!Hello Python!Hello Python!Hello Python!Hello Python!Hello Python!Hello Python!Hello Python!Hello Python!Hello Python!Hello Python!Hello Python!Hello Python!Hello Python!Hello Python!Hello Python!Hello Python!Hello Python!Hello Python!Hello Python!Hello Python!Hello Python!Hello Python!Hello Python!Hello Python!Hello Python!Hello Python!Hello Python!Hello Python!Hello Python!Hello Python!Hello Python!Hello Python!Hello Python!Hello Python!Hello Python!Hello Python!Hello Python!Hello Python!Hello Python!Hello Python!Hello Python!Hello Python!Hello Python!Hello Python!Hello Python!Hello Python!Hello Python!Hello Python!Hello Python!Hello Python!Hello Python!Hello Python!Hello Python!Hello Python!Hello Python!Hello Python!Hello Python!Hello Python!Hello Python!Hello Python!Hello Python!Hello Python!Hello Python!Hello Python!Hello Python!Hello Python!Hello Python!Hello Python!Hello Python!Hello Python!Hello Python!Hello Python!Hello Python!Hello Python!Hello Python!Hello Python!Hello Python!Hello Python!Hello Python!Hello Python!Hello Python!Hello Python!Hello Python!Hello Python!Hello Python!Hello Python!Hello Python!Hello Python!Hello Python!Hello Python!Hello Python!Hello Python!Hello Python!Hello Python!Hello Python!Hello Python!Hello Python!Hello Python!Hello Python!Hello Python!Hello Python!Hello Python!Hello Python!Hello Python!Hello Python!Hello Python!Hello Python!Hello Python!Hello Python!Hello Python!Hello Python!Hello Python!Hello Python!Hello Python!Hello Python!Hello Python!Hello Python!Hello Python!Hello Python!Hello Python!Hello Python!Hello Python!Hello Python!Hello Python!Hello Python!Hello Python!Hello Python!Hello Python!Hello Python!Hello Python!Hello Python!Hello Python!Hello Python!Hello Python!Hello Python!Hello Python!Hello Python!Hello Python!Hello Python!Hello Python!Hello Python!Hello Python!Hello Python!Hello Python!Hello Python!Hello Python!Hello Python!Hello Python!Hello Python!Hello Python!Hello Python!Hello Python!Hello Python!Hello Python!Hello Python!Hello Python!Hello Python!Hello Python!Hello Python!Hello Python!Hello Python!Hello Python!Hello Python!Hello Python!Hello Python!Hello Python!Hello Python!Hello Python!Hello Python!Hello Python!Hello Python!Hello Python!Hello Python!Hello Python!Hello Python!Hello Python!Hello Python!Hello Python!Hello Python!Hello Python!Hello Python!Hello Python!Hello Python!Hello Python!Hello Python!Hello Python!Hello Python!Hello Python!Hello Python!Hello Python!Hello Python!Hello Python!Hello Python!Hello Python!Hello Python!Hello Python!Hello Python!Hello Python!Hello Python!Hello Python!Hello Python!Hello Python!Hello Python!Hello Python!Hello Python!Hello Python!Hello Python!Hello Python!Hello Python!Hello Python!Hello Python!Hello Python!Hello Python!Hello Python!Hello Python!Hello Python!Hello Python!Hello Python!Hello Python!Hello Python!Hello Python!Hello Python!Hello Python!Hello Python!Hello Python!Hello Python!Hello Python!Hello Python!Hello Python!Hello Python!Hello Python!Hello Python!Hello Python!Hello Python!Hello Python!Hello Python!Hello Python!Hello Python!Hello Python!Hello Python!Hello Python!Hello Python!Hello Python!Hello Python!Hello Python!Hello Python!Hello Python!Hello Python!Hello Python!Hello Python!Hello Python!Hello Python!Hello Python!Hello Python!Hello Python!Hello Python!Hello Python!Hello Python!Hello Python!Hello Python!Hello Python!Hello Python!Hello Python!Hello Python!Hello Python!Hello Python!Hello Python!Hello Python!Hello Python!Hello Python!Hello Python!Hello Python!Hello Python!Hello Python!Hello Python!Hello Python!Hello Python!Hello Python!Hello Python!Hello Python!Hello Python!Hello Python!Hello Python!Hello Python!Hello Python!Hello Python!Hello Python!Hello Python!Hello Python!Hello Python!Hello Python!Hello Python!Hello Python!Hello Python!Hello Python!Hello Python!Hello Python!Hello Python!Hello Python!Hello Python!Hello Python!Hello Python!Hello Python!Hello Python!Hello Python!Hello Python!Hello Python!Hello Python!Hello Python!Hello Python!Hello Python!Hello Python!Hello Python!Hello Python!Hello Python!Hello Python!Hello Python!Hello Python!Hello Python!Hello Python!Hello Python!Hello Python!Hello Python!Hello Python!Hello Python!Hello Python!Hello Python!Hello Python!Hello Python!Hello Python!Hello Python!Hello Python!Hello Python!Hello Python!Hello Python!Hello Python!Hello Python!Hello Python!Hello Python!Hello Python!Hello Python!Hello Python!Hello Python!Hello Python!Hello Python!Hello Python!Hello Python!Hello Python!Hello Python!Hello Python!Hello Python!Hello Python!Hello Python!Hello Python!Hello Python!Hello Python!Hello Python!Hello Python!Hello Python!Hello Python!Hello Python!Hello Python!Hello Python!Hello Python!Hello Python!Hello Python!Hello Python!Hello Python!Hello Python!Hello Python!Hello Python!Hello Python!Hello Python!Hello Python!Hello Python!Hello Python!Hello Python!Hello Python!Hello Python!Hello Python!Hello Python!Hello Python!Hello Python!Hello Python!Hello Python!Hello Python!Hello Python!Hello Python!Hello Python!Hello Python!Hello Python!Hello Python!Hello Python!Hello Python!Hello Python!Hello Python!Hello Python!Hello Python!Hello Python!Hello Python!Hello Python!Hello Python!Hello Python!Hello Python!Hello Python!Hello Python!Hello Python!Hello Python!Hello Python!Hello Python!Hello Python!Hello Python!Hello Python!Hello Python!Hello Python!Hello Python!Hello Python!Hello Python!Hello Python!Hello Python!Hello Python!Hello Python!Hello Python!Hello Python!Hello Python!Hello Python!Hello Python!Hello Python!Hello Python!Hello Python!Hello Python!Hello Python!Hello Python!Hello Python!Hello Python!Hello Python!Hello Python!Hello Python!Hello Python!Hello Python!Hello Python!Hello Python!Hello Python!Hello Python!Hello Python!Hello Python!Hello Python!Hello Python!Hello Python!Hello Python!Hello Python!Hello Python!Hello Python!Hello Python!Hello Python!Hello Python!Hello Python!Hello Python!Hello Python!Hello Python!Hello Python!Hello Python!Hello Python!Hello Python!Hello Python!Hello Python!Hello Python!Hello Python!Hello Python!Hello Python!Hello Python!Hello Python!Hello Python!Hello Python!Hello Python!Hello Python!Hello Python!Hello Python!Hello Python!Hello Python!Hello Python!Hello Python!Hello Python!Hello Python!Hello Python!Hello Python!Hello Python!Hello Python!Hello Python!Hello Python!Hello Python!Hello Python!Hello Python!Hello Python!Hello Python!Hello Python!Hello Python!Hello Python!Hello Python!Hello Python!Hello Python!Hello Python!Hello Python!Hello Python!Hello Python!Hello Python!Hello Python!Hello Python!Hello Python!Hello Python!Hello Python!Hello Python!Hello Python!Hello Python!Hello Python!Hello Python!Hello Python!Hello Python!Hello Python!Hello Python!Hello Python!Hello Python!Hello Python!Hello Python!Hello Python!Hello Python!Hello Python!Hello Python!Hello Python!Hello Python!Hello Python!Hello Python!Hello Python!Hello Python!Hello Python!Hello Python!Hello Python!Hello Python!Hello Python!Hello Python!Hello Python!Hello Python!Hello Python!Hello Python!Hello Python!Hello Python!'"
            ]
          },
          "execution_count": 58,
          "metadata": {},
          "output_type": "execute_result"
        }
      ],
      "source": [
        "data"
      ]
    },
    {
      "cell_type": "code",
      "execution_count": null,
      "id": "87a0172b",
      "metadata": {
        "id": "87a0172b",
        "outputId": "b975cb46-0a5a-4827-ad51-619093ef333c"
      },
      "outputs": [
        {
          "name": "stdout",
          "output_type": "stream",
          "text": [
            "130000\n"
          ]
        }
      ],
      "source": [
        "print(len(data)) # 130000 byte"
      ]
    },
    {
      "cell_type": "code",
      "execution_count": null,
      "id": "ff50afab",
      "metadata": {
        "id": "ff50afab",
        "outputId": "7d817a5c-9e98-4da7-fcbb-070717516080"
      },
      "outputs": [
        {
          "name": "stdout",
          "output_type": "stream",
          "text": [
            "293\n"
          ]
        }
      ],
      "source": [
        "compress_data = zlib.compress(data.encode(encoding='utf-8'))\n",
        "print(len(compress_data)) # 293 byte"
      ]
    },
    {
      "cell_type": "code",
      "execution_count": null,
      "id": "5bc80f48",
      "metadata": {
        "id": "5bc80f48",
        "outputId": "0d820afd-56c2-46fc-b8d7-87b6bb4776b4"
      },
      "outputs": [
        {
          "data": {
            "text/plain": [
              "b'x\\x9c\\xed\\xc71\\r\\x00 \\x0c\\x000+\\xe0f\\'&H8\\x16\\xf6\\xf0\\xe0\\x1e\\x1f\\xa4\\xfd\\x1a3\\xb3\\xda\\xb8g\\xd5\\xee!\"\"\"\"\"\"\"\"\"\"\"\"\"\"\"\"\"\"\"\"\"\"\"\"\"\"\"\"\"\"\"\"\"\"\"\"\"\"\"\"\"\"\"\"\"\"\"\"\"\"\"\"\"\"\"\"\"\"\"\"\"\"\"\"\"\"\"\"\"\"\"\"\"\"\"\"\"\"\"\"\"\"\"\"\"\"\"\"\"\"\"\"\"\"\"\"\"\"\"\"\"\"\"\"\"\"\"\"\"\"\"\"\"\"\"\"\"\"\"\"\"\"\"\"\"\"\"\"\"\"\"\"\"\"\"\"\"\"\"\"\"\"\"\"\"\"\"\"\"\"\"\"\"\"\"\"\"\"\"\"\"\"\"\"\"\"\"\"\"\"\"\"\"\"\"\"\"\"\"\"\"\"\"\"\"\"\"\"\"\"\"\"\"\"\"\"\"\"\"\"\"\"\"\"\"\"\"\"\"\"\"\"\"\"\"\"\"\"\"\"\"\"\"\"\"\"\"\"\"\"\"\"\"\"\"\"\"\"\"\"\"\"\"\"\"\"\"\"\"\"\"?\\xe6\\x01le79'"
            ]
          },
          "execution_count": 62,
          "metadata": {},
          "output_type": "execute_result"
        }
      ],
      "source": [
        "compress_data"
      ]
    },
    {
      "cell_type": "code",
      "execution_count": null,
      "id": "1ea8f10a",
      "metadata": {
        "id": "1ea8f10a",
        "outputId": "42125d11-12de-4f4f-f4e8-7a6b533e4694"
      },
      "outputs": [
        {
          "name": "stdout",
          "output_type": "stream",
          "text": [
            "130000\n"
          ]
        }
      ],
      "source": [
        "org_data = zlib.decompress(compress_data).decode('utf-8')\n",
        "print(len(org_data))"
      ]
    },
    {
      "cell_type": "markdown",
      "id": "2e46214d",
      "metadata": {
        "id": "2e46214d"
      },
      "source": [
        "### 3-3. gzip\n",
        "* 파일을 압축하거나 해제할 때 사욯하는 모듈\n",
        "* 내부적으로 zlib 알고리즘을 사용"
      ]
    },
    {
      "cell_type": "code",
      "execution_count": null,
      "id": "095952c4",
      "metadata": {
        "id": "095952c4"
      },
      "outputs": [],
      "source": [
        "import gzip"
      ]
    },
    {
      "cell_type": "code",
      "execution_count": null,
      "id": "34a3a171",
      "metadata": {
        "id": "34a3a171"
      },
      "outputs": [],
      "source": [
        "with open('org_data.txt', 'w') as f:\n",
        "    f.write(data)"
      ]
    },
    {
      "cell_type": "code",
      "execution_count": null,
      "id": "dfbdc3e5",
      "metadata": {
        "id": "dfbdc3e5"
      },
      "outputs": [],
      "source": [
        "# gzip으로 압축\n",
        "with gzip.open('compressed.txt.gz', 'wb') as f:\n",
        "    f.write(data.encode('utf-8'))"
      ]
    },
    {
      "cell_type": "code",
      "execution_count": null,
      "id": "f77e3b55",
      "metadata": {
        "id": "f77e3b55"
      },
      "outputs": [],
      "source": [
        "# gzip 압축 해제\n",
        "with gzip.open('compressed.txt.gz', 'rb') as f:\n",
        "    org_data = f.read().decode('utf-8')"
      ]
    },
    {
      "cell_type": "code",
      "execution_count": null,
      "id": "42aaad1f",
      "metadata": {
        "id": "42aaad1f",
        "outputId": "70c4ec9e-fef5-4341-d08b-59af9f426db7"
      },
      "outputs": [
        {
          "name": "stdout",
          "output_type": "stream",
          "text": [
            "130000\n"
          ]
        }
      ],
      "source": [
        "print(len(org_data))"
      ]
    },
    {
      "cell_type": "markdown",
      "id": "75df8576",
      "metadata": {
        "id": "75df8576"
      },
      "source": [
        "### 3-4. zipfile\n",
        "* 여러개 파일을 zip 확장자로 합쳐서 압축할 때 사용하는 모듈"
      ]
    },
    {
      "cell_type": "code",
      "execution_count": null,
      "id": "3d1469b9",
      "metadata": {
        "id": "3d1469b9"
      },
      "outputs": [],
      "source": [
        "import zipfile"
      ]
    },
    {
      "cell_type": "code",
      "execution_count": null,
      "id": "caada5d2",
      "metadata": {
        "id": "caada5d2"
      },
      "outputs": [],
      "source": [
        "# 파일 합치고 압축하기\n",
        "with zipfile.ZipFile('./sample/새파일.zip', 'w') as myzip:\n",
        "    myzip.write('./sample/새파일1.txt')\n",
        "    myzip.write('./sample/새파일2.txt')\n",
        "    myzip.write('./sample/새파일3.txt')\n",
        "    myzip.write('./sample/새파일4.txt')\n",
        "    myzip.write('./sample/새파일5.txt')"
      ]
    },
    {
      "cell_type": "code",
      "execution_count": null,
      "id": "4eee0aec",
      "metadata": {
        "id": "4eee0aec"
      },
      "outputs": [],
      "source": [
        "# 압축 해제하기\n",
        "with zipfile.ZipFile('./sample/새파일.zip') as myzip:\n",
        "    myzip.extractall()"
      ]
    },
    {
      "cell_type": "markdown",
      "id": "d33dff96",
      "metadata": {
        "id": "d33dff96"
      },
      "source": [
        "### 3-5. tarfile\n",
        "* 여러개 파일을 tar 확장자로 합쳐서 압축할 때 사용하는 모듈"
      ]
    },
    {
      "cell_type": "code",
      "execution_count": null,
      "id": "62a1a1c6",
      "metadata": {
        "id": "62a1a1c6"
      },
      "outputs": [],
      "source": [
        "import tarfile"
      ]
    },
    {
      "cell_type": "code",
      "execution_count": null,
      "id": "3b0c78ad",
      "metadata": {
        "id": "3b0c78ad"
      },
      "outputs": [],
      "source": [
        "# 파일 합치고 압축하기\n",
        "with tarfile.open('./sample/새파일.tar', 'w') as mytar:\n",
        "    mytar.add('./sample/새파일1.txt')\n",
        "    mytar.add('./sample/새파일2.txt')\n",
        "    mytar.add('./sample/새파일3.txt')\n",
        "    mytar.add('./sample/새파일4.txt')\n",
        "    mytar.add('./sample/새파일5.txt')"
      ]
    },
    {
      "cell_type": "code",
      "execution_count": null,
      "id": "8dc48f6c",
      "metadata": {
        "id": "8dc48f6c"
      },
      "outputs": [],
      "source": [
        "# 압축 해제하기\n",
        "with tarfile.open('./sample/새파일.tar') as mytar:\n",
        "    mytar.extractall()"
      ]
    }
  ],
  "metadata": {
    "kernelspec": {
      "display_name": "Python 3 (ipykernel)",
      "language": "python",
      "name": "python3"
    },
    "language_info": {
      "codemirror_mode": {
        "name": "ipython",
        "version": 3
      },
      "file_extension": ".py",
      "mimetype": "text/x-python",
      "name": "python",
      "nbconvert_exporter": "python",
      "pygments_lexer": "ipython3",
      "version": "3.8.6"
    },
    "colab": {
      "provenance": [],
      "include_colab_link": true
    }
  },
  "nbformat": 4,
  "nbformat_minor": 5
}