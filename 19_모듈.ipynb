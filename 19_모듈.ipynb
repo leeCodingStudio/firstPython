{
  "nbformat": 4,
  "nbformat_minor": 0,
  "metadata": {
    "colab": {
      "provenance": [],
      "mount_file_id": "1YOUI4qrSG4E29ScjGUZ6MpgoLVEQxTta",
      "authorship_tag": "ABX9TyPSN7hZr4CwRcm5DxHs68Aw",
      "include_colab_link": true
    },
    "kernelspec": {
      "name": "python3",
      "display_name": "Python 3"
    },
    "language_info": {
      "name": "python"
    }
  },
  "cells": [
    {
      "cell_type": "markdown",
      "metadata": {
        "id": "view-in-github",
        "colab_type": "text"
      },
      "source": [
        "<a href=\"https://colab.research.google.com/github/leeCodingStudio/firstPython/blob/master/19_%EB%AA%A8%EB%93%88.ipynb\" target=\"_parent\"><img src=\"https://colab.research.google.com/assets/colab-badge.svg\" alt=\"Open In Colab\"/></a>"
      ]
    },
    {
      "cell_type": "markdown",
      "source": [
        "# 1. 모듈\n",
        "* 클래스 또는 함수를 모아 놓은 파일\n",
        "* 모든 파이썬 파일(.py)은 모듈\n",
        "\n",
        "```\n",
        "# 모든 모듈의 전체 함수 가져오기\n",
        "import 모듈명\n",
        "\n",
        "# 사용\n",
        "모듈명.함수명()\n",
        "```"
      ],
      "metadata": {
        "id": "Z8iw8fmdxVuW"
      }
    },
    {
      "cell_type": "code",
      "source": [
        "import util"
      ],
      "metadata": {
        "id": "EC9KnJZmxpTi"
      },
      "execution_count": 4,
      "outputs": []
    },
    {
      "cell_type": "code",
      "source": [
        "util.total(1, 100)"
      ],
      "metadata": {
        "colab": {
          "base_uri": "https://localhost:8080/"
        },
        "id": "KFaF1MrO0AqQ",
        "outputId": "3c5f8aba-165e-4e7e-cfc6-f11b44be54b7"
      },
      "execution_count": 5,
      "outputs": [
        {
          "output_type": "execute_result",
          "data": {
            "text/plain": [
              "5050"
            ]
          },
          "metadata": {},
          "execution_count": 5
        }
      ]
    },
    {
      "cell_type": "code",
      "source": [
        "util.calc(10, 3)"
      ],
      "metadata": {
        "colab": {
          "base_uri": "https://localhost:8080/"
        },
        "id": "HJDzS8MB0Xnn",
        "outputId": "e4e5fd9f-86bf-4692-eef1-36c550c43c2b"
      },
      "execution_count": 6,
      "outputs": [
        {
          "output_type": "execute_result",
          "data": {
            "text/plain": [
              "(13, 7, 30, 3.3333333333333335)"
            ]
          },
          "metadata": {},
          "execution_count": 6
        }
      ]
    },
    {
      "cell_type": "markdown",
      "source": [
        "```\n",
        "# 특정 함수만 골라서 가져오기\n",
        "from 모듈명 함수1, 함수2 ...\n",
        "\n",
        "# 사용\n",
        "함수명()\n",
        "```"
      ],
      "metadata": {
        "id": "XDU-p1JC0b2v"
      }
    },
    {
      "cell_type": "code",
      "source": [
        "from util import calc"
      ],
      "metadata": {
        "id": "DiTc9ydY01J-"
      },
      "execution_count": 7,
      "outputs": []
    },
    {
      "cell_type": "code",
      "source": [
        "_, _, _, result = calc(10, 3)\n",
        "print(result)"
      ],
      "metadata": {
        "colab": {
          "base_uri": "https://localhost:8080/"
        },
        "id": "Q480Vb2z1DKa",
        "outputId": "2969b2af-ffae-45d6-a0d8-611f97eaa9fc"
      },
      "execution_count": 8,
      "outputs": [
        {
          "output_type": "stream",
          "name": "stdout",
          "text": [
            "3.3333333333333335\n"
          ]
        }
      ]
    },
    {
      "cell_type": "markdown",
      "source": [
        "```\n",
        "# 모든 모듈의 함수 가져오기\n",
        "from 모듈명 import *\n",
        "\n",
        "# 사용\n",
        "함수명()\n",
        "```"
      ],
      "metadata": {
        "id": "5bFJWY6t1IiV"
      }
    },
    {
      "cell_type": "code",
      "source": [
        "from util import *"
      ],
      "metadata": {
        "id": "lWiiMv4P1lZY"
      },
      "execution_count": 9,
      "outputs": []
    },
    {
      "cell_type": "code",
      "source": [
        "total(1, 100)"
      ],
      "metadata": {
        "colab": {
          "base_uri": "https://localhost:8080/"
        },
        "id": "bGQf2M_F1o6B",
        "outputId": "ca33813a-aca1-4dbe-8ab8-27d0a4943167"
      },
      "execution_count": 10,
      "outputs": [
        {
          "output_type": "execute_result",
          "data": {
            "text/plain": [
              "5050"
            ]
          },
          "metadata": {},
          "execution_count": 10
        }
      ]
    },
    {
      "cell_type": "code",
      "source": [
        "calc(10, 3)"
      ],
      "metadata": {
        "colab": {
          "base_uri": "https://localhost:8080/"
        },
        "id": "Q_Gdf4qf1rXz",
        "outputId": "bd8cf116-a6bc-4ac3-8d4a-3c47884e90f4"
      },
      "execution_count": 11,
      "outputs": [
        {
          "output_type": "execute_result",
          "data": {
            "text/plain": [
              "(13, 7, 30, 3.3333333333333335)"
            ]
          },
          "metadata": {},
          "execution_count": 11
        }
      ]
    },
    {
      "cell_type": "markdown",
      "source": [
        "```\n",
        "# 모듈에 별명 붙여 불러오기\n",
        "import 모듈명 as 별명\n",
        "\n",
        "# 사용\n",
        "별명.함수명()\n",
        "```"
      ],
      "metadata": {
        "id": "dnbR9QdO2DYv"
      }
    },
    {
      "cell_type": "code",
      "source": [
        "import util as ut"
      ],
      "metadata": {
        "id": "JioxI2Oo2cif"
      },
      "execution_count": 12,
      "outputs": []
    },
    {
      "cell_type": "code",
      "source": [
        "ut.total(1, 100)"
      ],
      "metadata": {
        "colab": {
          "base_uri": "https://localhost:8080/"
        },
        "id": "QJBe6HAx2fa7",
        "outputId": "00854f08-0b00-4510-ab19-e063045b9b5f"
      },
      "execution_count": 13,
      "outputs": [
        {
          "output_type": "execute_result",
          "data": {
            "text/plain": [
              "5050"
            ]
          },
          "metadata": {},
          "execution_count": 13
        }
      ]
    },
    {
      "cell_type": "code",
      "source": [
        "ut.calc(10, 3)"
      ],
      "metadata": {
        "colab": {
          "base_uri": "https://localhost:8080/"
        },
        "id": "D8il9aHK2iwh",
        "outputId": "4b736f5b-8877-438f-c3f7-330627d61a12"
      },
      "execution_count": 14,
      "outputs": [
        {
          "output_type": "execute_result",
          "data": {
            "text/plain": [
              "(13, 7, 30, 3.3333333333333335)"
            ]
          },
          "metadata": {},
          "execution_count": 14
        }
      ]
    },
    {
      "cell_type": "markdown",
      "source": [
        "# 2. 구글드라이브 활용"
      ],
      "metadata": {
        "id": "SpKGCQGf27b_"
      }
    },
    {
      "cell_type": "code",
      "source": [
        "util = '/content/drive/MyDrive/Colab Notebooks'"
      ],
      "metadata": {
        "id": "2aTT_-ad3gq7"
      },
      "execution_count": 1,
      "outputs": []
    },
    {
      "cell_type": "code",
      "source": [
        "import sys"
      ],
      "metadata": {
        "id": "RIe2_UQN4K-u"
      },
      "execution_count": 2,
      "outputs": []
    },
    {
      "cell_type": "code",
      "source": [
        "sys.path.append(util)"
      ],
      "metadata": {
        "id": "sJzo7E9p4Ow0"
      },
      "execution_count": 3,
      "outputs": []
    },
    {
      "cell_type": "markdown",
      "source": [
        "# 3. 클래스를 포함한 모듈"
      ],
      "metadata": {
        "id": "Zatb3jpQ-Wx6"
      }
    },
    {
      "cell_type": "code",
      "source": [
        "import util2 as ut2"
      ],
      "metadata": {
        "id": "c1O0M4ZU-dnd"
      },
      "execution_count": 15,
      "outputs": []
    },
    {
      "cell_type": "code",
      "source": [
        "ut2.PI"
      ],
      "metadata": {
        "colab": {
          "base_uri": "https://localhost:8080/"
        },
        "id": "GQKas0S0-kq2",
        "outputId": "d3da0116-8c36-473e-d3d0-2b990bef03be"
      },
      "execution_count": 16,
      "outputs": [
        {
          "output_type": "execute_result",
          "data": {
            "text/plain": [
              "3.141592"
            ]
          },
          "metadata": {},
          "execution_count": 16
        }
      ]
    },
    {
      "cell_type": "code",
      "source": [
        "math = ut2.Math()"
      ],
      "metadata": {
        "id": "6JpSCoHS-phM"
      },
      "execution_count": 17,
      "outputs": []
    },
    {
      "cell_type": "code",
      "source": [
        "math.circle(5)"
      ],
      "metadata": {
        "colab": {
          "base_uri": "https://localhost:8080/"
        },
        "id": "8EK8ldoD_ppZ",
        "outputId": "78f8fa0b-625b-4297-a3ea-c67e52e1d675"
      },
      "execution_count": 18,
      "outputs": [
        {
          "output_type": "execute_result",
          "data": {
            "text/plain": [
              "78.5398"
            ]
          },
          "metadata": {},
          "execution_count": 18
        }
      ]
    },
    {
      "cell_type": "code",
      "source": [
        "math.add(10, 4)"
      ],
      "metadata": {
        "colab": {
          "base_uri": "https://localhost:8080/"
        },
        "id": "nytenL5G_tM1",
        "outputId": "119f926f-d188-4891-a8e3-a693e0755cd3"
      },
      "execution_count": 20,
      "outputs": [
        {
          "output_type": "execute_result",
          "data": {
            "text/plain": [
              "14"
            ]
          },
          "metadata": {},
          "execution_count": 20
        }
      ]
    },
    {
      "cell_type": "markdown",
      "source": [
        "# 4. 패키지\n",
        "* 모듈의 상위개념\n",
        "* 모듈이 모여있는 디렉토리"
      ],
      "metadata": {
        "id": "L1WxhR9r_607"
      }
    },
    {
      "cell_type": "markdown",
      "source": [
        "### 4-1. 패키지 관리자\n",
        "* 외부 모듈을 설피 또는 삭제하기 위한 프로그램\n",
        "* pip 명령을 사용(파이썬을 설치하면 pip가 함께 설치됨)\n",
        "* 윈도우 명령 프롬포트 또는 터미널에서 사용\n",
        "* pip -version 으로 버전을 확인할 수 있음"
      ],
      "metadata": {
        "id": "9iQc-gz0CPC_"
      }
    }
  ]
}