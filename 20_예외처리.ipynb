{
  "nbformat": 4,
  "nbformat_minor": 0,
  "metadata": {
    "colab": {
      "provenance": [],
      "authorship_tag": "ABX9TyPj9QdDp5ZD9kG3IduFYqrL",
      "include_colab_link": true
    },
    "kernelspec": {
      "name": "python3",
      "display_name": "Python 3"
    },
    "language_info": {
      "name": "python"
    }
  },
  "cells": [
    {
      "cell_type": "markdown",
      "metadata": {
        "id": "view-in-github",
        "colab_type": "text"
      },
      "source": [
        "<a href=\"https://colab.research.google.com/github/leeCodingStudio/firstPython/blob/master/20_%EC%98%88%EC%99%B8%EC%B2%98%EB%A6%AC.ipynb\" target=\"_parent\"><img src=\"https://colab.research.google.com/assets/colab-badge.svg\" alt=\"Open In Colab\"/></a>"
      ]
    },
    {
      "cell_type": "markdown",
      "source": [
        "# 1. 예외 처리\n",
        "* 오류가 발생되었을 때 별도의 처리를 하거나 무시하고 프로그램을 실행하는 것\n",
        "* 오류가 발생될 것으로 예상되는 문장을 try 블록에 코딩하고, try 블록에 코딩된 애용을 실행하다가 오류가 발생하면 더이상 try 블록의 내용을 실행하지 않고 해당 오류의 except 블록에 코딩된 내용을 실행\n",
        "* 파이썬은 발생할 수 있는 모든 문제를 예외 클래스로 만들어 놓음"
      ],
      "metadata": {
        "id": "CqHYs9PcXvnV"
      }
    },
    {
      "cell_type": "markdown",
      "source": [
        "### 1-1. try except 사용하기\n",
        "\n",
        "```\n",
        "try:\n",
        "  오류가 발생할 것으로 예상되는 문장\n",
        "  ...\n",
        "  ...\n",
        "except:\n",
        "  오류가 발생했을 경우 실행할 문장\n",
        "  ...\n",
        "```"
      ],
      "metadata": {
        "id": "1u0Sa3AqhtWO"
      }
    },
    {
      "cell_type": "code",
      "source": [
        "print(10 / 3)\n",
        "print(5 / 0) # ZeroDivisionError: division by zero\n",
        "print(4 / 2)"
      ],
      "metadata": {
        "colab": {
          "base_uri": "https://localhost:8080/",
          "height": 229
        },
        "id": "t1UwMmjCiEZE",
        "outputId": "afd806ea-8764-433e-e7b2-d00fd4e3025b"
      },
      "execution_count": 1,
      "outputs": [
        {
          "output_type": "stream",
          "name": "stdout",
          "text": [
            "3.3333333333333335\n"
          ]
        },
        {
          "output_type": "error",
          "ename": "ZeroDivisionError",
          "evalue": "ignored",
          "traceback": [
            "\u001b[0;31m---------------------------------------------------------------------------\u001b[0m",
            "\u001b[0;31mZeroDivisionError\u001b[0m                         Traceback (most recent call last)",
            "\u001b[0;32m<ipython-input-1-5340b6c8dc82>\u001b[0m in \u001b[0;36m<module>\u001b[0;34m\u001b[0m\n\u001b[1;32m      1\u001b[0m \u001b[0mprint\u001b[0m\u001b[0;34m(\u001b[0m\u001b[0;36m10\u001b[0m \u001b[0;34m/\u001b[0m \u001b[0;36m3\u001b[0m\u001b[0;34m)\u001b[0m\u001b[0;34m\u001b[0m\u001b[0;34m\u001b[0m\u001b[0m\n\u001b[0;32m----> 2\u001b[0;31m \u001b[0mprint\u001b[0m\u001b[0;34m(\u001b[0m\u001b[0;36m5\u001b[0m \u001b[0;34m/\u001b[0m \u001b[0;36m0\u001b[0m\u001b[0;34m)\u001b[0m \u001b[0;31m# ZeroDivisionError: division by zero\u001b[0m\u001b[0;34m\u001b[0m\u001b[0;34m\u001b[0m\u001b[0m\n\u001b[0m\u001b[1;32m      3\u001b[0m \u001b[0mprint\u001b[0m\u001b[0;34m(\u001b[0m\u001b[0;36m4\u001b[0m \u001b[0;34m/\u001b[0m \u001b[0;36m2\u001b[0m\u001b[0;34m)\u001b[0m\u001b[0;34m\u001b[0m\u001b[0;34m\u001b[0m\u001b[0m\n",
            "\u001b[0;31mZeroDivisionError\u001b[0m: division by zero"
          ]
        }
      ]
    },
    {
      "cell_type": "code",
      "source": [
        "try:\n",
        "  print(10 / 3)\n",
        "  print(5 / 0)\n",
        "  print(4 / 2)\n",
        "except:\n",
        "  print('0으로 나눌 수 없습니다.')\n",
        "print('프로그램을 종료합니다.')"
      ],
      "metadata": {
        "colab": {
          "base_uri": "https://localhost:8080/"
        },
        "id": "I3GseaXXiXRY",
        "outputId": "9f91c80d-bf54-440b-c6ca-54803214622c"
      },
      "execution_count": 4,
      "outputs": [
        {
          "output_type": "stream",
          "name": "stdout",
          "text": [
            "3.3333333333333335\n",
            "0으로 나눌 수 없습니다.\n",
            "프로그램을 종료합니다.\n"
          ]
        }
      ]
    },
    {
      "cell_type": "code",
      "source": [
        "data = [10, 20, 30, 40, 50] # IndexError: list index out of range\n",
        "print(data[5])"
      ],
      "metadata": {
        "colab": {
          "base_uri": "https://localhost:8080/",
          "height": 193
        },
        "id": "TYxpS_Gliulk",
        "outputId": "c955205c-83f6-4bfc-e502-f477f9cf9f4e"
      },
      "execution_count": 5,
      "outputs": [
        {
          "output_type": "error",
          "ename": "IndexError",
          "evalue": "ignored",
          "traceback": [
            "\u001b[0;31m---------------------------------------------------------------------------\u001b[0m",
            "\u001b[0;31mIndexError\u001b[0m                                Traceback (most recent call last)",
            "\u001b[0;32m<ipython-input-5-cd37edc1f1ce>\u001b[0m in \u001b[0;36m<module>\u001b[0;34m\u001b[0m\n\u001b[1;32m      1\u001b[0m \u001b[0mdata\u001b[0m \u001b[0;34m=\u001b[0m \u001b[0;34m[\u001b[0m\u001b[0;36m10\u001b[0m\u001b[0;34m,\u001b[0m \u001b[0;36m20\u001b[0m\u001b[0;34m,\u001b[0m \u001b[0;36m30\u001b[0m\u001b[0;34m,\u001b[0m \u001b[0;36m40\u001b[0m\u001b[0;34m,\u001b[0m \u001b[0;36m50\u001b[0m\u001b[0;34m]\u001b[0m \u001b[0;31m# IndexError: list index out of range\u001b[0m\u001b[0;34m\u001b[0m\u001b[0;34m\u001b[0m\u001b[0m\n\u001b[0;32m----> 2\u001b[0;31m \u001b[0mprint\u001b[0m\u001b[0;34m(\u001b[0m\u001b[0mdata\u001b[0m\u001b[0;34m[\u001b[0m\u001b[0;36m5\u001b[0m\u001b[0;34m]\u001b[0m\u001b[0;34m)\u001b[0m\u001b[0;34m\u001b[0m\u001b[0;34m\u001b[0m\u001b[0m\n\u001b[0m",
            "\u001b[0;31mIndexError\u001b[0m: list index out of range"
          ]
        }
      ]
    },
    {
      "cell_type": "code",
      "source": [
        "try:\n",
        "  data = [10, 20, 30, 40, 50]\n",
        "  print(data[0])\n",
        "  print(data[1])\n",
        "  print(data[5])\n",
        "  print(data[3])\n",
        "except:\n",
        "  print('인덱스 지정이 올바르지 않습니다')\n",
        "print('프로그램을 종료합니다')"
      ],
      "metadata": {
        "colab": {
          "base_uri": "https://localhost:8080/"
        },
        "id": "9gPljvjajQ71",
        "outputId": "9d0950f5-a28b-4e0f-c80f-f0edc34bb7b0"
      },
      "execution_count": 6,
      "outputs": [
        {
          "output_type": "stream",
          "name": "stdout",
          "text": [
            "10\n",
            "20\n",
            "인덱스 지정이 올바르지 않습니다\n",
            "프로그램을 종료합니다\n"
          ]
        }
      ]
    },
    {
      "cell_type": "markdown",
      "source": [
        "### 1-2. 특정 예외만 처리하기\n",
        "\n",
        "```\n",
        "try:\n",
        "  오류가 발생할 것으로 예상되는 문장\n",
        "  ...\n",
        "  ...\n",
        "except 예외이름:\n",
        "  오류가 발생했을 경우 실행할 문장\n",
        "  ...\n",
        "```"
      ],
      "metadata": {
        "id": "eOOAqWAhjtow"
      }
    },
    {
      "cell_type": "code",
      "source": [
        "try:\n",
        "  print(10 / 3)\n",
        "  print(5 / 0)\n",
        "  print(4 / 2)\n",
        "except ZeroDivisionError:\n",
        "  print('0으로 나눌 수 없습니다.')\n",
        "print('프로그램을 종료합니다.')"
      ],
      "metadata": {
        "colab": {
          "base_uri": "https://localhost:8080/"
        },
        "id": "OPWd45Hmj1oZ",
        "outputId": "60925219-c80d-4632-f9d3-e39fb125a7e1"
      },
      "execution_count": 7,
      "outputs": [
        {
          "output_type": "stream",
          "name": "stdout",
          "text": [
            "3.3333333333333335\n",
            "0으로 나눌 수 없습니다.\n",
            "프로그램을 종료합니다.\n"
          ]
        }
      ]
    },
    {
      "cell_type": "code",
      "source": [
        "try:\n",
        "  print(10 / 3)\n",
        "  print(5 / 0)\n",
        "  print(4 / 2)\n",
        "except IndexError:\n",
        "  print('0으로 나눌 수 없습니다.')\n",
        "print('프로그램을 종료합니다.')"
      ],
      "metadata": {
        "colab": {
          "base_uri": "https://localhost:8080/",
          "height": 266
        },
        "id": "P0VG0IpzkI6l",
        "outputId": "a3ca456a-43a1-432b-ca38-ea4daefae052"
      },
      "execution_count": 8,
      "outputs": [
        {
          "output_type": "stream",
          "name": "stdout",
          "text": [
            "3.3333333333333335\n"
          ]
        },
        {
          "output_type": "error",
          "ename": "ZeroDivisionError",
          "evalue": "ignored",
          "traceback": [
            "\u001b[0;31m---------------------------------------------------------------------------\u001b[0m",
            "\u001b[0;31mZeroDivisionError\u001b[0m                         Traceback (most recent call last)",
            "\u001b[0;32m<ipython-input-8-b1b750898c22>\u001b[0m in \u001b[0;36m<module>\u001b[0;34m\u001b[0m\n\u001b[1;32m      1\u001b[0m \u001b[0;32mtry\u001b[0m\u001b[0;34m:\u001b[0m\u001b[0;34m\u001b[0m\u001b[0;34m\u001b[0m\u001b[0m\n\u001b[1;32m      2\u001b[0m   \u001b[0mprint\u001b[0m\u001b[0;34m(\u001b[0m\u001b[0;36m10\u001b[0m \u001b[0;34m/\u001b[0m \u001b[0;36m3\u001b[0m\u001b[0;34m)\u001b[0m\u001b[0;34m\u001b[0m\u001b[0;34m\u001b[0m\u001b[0m\n\u001b[0;32m----> 3\u001b[0;31m   \u001b[0mprint\u001b[0m\u001b[0;34m(\u001b[0m\u001b[0;36m5\u001b[0m \u001b[0;34m/\u001b[0m \u001b[0;36m0\u001b[0m\u001b[0;34m)\u001b[0m\u001b[0;34m\u001b[0m\u001b[0;34m\u001b[0m\u001b[0m\n\u001b[0m\u001b[1;32m      4\u001b[0m   \u001b[0mprint\u001b[0m\u001b[0;34m(\u001b[0m\u001b[0;36m4\u001b[0m \u001b[0;34m/\u001b[0m \u001b[0;36m2\u001b[0m\u001b[0;34m)\u001b[0m\u001b[0;34m\u001b[0m\u001b[0;34m\u001b[0m\u001b[0m\n\u001b[1;32m      5\u001b[0m \u001b[0;32mexcept\u001b[0m \u001b[0mIndexError\u001b[0m\u001b[0;34m:\u001b[0m\u001b[0;34m\u001b[0m\u001b[0;34m\u001b[0m\u001b[0m\n",
            "\u001b[0;31mZeroDivisionError\u001b[0m: division by zero"
          ]
        }
      ]
    },
    {
      "cell_type": "code",
      "source": [
        "try:\n",
        "  print(10 / 3)\n",
        "  # print(5 / 0)\n",
        "  print(4 / 2)\n",
        "except ZeroDivisionError:\n",
        "  print('0으로 나눌 수 없습니다.')\n",
        "print('프로그램을 종료합니다.')"
      ],
      "metadata": {
        "colab": {
          "base_uri": "https://localhost:8080/"
        },
        "id": "TexDyORHkSVb",
        "outputId": "ebb77bb9-38ae-42e7-9a4f-f77d3e4c4362"
      },
      "execution_count": 9,
      "outputs": [
        {
          "output_type": "stream",
          "name": "stdout",
          "text": [
            "3.3333333333333335\n",
            "2.0\n",
            "프로그램을 종료합니다.\n"
          ]
        }
      ]
    },
    {
      "cell_type": "code",
      "source": [
        "try:\n",
        "  data = [10, 20, 30, 40, 50]\n",
        "  print(10 / 3)\n",
        "  # print(5 / 0)\n",
        "  print(4 / 2)\n",
        "  print(data[5])\n",
        "except ZeroDivisionError:\n",
        "  print('0으로 나눌 수 없습니다.')\n",
        "except IndexError:\n",
        "  print('인덱스 지정이 올바르지 않습니다.')\n",
        "print('프로그램을 종료합니다.')"
      ],
      "metadata": {
        "colab": {
          "base_uri": "https://localhost:8080/"
        },
        "id": "vpTYKMf_kmgg",
        "outputId": "656a39a7-636f-456f-e67f-d790787751e6"
      },
      "execution_count": 10,
      "outputs": [
        {
          "output_type": "stream",
          "name": "stdout",
          "text": [
            "3.3333333333333335\n",
            "2.0\n",
            "인덱스 지정이 올바르지 않습니다.\n",
            "프로그램을 종료합니다.\n"
          ]
        }
      ]
    },
    {
      "cell_type": "markdown",
      "source": [
        "### 1-3. 예외 에러 메세지 받기\n",
        "\n",
        "```\n",
        "try:\n",
        "  오류가 발생할 것으로 예상되는 문장\n",
        "  ...\n",
        "  ...\n",
        "except 예외이름 as 변수:\n",
        "  오류가 발생했을 경우 실행할 문장\n",
        "  ...\n",
        "```"
      ],
      "metadata": {
        "id": "R6fpm-jAk7iW"
      }
    },
    {
      "cell_type": "code",
      "source": [
        "try:\n",
        "  data = [10, 20, 30, 40, 50]\n",
        "  print(10 / 3)\n",
        "  # print(5 / 0)\n",
        "  print(4 / 2)\n",
        "  print(data[5])\n",
        "except ZeroDivisionError as e:\n",
        "  print('0으로 나눌 수 없습니다.', e)\n",
        "except IndexError as e:\n",
        "  print('인덱스 지정이 올바르지 않습니다.', e)\n",
        "print('프로그램을 종료합니다.')"
      ],
      "metadata": {
        "colab": {
          "base_uri": "https://localhost:8080/"
        },
        "id": "9NU3FeCxlayG",
        "outputId": "0d18d652-f0a2-4ec7-ba44-ae46e7a0bcc7"
      },
      "execution_count": 11,
      "outputs": [
        {
          "output_type": "stream",
          "name": "stdout",
          "text": [
            "3.3333333333333335\n",
            "2.0\n",
            "인덱스 지정이 올바르지 않습니다. list index out of range\n",
            "프로그램을 종료합니다.\n"
          ]
        }
      ]
    },
    {
      "cell_type": "markdown",
      "source": [
        "### 1-4. 예외가 발생하지 않았을 경우 처리하기\n",
        "\n",
        "```\n",
        "try:\n",
        "  오류가 발생할 것으로 예상되는 문장\n",
        "  ...\n",
        "  ...\n",
        "except 예외이름 as 변수:\n",
        "  오류가 발생했을 경우 실행할 문장\n",
        "  ...\n",
        "else:\n",
        "  오류가 발생하지 않았을 경우 실행할 문장\n",
        "```"
      ],
      "metadata": {
        "id": "2YtS2MJBlnJ_"
      }
    },
    {
      "cell_type": "code",
      "source": [
        "try:\n",
        "  data = [10, 20, 30, 40, 50]\n",
        "  string= ' 오늘은 즐더운 예외처리 시간!'\n",
        "  print(10 / 3)\n",
        "  # print(5 / 0)\n",
        "  print(4 / 2)\n",
        "  # print(data[5])\n",
        "  # print('%d' % string)\n",
        "except ZeroDivisionError as e:\n",
        "  print('0으로 나눌 수 없습니다.', e)\n",
        "except IndexError as e:\n",
        "  print('인덱스 지정이 올바르지 않습니다.', e)\n",
        "except TypeError as e:\n",
        "  print('데이터 타입이 올바르지 않습니다')\n",
        "else:\n",
        "  print('정상적인 프로그램 진행')\n",
        "print('프로그램을 종료합니다.')"
      ],
      "metadata": {
        "colab": {
          "base_uri": "https://localhost:8080/"
        },
        "id": "Q6qxHkGUmSZ0",
        "outputId": "d1bc359c-72e3-4b69-d638-071383a2c618"
      },
      "execution_count": 12,
      "outputs": [
        {
          "output_type": "stream",
          "name": "stdout",
          "text": [
            "3.3333333333333335\n",
            "2.0\n",
            "정상적인 프로그램 진행\n",
            "프로그램을 종료합니다.\n"
          ]
        }
      ]
    },
    {
      "cell_type": "markdown",
      "source": [
        "### 1-5. 예외와 관계없이 코드 실행하기\n",
        "\n",
        "```\n",
        "try:\n",
        "  오류가 발생할 것으로 예상되는 문장\n",
        "  ...\n",
        "  ...\n",
        "except 예외이름 as 변수:\n",
        "  오류가 발생했을 경우 실행할 문장\n",
        "  ...\n",
        "else:\n",
        "  오류가 발생하지 않았을 경우 실행할 문장\n",
        "finally:\n",
        "  예외 발생 여부와 관계없이 항상 실행할 코드드\n",
        "```"
      ],
      "metadata": {
        "id": "JfEvKIiCmiyR"
      }
    },
    {
      "cell_type": "code",
      "source": [
        "try:\n",
        "  data = [10, 20, 30, 40, 50]\n",
        "  string= ' 오늘은 즐더운 예외처리 시간!'\n",
        "  print(10 / 3)\n",
        "  # print(5 / 0)\n",
        "  print(4 / 2)\n",
        "  # print(data[5])\n",
        "  print('%d' % string)\n",
        "except ZeroDivisionError as e:\n",
        "  print('0으로 나눌 수 없습니다.', e)\n",
        "except IndexError as e:\n",
        "  print('인덱스 지정이 올바르지 않습니다.', e)\n",
        "except TypeError as e:\n",
        "  print('데이터 타입이 올바르지 않습니다')\n",
        "else:\n",
        "  print('정상적인 프로그램 진행')\n",
        "finally:\n",
        "  print('오류에 관계없이 무조건 실행되는 문장')\n",
        "print('프로그램을 종료합니다.')"
      ],
      "metadata": {
        "colab": {
          "base_uri": "https://localhost:8080/"
        },
        "id": "VKy6rSTDnhOr",
        "outputId": "777072db-d0e6-48c6-fea9-364b8a744432"
      },
      "execution_count": 13,
      "outputs": [
        {
          "output_type": "stream",
          "name": "stdout",
          "text": [
            "3.3333333333333335\n",
            "2.0\n",
            "데이터 타입이 올바르지 않습니다\n",
            "오류에 관계없이 무조건 실행되는 문장\n",
            "프로그램을 종료합니다.\n"
          ]
        }
      ]
    },
    {
      "cell_type": "markdown",
      "source": [
        "### 문제\n",
        "데이터를 입력하면 오름차순 정렬하여 출력하는 프로그램을 작성해보자 (단. 숫자와 문자를 섞어 입력하면 숫자+문자 형식으로 정렬, 000을 입력하면 정렬을 시작함)\n",
        "\n",
        "* 데이터를 입력하세요: abc\n",
        "* 데이터를 입력하세요: 123\n",
        "* 데이터를 입력하세요: 1\n",
        "* 데이터를 입력하세요: bbb\n",
        "* 데이터를 입력하세요: 000\n",
        "결과 [1, 123, 'abc', 'bbb']"
      ],
      "metadata": {
        "id": "79qeHatUnpe4"
      }
    },
    {
      "cell_type": "code",
      "source": [
        "string = []\n",
        "integer = []\n",
        "result = []\n",
        "\n",
        "while True:\n",
        "  data = input('데이터를 입력하세요: ')\n",
        "  if data == '000':\n",
        "    break\n",
        "  try:\n",
        "    int(data)\n",
        "  except:\n",
        "    string.append(data)\n",
        "    string.sort()\n",
        "  else:\n",
        "    integer.append(data)\n",
        "    integer.sort()\n",
        "  finally:\n",
        "    result = integer + string\n",
        "\n",
        "print(result)"
      ],
      "metadata": {
        "id": "wsRc5wgEpW4f",
        "colab": {
          "base_uri": "https://localhost:8080/"
        },
        "outputId": "31c2c97e-5ad4-4487-a17f-851d5428c63b"
      },
      "execution_count": 14,
      "outputs": [
        {
          "output_type": "stream",
          "name": "stdout",
          "text": [
            "데이터를 입력하세요: abc\n",
            "데이터를 입력하세요: 123\n",
            "데이터를 입력하세요: 1\n",
            "데이터를 입력하세요: bbb\n",
            "데이터를 입력하세요: 000\n",
            "['1', '123', 'abc', 'bbb']\n"
          ]
        }
      ]
    },
    {
      "cell_type": "code",
      "source": [
        "num = []\n",
        "string = []\n",
        "\n",
        "while True:\n",
        "  data = input('데이터를 입력하세요: ')\n",
        "  if data == '000':\n",
        "    break\n",
        "  try:\n",
        "    num.append(int(data))\n",
        "  except:\n",
        "    string.append(data)\n",
        "\n",
        "num.sort()\n",
        "string.sort()\n",
        "print(num + string)"
      ],
      "metadata": {
        "colab": {
          "base_uri": "https://localhost:8080/"
        },
        "id": "PMgx5pJEsDYK",
        "outputId": "19026409-ceac-4d8c-a691-f7b6251d59dd"
      },
      "execution_count": 15,
      "outputs": [
        {
          "output_type": "stream",
          "name": "stdout",
          "text": [
            "데이터를 입력하세요: abc\n",
            "데이터를 입력하세요: 123\n",
            "데이터를 입력하세요: 1\n",
            "데이터를 입력하세요: bbb\n",
            "데이터를 입력하세요: 000\n",
            "[1, 123, 'abc', 'bbb']\n"
          ]
        }
      ]
    },
    {
      "cell_type": "markdown",
      "source": [
        "# 2. 예외 발생 시키기"
      ],
      "metadata": {
        "id": "ZZRNvF7otDod"
      }
    },
    {
      "cell_type": "code",
      "source": [
        "try:\n",
        "  n = int(input('짝수를 입력하세요: '))\n",
        "  if n % 2 != 0:\n",
        "    raise Exception('짝수가 아닙니다') # 예외를 발생시킴\n",
        "  print(n)\n",
        "except Exception as e:\n",
        "  print('예외가 발생 했습니다.', e)"
      ],
      "metadata": {
        "colab": {
          "base_uri": "https://localhost:8080/"
        },
        "id": "ebXcXd8ntLI_",
        "outputId": "80628bc9-7d63-410a-d1b0-60f80a503b9d"
      },
      "execution_count": 17,
      "outputs": [
        {
          "output_type": "stream",
          "name": "stdout",
          "text": [
            "짝수를 입력하세요: 7\n",
            "예외가 발생 했습니다. 짝수가 아닙니다\n"
          ]
        }
      ]
    },
    {
      "cell_type": "code",
      "source": [
        "def func1():\n",
        "  n = int(input('짝수를 입력하세요: '))\n",
        "  if n % 2 != 0:\n",
        "    raise Exception('짝수가 아닙니다')\n",
        "  print(n)\n",
        "\n",
        "try:\n",
        "  func1()\n",
        "except Exception as e:\n",
        "  print('예외가 발생 했습니다.', e)"
      ],
      "metadata": {
        "colab": {
          "base_uri": "https://localhost:8080/"
        },
        "id": "Mej_GSRntnUS",
        "outputId": "ebcf62c7-1ee0-4a12-916e-a8951d1e6c2e"
      },
      "execution_count": 20,
      "outputs": [
        {
          "output_type": "stream",
          "name": "stdout",
          "text": [
            "짝수를 입력하세요: 7\n",
            "예외가 발생 했습니다. 짝수가 아닙니다\n"
          ]
        }
      ]
    },
    {
      "cell_type": "code",
      "source": [
        "def func1():\n",
        "  n = int(input('짝수를 입력하세요: '))\n",
        "  if n % 2 != 0:\n",
        "    raise Exception('짝수가 아닙니다')\n",
        "  print(n)\n",
        "\n",
        "func1()\n",
        "print('프로그램을 종료합니다')"
      ],
      "metadata": {
        "colab": {
          "base_uri": "https://localhost:8080/",
          "height": 376
        },
        "id": "g7a6nF30xB74",
        "outputId": "e4617547-167c-45d0-afaa-c6cc4c9b8eab"
      },
      "execution_count": 21,
      "outputs": [
        {
          "name": "stdout",
          "output_type": "stream",
          "text": [
            "짝수를 입력하세요: 7\n"
          ]
        },
        {
          "output_type": "error",
          "ename": "Exception",
          "evalue": "ignored",
          "traceback": [
            "\u001b[0;31m---------------------------------------------------------------------------\u001b[0m",
            "\u001b[0;31mException\u001b[0m                                 Traceback (most recent call last)",
            "\u001b[0;32m<ipython-input-21-5d71f77ba170>\u001b[0m in \u001b[0;36m<module>\u001b[0;34m\u001b[0m\n\u001b[1;32m      5\u001b[0m   \u001b[0mprint\u001b[0m\u001b[0;34m(\u001b[0m\u001b[0mn\u001b[0m\u001b[0;34m)\u001b[0m\u001b[0;34m\u001b[0m\u001b[0;34m\u001b[0m\u001b[0m\n\u001b[1;32m      6\u001b[0m \u001b[0;34m\u001b[0m\u001b[0m\n\u001b[0;32m----> 7\u001b[0;31m \u001b[0mfunc1\u001b[0m\u001b[0;34m(\u001b[0m\u001b[0;34m)\u001b[0m\u001b[0;34m\u001b[0m\u001b[0;34m\u001b[0m\u001b[0m\n\u001b[0m\u001b[1;32m      8\u001b[0m \u001b[0mprint\u001b[0m\u001b[0;34m(\u001b[0m\u001b[0;34m'프로그램을 종료합니다'\u001b[0m\u001b[0;34m)\u001b[0m\u001b[0;34m\u001b[0m\u001b[0;34m\u001b[0m\u001b[0m\n",
            "\u001b[0;32m<ipython-input-21-5d71f77ba170>\u001b[0m in \u001b[0;36mfunc1\u001b[0;34m()\u001b[0m\n\u001b[1;32m      2\u001b[0m   \u001b[0mn\u001b[0m \u001b[0;34m=\u001b[0m \u001b[0mint\u001b[0m\u001b[0;34m(\u001b[0m\u001b[0minput\u001b[0m\u001b[0;34m(\u001b[0m\u001b[0;34m'짝수를 입력하세요: '\u001b[0m\u001b[0;34m)\u001b[0m\u001b[0;34m)\u001b[0m\u001b[0;34m\u001b[0m\u001b[0;34m\u001b[0m\u001b[0m\n\u001b[1;32m      3\u001b[0m   \u001b[0;32mif\u001b[0m \u001b[0mn\u001b[0m \u001b[0;34m%\u001b[0m \u001b[0;36m2\u001b[0m \u001b[0;34m!=\u001b[0m \u001b[0;36m0\u001b[0m\u001b[0;34m:\u001b[0m\u001b[0;34m\u001b[0m\u001b[0;34m\u001b[0m\u001b[0m\n\u001b[0;32m----> 4\u001b[0;31m     \u001b[0;32mraise\u001b[0m \u001b[0mException\u001b[0m\u001b[0;34m(\u001b[0m\u001b[0;34m'짝수가 아닙니다'\u001b[0m\u001b[0;34m)\u001b[0m\u001b[0;34m\u001b[0m\u001b[0;34m\u001b[0m\u001b[0m\n\u001b[0m\u001b[1;32m      5\u001b[0m   \u001b[0mprint\u001b[0m\u001b[0;34m(\u001b[0m\u001b[0mn\u001b[0m\u001b[0;34m)\u001b[0m\u001b[0;34m\u001b[0m\u001b[0;34m\u001b[0m\u001b[0m\n\u001b[1;32m      6\u001b[0m \u001b[0;34m\u001b[0m\u001b[0m\n",
            "\u001b[0;31mException\u001b[0m: 짝수가 아닙니다"
          ]
        }
      ]
    },
    {
      "cell_type": "code",
      "source": [
        "def func1():\n",
        "  func2()"
      ],
      "metadata": {
        "id": "tREgRApdyYcP"
      },
      "execution_count": 30,
      "outputs": []
    },
    {
      "cell_type": "code",
      "source": [
        "def func2():\n",
        "  func3()"
      ],
      "metadata": {
        "id": "PhRKz_vVyY71"
      },
      "execution_count": 31,
      "outputs": []
    },
    {
      "cell_type": "code",
      "source": [
        "def func3():\n",
        "  try:\n",
        "    print('%d' % '문자열 출력')\n",
        "  except TypeError:\n",
        "    print('타입이 올바르지 않습니다!')"
      ],
      "metadata": {
        "id": "ABeWUzRKyZD7"
      },
      "execution_count": 32,
      "outputs": []
    },
    {
      "cell_type": "code",
      "source": [
        "func1()"
      ],
      "metadata": {
        "colab": {
          "base_uri": "https://localhost:8080/"
        },
        "id": "Xi_G5tvjyb1P",
        "outputId": "2997dda5-5c02-4a7e-926e-2ce4882a0670"
      },
      "execution_count": 33,
      "outputs": [
        {
          "output_type": "stream",
          "name": "stdout",
          "text": [
            "타입이 올바르지 않습니다!\n"
          ]
        }
      ]
    },
    {
      "cell_type": "code",
      "source": [
        "def func1():\n",
        "  func2()\n",
        "  \n",
        "def func2():\n",
        "  func3()\n",
        "\n",
        "def func3():\n",
        "  try:\n",
        "    print('%d' % '문자열 출력')\n",
        "  except TypeError:\n",
        "    print('타입이 올바르지 않습니다!')\n",
        "\n",
        "func1()"
      ],
      "metadata": {
        "colab": {
          "base_uri": "https://localhost:8080/"
        },
        "id": "6AgDzbmcxcMJ",
        "outputId": "5ae266eb-b7c3-4a11-95b8-1443374b2dc9"
      },
      "execution_count": 34,
      "outputs": [
        {
          "output_type": "stream",
          "name": "stdout",
          "text": [
            "타입이 올바르지 않습니다!\n"
          ]
        }
      ]
    },
    {
      "cell_type": "code",
      "source": [
        "def func1():\n",
        "  try:\n",
        "    func2()\n",
        "  except TypeError:\n",
        "    print('타입이 올바르지 않습니다!')\n",
        "  \n",
        "def func2():\n",
        "  func3()\n",
        "\n",
        "def func3():\n",
        "  print('%d' % '문자열 출력')\n",
        "\n",
        "func1()"
      ],
      "metadata": {
        "colab": {
          "base_uri": "https://localhost:8080/"
        },
        "id": "NKX8SjakyfY-",
        "outputId": "40ed3231-1ed0-4b2c-f31f-b136cc613e81"
      },
      "execution_count": 35,
      "outputs": [
        {
          "output_type": "stream",
          "name": "stdout",
          "text": [
            "타입이 올바르지 않습니다!\n"
          ]
        }
      ]
    }
  ]
}