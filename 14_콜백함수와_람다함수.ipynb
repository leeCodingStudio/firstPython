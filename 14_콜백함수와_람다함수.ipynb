{
  "nbformat": 4,
  "nbformat_minor": 0,
  "metadata": {
    "colab": {
      "provenance": [],
      "authorship_tag": "ABX9TyPRC7aKHknx47IahVGh63Rw",
      "include_colab_link": true
    },
    "kernelspec": {
      "name": "python3",
      "display_name": "Python 3"
    },
    "language_info": {
      "name": "python"
    }
  },
  "cells": [
    {
      "cell_type": "markdown",
      "metadata": {
        "id": "view-in-github",
        "colab_type": "text"
      },
      "source": [
        "<a href=\"https://colab.research.google.com/github/leeCodingStudio/firstPython/blob/master/14_%EC%BD%9C%EB%B0%B1%ED%95%A8%EC%88%98%EC%99%80_%EB%9E%8C%EB%8B%A4%ED%95%A8%EC%88%98.ipynb\" target=\"_parent\"><img src=\"https://colab.research.google.com/assets/colab-badge.svg\" alt=\"Open In Colab\"/></a>"
      ]
    },
    {
      "cell_type": "markdown",
      "source": [
        "# 1. 콜백함수(Callback Function)\n",
        "* 직접 호출하는 것이 아닌 다른 함수에 의해 호출되는 함수"
      ],
      "metadata": {
        "id": "3DNpQGoUDCaf"
      }
    },
    {
      "cell_type": "code",
      "source": [
        "def callback_func(func):\n",
        "  for i in range(5):\n",
        "    func()\n",
        "\n",
        "def print_hello():\n",
        "  print('안녕하세요! 파이썬!')"
      ],
      "metadata": {
        "id": "4VMtTUpLDhRb"
      },
      "execution_count": 5,
      "outputs": []
    },
    {
      "cell_type": "code",
      "source": [
        "print_hello()"
      ],
      "metadata": {
        "colab": {
          "base_uri": "https://localhost:8080/"
        },
        "id": "gGzLhenMDulr",
        "outputId": "3f47c7d5-a9f9-4d72-decc-27c208f86662"
      },
      "execution_count": 3,
      "outputs": [
        {
          "output_type": "stream",
          "name": "stdout",
          "text": [
            "안녕하세요! 파이썬!\n"
          ]
        }
      ]
    },
    {
      "cell_type": "code",
      "source": [
        "callback_func(print_hello)"
      ],
      "metadata": {
        "colab": {
          "base_uri": "https://localhost:8080/"
        },
        "id": "ppMEiqzjEMqY",
        "outputId": "89b60fb5-b465-4aec-9e4a-3bfb1ad3830e"
      },
      "execution_count": 6,
      "outputs": [
        {
          "output_type": "stream",
          "name": "stdout",
          "text": [
            "안녕하세요! 파이썬!\n",
            "안녕하세요! 파이썬!\n",
            "안녕하세요! 파이썬!\n",
            "안녕하세요! 파이썬!\n",
            "안녕하세요! 파이썬!\n"
          ]
        }
      ]
    },
    {
      "cell_type": "code",
      "source": [
        "def callback_func(func, num):\n",
        "  for i in range(num):\n",
        "    func(i)\n",
        "\n",
        "def print_hello(num):\n",
        "  print('안녕하세요! 파이썬!', num)\n",
        "\n",
        "def print_hi(num):\n",
        "  print('하이! 파이썬!', num)"
      ],
      "metadata": {
        "id": "Sugg7wbYEdR5"
      },
      "execution_count": 12,
      "outputs": []
    },
    {
      "cell_type": "code",
      "source": [
        "callback_func(print_hello, 3)"
      ],
      "metadata": {
        "colab": {
          "base_uri": "https://localhost:8080/"
        },
        "id": "IYT8oCGFE580",
        "outputId": "67211e60-4855-417c-e5e8-742b4cdaf2c0"
      },
      "execution_count": 13,
      "outputs": [
        {
          "output_type": "stream",
          "name": "stdout",
          "text": [
            "안녕하세요! 파이썬! 0\n",
            "안녕하세요! 파이썬! 1\n",
            "안녕하세요! 파이썬! 2\n"
          ]
        }
      ]
    },
    {
      "cell_type": "code",
      "source": [
        "callback_func(print_hi, 5)"
      ],
      "metadata": {
        "colab": {
          "base_uri": "https://localhost:8080/"
        },
        "id": "SlRkd3GmFSmb",
        "outputId": "d018defd-dd8c-40ac-f0b4-e75eed7e96f2"
      },
      "execution_count": 14,
      "outputs": [
        {
          "output_type": "stream",
          "name": "stdout",
          "text": [
            "하이! 파이썬! 0\n",
            "하이! 파이썬! 1\n",
            "하이! 파이썬! 2\n",
            "하이! 파이썬! 3\n",
            "하이! 파이썬! 4\n"
          ]
        }
      ]
    },
    {
      "cell_type": "markdown",
      "source": [
        "# 2. 람다 함수(Lambda Function)\n",
        "* 단일문으로 표현되는 익명함수\n",
        "* 코드상에서 한번만 사용되는 기능이 있을 때, 굳이 함수를 만들지 않고 일회성으로 만들어 사용(함수는 클래스를 통해 생성된 객체)\n",
        "* return 형"
      ],
      "metadata": {
        "id": "psa5R_c3GCWZ"
      }
    },
    {
      "cell_type": "code",
      "source": [
        "def square(x):\n",
        "  return x ** 2"
      ],
      "metadata": {
        "id": "bMHY1rHEGvn2"
      },
      "execution_count": 16,
      "outputs": []
    },
    {
      "cell_type": "code",
      "source": [
        "print(square(4))"
      ],
      "metadata": {
        "colab": {
          "base_uri": "https://localhost:8080/"
        },
        "id": "bMMgFQgsJ2RR",
        "outputId": "092e8f67-4fa7-40fa-c862-add01ccbb3fd"
      },
      "execution_count": 17,
      "outputs": [
        {
          "output_type": "stream",
          "name": "stdout",
          "text": [
            "16\n"
          ]
        }
      ]
    },
    {
      "cell_type": "code",
      "source": [
        "lambda x: x ** 2"
      ],
      "metadata": {
        "colab": {
          "base_uri": "https://localhost:8080/"
        },
        "id": "9bZhy9kBJ8Z2",
        "outputId": "b17f19fc-0d14-41cf-dac9-bb0054015ce9"
      },
      "execution_count": 18,
      "outputs": [
        {
          "output_type": "execute_result",
          "data": {
            "text/plain": [
              "<function __main__.<lambda>(x)>"
            ]
          },
          "metadata": {},
          "execution_count": 18
        }
      ]
    },
    {
      "cell_type": "code",
      "source": [
        "square = lambda x: x ** 2"
      ],
      "metadata": {
        "id": "_L2FIc3PKLLq"
      },
      "execution_count": 19,
      "outputs": []
    },
    {
      "cell_type": "code",
      "source": [
        "print(square(4))"
      ],
      "metadata": {
        "colab": {
          "base_uri": "https://localhost:8080/"
        },
        "id": "pRkDQ6WwKSh0",
        "outputId": "39a9129c-447d-4df7-9292-7287b1355a67"
      },
      "execution_count": 20,
      "outputs": [
        {
          "output_type": "stream",
          "name": "stdout",
          "text": [
            "16\n"
          ]
        }
      ]
    },
    {
      "cell_type": "code",
      "source": [
        "print(square(5))"
      ],
      "metadata": {
        "colab": {
          "base_uri": "https://localhost:8080/"
        },
        "id": "LBuJ_DmnKVh5",
        "outputId": "85de003c-1c0c-4752-c84d-0ded83921fb5"
      },
      "execution_count": 21,
      "outputs": [
        {
          "output_type": "stream",
          "name": "stdout",
          "text": [
            "25\n"
          ]
        }
      ]
    },
    {
      "cell_type": "code",
      "source": [
        "(lambda x: x ** 2)(4)"
      ],
      "metadata": {
        "colab": {
          "base_uri": "https://localhost:8080/"
        },
        "id": "Ryua9h7kKa1K",
        "outputId": "4ec4c47a-4d0b-401b-bec9-766bc4f92f72"
      },
      "execution_count": 23,
      "outputs": [
        {
          "output_type": "execute_result",
          "data": {
            "text/plain": [
              "16"
            ]
          },
          "metadata": {},
          "execution_count": 23
        }
      ]
    },
    {
      "cell_type": "code",
      "source": [
        "def myData(string):\n",
        "  return len(string.strip())"
      ],
      "metadata": {
        "id": "1aY3hY-lKxMg"
      },
      "execution_count": 24,
      "outputs": []
    },
    {
      "cell_type": "code",
      "source": [
        "print(myData('apple'))"
      ],
      "metadata": {
        "colab": {
          "base_uri": "https://localhost:8080/"
        },
        "id": "1hxp223eLFnR",
        "outputId": "a3e70f9f-0f81-4fad-bb35-3eb9be3d518a"
      },
      "execution_count": 25,
      "outputs": [
        {
          "output_type": "stream",
          "name": "stdout",
          "text": [
            "5\n"
          ]
        }
      ]
    },
    {
      "cell_type": "code",
      "source": [
        "print(myData('       apple        '))"
      ],
      "metadata": {
        "colab": {
          "base_uri": "https://localhost:8080/"
        },
        "id": "B_zy7zZsLJRi",
        "outputId": "41412869-b603-4f15-8ee9-bcbeb2d79bc1"
      },
      "execution_count": 26,
      "outputs": [
        {
          "output_type": "stream",
          "name": "stdout",
          "text": [
            "5\n"
          ]
        }
      ]
    },
    {
      "cell_type": "code",
      "source": [
        "data = ['watermelon', '     apple     ', '     banana', '   avocado   ']"
      ],
      "metadata": {
        "id": "dXtYWSPgLODc"
      },
      "execution_count": 27,
      "outputs": []
    },
    {
      "cell_type": "code",
      "source": [
        "print(sorted(data))"
      ],
      "metadata": {
        "colab": {
          "base_uri": "https://localhost:8080/"
        },
        "id": "k6RyQcLVLamn",
        "outputId": "c6cf05fb-06cc-4f27-e20f-389bcb44138a"
      },
      "execution_count": 28,
      "outputs": [
        {
          "output_type": "stream",
          "name": "stdout",
          "text": [
            "['     apple     ', '     banana', '   avocado   ', 'watermelon']\n"
          ]
        }
      ]
    },
    {
      "cell_type": "code",
      "source": [
        "print(sorted(data, key=myData))"
      ],
      "metadata": {
        "colab": {
          "base_uri": "https://localhost:8080/"
        },
        "id": "p2Jds6JVLhgT",
        "outputId": "4e09da79-ae49-4c05-9434-c5d0630896c5"
      },
      "execution_count": 29,
      "outputs": [
        {
          "output_type": "stream",
          "name": "stdout",
          "text": [
            "['     apple     ', '     banana', '   avocado   ', 'watermelon']\n"
          ]
        }
      ]
    },
    {
      "cell_type": "code",
      "source": [
        "# 람다 함수를 사용하여 위 예제를 변경\n",
        "print(sorted(data, key=lambda string: len(string.strip())))"
      ],
      "metadata": {
        "colab": {
          "base_uri": "https://localhost:8080/"
        },
        "id": "tnGooQb0MAjm",
        "outputId": "24f00700-f86d-4fbb-df51-4daa2b6e4a09"
      },
      "execution_count": 31,
      "outputs": [
        {
          "output_type": "stream",
          "name": "stdout",
          "text": [
            "['     apple     ', '     banana', '   avocado   ', 'watermelon']\n"
          ]
        }
      ]
    },
    {
      "cell_type": "markdown",
      "source": [
        "### 2-1. 람다가 유용하게 사용되는 대표적인 함수"
      ],
      "metadata": {
        "id": "F7cG3H5lMlyV"
      }
    },
    {
      "cell_type": "code",
      "source": [
        "# filter(): 특정 조건을 만족하는 요소만 남기고 필터링\n",
        "\n",
        "li = [1, 2, 3, 4, 7, 9, 10, 14, 15, 19, 20]\n",
        "\n",
        "# print(filter(lambda n: n%2 == 0, li))\n",
        "result = list(filter(lambda n: n%2 == 0, li))\n",
        "print(result)"
      ],
      "metadata": {
        "colab": {
          "base_uri": "https://localhost:8080/"
        },
        "id": "5dJ2G8inNgqe",
        "outputId": "bc6c8439-239a-46ef-bdb8-fed693743c08"
      },
      "execution_count": 36,
      "outputs": [
        {
          "output_type": "stream",
          "name": "stdout",
          "text": [
            "[2, 4, 10, 14, 20]\n"
          ]
        }
      ]
    },
    {
      "cell_type": "code",
      "source": [
        "def even(n):\n",
        "  if n % 2 == 0:\n",
        "    return True\n",
        "  else:\n",
        "    return False"
      ],
      "metadata": {
        "id": "-NTdXmvFN_Kt"
      },
      "execution_count": 38,
      "outputs": []
    },
    {
      "cell_type": "code",
      "source": [
        "result = list(filter(even, li))\n",
        "print(result)"
      ],
      "metadata": {
        "colab": {
          "base_uri": "https://localhost:8080/"
        },
        "id": "MFyk01iiOk3n",
        "outputId": "2e61783d-cb0d-47b1-a5cc-ee66021b15f4"
      },
      "execution_count": 42,
      "outputs": [
        {
          "output_type": "stream",
          "name": "stdout",
          "text": [
            "[2, 4, 10, 14, 20]\n"
          ]
        }
      ]
    },
    {
      "cell_type": "code",
      "source": [
        "# map(): 각 원소를 주어진 수식에 따라 변형하여 새로운 값을 반환\n",
        "li = [1, 2, 3, 4, 7, 9, 10, 14, 15, 19, 20]\n",
        "\n",
        "per = list(map(lambda n: n * 0.01, li))\n",
        "print(per)"
      ],
      "metadata": {
        "colab": {
          "base_uri": "https://localhost:8080/"
        },
        "id": "xJ1_u9rMO3PX",
        "outputId": "6100f604-a6a8-48a6-ea11-4dd3ab8a99b0"
      },
      "execution_count": 43,
      "outputs": [
        {
          "output_type": "stream",
          "name": "stdout",
          "text": [
            "[0.01, 0.02, 0.03, 0.04, 0.07, 0.09, 0.1, 0.14, 0.15, 0.19, 0.2]\n"
          ]
        }
      ]
    },
    {
      "cell_type": "code",
      "source": [
        "def percent(n):\n",
        "  return n * 0.01"
      ],
      "metadata": {
        "id": "o7lFPW14Po9o"
      },
      "execution_count": 44,
      "outputs": []
    },
    {
      "cell_type": "code",
      "source": [
        "per = list(map(percent, li))\n",
        "print(per)"
      ],
      "metadata": {
        "colab": {
          "base_uri": "https://localhost:8080/"
        },
        "id": "g2hT0hBLQIP7",
        "outputId": "59625aea-54d2-428e-f469-9216c5053780"
      },
      "execution_count": 45,
      "outputs": [
        {
          "output_type": "stream",
          "name": "stdout",
          "text": [
            "[0.01, 0.02, 0.03, 0.04, 0.07, 0.09, 0.1, 0.14, 0.15, 0.19, 0.2]\n"
          ]
        }
      ]
    }
  ]
}