{
  "nbformat": 4,
  "nbformat_minor": 0,
  "metadata": {
    "colab": {
      "provenance": [],
      "authorship_tag": "ABX9TyP7bdZQml4ljGDu6790DqBx",
      "include_colab_link": true
    },
    "kernelspec": {
      "name": "python3",
      "display_name": "Python 3"
    },
    "language_info": {
      "name": "python"
    }
  },
  "cells": [
    {
      "cell_type": "markdown",
      "metadata": {
        "id": "view-in-github",
        "colab_type": "text"
      },
      "source": [
        "<a href=\"https://colab.research.google.com/github/leeCodingStudio/firstPython/blob/master/11_%EC%84%B8%ED%8A%B8.ipynb\" target=\"_parent\"><img src=\"https://colab.research.google.com/assets/colab-badge.svg\" alt=\"Open In Colab\"/></a>"
      ]
    },
    {
      "cell_type": "markdown",
      "source": [
        "# 1. 세트(set)\n",
        "* 수학의 집합과 비슷한 형태로 순서가 없어서 어떤 값이 먼저 나올지 알 수 없고, 중복되는 데이터를 허용하지 않음\n",
        "* 딕셔너리처럼 중괄호를 사용해서 선언하지만, key는 존재하지 않고 value만 존재"
      ],
      "metadata": {
        "id": "SP7inkDqiV5z"
      }
    },
    {
      "cell_type": "markdown",
      "source": [
        "### 1-1. set만들기"
      ],
      "metadata": {
        "id": "pk9aw5xzi3nY"
      }
    },
    {
      "cell_type": "code",
      "source": [
        "s1 = {}\n",
        "print(s1)\n",
        "print(type(s1))"
      ],
      "metadata": {
        "colab": {
          "base_uri": "https://localhost:8080/"
        },
        "id": "qlbz31Gpi-Lq",
        "outputId": "457c1fad-2317-4a61-fa90-2a71aa017695"
      },
      "execution_count": 1,
      "outputs": [
        {
          "output_type": "stream",
          "name": "stdout",
          "text": [
            "{}\n",
            "<class 'dict'>\n"
          ]
        }
      ]
    },
    {
      "cell_type": "code",
      "source": [
        "s1 = {1, 3, 5, 7}\n",
        "print(s1)\n",
        "print(type(s1))"
      ],
      "metadata": {
        "colab": {
          "base_uri": "https://localhost:8080/"
        },
        "id": "PHyDmDTijDJR",
        "outputId": "d4ba1672-d371-4f2c-8603-f2b02f7bcfde"
      },
      "execution_count": 2,
      "outputs": [
        {
          "output_type": "stream",
          "name": "stdout",
          "text": [
            "{1, 3, 5, 7}\n",
            "<class 'set'>\n"
          ]
        }
      ]
    },
    {
      "cell_type": "code",
      "source": [
        "li1 = [1, 3, 5, 7]\n",
        "s2 = set(li1)\n",
        "print(type(s2))"
      ],
      "metadata": {
        "colab": {
          "base_uri": "https://localhost:8080/"
        },
        "id": "hQ5wMGmCjNzN",
        "outputId": "a38fe96d-ac87-49b7-9457-cdb1f1032c6f"
      },
      "execution_count": 3,
      "outputs": [
        {
          "output_type": "stream",
          "name": "stdout",
          "text": [
            "<class 'set'>\n"
          ]
        }
      ]
    },
    {
      "cell_type": "code",
      "source": [
        "s3 = {1, 3, 5, 3, 7, 9, 1}\n",
        "print(s3)"
      ],
      "metadata": {
        "colab": {
          "base_uri": "https://localhost:8080/"
        },
        "id": "yxxVwlg4jjZy",
        "outputId": "fe68eaa5-fa17-40dc-e731-5550fb1aa4dc"
      },
      "execution_count": 4,
      "outputs": [
        {
          "output_type": "stream",
          "name": "stdout",
          "text": [
            "{1, 3, 5, 7, 9}\n"
          ]
        }
      ]
    },
    {
      "cell_type": "code",
      "source": [
        "li2 = [1, 3, 5, 3, 7, 9, 1]\n",
        "print(li2)\n",
        "s4 = set(li2)\n",
        "print(s4)"
      ],
      "metadata": {
        "colab": {
          "base_uri": "https://localhost:8080/"
        },
        "id": "ax9T4aoQjxS-",
        "outputId": "5caa00cd-2ce1-4d8a-c881-b1ab0b7692c1"
      },
      "execution_count": 5,
      "outputs": [
        {
          "output_type": "stream",
          "name": "stdout",
          "text": [
            "[1, 3, 5, 3, 7, 9, 1]\n",
            "{1, 3, 5, 7, 9}\n"
          ]
        }
      ]
    },
    {
      "cell_type": "code",
      "source": [
        "print(3 in s4) # True\n",
        "print(8 in s4) # False\n",
        "print(8 not in s4) # True"
      ],
      "metadata": {
        "colab": {
          "base_uri": "https://localhost:8080/"
        },
        "id": "w9xq1oNckImB",
        "outputId": "0671c5e6-df69-4192-a458-028e5e3cd7ef"
      },
      "execution_count": 6,
      "outputs": [
        {
          "output_type": "stream",
          "name": "stdout",
          "text": [
            "True\n",
            "False\n",
            "True\n"
          ]
        }
      ]
    },
    {
      "cell_type": "markdown",
      "source": [
        "### 1-2. set 함수"
      ],
      "metadata": {
        "id": "2bX0xV9nkXIp"
      }
    },
    {
      "cell_type": "code",
      "source": [
        "# add():set에 단일 데이터를 추가\n",
        "s1 = {100, 200}\n",
        "s1.add(150)\n",
        "print(s1) # 순서가 일정하지 않음\n",
        "s1.add(50)\n",
        "print(s1)"
      ],
      "metadata": {
        "colab": {
          "base_uri": "https://localhost:8080/"
        },
        "id": "C9YJn2W3pdnQ",
        "outputId": "8a410901-e846-420c-8361-06df52bd5ee2"
      },
      "execution_count": 8,
      "outputs": [
        {
          "output_type": "stream",
          "name": "stdout",
          "text": [
            "{200, 100, 150}\n",
            "{200, 50, 100, 150}\n"
          ]
        }
      ]
    },
    {
      "cell_type": "code",
      "source": [
        "# update(): set에 여러 데이터를 한번에 추가\n",
        "s2 = {10, 20, 30}\n",
        "s2.update([40, 50, 60, 20])\n",
        "print(s2)"
      ],
      "metadata": {
        "colab": {
          "base_uri": "https://localhost:8080/"
        },
        "id": "e1f1UzcRpmz6",
        "outputId": "d5e4c779-175b-4f2f-a662-eef44d315887"
      },
      "execution_count": 9,
      "outputs": [
        {
          "output_type": "stream",
          "name": "stdout",
          "text": [
            "{40, 10, 50, 20, 60, 30}\n"
          ]
        }
      ]
    },
    {
      "cell_type": "code",
      "source": [
        "# remove(): set의 데이터를 제거. 제서할 데이터가 없으면 에러\n",
        "s2.remove(50)\n",
        "print(s2)"
      ],
      "metadata": {
        "colab": {
          "base_uri": "https://localhost:8080/"
        },
        "id": "J-wjQ6rTqCGz",
        "outputId": "1b88e581-8572-410a-87b3-2a7c59fc118d"
      },
      "execution_count": 10,
      "outputs": [
        {
          "output_type": "stream",
          "name": "stdout",
          "text": [
            "{40, 10, 20, 60, 30}\n"
          ]
        }
      ]
    },
    {
      "cell_type": "code",
      "source": [
        "s2.remove(50) # KeyError: 50\n",
        "print(s2)"
      ],
      "metadata": {
        "colab": {
          "base_uri": "https://localhost:8080/",
          "height": 193
        },
        "id": "hxXcBga0qUGB",
        "outputId": "028027dc-3cb6-431e-a98f-4966697959b1"
      },
      "execution_count": 11,
      "outputs": [
        {
          "output_type": "error",
          "ename": "KeyError",
          "evalue": "ignored",
          "traceback": [
            "\u001b[0;31m---------------------------------------------------------------------------\u001b[0m",
            "\u001b[0;31mKeyError\u001b[0m                                  Traceback (most recent call last)",
            "\u001b[0;32m<ipython-input-11-8ad4064136d0>\u001b[0m in \u001b[0;36m<module>\u001b[0;34m\u001b[0m\n\u001b[0;32m----> 1\u001b[0;31m \u001b[0ms2\u001b[0m\u001b[0;34m.\u001b[0m\u001b[0mremove\u001b[0m\u001b[0;34m(\u001b[0m\u001b[0;36m50\u001b[0m\u001b[0;34m)\u001b[0m\u001b[0;34m\u001b[0m\u001b[0;34m\u001b[0m\u001b[0m\n\u001b[0m\u001b[1;32m      2\u001b[0m \u001b[0mprint\u001b[0m\u001b[0;34m(\u001b[0m\u001b[0ms2\u001b[0m\u001b[0;34m)\u001b[0m\u001b[0;34m\u001b[0m\u001b[0;34m\u001b[0m\u001b[0m\n",
            "\u001b[0;31mKeyError\u001b[0m: 50"
          ]
        }
      ]
    },
    {
      "cell_type": "code",
      "source": [
        "# discard(): set의 데이터를 제거. 제거할 데이터가 없어도 에러가 발생하지 않음\n",
        "s2.discard(30)\n",
        "print(s2)"
      ],
      "metadata": {
        "colab": {
          "base_uri": "https://localhost:8080/"
        },
        "id": "RwKqhVlgqbJo",
        "outputId": "c2863590-5c24-4525-f563-cad00b54bb5c"
      },
      "execution_count": 13,
      "outputs": [
        {
          "output_type": "stream",
          "name": "stdout",
          "text": [
            "{40, 10, 20, 60}\n"
          ]
        }
      ]
    },
    {
      "cell_type": "code",
      "source": [
        "s2.discard(30)\n",
        "print(s2)"
      ],
      "metadata": {
        "colab": {
          "base_uri": "https://localhost:8080/"
        },
        "id": "9ZZGm6x-qryZ",
        "outputId": "1731ad0a-dbb0-477d-e3e9-e38943641f7c"
      },
      "execution_count": 14,
      "outputs": [
        {
          "output_type": "stream",
          "name": "stdout",
          "text": [
            "{40, 10, 20, 60}\n"
          ]
        }
      ]
    },
    {
      "cell_type": "code",
      "source": [
        "# copy(): set을 복사\n",
        "# id(): 저장된 메모리주소를 10진수로 표현\n",
        "s3 = {10, 20, 30}\n",
        "s4 = s3.copy()\n",
        "print(s3)\n",
        "print(s4)\n",
        "print(id(s3))\n",
        "print(id(s4))"
      ],
      "metadata": {
        "colab": {
          "base_uri": "https://localhost:8080/"
        },
        "id": "O7FaOI60qvvl",
        "outputId": "50d1ce2b-c6bc-4554-fd4a-f6505877ed48"
      },
      "execution_count": 17,
      "outputs": [
        {
          "output_type": "stream",
          "name": "stdout",
          "text": [
            "{10, 20, 30}\n",
            "{10, 20, 30}\n",
            "140335945922816\n",
            "140335945679584\n"
          ]
        }
      ]
    },
    {
      "cell_type": "code",
      "source": [
        "li1 = [1, 2, 3, 4]\n",
        "li2 = li1\n",
        "print(id(li1))\n",
        "print(id(li2))"
      ],
      "metadata": {
        "colab": {
          "base_uri": "https://localhost:8080/"
        },
        "id": "9racRkPYq48c",
        "outputId": "aed3bbe9-2af0-4c67-f498-825e5bd99bad"
      },
      "execution_count": 16,
      "outputs": [
        {
          "output_type": "stream",
          "name": "stdout",
          "text": [
            "140335536201152\n",
            "140335536201152\n"
          ]
        }
      ]
    },
    {
      "cell_type": "markdown",
      "source": [
        "### 1-3. set의 연산자"
      ],
      "metadata": {
        "id": "S1o1ao1VrZyC"
      }
    },
    {
      "cell_type": "code",
      "source": [
        "s1 = {10, 20, 30, 40, 50}\n",
        "s2 = {30, 40, 50, 60, 70}"
      ],
      "metadata": {
        "id": "ztWnhsD2rfhD"
      },
      "execution_count": 19,
      "outputs": []
    },
    {
      "cell_type": "code",
      "source": [
        "# 합집합\n",
        "result = s1 | s2\n",
        "print(result)\n",
        "result = s1.union(s2)\n",
        "print(result)"
      ],
      "metadata": {
        "colab": {
          "base_uri": "https://localhost:8080/"
        },
        "id": "455LkdmIrqb7",
        "outputId": "8c610a1f-afe6-4056-f47c-443146b03c88"
      },
      "execution_count": 22,
      "outputs": [
        {
          "output_type": "stream",
          "name": "stdout",
          "text": [
            "{70, 40, 10, 50, 20, 60, 30}\n",
            "{70, 40, 10, 50, 20, 60, 30}\n"
          ]
        }
      ]
    },
    {
      "cell_type": "code",
      "source": [
        "# 교집합\n",
        "result = s1 & s2\n",
        "print(result)\n",
        "result = s1.intersection(s2)\n",
        "print(result)"
      ],
      "metadata": {
        "colab": {
          "base_uri": "https://localhost:8080/"
        },
        "id": "FtrZnQJEsJ4w",
        "outputId": "347fa893-52b0-4eb2-d012-e930e48f44b1"
      },
      "execution_count": 24,
      "outputs": [
        {
          "output_type": "stream",
          "name": "stdout",
          "text": [
            "{40, 50, 30}\n",
            "{40, 50, 30}\n"
          ]
        }
      ]
    },
    {
      "cell_type": "code",
      "source": [
        "# 차집합\n",
        "result = s1 - s2\n",
        "print(result)\n",
        "result = s1.difference(s2)\n",
        "print(result)"
      ],
      "metadata": {
        "colab": {
          "base_uri": "https://localhost:8080/"
        },
        "id": "Ev2hOseRstxU",
        "outputId": "4b4b178b-bac6-4687-c1a9-93b95182ad57"
      },
      "execution_count": 26,
      "outputs": [
        {
          "output_type": "stream",
          "name": "stdout",
          "text": [
            "{10, 20}\n",
            "{10, 20}\n"
          ]
        }
      ]
    },
    {
      "cell_type": "code",
      "source": [
        "# 대칭 차집합\n",
        "result = s1 ^ s2\n",
        "print(result)\n",
        "result = s1.symmetric_difference(s2)\n",
        "print(result)"
      ],
      "metadata": {
        "colab": {
          "base_uri": "https://localhost:8080/"
        },
        "id": "Y66XlVpytMJM",
        "outputId": "b7252300-7c38-4d67-800d-dc435a2affde"
      },
      "execution_count": 28,
      "outputs": [
        {
          "output_type": "stream",
          "name": "stdout",
          "text": [
            "{20, 70, 10, 60}\n",
            "{20, 70, 10, 60}\n"
          ]
        }
      ]
    },
    {
      "cell_type": "markdown",
      "source": [
        "# 2. 세트와 zip() 함수"
      ],
      "metadata": {
        "id": "7y3SiKhmtipN"
      }
    },
    {
      "cell_type": "code",
      "source": [
        "string = 'apple'\n",
        "li = [1, 2, 3, 4, 5]\n",
        "tu = ('김사과', '반하나', '오렌지', '이메론', '채애리')"
      ],
      "metadata": {
        "id": "-A8bcmeHt7-g"
      },
      "execution_count": 30,
      "outputs": []
    },
    {
      "cell_type": "code",
      "source": [
        "print(zip(string, li, tu))"
      ],
      "metadata": {
        "colab": {
          "base_uri": "https://localhost:8080/"
        },
        "id": "Sa_Flhe5uV0X",
        "outputId": "ee82bf47-c361-4e67-a1d1-ea6cc7395089"
      },
      "execution_count": 31,
      "outputs": [
        {
          "output_type": "stream",
          "name": "stdout",
          "text": [
            "<zip object at 0x7fa2826721c0>\n"
          ]
        }
      ]
    },
    {
      "cell_type": "code",
      "source": [
        "print(list(zip(string, li, tu)))"
      ],
      "metadata": {
        "colab": {
          "base_uri": "https://localhost:8080/"
        },
        "id": "PMfsfboOugT8",
        "outputId": "9659ab7d-1e80-4eea-f8ca-d179f0892a2e"
      },
      "execution_count": 32,
      "outputs": [
        {
          "output_type": "stream",
          "name": "stdout",
          "text": [
            "[('a', 1, '김사과'), ('p', 2, '반하나'), ('p', 3, '오렌지'), ('l', 4, '이메론'), ('e', 5, '채애리')]\n"
          ]
        }
      ]
    },
    {
      "cell_type": "code",
      "source": [
        "print(set(zip(string, li, tu)))"
      ],
      "metadata": {
        "colab": {
          "base_uri": "https://localhost:8080/"
        },
        "id": "fSUISrzxuoIl",
        "outputId": "900b9e33-8498-4483-f59b-69ebe5b71176"
      },
      "execution_count": 33,
      "outputs": [
        {
          "output_type": "stream",
          "name": "stdout",
          "text": [
            "{('a', 1, '김사과'), ('p', 2, '반하나'), ('l', 4, '이메론'), ('e', 5, '채애리'), ('p', 3, '오렌지')}\n"
          ]
        }
      ]
    },
    {
      "cell_type": "code",
      "source": [
        "print(dict(zip(string, li, tu))) # ValueError: dictionary update sequence element #0 has length 3; 2 is required"
      ],
      "metadata": {
        "colab": {
          "base_uri": "https://localhost:8080/",
          "height": 174
        },
        "id": "7y8CNO5uuph_",
        "outputId": "1fea70f6-e9c8-4648-8f13-e864ccaf2050"
      },
      "execution_count": 34,
      "outputs": [
        {
          "output_type": "error",
          "ename": "ValueError",
          "evalue": "ignored",
          "traceback": [
            "\u001b[0;31m---------------------------------------------------------------------------\u001b[0m",
            "\u001b[0;31mValueError\u001b[0m                                Traceback (most recent call last)",
            "\u001b[0;32m<ipython-input-34-28a9b63ce198>\u001b[0m in \u001b[0;36m<module>\u001b[0;34m\u001b[0m\n\u001b[0;32m----> 1\u001b[0;31m \u001b[0mprint\u001b[0m\u001b[0;34m(\u001b[0m\u001b[0mdict\u001b[0m\u001b[0;34m(\u001b[0m\u001b[0mzip\u001b[0m\u001b[0;34m(\u001b[0m\u001b[0mstring\u001b[0m\u001b[0;34m,\u001b[0m \u001b[0mli\u001b[0m\u001b[0;34m,\u001b[0m \u001b[0mtu\u001b[0m\u001b[0;34m)\u001b[0m\u001b[0;34m)\u001b[0m\u001b[0;34m)\u001b[0m\u001b[0;34m\u001b[0m\u001b[0;34m\u001b[0m\u001b[0m\n\u001b[0m",
            "\u001b[0;31mValueError\u001b[0m: dictionary update sequence element #0 has length 3; 2 is required"
          ]
        }
      ]
    },
    {
      "cell_type": "code",
      "source": [
        "print(dict(zip(li, tu)))"
      ],
      "metadata": {
        "colab": {
          "base_uri": "https://localhost:8080/"
        },
        "id": "aCiBXBWKu3_i",
        "outputId": "d5aeb6f7-5eaa-46d0-cb5f-586ea4ed661b"
      },
      "execution_count": 35,
      "outputs": [
        {
          "output_type": "stream",
          "name": "stdout",
          "text": [
            "{1: '김사과', 2: '반하나', 3: '오렌지', 4: '이메론', 5: '채애리'}\n"
          ]
        }
      ]
    },
    {
      "cell_type": "code",
      "source": [
        "print(dict(zip(string, tu)))"
      ],
      "metadata": {
        "colab": {
          "base_uri": "https://localhost:8080/"
        },
        "id": "ea_eg1govBAY",
        "outputId": "7076b473-7b2c-46f8-db50-5da1de80dab2"
      },
      "execution_count": 36,
      "outputs": [
        {
          "output_type": "stream",
          "name": "stdout",
          "text": [
            "{'a': '김사과', 'p': '오렌지', 'l': '이메론', 'e': '채애리'}\n"
          ]
        }
      ]
    }
  ]
}