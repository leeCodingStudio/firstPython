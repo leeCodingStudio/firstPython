{
  "nbformat": 4,
  "nbformat_minor": 0,
  "metadata": {
    "colab": {
      "provenance": [],
      "authorship_tag": "ABX9TyMo131IS5XIj1kOlSqIfkt/",
      "include_colab_link": true
    },
    "kernelspec": {
      "name": "python3",
      "display_name": "Python 3"
    },
    "language_info": {
      "name": "python"
    }
  },
  "cells": [
    {
      "cell_type": "markdown",
      "metadata": {
        "id": "view-in-github",
        "colab_type": "text"
      },
      "source": [
        "<a href=\"https://colab.research.google.com/github/leeCodingStudio/firstPython/blob/master/17_%EC%83%81%EC%86%8D.ipynb\" target=\"_parent\"><img src=\"https://colab.research.google.com/assets/colab-badge.svg\" alt=\"Open In Colab\"/></a>"
      ]
    },
    {
      "cell_type": "markdown",
      "source": [
        "# 1. 상속\n",
        "* 기존의 정의해둔 클래스의 기능을 그대로 물려받음\n",
        "* 기존클래스에 기능 일부를 추가하거나, 변경하여 새로운 클래스를 정의함\n",
        "* 코드를 재사용할 수 있게 됨\n",
        "* 안정적이고 유지보수에 용이함\n",
        "* 상속을 받고자 하는 대상인 기존 클래스를 부모, parent, super, base 클래스라고 부름\n",
        "* 상속을 받는 새로운 클래스는 자식, child, sub 클래스라고 부름"
      ],
      "metadata": {
        "id": "GqT4Et0EITTg"
      }
    },
    {
      "cell_type": "code",
      "source": [
        "class Animal:\n",
        "  def __init__(self, name, age):\n",
        "    self.name = name\n",
        "    self.age = age\n",
        "\n",
        "  def eat(self, food):\n",
        "    print(f'{self.name}는 {food}를 먹습니다.')\n",
        "\n",
        "  def sleep(self, hour):\n",
        "    print(f'{self.name}는 {hour}시간 동안 잠을 잡니다.')"
      ],
      "metadata": {
        "id": "-DOanDuwJbMz"
      },
      "execution_count": null,
      "outputs": []
    },
    {
      "cell_type": "code",
      "source": [
        "animal = Animal('동물', 10)\n",
        "animal.eat('먹이')\n",
        "animal.sleep(14)"
      ],
      "metadata": {
        "colab": {
          "base_uri": "https://localhost:8080/"
        },
        "id": "zy_tsjg0LLhy",
        "outputId": "36567b79-cee2-41dd-e283-d41771e408d0"
      },
      "execution_count": null,
      "outputs": [
        {
          "output_type": "stream",
          "name": "stdout",
          "text": [
            "동물는 먹이를 먹습니다.\n",
            "동물는 14시간 동안 잠을 잡니다.\n"
          ]
        }
      ]
    },
    {
      "cell_type": "code",
      "source": [
        "class Dog(Animal): # Animal 클래스를 상속\n",
        "  pass"
      ],
      "metadata": {
        "id": "3OBKCXxtLV5u"
      },
      "execution_count": null,
      "outputs": []
    },
    {
      "cell_type": "code",
      "source": [
        "Rucy = Dog() # Animal 클래스의 생성자를 상속받았기 떄문에"
      ],
      "metadata": {
        "colab": {
          "base_uri": "https://localhost:8080/",
          "height": 174
        },
        "id": "XBH5N2wrL5i5",
        "outputId": "6a584f2f-3fa0-4097-cb3d-5628856372cf"
      },
      "execution_count": null,
      "outputs": [
        {
          "output_type": "error",
          "ename": "TypeError",
          "evalue": "ignored",
          "traceback": [
            "\u001b[0;31m---------------------------------------------------------------------------\u001b[0m",
            "\u001b[0;31mTypeError\u001b[0m                                 Traceback (most recent call last)",
            "\u001b[0;32m<ipython-input-6-b88989d1005b>\u001b[0m in \u001b[0;36m<module>\u001b[0;34m\u001b[0m\n\u001b[0;32m----> 1\u001b[0;31m \u001b[0mRucy\u001b[0m \u001b[0;34m=\u001b[0m \u001b[0mDog\u001b[0m\u001b[0;34m(\u001b[0m\u001b[0;34m)\u001b[0m \u001b[0;31m# Animal 클래스의 생성자를 상속받았기 떄문에\u001b[0m\u001b[0;34m\u001b[0m\u001b[0;34m\u001b[0m\u001b[0m\n\u001b[0m",
            "\u001b[0;31mTypeError\u001b[0m: __init__() missing 2 required positional arguments: 'name' and 'age'"
          ]
        }
      ]
    },
    {
      "cell_type": "code",
      "source": [
        "Rucy = Dog('루시', 12)"
      ],
      "metadata": {
        "id": "fb7D--DhMIuS"
      },
      "execution_count": null,
      "outputs": []
    },
    {
      "cell_type": "code",
      "source": [
        "Rucy.eat('사료')"
      ],
      "metadata": {
        "colab": {
          "base_uri": "https://localhost:8080/"
        },
        "id": "eQCrNWwdMTYN",
        "outputId": "3832f7ff-abe2-40fa-b8dd-21486d144353"
      },
      "execution_count": null,
      "outputs": [
        {
          "output_type": "stream",
          "name": "stdout",
          "text": [
            "루시는 사료를 먹습니다.\n"
          ]
        }
      ]
    },
    {
      "cell_type": "code",
      "source": [
        "Rucy.sleep(10)"
      ],
      "metadata": {
        "colab": {
          "base_uri": "https://localhost:8080/"
        },
        "id": "5rzI6-mLMYDt",
        "outputId": "cb286277-ffc9-4153-9eff-9ae7ba7b1feb"
      },
      "execution_count": null,
      "outputs": [
        {
          "output_type": "stream",
          "name": "stdout",
          "text": [
            "루시는 10시간 동안 잠을 잡니다.\n"
          ]
        }
      ]
    },
    {
      "cell_type": "markdown",
      "source": [
        "# 2. 메소드 오버라이딩\n",
        "* 부모 클래스의 method를 재정의\n",
        "* 자식 클래스의 인스턴스로 호출시 재정의됨 메소드가 호출됨"
      ],
      "metadata": {
        "id": "Dg0LbK8oMbY4"
      }
    },
    {
      "cell_type": "code",
      "source": [
        "class Animal:\n",
        "  def __init__(self, name, age):\n",
        "    self.name = name\n",
        "    self.age = age\n",
        "\n",
        "  def eat(self, food):\n",
        "    print(f'{self.name}는 {food}를 먹습니다.')\n",
        "\n",
        "  def sleep(self, hour):\n",
        "    print(f'{self.name}는 {hour}시간 동안 잠을 잡니다.')"
      ],
      "metadata": {
        "id": "HyxlntaqNMtS"
      },
      "execution_count": null,
      "outputs": []
    },
    {
      "cell_type": "code",
      "source": [
        "class Dog(Animal):\n",
        "  def run(self):\n",
        "    print(f'{self.name}는 달립니다')\n",
        "\n",
        "  def eat(self, food): # 메소드 오버라이딩\n",
        "    print(f'{self.name}는 {food}를 아주~ 맛있게 먹습니다')\n",
        "\n",
        "  def superEat(self, food):\n",
        "    super().eat(food)"
      ],
      "metadata": {
        "id": "m65O-YmKNO3N"
      },
      "execution_count": null,
      "outputs": []
    },
    {
      "cell_type": "code",
      "source": [
        "Rucy = Dog('루시', 12)\n",
        "Rucy.eat('사료')\n",
        "Rucy.run()"
      ],
      "metadata": {
        "colab": {
          "base_uri": "https://localhost:8080/"
        },
        "id": "WmBjN5wRNkrK",
        "outputId": "a7a04574-35fe-4120-e8e2-d34f787b28bd"
      },
      "execution_count": null,
      "outputs": [
        {
          "output_type": "stream",
          "name": "stdout",
          "text": [
            "루시는 사료를 아주~ 맛있게 먹습니다\n",
            "루시는 달립니다\n"
          ]
        }
      ]
    },
    {
      "cell_type": "code",
      "source": [
        "Rucy.eat('사료')"
      ],
      "metadata": {
        "colab": {
          "base_uri": "https://localhost:8080/"
        },
        "id": "GLYYK8acNvcV",
        "outputId": "c5880632-b693-4c05-e2c9-0928fc401828"
      },
      "execution_count": null,
      "outputs": [
        {
          "output_type": "stream",
          "name": "stdout",
          "text": [
            "루시는 사료를 아주~ 맛있게 먹습니다\n"
          ]
        }
      ]
    },
    {
      "cell_type": "code",
      "source": [
        "animal = Animal('동물', 10)\n",
        "animal.eat('먹이')\n",
        "animal.run() # 자식 클래스의 객체 메소드를 사용할 수 없음"
      ],
      "metadata": {
        "colab": {
          "base_uri": "https://localhost:8080/",
          "height": 229
        },
        "id": "Jd_Kv6eGOJ8i",
        "outputId": "9f432049-32e5-4b96-d3c4-c1a9aa27a5f0"
      },
      "execution_count": null,
      "outputs": [
        {
          "output_type": "stream",
          "name": "stdout",
          "text": [
            "동물는 먹이를 먹습니다.\n"
          ]
        },
        {
          "output_type": "error",
          "ename": "AttributeError",
          "evalue": "ignored",
          "traceback": [
            "\u001b[0;31m---------------------------------------------------------------------------\u001b[0m",
            "\u001b[0;31mAttributeError\u001b[0m                            Traceback (most recent call last)",
            "\u001b[0;32m<ipython-input-22-6b47b6135896>\u001b[0m in \u001b[0;36m<module>\u001b[0;34m\u001b[0m\n\u001b[1;32m      1\u001b[0m \u001b[0manimal\u001b[0m \u001b[0;34m=\u001b[0m \u001b[0mAnimal\u001b[0m\u001b[0;34m(\u001b[0m\u001b[0;34m'동물'\u001b[0m\u001b[0;34m,\u001b[0m \u001b[0;36m10\u001b[0m\u001b[0;34m)\u001b[0m\u001b[0;34m\u001b[0m\u001b[0;34m\u001b[0m\u001b[0m\n\u001b[1;32m      2\u001b[0m \u001b[0manimal\u001b[0m\u001b[0;34m.\u001b[0m\u001b[0meat\u001b[0m\u001b[0;34m(\u001b[0m\u001b[0;34m'먹이'\u001b[0m\u001b[0;34m)\u001b[0m\u001b[0;34m\u001b[0m\u001b[0;34m\u001b[0m\u001b[0m\n\u001b[0;32m----> 3\u001b[0;31m \u001b[0manimal\u001b[0m\u001b[0;34m.\u001b[0m\u001b[0mrun\u001b[0m\u001b[0;34m(\u001b[0m\u001b[0;34m)\u001b[0m \u001b[0;31m# 자식 클래스의 객체 메소드를 사용할 수 없음\u001b[0m\u001b[0;34m\u001b[0m\u001b[0;34m\u001b[0m\u001b[0m\n\u001b[0m",
            "\u001b[0;31mAttributeError\u001b[0m: 'Animal' object has no attribute 'run'"
          ]
        }
      ]
    },
    {
      "cell_type": "code",
      "source": [
        "Rucy.superEat('사료')"
      ],
      "metadata": {
        "colab": {
          "base_uri": "https://localhost:8080/"
        },
        "id": "YliIU4OWOaNi",
        "outputId": "98242657-953e-4405-aecd-ba9425221af1"
      },
      "execution_count": null,
      "outputs": [
        {
          "output_type": "stream",
          "name": "stdout",
          "text": [
            "루시는 사료를 먹습니다.\n"
          ]
        }
      ]
    },
    {
      "cell_type": "markdown",
      "source": [
        "# 3. 다중 상속\n",
        "* C#, Java는 다중상속이 불가능\n",
        "* 파이썬은 C++과 같이 다중상속이 가능\n",
        "* 여러 클래스를 상속(개수 제한이 없음)"
      ],
      "metadata": {
        "id": "ApxAxenRPHxK"
      }
    },
    {
      "cell_type": "code",
      "source": [
        "class Animal:\n",
        "  def __init__(self, name, age):\n",
        "    self.name = name\n",
        "    self.age = age\n",
        "\n",
        "  def eat(self, food):\n",
        "    print(f'{self.name}는 {food}를 먹습니다.')\n",
        "\n",
        "  def sleep(self, hour):\n",
        "    print(f'{self.name}는 {hour}시간 동안 잠을 잡니다.')"
      ],
      "metadata": {
        "id": "OvP8XNNLQWbD"
      },
      "execution_count": null,
      "outputs": []
    },
    {
      "cell_type": "code",
      "source": [
        "class Human:\n",
        "  def __init__(self, name, age):\n",
        "    self.name = name\n",
        "    self.age = age\n",
        "  \n",
        "  def study(self, hour):\n",
        "    print(f'{self.name}는 {hour}시간 동안 공부를 합니다')"
      ],
      "metadata": {
        "id": "Lho64REKQpkt"
      },
      "execution_count": null,
      "outputs": []
    },
    {
      "cell_type": "code",
      "source": [
        "class KimApple(Animal, Human):\n",
        "  pass"
      ],
      "metadata": {
        "id": "MInGVhq_RFw7"
      },
      "execution_count": null,
      "outputs": []
    },
    {
      "cell_type": "code",
      "source": [
        "kim = KimApple('김사과', 20)"
      ],
      "metadata": {
        "id": "tRxnTSwYRMyK"
      },
      "execution_count": null,
      "outputs": []
    },
    {
      "cell_type": "code",
      "source": [
        "kim.eat('밥')"
      ],
      "metadata": {
        "colab": {
          "base_uri": "https://localhost:8080/"
        },
        "id": "57jEKlmSRUZc",
        "outputId": "d66e7359-e46c-4870-904a-b1763e374afc"
      },
      "execution_count": null,
      "outputs": [
        {
          "output_type": "stream",
          "name": "stdout",
          "text": [
            "김사과는 밥를 먹습니다.\n"
          ]
        }
      ]
    },
    {
      "cell_type": "code",
      "source": [
        "kim.study(2)"
      ],
      "metadata": {
        "colab": {
          "base_uri": "https://localhost:8080/"
        },
        "id": "OW_MiWI0RaGw",
        "outputId": "e692cd9b-34d4-4705-da20-997abca07bef"
      },
      "execution_count": null,
      "outputs": [
        {
          "output_type": "stream",
          "name": "stdout",
          "text": [
            "김사과는 2시간 동안 공부를 합니다\n"
          ]
        }
      ]
    },
    {
      "cell_type": "code",
      "source": [
        "KimApple.mro()"
      ],
      "metadata": {
        "colab": {
          "base_uri": "https://localhost:8080/"
        },
        "id": "SanMUPNnRdGg",
        "outputId": "10ab15ef-b675-49d6-b6ee-6625a21e9b00"
      },
      "execution_count": null,
      "outputs": [
        {
          "output_type": "execute_result",
          "data": {
            "text/plain": [
              "[__main__.KimApple, __main__.Animal, __main__.Human, object]"
            ]
          },
          "metadata": {},
          "execution_count": 30
        }
      ]
    },
    {
      "cell_type": "code",
      "source": [
        "%%shell\n",
        "jupyter nbconvert --to html /content/17_상속.ipynb"
      ],
      "metadata": {
        "colab": {
          "base_uri": "https://localhost:8080/"
        },
        "id": "2E-sWpa7VNXO",
        "outputId": "a7af6dba-2eb3-4ca2-b41c-69674db64532"
      },
      "execution_count": null,
      "outputs": [
        {
          "output_type": "stream",
          "name": "stdout",
          "text": [
            "[NbConvertApp] Converting notebook /content/17_상속.ipynb to html\n",
            "[NbConvertApp] Writing 603930 bytes to /content/17_상속.html\n"
          ]
        },
        {
          "output_type": "execute_result",
          "data": {
            "text/plain": []
          },
          "metadata": {},
          "execution_count": 31
        }
      ]
    }
  ]
}