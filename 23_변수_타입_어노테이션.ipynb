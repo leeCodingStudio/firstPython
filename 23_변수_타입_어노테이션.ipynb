{
  "nbformat": 4,
  "nbformat_minor": 0,
  "metadata": {
    "colab": {
      "provenance": [],
      "authorship_tag": "ABX9TyPLpbcqfthQLc/yI1psF9Kc",
      "include_colab_link": true
    },
    "kernelspec": {
      "name": "python3",
      "display_name": "Python 3"
    },
    "language_info": {
      "name": "python"
    }
  },
  "cells": [
    {
      "cell_type": "markdown",
      "metadata": {
        "id": "view-in-github",
        "colab_type": "text"
      },
      "source": [
        "<a href=\"https://colab.research.google.com/github/leeCodingStudio/firstPython/blob/master/23_%EB%B3%80%EC%88%98_%ED%83%80%EC%9E%85_%EC%96%B4%EB%85%B8%ED%85%8C%EC%9D%B4%EC%85%98.ipynb\" target=\"_parent\"><img src=\"https://colab.research.google.com/assets/colab-badge.svg\" alt=\"Open In Colab\"/></a>"
      ]
    },
    {
      "cell_type": "markdown",
      "source": [
        "# 1. 변수 타입 어노테이션"
      ],
      "metadata": {
        "id": "D3FOqllVrxy3"
      }
    },
    {
      "cell_type": "markdown",
      "source": [
        "### 1-1. 타입 어노테이션(Type Annotation)\n",
        "* 변수나 상수를 선언할 때 타입을 명시적으로 선언해 줌으로써 어떤 타입의 값이 저장될 것인지를 직접 알려주는 방법\n",
        "* 프로그램은 수많은 함수, 클래스 등으로 복잡하게 얽혀있는 경우라 많은데 변수 타입이 맞지 않으면 에러나 버그의 발생 가능성이 매우 높아짐\n",
        "* 타입 어노테이션을 사용하면 코드 가독성과 협업 효율성이 매우 높아짐\n",
        "* 파이썬 3.5 부터 기능이 지원되어 많은 라이브러리, 프로젝트에서 사용이 확산되는 추세\n",
        "* Java, C, C++ 등은 컴파일 시 변수 타입이 결정되는 정적 프로그래밍 언어이며, 파이썬은 프로그램 실행 도중에 변수 타입을 동적으로 결정하는 동적 프로그래밍 언어임"
      ],
      "metadata": {
        "id": "qsC5S-UEsDbN"
      }
    },
    {
      "cell_type": "markdown",
      "source": [
        "### 1-2. 동적 프로그래밍 언어의 장단점\n",
        "* 장점\n",
        "  * 타입이 자유로워 유연한 코딩이 가능하므로 쉽고 빠르게 프로그램을 만들 수 있음\n",
        "  * 타입 체크를 위한 코드가 없으므로 깔끔한 소스 코드를 작성할 수 있음\n",
        "* 단점\n",
        "  * 프로젝트의 규모가 커질수록 잘못된 타입 이용으로 버그가 생길 확률이 높아짐\n",
        "  * 정적 프로그래밍 언어의 특징상 타입 버그 발생 시 원인을 찾기 어려움\n",
        "  * 실행 속도가 느림"
      ],
      "metadata": {
        "id": "rO3RnWzmtyPo"
      }
    },
    {
      "cell_type": "markdown",
      "source": [
        "Java\n",
        "```\n",
        "int a = 10:\n",
        "a = \"십\"; // 에러\n",
        "```\n",
        "\n",
        "Python\n",
        "```\n",
        "a = 1\n",
        "type(a) # int\n",
        "a = \"십\"\n",
        "type(a) # str\n",
        "```"
      ],
      "metadata": {
        "id": "4H6DWiSPu0Nn"
      }
    },
    {
      "cell_type": "code",
      "source": [
        "a: int = 10"
      ],
      "metadata": {
        "id": "sJtZIXYxvMZm"
      },
      "execution_count": 1,
      "outputs": []
    },
    {
      "cell_type": "code",
      "source": [
        "print(a)\n",
        "print(type(a))"
      ],
      "metadata": {
        "colab": {
          "base_uri": "https://localhost:8080/"
        },
        "id": "gIHLGt-SvTYN",
        "outputId": "ff63876f-44f6-4b25-e594-911c439430a3"
      },
      "execution_count": 2,
      "outputs": [
        {
          "output_type": "stream",
          "name": "stdout",
          "text": [
            "10\n",
            "<class 'int'>\n"
          ]
        }
      ]
    },
    {
      "cell_type": "code",
      "source": [
        "def add(a:int, b:int) -> int: # a는 int, b는 int, 결과는 int 자료형으로 처리\n",
        "  return a + b"
      ],
      "metadata": {
        "id": "JQH1aOi7vXgc"
      },
      "execution_count": 3,
      "outputs": []
    },
    {
      "cell_type": "code",
      "source": [
        "add(10, 3)"
      ],
      "metadata": {
        "colab": {
          "base_uri": "https://localhost:8080/"
        },
        "id": "6HqADsYGvrto",
        "outputId": "ebdb9ff1-7f2d-4354-f1e8-c5b3593531ae"
      },
      "execution_count": 4,
      "outputs": [
        {
          "output_type": "execute_result",
          "data": {
            "text/plain": [
              "13"
            ]
          },
          "metadata": {},
          "execution_count": 4
        }
      ]
    },
    {
      "cell_type": "code",
      "source": [
        "add('10', '3') # 에러가 발생하지는 않음"
      ],
      "metadata": {
        "colab": {
          "base_uri": "https://localhost:8080/",
          "height": 35
        },
        "id": "R2rp9_82vtM-",
        "outputId": "1d1075b1-c317-468e-db48-cc0ec0975b0a"
      },
      "execution_count": 6,
      "outputs": [
        {
          "output_type": "execute_result",
          "data": {
            "text/plain": [
              "'103'"
            ],
            "application/vnd.google.colaboratory.intrinsic+json": {
              "type": "string"
            }
          },
          "metadata": {},
          "execution_count": 6
        }
      ]
    },
    {
      "cell_type": "code",
      "source": [
        "# 타입 어노테이션을 확인\n",
        "add.__annotations__"
      ],
      "metadata": {
        "colab": {
          "base_uri": "https://localhost:8080/"
        },
        "id": "vupzoexNvwfV",
        "outputId": "a1ce663f-1601-4a8c-d1a2-e6ae91d0b956"
      },
      "execution_count": 7,
      "outputs": [
        {
          "output_type": "execute_result",
          "data": {
            "text/plain": [
              "{'a': int, 'b': int, 'return': int}"
            ]
          },
          "metadata": {},
          "execution_count": 7
        }
      ]
    }
  ]
}