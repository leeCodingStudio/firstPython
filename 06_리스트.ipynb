{
  "nbformat": 4,
  "nbformat_minor": 0,
  "metadata": {
    "colab": {
      "provenance": [],
      "authorship_tag": "ABX9TyNsXpcHRP/KJloktNbFQzBi",
      "include_colab_link": true
    },
    "kernelspec": {
      "name": "python3",
      "display_name": "Python 3"
    },
    "language_info": {
      "name": "python"
    }
  },
  "cells": [
    {
      "cell_type": "markdown",
      "metadata": {
        "id": "view-in-github",
        "colab_type": "text"
      },
      "source": [
        "<a href=\"https://colab.research.google.com/github/leeCodingStudio/firstPython/blob/master/06_%EB%A6%AC%EC%8A%A4%ED%8A%B8.ipynb\" target=\"_parent\"><img src=\"https://colab.research.google.com/assets/colab-badge.svg\" alt=\"Open In Colab\"/></a>"
      ]
    },
    {
      "cell_type": "markdown",
      "source": [
        "# 1. 자료구조(Data Structure)\n",
        "* 코드상에서 데이터를 효율적으로 처리하기 위해 데이터 특징에 따라 체계적으로 구조화하여 저장"
      ],
      "metadata": {
        "id": "3Ng6nE85KxlN"
      }
    },
    {
      "cell_type": "markdown",
      "source": [
        "# 2. 리스트(list)\n",
        "* 여러가지 데이터 및 데이터타입을 콤마로 구분하여 대괄호로 감싼 자료구조"
      ],
      "metadata": {
        "id": "gbxifJd3LSI3"
      }
    },
    {
      "cell_type": "code",
      "source": [
        "a = 10 # 스칼라: 데이터 하나만 들어간 경우\n",
        "print(a)"
      ],
      "metadata": {
        "colab": {
          "base_uri": "https://localhost:8080/"
        },
        "id": "OMdbT_BHMfcA",
        "outputId": "de9055c3-cbe6-4129-cff6-a80787986ec6"
      },
      "execution_count": 2,
      "outputs": [
        {
          "output_type": "stream",
          "name": "stdout",
          "text": [
            "10\n"
          ]
        }
      ]
    },
    {
      "cell_type": "code",
      "source": [
        "li1 = [1, 3, 5, 7, 9]\n",
        "print(li1)\n",
        "print(type(li1))"
      ],
      "metadata": {
        "colab": {
          "base_uri": "https://localhost:8080/"
        },
        "id": "tTe6R9_hMO6s",
        "outputId": "4f2e9773-bed8-4e44-82a5-3a8751979b29"
      },
      "execution_count": 15,
      "outputs": [
        {
          "output_type": "stream",
          "name": "stdout",
          "text": [
            "[1, 3, 5, 7, 9]\n",
            "<class 'list'>\n"
          ]
        }
      ]
    },
    {
      "cell_type": "code",
      "source": [
        "li2 = list([1, 3, 5, 7, 9])\n",
        "print(li2)"
      ],
      "metadata": {
        "colab": {
          "base_uri": "https://localhost:8080/"
        },
        "id": "eXZCxtSIMa81",
        "outputId": "07a8e2ff-ed37-4658-cacb-1f9ebc586ea2"
      },
      "execution_count": 4,
      "outputs": [
        {
          "output_type": "stream",
          "name": "stdout",
          "text": [
            "[1, 3, 5, 7, 9]\n"
          ]
        }
      ]
    },
    {
      "cell_type": "code",
      "source": [
        "li3 = ['김사과', '반하나', '오렌지', '이메론']\n",
        "print(li3)"
      ],
      "metadata": {
        "colab": {
          "base_uri": "https://localhost:8080/"
        },
        "id": "VgydaXK6NRJi",
        "outputId": "d508e85d-c0cf-4110-a5a6-73dd93531004"
      },
      "execution_count": 5,
      "outputs": [
        {
          "output_type": "stream",
          "name": "stdout",
          "text": [
            "['김사과', '반하나', '오렌지', '이메론']\n"
          ]
        }
      ]
    },
    {
      "cell_type": "code",
      "source": [
        "li4 = [1, 50.5, '김사과', True] # 각자 타입이 다른 데이터를 저장\n",
        "print(li4)"
      ],
      "metadata": {
        "colab": {
          "base_uri": "https://localhost:8080/"
        },
        "id": "G1nLlfJ3NkQf",
        "outputId": "a4a8334f-d3c0-4aad-850b-e7ce60446cdc"
      },
      "execution_count": 6,
      "outputs": [
        {
          "output_type": "stream",
          "name": "stdout",
          "text": [
            "[1, 50.5, '김사과', True]\n"
          ]
        }
      ]
    },
    {
      "cell_type": "code",
      "source": [
        "li5 = [1, 2, '파이썬', ['김사과', '오렌지']]\n",
        "print(li5)"
      ],
      "metadata": {
        "colab": {
          "base_uri": "https://localhost:8080/"
        },
        "id": "290zgO-INxmM",
        "outputId": "7e6304f1-5ac8-4566-9f68-9598be17e2f5"
      },
      "execution_count": 7,
      "outputs": [
        {
          "output_type": "stream",
          "name": "stdout",
          "text": [
            "[1, 2, '파이썬', ['김사과', '오렌지']]\n"
          ]
        }
      ]
    },
    {
      "cell_type": "markdown",
      "source": [
        "# 3. 리스트 인덱싱"
      ],
      "metadata": {
        "id": "bNCcHrHaOPRy"
      }
    },
    {
      "cell_type": "code",
      "source": [
        "li1 = [1, 3, 5, 7, 9]\n",
        "print(li1)\n",
        "print(li1[0])\n",
        "print(li1[-1])\n",
        "print(li1[0] + li1[-1])"
      ],
      "metadata": {
        "colab": {
          "base_uri": "https://localhost:8080/"
        },
        "id": "OzUZhPLROqei",
        "outputId": "110b90fa-e7f7-4d87-9f47-a786021679f3"
      },
      "execution_count": 10,
      "outputs": [
        {
          "output_type": "stream",
          "name": "stdout",
          "text": [
            "[1, 3, 5, 7, 9]\n",
            "1\n",
            "9\n",
            "10\n"
          ]
        }
      ]
    },
    {
      "cell_type": "code",
      "source": [
        "li2 = ['김사과', '오렌지', '반하나', ['🍕', '🍔', '🥓', '🥨']]\n",
        "print(li2[0])\n",
        "print(li2[-1])\n",
        "print(li2[-1][-2])"
      ],
      "metadata": {
        "colab": {
          "base_uri": "https://localhost:8080/"
        },
        "id": "BtbJER0aPDE1",
        "outputId": "8a422d59-950b-498c-eed3-c92527393408"
      },
      "execution_count": 11,
      "outputs": [
        {
          "output_type": "stream",
          "name": "stdout",
          "text": [
            "김사과\n",
            "['🍕', '🍔', '🥓', '🥨']\n",
            "🥓\n"
          ]
        }
      ]
    },
    {
      "cell_type": "code",
      "source": [
        "li3 = [1, 2, 3, ['김사과', '오렌지', '반하나', ['🍕', '🍔', '🥓', '🥨']]]\n",
        "print(li3[2])\n",
        "print(li3[-2])\n",
        "print(li3[-1])\n",
        "print(li3[-1][-2])\n",
        "print(li3[-1][-1][-1])"
      ],
      "metadata": {
        "colab": {
          "base_uri": "https://localhost:8080/"
        },
        "id": "2j7sZzsePpYZ",
        "outputId": "fef1d9e5-d146-4938-fce3-035cc098bdf7"
      },
      "execution_count": 14,
      "outputs": [
        {
          "output_type": "stream",
          "name": "stdout",
          "text": [
            "3\n",
            "3\n",
            "['김사과', '오렌지', '반하나', ['🍕', '🍔', '🥓', '🥨']]\n",
            "반하나\n",
            "🥨\n"
          ]
        }
      ]
    },
    {
      "cell_type": "markdown",
      "source": [
        "# 4. 리스트 슬라이싱"
      ],
      "metadata": {
        "id": "dNupzpmOQVPN"
      }
    },
    {
      "cell_type": "code",
      "source": [
        "li4 = [10, 20, 30, 40, 50]\n",
        "print(li4)\n",
        "print(li4[0:3])"
      ],
      "metadata": {
        "colab": {
          "base_uri": "https://localhost:8080/"
        },
        "id": "WQppj6YrQ4bg",
        "outputId": "771f6f92-1583-4b6d-e503-fab6438d254f"
      },
      "execution_count": 22,
      "outputs": [
        {
          "output_type": "stream",
          "name": "stdout",
          "text": [
            "[10, 20, 30, 40, 50]\n",
            "[10, 20, 30]\n"
          ]
        }
      ]
    },
    {
      "cell_type": "code",
      "source": [
        "li5 = li4\n",
        "print(li5)\n",
        "li5[0] = 100\n",
        "print(li5)\n",
        "print(li4)"
      ],
      "metadata": {
        "colab": {
          "base_uri": "https://localhost:8080/"
        },
        "id": "7qxMM26VRCgj",
        "outputId": "d47667f7-2e05-4515-ccaa-a5741a47de07"
      },
      "execution_count": 23,
      "outputs": [
        {
          "output_type": "stream",
          "name": "stdout",
          "text": [
            "[10, 20, 30, 40, 50]\n",
            "[100, 20, 30, 40, 50]\n",
            "[100, 20, 30, 40, 50]\n"
          ]
        }
      ]
    },
    {
      "cell_type": "code",
      "source": [
        "li6 = [10, 20, 30, ['김사과', '오렌지', '반하나'], 40, ['🍕', '🍔']]\n",
        "print(li6[2:6])\n",
        "print(li6[5][:1])"
      ],
      "metadata": {
        "colab": {
          "base_uri": "https://localhost:8080/"
        },
        "id": "UwvEV9kOR56e",
        "outputId": "b16cb30a-3fe5-4ce9-9ecd-e58a06328417"
      },
      "execution_count": 25,
      "outputs": [
        {
          "output_type": "stream",
          "name": "stdout",
          "text": [
            "[30, ['김사과', '오렌지', '반하나'], 40, ['🍕', '🍔']]\n",
            "['🍕']\n"
          ]
        }
      ]
    },
    {
      "cell_type": "markdown",
      "source": [
        "# 5. 리스트 연산자"
      ],
      "metadata": {
        "id": "Mgb8HFx_SZWj"
      }
    },
    {
      "cell_type": "code",
      "source": [
        "li7 = [10, 20, 30]\n",
        "li8 = [40, 50, 60]\n",
        "\n",
        "print(li7 + li8) # 리스트 연결 연산 [10, 20, 30, 40, 50, 60]\n",
        "print(li8 + li7) # 리스트 연결 연산 [40, 50, 60, 10, 20, 30]\n",
        "\n",
        "print(li7 - li8) # TypeError: unsupported operand type(s) for -: 'list' and 'list'"
      ],
      "metadata": {
        "colab": {
          "base_uri": "https://localhost:8080/",
          "height": 246
        },
        "id": "-3rAW0BUVRhA",
        "outputId": "b3bc53d3-f906-4b4c-eb28-5d5eb56913ad"
      },
      "execution_count": 34,
      "outputs": [
        {
          "output_type": "stream",
          "name": "stdout",
          "text": [
            "[10, 20, 30, 40, 50, 60]\n",
            "[40, 50, 60, 10, 20, 30]\n"
          ]
        },
        {
          "output_type": "error",
          "ename": "TypeError",
          "evalue": "ignored",
          "traceback": [
            "\u001b[0;31m---------------------------------------------------------------------------\u001b[0m",
            "\u001b[0;31mTypeError\u001b[0m                                 Traceback (most recent call last)",
            "\u001b[0;32m<ipython-input-34-7e3aa0db7067>\u001b[0m in \u001b[0;36m<module>\u001b[0;34m\u001b[0m\n\u001b[1;32m      5\u001b[0m \u001b[0mprint\u001b[0m\u001b[0;34m(\u001b[0m\u001b[0mli8\u001b[0m \u001b[0;34m+\u001b[0m \u001b[0mli7\u001b[0m\u001b[0;34m)\u001b[0m \u001b[0;31m# 리스트 연결 연산 [40, 50, 60, 10, 20, 30]\u001b[0m\u001b[0;34m\u001b[0m\u001b[0;34m\u001b[0m\u001b[0m\n\u001b[1;32m      6\u001b[0m \u001b[0;34m\u001b[0m\u001b[0m\n\u001b[0;32m----> 7\u001b[0;31m \u001b[0mprint\u001b[0m\u001b[0;34m(\u001b[0m\u001b[0mli7\u001b[0m \u001b[0;34m-\u001b[0m \u001b[0mli8\u001b[0m\u001b[0;34m)\u001b[0m \u001b[0;31m# TypeError: unsupported operand type(s) for -: 'list' and 'list'\u001b[0m\u001b[0;34m\u001b[0m\u001b[0;34m\u001b[0m\u001b[0m\n\u001b[0m",
            "\u001b[0;31mTypeError\u001b[0m: unsupported operand type(s) for -: 'list' and 'list'"
          ]
        }
      ]
    },
    {
      "cell_type": "code",
      "source": [
        "print(li7 * 3) # 반복 [10, 20, 30, 10, 20, 30, 10, 20, 30]"
      ],
      "metadata": {
        "colab": {
          "base_uri": "https://localhost:8080/"
        },
        "id": "JmLAiMXcWGIo",
        "outputId": "29ddd956-9a2e-4637-c0a2-b0936a52e6c9"
      },
      "execution_count": 33,
      "outputs": [
        {
          "output_type": "stream",
          "name": "stdout",
          "text": [
            "[10, 20, 30, 10, 20, 30, 10, 20, 30]\n"
          ]
        }
      ]
    },
    {
      "cell_type": "code",
      "source": [
        "li9 = [10, 20, 30]\n",
        "print(li9[0] + li9[2])\n",
        "li9[1] = '😎'\n",
        "print(li9[0] + li9[1]) # TypeError: unsupported operand type(s) for +: 'int' and 'str'"
      ],
      "metadata": {
        "colab": {
          "base_uri": "https://localhost:8080/",
          "height": 228
        },
        "id": "vFl1cXKgWKoH",
        "outputId": "fd29f530-55c7-41c1-c800-739880fdbccd"
      },
      "execution_count": 36,
      "outputs": [
        {
          "output_type": "stream",
          "name": "stdout",
          "text": [
            "40\n"
          ]
        },
        {
          "output_type": "error",
          "ename": "TypeError",
          "evalue": "ignored",
          "traceback": [
            "\u001b[0;31m---------------------------------------------------------------------------\u001b[0m",
            "\u001b[0;31mTypeError\u001b[0m                                 Traceback (most recent call last)",
            "\u001b[0;32m<ipython-input-36-0b12962bab08>\u001b[0m in \u001b[0;36m<module>\u001b[0;34m\u001b[0m\n\u001b[1;32m      2\u001b[0m \u001b[0mprint\u001b[0m\u001b[0;34m(\u001b[0m\u001b[0mli9\u001b[0m\u001b[0;34m[\u001b[0m\u001b[0;36m0\u001b[0m\u001b[0;34m]\u001b[0m \u001b[0;34m+\u001b[0m \u001b[0mli9\u001b[0m\u001b[0;34m[\u001b[0m\u001b[0;36m2\u001b[0m\u001b[0;34m]\u001b[0m\u001b[0;34m)\u001b[0m\u001b[0;34m\u001b[0m\u001b[0;34m\u001b[0m\u001b[0m\n\u001b[1;32m      3\u001b[0m \u001b[0mli9\u001b[0m\u001b[0;34m[\u001b[0m\u001b[0;36m1\u001b[0m\u001b[0;34m]\u001b[0m \u001b[0;34m=\u001b[0m \u001b[0;34m'😎'\u001b[0m\u001b[0;34m\u001b[0m\u001b[0;34m\u001b[0m\u001b[0m\n\u001b[0;32m----> 4\u001b[0;31m \u001b[0mprint\u001b[0m\u001b[0;34m(\u001b[0m\u001b[0mli9\u001b[0m\u001b[0;34m[\u001b[0m\u001b[0;36m0\u001b[0m\u001b[0;34m]\u001b[0m \u001b[0;34m+\u001b[0m \u001b[0mli9\u001b[0m\u001b[0;34m[\u001b[0m\u001b[0;36m1\u001b[0m\u001b[0;34m]\u001b[0m\u001b[0;34m)\u001b[0m\u001b[0;34m\u001b[0m\u001b[0;34m\u001b[0m\u001b[0m\n\u001b[0m",
            "\u001b[0;31mTypeError\u001b[0m: unsupported operand type(s) for +: 'int' and 'str'"
          ]
        }
      ]
    },
    {
      "cell_type": "markdown",
      "source": [
        "# 6. 리스트의 수정 및 삭제"
      ],
      "metadata": {
        "id": "WSjSMvujWrhy"
      }
    },
    {
      "cell_type": "code",
      "source": [
        "li10 = [10, 20, 30]\n",
        "li10[1] = 100\n",
        "print(li10)"
      ],
      "metadata": {
        "colab": {
          "base_uri": "https://localhost:8080/"
        },
        "id": "6DRRwgzwWuzQ",
        "outputId": "4504016a-0e30-424b-cf88-674cad2708ab"
      },
      "execution_count": 38,
      "outputs": [
        {
          "output_type": "stream",
          "name": "stdout",
          "text": [
            "[10, 100, 30]\n"
          ]
        }
      ]
    },
    {
      "cell_type": "code",
      "source": [
        "# 슬라이싱을 이용하여 리스트 데이터를 추가한 경우 리스트에 데이터만 포함\n",
        "li10[1:2] = ['😎', '😍', '😂']\n",
        "print(li10)"
      ],
      "metadata": {
        "colab": {
          "base_uri": "https://localhost:8080/"
        },
        "id": "UxJZw1NiW5pX",
        "outputId": "98777823-4fbd-4da9-b469-c68d09b3c590"
      },
      "execution_count": 39,
      "outputs": [
        {
          "output_type": "stream",
          "name": "stdout",
          "text": [
            "[10, '😎', '😍', '😂', 30]\n"
          ]
        }
      ]
    },
    {
      "cell_type": "code",
      "source": [
        "li10 = [10, 20, 30]"
      ],
      "metadata": {
        "id": "RBNHkBSbXRcM"
      },
      "execution_count": 53,
      "outputs": []
    },
    {
      "cell_type": "code",
      "source": [
        "# 인덱싱을 이용하여 리스트 데이터를 추가한 경우 리스트 안에 리스트를 포함\n",
        "li10[1] = ['😎', '😍', '😂']\n",
        "print(li10)"
      ],
      "metadata": {
        "colab": {
          "base_uri": "https://localhost:8080/"
        },
        "id": "r8JgoBLBXS76",
        "outputId": "41457ba8-1aa7-4522-9b74-23104e0ad16d"
      },
      "execution_count": 54,
      "outputs": [
        {
          "output_type": "stream",
          "name": "stdout",
          "text": [
            "[10, ['😎', '😍', '😂'], 30]\n"
          ]
        }
      ]
    },
    {
      "cell_type": "code",
      "source": [
        "print(li10[1:3])"
      ],
      "metadata": {
        "colab": {
          "base_uri": "https://localhost:8080/"
        },
        "id": "A1VATFhTXZH9",
        "outputId": "3f682e6c-a75a-4f27-cdb8-18647ad6cab4"
      },
      "execution_count": 55,
      "outputs": [
        {
          "output_type": "stream",
          "name": "stdout",
          "text": [
            "[['😎', '😍', '😂'], 30]\n"
          ]
        }
      ]
    },
    {
      "cell_type": "code",
      "source": [
        "li10[1:3] = [] # 빈 리스트를 저장하면 요소가 삭제됨\n",
        "print(li10)"
      ],
      "metadata": {
        "colab": {
          "base_uri": "https://localhost:8080/"
        },
        "id": "A22fPc-iXyg6",
        "outputId": "060e90af-7200-42d9-93c3-8064ec5580a3"
      },
      "execution_count": 43,
      "outputs": [
        {
          "output_type": "stream",
          "name": "stdout",
          "text": [
            "[10]\n"
          ]
        }
      ]
    },
    {
      "cell_type": "code",
      "source": [
        "del li10[0] # 인덱스 0번 요소 삭제\n",
        "print(li10)"
      ],
      "metadata": {
        "colab": {
          "base_uri": "https://localhost:8080/"
        },
        "id": "rwAhBXM3X8BA",
        "outputId": "af830c70-b03e-477a-93b2-fd595a09ef94"
      },
      "execution_count": 44,
      "outputs": [
        {
          "output_type": "stream",
          "name": "stdout",
          "text": [
            "[]\n"
          ]
        }
      ]
    },
    {
      "cell_type": "markdown",
      "source": [
        "# 7. 리스트 함수"
      ],
      "metadata": {
        "id": "Ce5PW8HqZIMU"
      }
    },
    {
      "cell_type": "code",
      "source": [
        "li11 = [10, 20, 30]\n",
        "\n",
        "# append(): 리스트의 요소 맨 마지막 자리에 데이터를 추가\n",
        "print(li1)\n",
        "li11.append(100)\n",
        "print(li11)\n",
        "li11.append([200, 300])\n",
        "print(li11)"
      ],
      "metadata": {
        "colab": {
          "base_uri": "https://localhost:8080/"
        },
        "id": "5t3q-T3TZMWE",
        "outputId": "b77a031b-932f-4303-95b2-8b97ab8a2fc3"
      },
      "execution_count": 50,
      "outputs": [
        {
          "output_type": "stream",
          "name": "stdout",
          "text": [
            "[10, 20, 30]\n",
            "[10, 20, 30, 100]\n",
            "[10, 20, 30, 100, [200, 300]]\n"
          ]
        }
      ]
    },
    {
      "cell_type": "code",
      "source": [
        "# extend(): 리스트에 요소를 추가\n",
        "print(li11)\n",
        "li11.extend([50])\n",
        "print(li11)\n",
        "li11.extend([1000, 2000])\n",
        "print(li11)"
      ],
      "metadata": {
        "colab": {
          "base_uri": "https://localhost:8080/"
        },
        "id": "2vCGHdTmZ3MH",
        "outputId": "a1a525f1-dde5-4b0c-ecd1-8413747b10ef"
      },
      "execution_count": 51,
      "outputs": [
        {
          "output_type": "stream",
          "name": "stdout",
          "text": [
            "[10, 20, 30, 100, [200, 300]]\n",
            "[10, 20, 30, 100, [200, 300], 50]\n",
            "[10, 20, 30, 100, [200, 300], 50, 1000, 2000]\n"
          ]
        }
      ]
    },
    {
      "cell_type": "code",
      "source": [
        "# inplace 연산\n",
        "li11 = [10, 20, 30]\n",
        "li11 = li11 + [40, 50] # li11 += [40, 50]\n",
        "print(li11)"
      ],
      "metadata": {
        "colab": {
          "base_uri": "https://localhost:8080/"
        },
        "id": "r4yHlKjgaB8K",
        "outputId": "916fa8fa-89c3-4724-af78-b6a77cc064fa"
      },
      "execution_count": 56,
      "outputs": [
        {
          "output_type": "stream",
          "name": "stdout",
          "text": [
            "[10, 20, 30, 40, 50]\n"
          ]
        }
      ]
    },
    {
      "cell_type": "code",
      "source": [
        "li12 = [10, 20, 30, 40, 50]\n",
        "\n",
        "# pop(): 리스트에 맨 마지막에 저장된 데이터를 반환하고 해당 데이터는 삭제\n",
        "print(li12)\n",
        "print(li12.pop())\n",
        "print(li12)\n",
        "temp = li12.pop()\n",
        "print(temp)\n",
        "print(li12)"
      ],
      "metadata": {
        "colab": {
          "base_uri": "https://localhost:8080/"
        },
        "id": "SGKTpHRfbrUC",
        "outputId": "71e589bf-311b-415b-e432-876a98fa3094"
      },
      "execution_count": 60,
      "outputs": [
        {
          "output_type": "stream",
          "name": "stdout",
          "text": [
            "[10, 20, 30, 40, 50]\n",
            "50\n",
            "[10, 20, 30, 40]\n",
            "40\n",
            "[10, 20, 30]\n"
          ]
        }
      ]
    },
    {
      "cell_type": "code",
      "source": [
        "li13 = [10, 20, 30, 40, 50, 20, 40]\n",
        "\n",
        "# remove(): 매개변수로 전달된 데이터를 제거, 같은 데이터가 여러개 있는 경우 처음 출현하는 데이터만 제거\n",
        "print(li13)\n",
        "\n",
        "li13.remove(20)\n",
        "print(li13)\n",
        "\n",
        "li13.remove(20)\n",
        "print(li13)\n",
        "\n",
        "li13.remove(20) # 지우려는 데이터가 없다면 에러!. ValueError: list.remove(x): x not in list\n",
        "print(li13)"
      ],
      "metadata": {
        "colab": {
          "base_uri": "https://localhost:8080/",
          "height": 283
        },
        "id": "Y8cLaEK5cb0e",
        "outputId": "a7a4276e-0356-4793-cf05-8f5d2802fd4c"
      },
      "execution_count": 62,
      "outputs": [
        {
          "output_type": "stream",
          "name": "stdout",
          "text": [
            "[10, 20, 30, 40, 50, 20, 40]\n",
            "[10, 30, 40, 50, 20, 40]\n",
            "[10, 30, 40, 50, 40]\n"
          ]
        },
        {
          "output_type": "error",
          "ename": "ValueError",
          "evalue": "ignored",
          "traceback": [
            "\u001b[0;31m---------------------------------------------------------------------------\u001b[0m",
            "\u001b[0;31mValueError\u001b[0m                                Traceback (most recent call last)",
            "\u001b[0;32m<ipython-input-62-4795afda57f8>\u001b[0m in \u001b[0;36m<module>\u001b[0;34m\u001b[0m\n\u001b[1;32m     10\u001b[0m \u001b[0mprint\u001b[0m\u001b[0;34m(\u001b[0m\u001b[0mli13\u001b[0m\u001b[0;34m)\u001b[0m\u001b[0;34m\u001b[0m\u001b[0;34m\u001b[0m\u001b[0m\n\u001b[1;32m     11\u001b[0m \u001b[0;34m\u001b[0m\u001b[0m\n\u001b[0;32m---> 12\u001b[0;31m \u001b[0mli13\u001b[0m\u001b[0;34m.\u001b[0m\u001b[0mremove\u001b[0m\u001b[0;34m(\u001b[0m\u001b[0;36m20\u001b[0m\u001b[0;34m)\u001b[0m\u001b[0;34m\u001b[0m\u001b[0;34m\u001b[0m\u001b[0m\n\u001b[0m\u001b[1;32m     13\u001b[0m \u001b[0mprint\u001b[0m\u001b[0;34m(\u001b[0m\u001b[0mli13\u001b[0m\u001b[0;34m)\u001b[0m\u001b[0;34m\u001b[0m\u001b[0;34m\u001b[0m\u001b[0m\n",
            "\u001b[0;31mValueError\u001b[0m: list.remove(x): x not in list"
          ]
        }
      ]
    },
    {
      "cell_type": "code",
      "source": [
        "li14 = [10, 20, 30]\n",
        "# insert(): 리스트의 특정 위치(인덱스)에 데이터를 삽입\n",
        "li14.insert(1, 100) # 인덱스 1번 의치에 100을 삽입\n",
        "print(li14)"
      ],
      "metadata": {
        "colab": {
          "base_uri": "https://localhost:8080/"
        },
        "id": "zN72KYDHdDdY",
        "outputId": "c3d56a93-cfb7-4060-95ce-d0a1539ae7e2"
      },
      "execution_count": 63,
      "outputs": [
        {
          "output_type": "stream",
          "name": "stdout",
          "text": [
            "[10, 100, 20, 30]\n"
          ]
        }
      ]
    },
    {
      "cell_type": "code",
      "source": [
        "print(li14)\n",
        "\n",
        "# index(): 리스트에 저장된 데이터가 있을 경우 위치를 인덱스로 반환. 없으면 에러!\n",
        "print(li14.index(100))\n",
        "print(li14.index(50)) # ValueError: 50 is not in list"
      ],
      "metadata": {
        "colab": {
          "base_uri": "https://localhost:8080/",
          "height": 246
        },
        "id": "PvQrKh5GdjNp",
        "outputId": "4c937f92-968e-4170-aaa5-e322bc73dfcb"
      },
      "execution_count": 64,
      "outputs": [
        {
          "output_type": "stream",
          "name": "stdout",
          "text": [
            "[10, 100, 20, 30]\n",
            "1\n"
          ]
        },
        {
          "output_type": "error",
          "ename": "ValueError",
          "evalue": "ignored",
          "traceback": [
            "\u001b[0;31m---------------------------------------------------------------------------\u001b[0m",
            "\u001b[0;31mValueError\u001b[0m                                Traceback (most recent call last)",
            "\u001b[0;32m<ipython-input-64-d545d036be13>\u001b[0m in \u001b[0;36m<module>\u001b[0;34m\u001b[0m\n\u001b[1;32m      3\u001b[0m \u001b[0;31m# index(): 리스트에 저장된 데이터가 있을 경우 위치를 인덱스로 반환. 없으면 에러!\u001b[0m\u001b[0;34m\u001b[0m\u001b[0;34m\u001b[0m\u001b[0;34m\u001b[0m\u001b[0m\n\u001b[1;32m      4\u001b[0m \u001b[0mprint\u001b[0m\u001b[0;34m(\u001b[0m\u001b[0mli14\u001b[0m\u001b[0;34m.\u001b[0m\u001b[0mindex\u001b[0m\u001b[0;34m(\u001b[0m\u001b[0;36m100\u001b[0m\u001b[0;34m)\u001b[0m\u001b[0;34m)\u001b[0m\u001b[0;34m\u001b[0m\u001b[0;34m\u001b[0m\u001b[0m\n\u001b[0;32m----> 5\u001b[0;31m \u001b[0mprint\u001b[0m\u001b[0;34m(\u001b[0m\u001b[0mli14\u001b[0m\u001b[0;34m.\u001b[0m\u001b[0mindex\u001b[0m\u001b[0;34m(\u001b[0m\u001b[0;36m50\u001b[0m\u001b[0;34m)\u001b[0m\u001b[0;34m)\u001b[0m \u001b[0;31m#\u001b[0m\u001b[0;34m\u001b[0m\u001b[0;34m\u001b[0m\u001b[0m\n\u001b[0m",
            "\u001b[0;31mValueError\u001b[0m: 50 is not in list"
          ]
        }
      ]
    },
    {
      "cell_type": "code",
      "source": [
        "li15 = [100, 50, 70, 60, 20]\n",
        "\n",
        "# reverse(): 리스트에 저장된 데이터를 반대 순서로 반환\n",
        "li15.reverse()\n",
        "print(li15)\n",
        "\n",
        "li16 = ['김사과', '오렌지', '반하나', '이메론']\n",
        "li16.reverse()\n",
        "print(li16)"
      ],
      "metadata": {
        "colab": {
          "base_uri": "https://localhost:8080/"
        },
        "id": "JjauP-58d3f-",
        "outputId": "171a7511-ba23-4354-d36b-46a842e539bc"
      },
      "execution_count": 67,
      "outputs": [
        {
          "output_type": "stream",
          "name": "stdout",
          "text": [
            "[20, 60, 70, 50, 100]\n",
            "['이메론', '반하나', '오렌지', '김사과']\n"
          ]
        }
      ]
    },
    {
      "cell_type": "code",
      "source": [
        "li17 = [10, 40, 30, 100, 90, 50]\n",
        "\n",
        "# sort(): 리스트에 저장된 데이터를 오름차순 또는 내림차순으로 정렬\n",
        "li17.sort() # 오름차순\n",
        "print(li17)\n",
        "\n",
        "# sort(reverse=True) # 내림차순\n",
        "li17.sort(reverse=True)\n",
        "print(li17)\n",
        "\n",
        "li18 = ['Apple', 'apple', 'orange', 'banana', 'melon']\n",
        "li18.sort()\n",
        "print(li18)\n",
        "\n",
        "li19 = ['김사과', '오렌지', '반하나', '이메론', '배애리']\n",
        "li19.sort()\n",
        "print(li19)"
      ],
      "metadata": {
        "colab": {
          "base_uri": "https://localhost:8080/"
        },
        "id": "u9qHHsXUelPN",
        "outputId": "504eccf5-8247-4355-edc5-442d336b965a"
      },
      "execution_count": 71,
      "outputs": [
        {
          "output_type": "stream",
          "name": "stdout",
          "text": [
            "[10, 30, 40, 50, 90, 100]\n",
            "[100, 90, 50, 40, 30, 10]\n",
            "['Apple', 'apple', 'banana', 'melon', 'orange']\n",
            "['김사과', '반하나', '배애리', '오렌지', '이메론']\n"
          ]
        }
      ]
    },
    {
      "cell_type": "code",
      "source": [
        "# ✅ 비교\n",
        "# sorted(): 이터러블 객체로부터 정렬된 리스트를 생성함. inplace 연산을 수행하지 않음음\n",
        "li17 = [10, 40, 30, 100, 90, 50]\n",
        "print(sorted(li17)) # 오름차순\n",
        "print(sorted(li17, reverse=True)) # 내림차순\n",
        "\n",
        "li18 = ['Apple', 'apple', 'orange', 'banana', 'melon']\n",
        "print(sorted(li18))\n",
        "print(sorted(li18, reverse=True))"
      ],
      "metadata": {
        "colab": {
          "base_uri": "https://localhost:8080/"
        },
        "id": "aLuJJgCygJCD",
        "outputId": "acd77d73-5457-4603-9861-57a7d89300dc"
      },
      "execution_count": 75,
      "outputs": [
        {
          "output_type": "stream",
          "name": "stdout",
          "text": [
            "[10, 30, 40, 50, 90, 100]\n",
            "[100, 90, 50, 40, 30, 10]\n",
            "['Apple', 'apple', 'banana', 'melon', 'orange']\n",
            "['orange', 'melon', 'banana', 'apple', 'Apple']\n"
          ]
        }
      ]
    },
    {
      "cell_type": "code",
      "source": [
        "li17 = sorted(li17) # 값을 유지하려면 다시 저장해야함\n",
        "print(li17)"
      ],
      "metadata": {
        "colab": {
          "base_uri": "https://localhost:8080/"
        },
        "id": "UtcGaGnIhQWU",
        "outputId": "e626882e-f0da-4652-b80f-21cd179778ea"
      },
      "execution_count": 77,
      "outputs": [
        {
          "output_type": "stream",
          "name": "stdout",
          "text": [
            "[10, 30, 40, 50, 90, 100]\n"
          ]
        }
      ]
    },
    {
      "cell_type": "code",
      "source": [
        "li18 = [10, 20, 30, 50, 20, 40, 30, 20]\n",
        "\n",
        "# count(): 리스트에 포함된 특정 데이터의 갯수를 반환\n",
        "print(li18.count(20))\n",
        "print(li18.count(16))"
      ],
      "metadata": {
        "colab": {
          "base_uri": "https://localhost:8080/"
        },
        "id": "o2z3xC_ShhPO",
        "outputId": "ef7116c4-73c4-4e8a-9a44-db6d9580594f"
      },
      "execution_count": 78,
      "outputs": [
        {
          "output_type": "stream",
          "name": "stdout",
          "text": [
            "3\n",
            "0\n"
          ]
        }
      ]
    },
    {
      "cell_type": "code",
      "source": [
        "# ✅ 추가\n",
        "# len(): 요소의 갯수를 반환\n",
        "print(len(li18))"
      ],
      "metadata": {
        "colab": {
          "base_uri": "https://localhost:8080/"
        },
        "id": "WmCNbR3hkSvk",
        "outputId": "6a11c32c-d6ba-465a-d7e3-a53b02240a60"
      },
      "execution_count": 79,
      "outputs": [
        {
          "output_type": "stream",
          "name": "stdout",
          "text": [
            "8\n"
          ]
        }
      ]
    }
  ]
}