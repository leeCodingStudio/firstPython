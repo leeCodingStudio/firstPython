{
  "nbformat": 4,
  "nbformat_minor": 0,
  "metadata": {
    "colab": {
      "provenance": [],
      "authorship_tag": "ABX9TyPyI1FgYycyKMxyQSOdqkKM",
      "include_colab_link": true
    },
    "kernelspec": {
      "name": "python3",
      "display_name": "Python 3"
    },
    "language_info": {
      "name": "python"
    }
  },
  "cells": [
    {
      "cell_type": "markdown",
      "metadata": {
        "id": "view-in-github",
        "colab_type": "text"
      },
      "source": [
        "<a href=\"https://colab.research.google.com/github/leeCodingStudio/firstPython/blob/master/22_%ED%81%B4%EB%A1%9C%EC%A0%80%EC%99%80_%EB%8D%B0%EC%BD%94%EB%A0%88%EC%9D%B4%ED%84%B0.ipynb\" target=\"_parent\"><img src=\"https://colab.research.google.com/assets/colab-badge.svg\" alt=\"Open In Colab\"/></a>"
      ]
    },
    {
      "cell_type": "markdown",
      "source": [
        "# 1. 클로저(Closure)\n",
        "* 함수 안의 함수를 결과로 반환할 때, 그 내부 함수를 클로저라고 함\n",
        "* 콜백함수, 함수의 순차적 실행, 데코레이터 함수에 사용"
      ],
      "metadata": {
        "id": "UvTaQzanemao"
      }
    },
    {
      "cell_type": "code",
      "source": [
        "def mul2(n):\n",
        "  return n * 2"
      ],
      "metadata": {
        "id": "VLYtKROSfwH3"
      },
      "execution_count": null,
      "outputs": []
    },
    {
      "cell_type": "code",
      "source": [
        "mul2(10)"
      ],
      "metadata": {
        "colab": {
          "base_uri": "https://localhost:8080/"
        },
        "id": "4Yo4Jax5gHZ0",
        "outputId": "2e0d6c93-f816-4c55-dbc6-89b5835998cf"
      },
      "execution_count": null,
      "outputs": [
        {
          "output_type": "execute_result",
          "data": {
            "text/plain": [
              "20"
            ]
          },
          "metadata": {},
          "execution_count": 2
        }
      ]
    },
    {
      "cell_type": "code",
      "source": [
        "mul2(5)"
      ],
      "metadata": {
        "colab": {
          "base_uri": "https://localhost:8080/"
        },
        "id": "FWFI70YtgJyM",
        "outputId": "0f6c9866-5e1e-49c7-a89e-8a7d39bbda1c"
      },
      "execution_count": null,
      "outputs": [
        {
          "output_type": "execute_result",
          "data": {
            "text/plain": [
              "10"
            ]
          },
          "metadata": {},
          "execution_count": 3
        }
      ]
    },
    {
      "cell_type": "code",
      "source": [
        "def mul5(n):\n",
        "  return n * 5"
      ],
      "metadata": {
        "id": "99T9qG2TgL36"
      },
      "execution_count": null,
      "outputs": []
    },
    {
      "cell_type": "code",
      "source": [
        "mul5(10)"
      ],
      "metadata": {
        "colab": {
          "base_uri": "https://localhost:8080/"
        },
        "id": "X_bRlA68gRV2",
        "outputId": "55ecdca7-96de-46f5-e164-5d6b64c6abbf"
      },
      "execution_count": null,
      "outputs": [
        {
          "output_type": "execute_result",
          "data": {
            "text/plain": [
              "50"
            ]
          },
          "metadata": {},
          "execution_count": 5
        }
      ]
    },
    {
      "cell_type": "code",
      "source": [
        "mul5(5)"
      ],
      "metadata": {
        "colab": {
          "base_uri": "https://localhost:8080/"
        },
        "id": "I8JDsgNwgTBU",
        "outputId": "d1910440-cdf6-42ab-a32c-7ea8512e0182"
      },
      "execution_count": null,
      "outputs": [
        {
          "output_type": "execute_result",
          "data": {
            "text/plain": [
              "25"
            ]
          },
          "metadata": {},
          "execution_count": 6
        }
      ]
    },
    {
      "cell_type": "code",
      "source": [
        "# mul1, mul2, mul3 ... mul100도 만들어야 하나?\n",
        "\n",
        "class Mul:\n",
        "  def __init__(self, m):\n",
        "    self.m = m\n",
        "  \n",
        "  def mul(self, n):\n",
        "    return self.m * n"
      ],
      "metadata": {
        "id": "WK_g-FmugT9V"
      },
      "execution_count": null,
      "outputs": []
    },
    {
      "cell_type": "code",
      "source": [
        "mul2 = Mul(2)\n",
        "\n",
        "print(mul2.mul(10))\n",
        "print(mul2.mul(5))"
      ],
      "metadata": {
        "colab": {
          "base_uri": "https://localhost:8080/"
        },
        "id": "9ONz5mB2hLnb",
        "outputId": "04ee045a-f8ee-4111-e148-0f71067dc032"
      },
      "execution_count": null,
      "outputs": [
        {
          "output_type": "stream",
          "name": "stdout",
          "text": [
            "20\n",
            "10\n"
          ]
        }
      ]
    },
    {
      "cell_type": "code",
      "source": [
        "mul5 = Mul(5)\n",
        "\n",
        "print(mul5.mul(10))\n",
        "print(mul5.mul(5))"
      ],
      "metadata": {
        "colab": {
          "base_uri": "https://localhost:8080/"
        },
        "id": "awPrb01DhVtw",
        "outputId": "3f77b150-9431-47f7-bbc7-5e7a1cb93e65"
      },
      "execution_count": null,
      "outputs": [
        {
          "output_type": "stream",
          "name": "stdout",
          "text": [
            "50\n",
            "25\n"
          ]
        }
      ]
    },
    {
      "cell_type": "code",
      "source": [
        "class Mul:\n",
        "  def __init__(self, m): # 객체를 생성할 때 자동으로 호출\n",
        "    print('생성자 호출')\n",
        "    self.m = m\n",
        "  \n",
        "  def __call__(self, n): # 객체를 실행할 때 자동으로 호출\n",
        "    print('call 호출')\n",
        "    return self.m * n"
      ],
      "metadata": {
        "id": "55nGBZglhd1U"
      },
      "execution_count": null,
      "outputs": []
    },
    {
      "cell_type": "code",
      "source": [
        "mul2 = Mul(2)"
      ],
      "metadata": {
        "colab": {
          "base_uri": "https://localhost:8080/"
        },
        "id": "wLDQG3shh8qo",
        "outputId": "b8ff2ebb-23c6-40cc-8bc4-c2a411081afa"
      },
      "execution_count": null,
      "outputs": [
        {
          "output_type": "stream",
          "name": "stdout",
          "text": [
            "생성자 호출\n"
          ]
        }
      ]
    },
    {
      "cell_type": "code",
      "source": [
        "mul2(10)"
      ],
      "metadata": {
        "colab": {
          "base_uri": "https://localhost:8080/"
        },
        "id": "L91QgNv8iFnl",
        "outputId": "8cdf834c-1670-4b81-9d8f-c0e2a57dfdc0"
      },
      "execution_count": null,
      "outputs": [
        {
          "output_type": "stream",
          "name": "stdout",
          "text": [
            "call 호출\n"
          ]
        },
        {
          "output_type": "execute_result",
          "data": {
            "text/plain": [
              "20"
            ]
          },
          "metadata": {},
          "execution_count": 17
        }
      ]
    },
    {
      "cell_type": "code",
      "source": [
        "mul5 = Mul(5)\n",
        "mul5(10)"
      ],
      "metadata": {
        "colab": {
          "base_uri": "https://localhost:8080/"
        },
        "id": "27pZVbBgiJCm",
        "outputId": "13788cfb-7d0b-4a12-e4a7-b12b110029ab"
      },
      "execution_count": null,
      "outputs": [
        {
          "output_type": "stream",
          "name": "stdout",
          "text": [
            "생성자 호출\n",
            "call 호출\n"
          ]
        },
        {
          "output_type": "execute_result",
          "data": {
            "text/plain": [
              "50"
            ]
          },
          "metadata": {},
          "execution_count": 18
        }
      ]
    },
    {
      "cell_type": "code",
      "source": [
        "# 클로저 사용하기\n",
        "\n",
        "def mul(m):         # 외부 함수\n",
        "  def wrapper(n):   # 내부 함수(클로저)\n",
        "    return m * n\n",
        "  return wrapper"
      ],
      "metadata": {
        "id": "O6YMGTrAiTUH"
      },
      "execution_count": null,
      "outputs": []
    },
    {
      "cell_type": "code",
      "source": [
        "mul2 = mul(2)   # m = 2인 wrapper 함수가 mul2에 저장\n",
        "print(mul2(10)) # m = 2, n = 10인 wrapper 함수가 실행"
      ],
      "metadata": {
        "colab": {
          "base_uri": "https://localhost:8080/"
        },
        "id": "6egjk3JYm5YL",
        "outputId": "8205e9af-faf1-45a8-ed95-8f5a1619357d"
      },
      "execution_count": null,
      "outputs": [
        {
          "output_type": "stream",
          "name": "stdout",
          "text": [
            "20\n"
          ]
        }
      ]
    },
    {
      "cell_type": "code",
      "source": [
        "mul5 = mul(5)\n",
        "print(mul5(10))"
      ],
      "metadata": {
        "colab": {
          "base_uri": "https://localhost:8080/"
        },
        "id": "ReVdAlKKnJyG",
        "outputId": "61440f10-9092-4b85-a2c7-5f690a949e50"
      },
      "execution_count": null,
      "outputs": [
        {
          "output_type": "stream",
          "name": "stdout",
          "text": [
            "50\n"
          ]
        }
      ]
    },
    {
      "cell_type": "markdown",
      "source": [
        "# 2. 데코레이터(Decorator)\n",
        "* 함수를 꾸며주는 함수\n",
        "* 함수를 인수로 받는 클로저\n",
        "* @(어노테이션)을 이용하여 사용\n",
        "* 반복되는 작업을 여러 함수에 적용할 경우, 기존 함수를 수정하지 않고 추가 기능을 구현하고 싶은 경우 사용"
      ],
      "metadata": {
        "id": "DDye29UhnNy8"
      }
    },
    {
      "cell_type": "code",
      "source": [
        "import time\n",
        "\n",
        "def func1(a, b):\n",
        "  start = time.time()\n",
        "  print('함수가 시작되었습니다')\n",
        "\n",
        "  result = a + b\n",
        "\n",
        "  end = time.time()\n",
        "  print(f'함수 수행시간: {end - start}')\n",
        "\n",
        "  return result"
      ],
      "metadata": {
        "id": "v2pamSUvn7ur"
      },
      "execution_count": null,
      "outputs": []
    },
    {
      "cell_type": "code",
      "source": [
        "result = func1(10, 3)\n",
        "print(result)"
      ],
      "metadata": {
        "colab": {
          "base_uri": "https://localhost:8080/"
        },
        "id": "ScZhgpegojS5",
        "outputId": "2d38c1b3-c6c7-40fe-9e16-90dfe37ae0a6"
      },
      "execution_count": null,
      "outputs": [
        {
          "output_type": "stream",
          "name": "stdout",
          "text": [
            "함수가 시작되었습니다\n",
            "함수 수행시간: 6.389617919921875e-05\n",
            "13\n"
          ]
        }
      ]
    },
    {
      "cell_type": "code",
      "source": [
        "print(format(6.389617919921875e-05, 'f'))"
      ],
      "metadata": {
        "colab": {
          "base_uri": "https://localhost:8080/"
        },
        "id": "9ppGHp-BoptZ",
        "outputId": "6f7ae13c-6dfa-4d5c-94f0-69ba1c544d34"
      },
      "execution_count": null,
      "outputs": [
        {
          "output_type": "stream",
          "name": "stdout",
          "text": [
            "0.000064\n"
          ]
        }
      ]
    },
    {
      "cell_type": "code",
      "source": [
        "def func2(a, b):\n",
        "  start = time.time()\n",
        "  print('함수가 시작되었습니다')\n",
        "\n",
        "  result = a * b\n",
        "\n",
        "  end = time.time()\n",
        "  print(f'함수 수행시간: {end - start}')\n",
        "\n",
        "  return result"
      ],
      "metadata": {
        "id": "GS_HPvKppAgt"
      },
      "execution_count": null,
      "outputs": []
    },
    {
      "cell_type": "code",
      "source": [
        "result = func2(10, 3)\n",
        "print(result)"
      ],
      "metadata": {
        "colab": {
          "base_uri": "https://localhost:8080/"
        },
        "id": "rymcCf5mpO6B",
        "outputId": "5de5391f-e33d-4828-8239-e1b16ee7bc7b"
      },
      "execution_count": null,
      "outputs": [
        {
          "output_type": "stream",
          "name": "stdout",
          "text": [
            "함수가 시작되었습니다\n",
            "함수 수행시간: 5.6743621826171875e-05\n",
            "30\n"
          ]
        }
      ]
    },
    {
      "cell_type": "code",
      "source": [
        "print(format(5.6743621826171875e-05, 'f'))"
      ],
      "metadata": {
        "colab": {
          "base_uri": "https://localhost:8080/"
        },
        "id": "4I-_5z0FpQT5",
        "outputId": "bc97a3f4-e7ba-49ed-8287-b23ce89398a5"
      },
      "execution_count": null,
      "outputs": [
        {
          "output_type": "stream",
          "name": "stdout",
          "text": [
            "0.000057\n"
          ]
        }
      ]
    },
    {
      "cell_type": "code",
      "source": [
        "# 데코레이터 만들기\n",
        "def func1(a, b):\n",
        "  result = a + b\n",
        "  return result\n",
        "\n",
        "def func2(a, b):\n",
        "  result = a * b\n",
        "  return result"
      ],
      "metadata": {
        "id": "bswxdHU7pTSM"
      },
      "execution_count": null,
      "outputs": []
    },
    {
      "cell_type": "code",
      "source": [
        "def elapsed(func):\n",
        "  def wrapper(a, b):\n",
        "    start = time.time()\n",
        "    print('함수가 시작되었습니다')\n",
        "\n",
        "    result = func(a, b)\n",
        "\n",
        "    end = time.time()\n",
        "    print(f'함수 수행시간: {end - start}')\n",
        "\n",
        "    return result\n",
        "  return wrapper"
      ],
      "metadata": {
        "id": "ssyxDfq9ps0e"
      },
      "execution_count": null,
      "outputs": []
    },
    {
      "cell_type": "code",
      "source": [
        "deco1 = elapsed(func1)\n",
        "result = deco1(10, 3)\n",
        "print(result)"
      ],
      "metadata": {
        "colab": {
          "base_uri": "https://localhost:8080/"
        },
        "id": "rXD3BLSsqE5y",
        "outputId": "bbf1327c-05b7-4682-e889-dc04805639a5"
      },
      "execution_count": null,
      "outputs": [
        {
          "output_type": "stream",
          "name": "stdout",
          "text": [
            "함수가 시작되었습니다\n",
            "함수 수행시간: 7.605552673339844e-05\n",
            "13\n"
          ]
        }
      ]
    },
    {
      "cell_type": "code",
      "source": [
        "deco2 = elapsed(func2)\n",
        "result = deco2(10, 3)\n",
        "print(result)"
      ],
      "metadata": {
        "colab": {
          "base_uri": "https://localhost:8080/"
        },
        "id": "oIFen7ViqPuA",
        "outputId": "c8112ebd-bb0c-484a-fe4e-807817cf17ab"
      },
      "execution_count": null,
      "outputs": [
        {
          "output_type": "stream",
          "name": "stdout",
          "text": [
            "함수가 시작되었습니다\n",
            "함수 수행시간: 0.0008656978607177734\n",
            "30\n"
          ]
        }
      ]
    },
    {
      "cell_type": "code",
      "source": [
        "@elapsed\n",
        "def func1(a, b):\n",
        "  result = a + b\n",
        "  return result\n",
        "\n",
        "@elapsed\n",
        "def func2(a, b):\n",
        "  result = a * b\n",
        "  return result"
      ],
      "metadata": {
        "id": "LC9jDJJTqhUL"
      },
      "execution_count": null,
      "outputs": []
    },
    {
      "cell_type": "code",
      "source": [
        "result = func1(10, 3)\n",
        "print(result)"
      ],
      "metadata": {
        "colab": {
          "base_uri": "https://localhost:8080/"
        },
        "id": "PBEFwCMrrJU0",
        "outputId": "2e284154-d46c-4be9-bb4f-e49c3ef4f138"
      },
      "execution_count": null,
      "outputs": [
        {
          "output_type": "stream",
          "name": "stdout",
          "text": [
            "함수가 시작되었습니다\n",
            "함수 수행시간: 0.0010592937469482422\n",
            "13\n"
          ]
        }
      ]
    },
    {
      "cell_type": "code",
      "source": [
        "result = func2(10, 3)\n",
        "print(result)"
      ],
      "metadata": {
        "colab": {
          "base_uri": "https://localhost:8080/"
        },
        "id": "BMZr8QH9rQTx",
        "outputId": "75bcdc3a-a597-4048-df37-d85ab92de455"
      },
      "execution_count": null,
      "outputs": [
        {
          "output_type": "stream",
          "name": "stdout",
          "text": [
            "함수가 시작되었습니다\n",
            "함수 수행시간: 0.00042128562927246094\n",
            "30\n"
          ]
        }
      ]
    }
  ]
}