{
  "nbformat": 4,
  "nbformat_minor": 0,
  "metadata": {
    "colab": {
      "provenance": [],
      "authorship_tag": "ABX9TyNr4atGLZkHJ0APbWQBXE4x",
      "include_colab_link": true
    },
    "kernelspec": {
      "name": "python3",
      "display_name": "Python 3"
    },
    "language_info": {
      "name": "python"
    }
  },
  "cells": [
    {
      "cell_type": "markdown",
      "metadata": {
        "id": "view-in-github",
        "colab_type": "text"
      },
      "source": [
        "<a href=\"https://colab.research.google.com/github/leeCodingStudio/firstPython/blob/master/05_%EB%AC%B8%EC%9E%90%EC%97%B4_%EB%8B%A4%EB%A3%A8%EA%B8%B0.ipynb\" target=\"_parent\"><img src=\"https://colab.research.google.com/assets/colab-badge.svg\" alt=\"Open In Colab\"/></a>"
      ]
    },
    {
      "cell_type": "code",
      "source": [
        "str1 = '오늘은 파이썬 3일차 수업입니다'\n",
        "print(str1)"
      ],
      "metadata": {
        "id": "d0_NhDC6nm2j",
        "colab": {
          "base_uri": "https://localhost:8080/"
        },
        "outputId": "08e08b35-0c2f-4618-e4c0-73217ff418b0"
      },
      "execution_count": 1,
      "outputs": [
        {
          "output_type": "stream",
          "name": "stdout",
          "text": [
            "오늘은 파이썬 3일차 수업입니다\n"
          ]
        }
      ]
    },
    {
      "cell_type": "code",
      "source": [
        "str2 = \"오늘은 파이썬 3일차 수업입니다\"\n",
        "print(str2)"
      ],
      "metadata": {
        "colab": {
          "base_uri": "https://localhost:8080/"
        },
        "id": "Q1nRRImIoAin",
        "outputId": "6c5b6cbe-3045-4067-b458-cc6e2c90db41"
      },
      "execution_count": 2,
      "outputs": [
        {
          "output_type": "stream",
          "name": "stdout",
          "text": [
            "오늘은 파이썬 3일차 수업입니다\n"
          ]
        }
      ]
    },
    {
      "cell_type": "code",
      "source": [
        "str3 = '류지: \"오늘은 파이썬 3일차 수업입니다.\"'\n",
        "print(str3)\n",
        "str4 = \"류지: '오늘은 파이썬 3일차 수업입니다.'\"\n",
        "print(str4)"
      ],
      "metadata": {
        "colab": {
          "base_uri": "https://localhost:8080/"
        },
        "id": "npvBG32CoMF5",
        "outputId": "2c77fcc7-90f3-4ef1-de1c-843a8e1ae41c"
      },
      "execution_count": 5,
      "outputs": [
        {
          "output_type": "stream",
          "name": "stdout",
          "text": [
            "류지: \"오늘은 파이썬 3일차 수업입니다.\"\n",
            "류지: '오늘은 파이썬 3일차 수업입니다.'\n"
          ]
        }
      ]
    },
    {
      "cell_type": "code",
      "source": [
        "str5 = ''' 류지:\n",
        "오늘은 파이썬 3일차\n",
        "수업입니다 '''\n",
        "print(str5)"
      ],
      "metadata": {
        "colab": {
          "base_uri": "https://localhost:8080/"
        },
        "id": "Gq34w_NVohCK",
        "outputId": "f7e76e0d-7292-477a-b363-5b64aa1c25e3"
      },
      "execution_count": 6,
      "outputs": [
        {
          "output_type": "stream",
          "name": "stdout",
          "text": [
            " 류지:\n",
            "오늘은 파이썬 3일차\n",
            "수업입니다 \n"
          ]
        }
      ]
    },
    {
      "cell_type": "markdown",
      "source": [
        "# 1. 문자열 인덱싱\n",
        "* 문자열에 번호를 매겨 특정 문자를 찾을 수 있는 기능"
      ],
      "metadata": {
        "id": "GvpDpVrzpE8O"
      }
    },
    {
      "cell_type": "code",
      "source": [
        "str = '문자열에 번호를 매겨 특정 문자를 찾을 수 있는 기능'\n",
        "print(str)"
      ],
      "metadata": {
        "colab": {
          "base_uri": "https://localhost:8080/"
        },
        "id": "IvlbfRkKtFoM",
        "outputId": "c4db497e-0fcd-43ea-87a8-062561a45dd4"
      },
      "execution_count": 7,
      "outputs": [
        {
          "output_type": "stream",
          "name": "stdout",
          "text": [
            "문자열에 번호를 매겨 특정 문자를 찾을 수 있는 기능\n"
          ]
        }
      ]
    },
    {
      "cell_type": "code",
      "source": [
        "print(str[0])\n",
        "print(str[1])\n",
        "print(str[12])\n",
        "print(str[-1])\n",
        "print(str[-2])"
      ],
      "metadata": {
        "colab": {
          "base_uri": "https://localhost:8080/"
        },
        "id": "czzpn7yztjQY",
        "outputId": "f576307f-ad84-41dc-ce9e-bbf5d778fe80"
      },
      "execution_count": 14,
      "outputs": [
        {
          "output_type": "stream",
          "name": "stdout",
          "text": [
            "문\n",
            "자\n",
            "특\n",
            "능\n",
            "기\n"
          ]
        }
      ]
    },
    {
      "cell_type": "markdown",
      "source": [
        "# 2. 문자열 슬라이싱\n",
        "* 문자열에서 원하는 범위를 추출하는 기능"
      ],
      "metadata": {
        "id": "hSO5o7lwtl1j"
      }
    },
    {
      "cell_type": "code",
      "source": [
        "str = '문자열에서 원하는 범위를 추출하는 기능'\n",
        "print(str)"
      ],
      "metadata": {
        "colab": {
          "base_uri": "https://localhost:8080/"
        },
        "id": "z5KBgTXIuHu3",
        "outputId": "a0a85300-f4c3-4513-e73c-3bc04b1cce96"
      },
      "execution_count": 19,
      "outputs": [
        {
          "output_type": "stream",
          "name": "stdout",
          "text": [
            "문자열에서 원하는 범위를 추출하는 기능\n"
          ]
        }
      ]
    },
    {
      "cell_type": "code",
      "source": [
        "print(str[0:5]) # 0부터 5직전까지(5를 포함하지 않음)\n",
        "print(str[7:13])\n",
        "print(str[:13]) # 처음부터 13 직전까지지\n",
        "print(str[6:]) # 6부터 끝까지"
      ],
      "metadata": {
        "colab": {
          "base_uri": "https://localhost:8080/"
        },
        "id": "7Cfo3DOjuJ0E",
        "outputId": "c411ff9f-3a9c-4086-a06e-5ffff9089910"
      },
      "execution_count": 21,
      "outputs": [
        {
          "output_type": "stream",
          "name": "stdout",
          "text": [
            "문자열에서\n",
            "하는 범위를\n",
            "문자열에서 원하는 범위를\n",
            "원하는 범위를 추출하는 기능\n"
          ]
        }
      ]
    },
    {
      "cell_type": "markdown",
      "source": [
        "# 3. 문자열 함수"
      ],
      "metadata": {
        "id": "VqtX3vZ0uT9N"
      }
    },
    {
      "cell_type": "code",
      "source": [
        "str = '문자열 함수는 문자열과 관련된 여러가지 기능들을 담고 있다'"
      ],
      "metadata": {
        "id": "STlzfzsQvBzv"
      },
      "execution_count": 24,
      "outputs": []
    },
    {
      "cell_type": "code",
      "source": [
        "# count(): 문자열에서 매개변수로 전달된 문자열의 출현 횟수를 반환\n",
        "str.count('문')"
      ],
      "metadata": {
        "colab": {
          "base_uri": "https://localhost:8080/"
        },
        "id": "7lFAY_OmvIF1",
        "outputId": "7af744dd-4da5-4b40-db50-315eed14b4b5"
      },
      "execution_count": 25,
      "outputs": [
        {
          "output_type": "execute_result",
          "data": {
            "text/plain": [
              "2"
            ]
          },
          "metadata": {},
          "execution_count": 25
        }
      ]
    },
    {
      "cell_type": "code",
      "source": [
        "'문자열 함수는 문자열과 관련된 여러가지 기능들을 담고 있다'.count('문')"
      ],
      "metadata": {
        "colab": {
          "base_uri": "https://localhost:8080/"
        },
        "id": "0uSggb11v6Ot",
        "outputId": "8685266e-c58a-401f-f70e-4fbf3b38fd17"
      },
      "execution_count": 26,
      "outputs": [
        {
          "output_type": "execute_result",
          "data": {
            "text/plain": [
              "2"
            ]
          },
          "metadata": {},
          "execution_count": 26
        }
      ]
    },
    {
      "cell_type": "code",
      "source": [
        "num = 10\n",
        "num.count('십')"
      ],
      "metadata": {
        "colab": {
          "base_uri": "https://localhost:8080/",
          "height": 191
        },
        "id": "UIxahzwqv-OP",
        "outputId": "1bc13465-c884-443e-de4b-b592534563ed"
      },
      "execution_count": 27,
      "outputs": [
        {
          "output_type": "error",
          "ename": "AttributeError",
          "evalue": "ignored",
          "traceback": [
            "\u001b[0;31m---------------------------------------------------------------------------\u001b[0m",
            "\u001b[0;31mAttributeError\u001b[0m                            Traceback (most recent call last)",
            "\u001b[0;32m<ipython-input-27-0266a5810ff2>\u001b[0m in \u001b[0;36m<module>\u001b[0;34m\u001b[0m\n\u001b[1;32m      1\u001b[0m \u001b[0mnum\u001b[0m \u001b[0;34m=\u001b[0m \u001b[0;36m10\u001b[0m\u001b[0;34m\u001b[0m\u001b[0;34m\u001b[0m\u001b[0m\n\u001b[0;32m----> 2\u001b[0;31m \u001b[0mnum\u001b[0m\u001b[0;34m.\u001b[0m\u001b[0mcount\u001b[0m\u001b[0;34m(\u001b[0m\u001b[0;34m'십'\u001b[0m\u001b[0;34m)\u001b[0m\u001b[0;34m\u001b[0m\u001b[0;34m\u001b[0m\u001b[0m\n\u001b[0m",
            "\u001b[0;31mAttributeError\u001b[0m: 'int' object has no attribute 'count'"
          ]
        }
      ]
    },
    {
      "cell_type": "code",
      "source": [
        "print(str.count('문자'))\n",
        "print(str.count('문장'))"
      ],
      "metadata": {
        "colab": {
          "base_uri": "https://localhost:8080/"
        },
        "id": "YEBMFJbOwh4V",
        "outputId": "ba540769-747b-4cd1-a958-8148ece39c4b"
      },
      "execution_count": 31,
      "outputs": [
        {
          "output_type": "stream",
          "name": "stdout",
          "text": [
            "2\n",
            "0\n"
          ]
        }
      ]
    },
    {
      "cell_type": "code",
      "source": [
        "# find(): 매개변수로 전달된 문자열이 처음 나오는 위치를 인덱스로 반환\n",
        "print(str.find('문')) # index번호가 0\n",
        "print(str.find('함')) # 4\n",
        "print(str.find('뷁')) # 없으면 -1\n",
        "\n",
        "print(str.rfind('문')) # 끝에서부터 문자열이 나오는 위치를 반환환"
      ],
      "metadata": {
        "colab": {
          "base_uri": "https://localhost:8080/"
        },
        "id": "K7Uajd2Twr_Q",
        "outputId": "db6b03c4-a14d-42f5-db0e-29a581ac5c8f"
      },
      "execution_count": 36,
      "outputs": [
        {
          "output_type": "stream",
          "name": "stdout",
          "text": [
            "0\n",
            "4\n",
            "-1\n",
            "8\n"
          ]
        }
      ]
    },
    {
      "cell_type": "code",
      "source": [
        "# index(): 매개변수로 전달된 문자열이 처음 나오는 위치를 인덱스로 반환(찾지 못할 경우 에러!)\n",
        "print(str.index('문')) # index번호가 0\n",
        "print(str.index('함')) # 4\n",
        "print(str.index('뷁')) # ValueError: substring not found"
      ],
      "metadata": {
        "colab": {
          "base_uri": "https://localhost:8080/",
          "height": 246
        },
        "id": "Z5pjT1AhxH26",
        "outputId": "4a094672-833b-4c66-b3cf-0c369a2c5c48"
      },
      "execution_count": 37,
      "outputs": [
        {
          "output_type": "stream",
          "name": "stdout",
          "text": [
            "0\n",
            "4\n"
          ]
        },
        {
          "output_type": "error",
          "ename": "ValueError",
          "evalue": "ignored",
          "traceback": [
            "\u001b[0;31m---------------------------------------------------------------------------\u001b[0m",
            "\u001b[0;31mValueError\u001b[0m                                Traceback (most recent call last)",
            "\u001b[0;32m<ipython-input-37-dcef557cb805>\u001b[0m in \u001b[0;36m<module>\u001b[0;34m\u001b[0m\n\u001b[1;32m      2\u001b[0m \u001b[0mprint\u001b[0m\u001b[0;34m(\u001b[0m\u001b[0mstr\u001b[0m\u001b[0;34m.\u001b[0m\u001b[0mindex\u001b[0m\u001b[0;34m(\u001b[0m\u001b[0;34m'문'\u001b[0m\u001b[0;34m)\u001b[0m\u001b[0;34m)\u001b[0m \u001b[0;31m# index번호가 0\u001b[0m\u001b[0;34m\u001b[0m\u001b[0;34m\u001b[0m\u001b[0m\n\u001b[1;32m      3\u001b[0m \u001b[0mprint\u001b[0m\u001b[0;34m(\u001b[0m\u001b[0mstr\u001b[0m\u001b[0;34m.\u001b[0m\u001b[0mindex\u001b[0m\u001b[0;34m(\u001b[0m\u001b[0;34m'함'\u001b[0m\u001b[0;34m)\u001b[0m\u001b[0;34m)\u001b[0m \u001b[0;31m# 4\u001b[0m\u001b[0;34m\u001b[0m\u001b[0;34m\u001b[0m\u001b[0m\n\u001b[0;32m----> 4\u001b[0;31m \u001b[0mprint\u001b[0m\u001b[0;34m(\u001b[0m\u001b[0mstr\u001b[0m\u001b[0;34m.\u001b[0m\u001b[0mindex\u001b[0m\u001b[0;34m(\u001b[0m\u001b[0;34m'뷁'\u001b[0m\u001b[0;34m)\u001b[0m\u001b[0;34m)\u001b[0m \u001b[0;31m# 없으면 -1\u001b[0m\u001b[0;34m\u001b[0m\u001b[0;34m\u001b[0m\u001b[0m\n\u001b[0m",
            "\u001b[0;31mValueError\u001b[0m: substring not found"
          ]
        }
      ]
    },
    {
      "cell_type": "code",
      "source": [
        "# replace(): 특정 문자열을 치환\n",
        "print(str.replace('기능', '함수'))"
      ],
      "metadata": {
        "colab": {
          "base_uri": "https://localhost:8080/"
        },
        "id": "o67SiZj_zFMY",
        "outputId": "b6932dad-7c79-4217-d62d-f850943269c2"
      },
      "execution_count": 38,
      "outputs": [
        {
          "output_type": "stream",
          "name": "stdout",
          "text": [
            "문자열 함수는 문자열과 관련된 여러가지 함수들을 담고 있다\n"
          ]
        }
      ]
    },
    {
      "cell_type": "code",
      "source": [
        "# upper(): 문자열을 모두 대문자로 변환\n",
        "# lpwer(): 문자열을 모두 소문자로 변환\n",
        "str = 'APPLE apple Apple'\n",
        "print(str.upper())\n",
        "print(str.lower())"
      ],
      "metadata": {
        "colab": {
          "base_uri": "https://localhost:8080/"
        },
        "id": "WYUAuaP7zpJ7",
        "outputId": "a469c597-4664-4f3c-9511-c45909ac5f58"
      },
      "execution_count": 39,
      "outputs": [
        {
          "output_type": "stream",
          "name": "stdout",
          "text": [
            "APPLE APPLE APPLE\n",
            "apple apple apple\n"
          ]
        }
      ]
    },
    {
      "cell_type": "code",
      "source": [
        "# strip(): 문자열의 양쪽 공백을 제거\n",
        "# lstrip(): 문자열의 왼쪽 공백을 제거\n",
        "# rstrip(): 문자열의 오른쪽 공백을 제거\n",
        "str = '         Hello            Python             '\n",
        "print(str)\n",
        "print(str.strip())\n",
        "print(str.lstrip())\n",
        "print(str.rstrip())\n",
        "\n",
        "print(str.replace(' ', ''))"
      ],
      "metadata": {
        "colab": {
          "base_uri": "https://localhost:8080/"
        },
        "id": "tM2CHNBt0r9a",
        "outputId": "2914013c-89d9-458f-a980-0d560f699e43"
      },
      "execution_count": 45,
      "outputs": [
        {
          "output_type": "stream",
          "name": "stdout",
          "text": [
            "         Hello            Python             \n",
            "Hello            Python\n",
            "Hello            Python             \n",
            "         Hello            Python\n",
            "HelloPython\n"
          ]
        }
      ]
    },
    {
      "cell_type": "code",
      "source": [
        "# join(): 문자열에 특정 문자열을 삽입\n",
        "str = 'Hello'\n",
        "print('🙋‍♂️'.join(str))\n",
        "print(str.join('🙋‍♂️'))"
      ],
      "metadata": {
        "colab": {
          "base_uri": "https://localhost:8080/"
        },
        "id": "8aD3Fq2TJaSK",
        "outputId": "4a1c22ec-aeeb-4a10-8757-f591ef63fb26"
      },
      "execution_count": 46,
      "outputs": [
        {
          "output_type": "stream",
          "name": "stdout",
          "text": [
            "H🙋‍♂️e🙋‍♂️l🙋‍♂️l🙋‍♂️o\n",
            "🙋Hello‍Hello♂Hello️\n"
          ]
        }
      ]
    }
  ]
}