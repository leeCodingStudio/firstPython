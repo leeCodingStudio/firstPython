{
  "nbformat": 4,
  "nbformat_minor": 0,
  "metadata": {
    "colab": {
      "provenance": [],
      "toc_visible": true,
      "authorship_tag": "ABX9TyPK8drPY6TUV/Mv6BbGtsy1",
      "include_colab_link": true
    },
    "kernelspec": {
      "name": "python3",
      "display_name": "Python 3"
    },
    "language_info": {
      "name": "python"
    }
  },
  "cells": [
    {
      "cell_type": "markdown",
      "metadata": {
        "id": "view-in-github",
        "colab_type": "text"
      },
      "source": [
        "<a href=\"https://colab.research.google.com/github/leeCodingStudio/firstPython/blob/master/09_%EC%A0%9C%EC%96%B4%EB%AC%B8(%EB%B0%98%EB%B3%B5%EB%AC%B8).ipynb\" target=\"_parent\"><img src=\"https://colab.research.google.com/assets/colab-badge.svg\" alt=\"Open In Colab\"/></a>"
      ]
    },
    {
      "cell_type": "markdown",
      "source": [
        "# 1. 반복문"
      ],
      "metadata": {
        "id": "xGfGEF7MfFp_"
      }
    },
    {
      "cell_type": "markdown",
      "source": [
        "### 1-1. 자료형 참/거짓 판단하기\n",
        "* 파이썬에서 사용하는 모든 자료형은 참 또는 거짓으로 표현이 가능"
      ],
      "metadata": {
        "id": "XoNzA5ocfS5X"
      }
    },
    {
      "cell_type": "code",
      "source": [
        "bool1 = True\n",
        "print(bool1)\n",
        "print(type(bool1))"
      ],
      "metadata": {
        "colab": {
          "base_uri": "https://localhost:8080/"
        },
        "id": "K6sXl9agfeOK",
        "outputId": "653b1090-ce39-4127-969f-6bb83bf0d814"
      },
      "execution_count": 13,
      "outputs": [
        {
          "output_type": "stream",
          "name": "stdout",
          "text": [
            "True\n",
            "<class 'bool'>\n"
          ]
        }
      ]
    },
    {
      "cell_type": "code",
      "source": [
        "# 0 이 아닌 숫자는 모두 True, 0은 False\n",
        "num1 = 10\n",
        "print(num1)\n",
        "print(type(num1))\n",
        "print(bool(num1))\n",
        "\n",
        "num2 = 0\n",
        "print(num2)\n",
        "print(type(num2))\n",
        "print(bool(num2))"
      ],
      "metadata": {
        "colab": {
          "base_uri": "https://localhost:8080/"
        },
        "id": "E6l5K1_Lf-qJ",
        "outputId": "df03d17f-20ee-4ba0-a293-f826f8549739"
      },
      "execution_count": 14,
      "outputs": [
        {
          "output_type": "stream",
          "name": "stdout",
          "text": [
            "10\n",
            "<class 'int'>\n",
            "True\n",
            "0\n",
            "<class 'int'>\n",
            "False\n"
          ]
        }
      ]
    },
    {
      "cell_type": "code",
      "source": [
        "str1 = '안녕'\n",
        "print(str1)\n",
        "print(type(str1))\n",
        "print(bool(str1))\n",
        "\n",
        "str2 = ''\n",
        "print(str2)\n",
        "print(type(str2))\n",
        "print(bool(str2))"
      ],
      "metadata": {
        "colab": {
          "base_uri": "https://localhost:8080/"
        },
        "id": "tlBn5MsghEGh",
        "outputId": "bfa3e766-634d-4536-db36-89b8b70e7c50"
      },
      "execution_count": 15,
      "outputs": [
        {
          "output_type": "stream",
          "name": "stdout",
          "text": [
            "안녕\n",
            "<class 'str'>\n",
            "True\n",
            "\n",
            "<class 'str'>\n",
            "False\n"
          ]
        }
      ]
    },
    {
      "cell_type": "code",
      "source": [
        "list1 = [1, 2, 3]\n",
        "print(list1)\n",
        "print(type(list1))\n",
        "print(bool(list1))\n",
        "\n",
        "list2 = []\n",
        "print(list2)\n",
        "print(type(list2))\n",
        "print(bool(list2))"
      ],
      "metadata": {
        "colab": {
          "base_uri": "https://localhost:8080/"
        },
        "id": "iYwZSEmrgcac",
        "outputId": "21a89382-6360-4548-d44f-9fa9024f0c4e"
      },
      "execution_count": 16,
      "outputs": [
        {
          "output_type": "stream",
          "name": "stdout",
          "text": [
            "[1, 2, 3]\n",
            "<class 'list'>\n",
            "True\n",
            "[]\n",
            "<class 'list'>\n",
            "False\n"
          ]
        }
      ]
    },
    {
      "cell_type": "code",
      "source": [
        "list1 = [1, 3, 5]\n",
        "\n",
        "if list1:\n",
        "  print('요소가 있습니다')\n",
        "else:\n",
        "  print('요소가 없습니다')"
      ],
      "metadata": {
        "colab": {
          "base_uri": "https://localhost:8080/"
        },
        "id": "6OYrYayZg8pF",
        "outputId": "dee4b0a5-e064-4c51-c1f0-a0f17ea6c8da"
      },
      "execution_count": 17,
      "outputs": [
        {
          "output_type": "stream",
          "name": "stdout",
          "text": [
            "요소가 있습니다\n"
          ]
        }
      ]
    },
    {
      "cell_type": "markdown",
      "source": [
        "### 1-2. 대입 연산자\n",
        "* =, +=, -=, *=, /=, %=\n",
        "* 왼쪽에 저장된 값과 오른쪽 값을 연산한 뒤 다시 왼쪽에 대입(inplace 연산)"
      ],
      "metadata": {
        "id": "aH-4l93ThiBx"
      }
    },
    {
      "cell_type": "code",
      "source": [
        "num = 10"
      ],
      "metadata": {
        "id": "_VMjZI-miF31"
      },
      "execution_count": 18,
      "outputs": []
    },
    {
      "cell_type": "code",
      "source": [
        "num += 1 # num = num + 1\n",
        "print(num)"
      ],
      "metadata": {
        "colab": {
          "base_uri": "https://localhost:8080/"
        },
        "id": "WmOF57YxiH7O",
        "outputId": "2d40c4f9-8182-4aee-a9c0-3016a0a7ed79"
      },
      "execution_count": 19,
      "outputs": [
        {
          "output_type": "stream",
          "name": "stdout",
          "text": [
            "11\n"
          ]
        }
      ]
    },
    {
      "cell_type": "code",
      "source": [
        "num -= 1\n",
        "print(num)"
      ],
      "metadata": {
        "colab": {
          "base_uri": "https://localhost:8080/"
        },
        "id": "6X4GQDiUiR0I",
        "outputId": "930053f7-4d3d-4798-903c-3a1762d5eeb0"
      },
      "execution_count": 20,
      "outputs": [
        {
          "output_type": "stream",
          "name": "stdout",
          "text": [
            "10\n"
          ]
        }
      ]
    },
    {
      "cell_type": "code",
      "source": [
        "num *= 10\n",
        "print(num)"
      ],
      "metadata": {
        "colab": {
          "base_uri": "https://localhost:8080/"
        },
        "id": "_4I2OK0Fiq7b",
        "outputId": "0544ef93-3b69-40b3-f44e-eb21f1bd13bc"
      },
      "execution_count": 21,
      "outputs": [
        {
          "output_type": "stream",
          "name": "stdout",
          "text": [
            "100\n"
          ]
        }
      ]
    },
    {
      "cell_type": "code",
      "source": [
        "num /= 10\n",
        "print(num)"
      ],
      "metadata": {
        "colab": {
          "base_uri": "https://localhost:8080/"
        },
        "id": "4WzSK13Wi0B8",
        "outputId": "e87e1d0e-5dc3-40b1-c4b8-5a293be43670"
      },
      "execution_count": 22,
      "outputs": [
        {
          "output_type": "stream",
          "name": "stdout",
          "text": [
            "10.0\n"
          ]
        }
      ]
    },
    {
      "cell_type": "code",
      "source": [
        "num %= 2\n",
        "print(num)"
      ],
      "metadata": {
        "colab": {
          "base_uri": "https://localhost:8080/"
        },
        "id": "r6iXq1Qyi2Kr",
        "outputId": "5a8b8607-9d8c-43f9-d7ad-401ea619a735"
      },
      "execution_count": 23,
      "outputs": [
        {
          "output_type": "stream",
          "name": "stdout",
          "text": [
            "0.0\n"
          ]
        }
      ]
    },
    {
      "cell_type": "markdown",
      "source": [
        "### 1-3. while 문\n",
        "\n",
        "```\n",
        "while 조건식:\n",
        "  조건식의 겨로가가 True인 동안 반복할 문장\n",
        "  ...\n",
        "```"
      ],
      "metadata": {
        "id": "7lZ_wX32i6zB"
      }
    },
    {
      "cell_type": "code",
      "source": [
        "# 무한 루프\n",
        "while True:\n",
        "  print('끝나지 않는 반복')"
      ],
      "metadata": {
        "id": "qsZRbCxWjgSW"
      },
      "execution_count": 24,
      "outputs": []
    },
    {
      "cell_type": "code",
      "source": [
        "i = 1\n",
        "\n",
        "while i <= 5:\n",
        "  print('Hello Python')\n",
        "  i += 1\n",
        "\n",
        "print(f'현재 i의 값은: {i}')"
      ],
      "metadata": {
        "colab": {
          "base_uri": "https://localhost:8080/"
        },
        "id": "5W62M1vBj_kq",
        "outputId": "65ff11ad-6987-4e68-de50-0bb2f11145b2"
      },
      "execution_count": 25,
      "outputs": [
        {
          "output_type": "stream",
          "name": "stdout",
          "text": [
            "Hello Python\n",
            "Hello Python\n",
            "Hello Python\n",
            "Hello Python\n",
            "Hello Python\n",
            "현재 i의 값은: 6\n"
          ]
        }
      ]
    },
    {
      "cell_type": "code",
      "source": [
        "# 1 ~ 10까지의 총합\n",
        "# 1 + 2 + 3 + 4 + 5 + 6 + 7 + 8 + 9 + 10\n",
        "\n",
        "i = 1\n",
        "sum = 0\n",
        "\n",
        "while i <= 10:\n",
        "  sum += i\n",
        "  i += 1\n",
        "\n",
        "print(f'1부터 10까지의 합: {sum}')"
      ],
      "metadata": {
        "colab": {
          "base_uri": "https://localhost:8080/"
        },
        "id": "VI5ifPEPlFSZ",
        "outputId": "1dcc118d-c472-4d25-8c1a-d87da2751c5d"
      },
      "execution_count": 26,
      "outputs": [
        {
          "output_type": "stream",
          "name": "stdout",
          "text": [
            "1부터 10까지의 합: 55\n"
          ]
        }
      ]
    },
    {
      "cell_type": "markdown",
      "source": [
        "### 문제\n",
        "* 1 ~ 100까지 짝수의 총합을 구하는 프로그램을 작성해보자"
      ],
      "metadata": {
        "id": "_gQ0-mEynPPQ"
      }
    },
    {
      "cell_type": "code",
      "source": [
        "i = 1\n",
        "sum = 0\n",
        "\n",
        "while i <= 100:\n",
        "  if i % 2 == 0:\n",
        "    sum += i\n",
        "  i += 1\n",
        "\n",
        "print(f'1부터 100까지 짝수의 합: {sum}')"
      ],
      "metadata": {
        "colab": {
          "base_uri": "https://localhost:8080/"
        },
        "id": "VovXrIpQnWA6",
        "outputId": "2d9e4126-cb7d-4fce-afcb-92ac3f09c582"
      },
      "execution_count": 27,
      "outputs": [
        {
          "output_type": "stream",
          "name": "stdout",
          "text": [
            "1부터 100까지 짝수의 합: 2550\n"
          ]
        }
      ]
    },
    {
      "cell_type": "markdown",
      "source": [
        "### 문제\n",
        "* 원하는 단을 입력받아 해당 단의 구구단을 출력하는 프로그램을 작성해보자"
      ],
      "metadata": {
        "id": "uvq6MH_xnowJ"
      }
    },
    {
      "cell_type": "code",
      "source": [
        "i = int(input('원하는 단을 입력하세요: '))\n",
        "j = 1\n",
        "\n",
        "print(f'{i}단')\n",
        "while j <= 9:\n",
        "  print(f'{i} * {j} = {i * j}')\n",
        "  j += 1"
      ],
      "metadata": {
        "colab": {
          "base_uri": "https://localhost:8080/"
        },
        "id": "kiszYFCJpoof",
        "outputId": "895445da-5ed6-41c8-bc8d-e8af7c59c9b5"
      },
      "execution_count": 28,
      "outputs": [
        {
          "output_type": "stream",
          "name": "stdout",
          "text": [
            "원하는 단을 입력하세요: 7\n",
            "7단\n",
            "7 * 1 = 7\n",
            "7 * 2 = 14\n",
            "7 * 3 = 21\n",
            "7 * 4 = 28\n",
            "7 * 5 = 35\n",
            "7 * 6 = 42\n",
            "7 * 7 = 49\n",
            "7 * 8 = 56\n",
            "7 * 9 = 63\n"
          ]
        }
      ]
    },
    {
      "cell_type": "code",
      "source": [
        "dan = int(input('원하는 단을 입력하세요: '))\n",
        "print(f'{dan} 단')\n",
        "\n",
        "i=1\n",
        "while i <= 9:\n",
        "  print(f'{dan} * {i} = {dan * i}')\n",
        "  i += 1\n"
      ],
      "metadata": {
        "colab": {
          "base_uri": "https://localhost:8080/"
        },
        "id": "J2At_OqevKde",
        "outputId": "8220586c-5d55-4d49-d31b-7ded14babcba"
      },
      "execution_count": 29,
      "outputs": [
        {
          "output_type": "stream",
          "name": "stdout",
          "text": [
            "원하는 단을 입력하세요: 7\n",
            "7 단\n",
            "7 * 1 = 7\n",
            "7 * 2 = 14\n",
            "7 * 3 = 21\n",
            "7 * 4 = 28\n",
            "7 * 5 = 35\n",
            "7 * 6 = 42\n",
            "7 * 7 = 49\n",
            "7 * 8 = 56\n",
            "7 * 9 = 63\n"
          ]
        }
      ]
    },
    {
      "cell_type": "markdown",
      "source": [
        "### 1-4. for in 문\n",
        "\n",
        "```\n",
        "for 변수 in iterable 객체:\n",
        "  이터러블 객체의 요소 갯수만큼 반복할 문장\n",
        "  ...\n",
        "```"
      ],
      "metadata": {
        "id": "hdmYDwo4vhT8"
      }
    },
    {
      "cell_type": "code",
      "source": [
        "list1 = [10, 20, 30, 40]\n",
        "\n",
        "for li in list1:\n",
        "  print(li)"
      ],
      "metadata": {
        "colab": {
          "base_uri": "https://localhost:8080/"
        },
        "id": "GI04l2d-wZNe",
        "outputId": "dfba1761-a0e1-44a6-f276-1b064bf523e1"
      },
      "execution_count": 30,
      "outputs": [
        {
          "output_type": "stream",
          "name": "stdout",
          "text": [
            "10\n",
            "20\n",
            "30\n",
            "40\n"
          ]
        }
      ]
    },
    {
      "cell_type": "code",
      "source": [
        "import collections\n",
        "# instance(이터러블한 객체인지 확인하고자 하는 객체, collections.Iterable)\n",
        "isinstance(list1, collections.Iterable)"
      ],
      "metadata": {
        "colab": {
          "base_uri": "https://localhost:8080/"
        },
        "id": "pdnZbB57wks1",
        "outputId": "4344cb75-9c66-4bb3-89df-3b8361283ce3"
      },
      "execution_count": 31,
      "outputs": [
        {
          "output_type": "stream",
          "name": "stderr",
          "text": [
            "<ipython-input-31-743b06db6890>:3: DeprecationWarning: Using or importing the ABCs from 'collections' instead of from 'collections.abc' is deprecated since Python 3.3, and in 3.10 it will stop working\n",
            "  isinstance(list1, collections.Iterable)\n"
          ]
        },
        {
          "output_type": "execute_result",
          "data": {
            "text/plain": [
              "True"
            ]
          },
          "metadata": {},
          "execution_count": 31
        }
      ]
    },
    {
      "cell_type": "code",
      "source": [
        "# range(): 범위를 생성해주는 함수\n",
        "# range(시작인덱스, 종료인덱스, 증가값)\n",
        "num = range(0, 10, 1)\n",
        "print(num)"
      ],
      "metadata": {
        "colab": {
          "base_uri": "https://localhost:8080/"
        },
        "id": "1NQUThr1xo62",
        "outputId": "d959fb48-8c73-4bdf-95d6-b3dea5c8ac9e"
      },
      "execution_count": 32,
      "outputs": [
        {
          "output_type": "stream",
          "name": "stdout",
          "text": [
            "range(0, 10)\n"
          ]
        }
      ]
    },
    {
      "cell_type": "code",
      "source": [
        "for i in num:\n",
        "  print(i, end = ' ')"
      ],
      "metadata": {
        "colab": {
          "base_uri": "https://localhost:8080/"
        },
        "id": "m89hxMW3yC4c",
        "outputId": "bc5424c8-2b41-4962-d56b-aa6c2426e523"
      },
      "execution_count": 33,
      "outputs": [
        {
          "output_type": "stream",
          "name": "stdout",
          "text": [
            "0 1 2 3 4 5 6 7 8 9 "
          ]
        }
      ]
    },
    {
      "cell_type": "code",
      "source": [
        "isinstance(num, collections.Iterable)"
      ],
      "metadata": {
        "colab": {
          "base_uri": "https://localhost:8080/"
        },
        "id": "B7byRs2MyUZJ",
        "outputId": "365fc091-711a-485b-f2b0-4c7768ddc57b"
      },
      "execution_count": 34,
      "outputs": [
        {
          "output_type": "execute_result",
          "data": {
            "text/plain": [
              "True"
            ]
          },
          "metadata": {},
          "execution_count": 34
        }
      ]
    },
    {
      "cell_type": "code",
      "source": [
        "num = 10\n",
        "# print(num)\n",
        "\n",
        "for i in num:\n",
        "  print(i, end = ' ')"
      ],
      "metadata": {
        "colab": {
          "base_uri": "https://localhost:8080/",
          "height": 229
        },
        "id": "oq22O7wsybZ8",
        "outputId": "26038885-65f1-4d36-e836-bc10c1a1a6d2"
      },
      "execution_count": 35,
      "outputs": [
        {
          "output_type": "error",
          "ename": "TypeError",
          "evalue": "ignored",
          "traceback": [
            "\u001b[0;31m---------------------------------------------------------------------------\u001b[0m",
            "\u001b[0;31mTypeError\u001b[0m                                 Traceback (most recent call last)",
            "\u001b[0;32m<ipython-input-35-35697e8a110d>\u001b[0m in \u001b[0;36m<module>\u001b[0;34m\u001b[0m\n\u001b[1;32m      2\u001b[0m \u001b[0;31m# print(num)\u001b[0m\u001b[0;34m\u001b[0m\u001b[0;34m\u001b[0m\u001b[0;34m\u001b[0m\u001b[0m\n\u001b[1;32m      3\u001b[0m \u001b[0;34m\u001b[0m\u001b[0m\n\u001b[0;32m----> 4\u001b[0;31m \u001b[0;32mfor\u001b[0m \u001b[0mi\u001b[0m \u001b[0;32min\u001b[0m \u001b[0mnum\u001b[0m\u001b[0;34m:\u001b[0m\u001b[0;34m\u001b[0m\u001b[0;34m\u001b[0m\u001b[0m\n\u001b[0m\u001b[1;32m      5\u001b[0m   \u001b[0mprint\u001b[0m\u001b[0;34m(\u001b[0m\u001b[0mi\u001b[0m\u001b[0;34m,\u001b[0m \u001b[0mend\u001b[0m \u001b[0;34m=\u001b[0m \u001b[0;34m' '\u001b[0m\u001b[0;34m)\u001b[0m\u001b[0;34m\u001b[0m\u001b[0;34m\u001b[0m\u001b[0m\n",
            "\u001b[0;31mTypeError\u001b[0m: 'int' object is not iterable"
          ]
        }
      ]
    },
    {
      "cell_type": "code",
      "source": [
        "isinstance(num, collections.Iterable)"
      ],
      "metadata": {
        "colab": {
          "base_uri": "https://localhost:8080/"
        },
        "id": "VCoIyZakyn4-",
        "outputId": "c7343165-4aec-4515-b124-d542f4a894c5"
      },
      "execution_count": 36,
      "outputs": [
        {
          "output_type": "execute_result",
          "data": {
            "text/plain": [
              "False"
            ]
          },
          "metadata": {},
          "execution_count": 36
        }
      ]
    },
    {
      "cell_type": "code",
      "source": [
        "for i in range(0, 10, 1):\n",
        "  print(i, end=' ')"
      ],
      "metadata": {
        "colab": {
          "base_uri": "https://localhost:8080/"
        },
        "id": "T7zHwoaeyqHn",
        "outputId": "02272612-c92d-4e07-af85-b9b9a8b36ef9"
      },
      "execution_count": 37,
      "outputs": [
        {
          "output_type": "stream",
          "name": "stdout",
          "text": [
            "0 1 2 3 4 5 6 7 8 9 "
          ]
        }
      ]
    },
    {
      "cell_type": "code",
      "source": [
        "# 증가값을 생략하면 기본값은 1\n",
        "for i in range(0, 10):\n",
        "  print(i, end=' ')"
      ],
      "metadata": {
        "colab": {
          "base_uri": "https://localhost:8080/"
        },
        "id": "L4w0YdVLy2aX",
        "outputId": "d13f6aae-bfe3-4792-e83e-ac519e1e7aa6"
      },
      "execution_count": 38,
      "outputs": [
        {
          "output_type": "stream",
          "name": "stdout",
          "text": [
            "0 1 2 3 4 5 6 7 8 9 "
          ]
        }
      ]
    },
    {
      "cell_type": "code",
      "source": [
        "# 시작값을 생략하면 기본값은 0\n",
        "for i in range(10):\n",
        "  print(i, end=' ')"
      ],
      "metadata": {
        "colab": {
          "base_uri": "https://localhost:8080/"
        },
        "id": "b6hShJ_hzJh0",
        "outputId": "0bc40732-11e6-4260-b099-9aca362974dd"
      },
      "execution_count": 39,
      "outputs": [
        {
          "output_type": "stream",
          "name": "stdout",
          "text": [
            "0 1 2 3 4 5 6 7 8 9 "
          ]
        }
      ]
    },
    {
      "cell_type": "code",
      "source": [
        "# 시작값은 1, 종료값으 10, 증가값은 2\n",
        "for i in range(1, 10, 2):\n",
        "  print(i, end=' ')"
      ],
      "metadata": {
        "colab": {
          "base_uri": "https://localhost:8080/"
        },
        "id": "HXldYjYZzPQM",
        "outputId": "54fe1c34-a74f-4359-f572-f071a2a48b6b"
      },
      "execution_count": 40,
      "outputs": [
        {
          "output_type": "stream",
          "name": "stdout",
          "text": [
            "1 3 5 7 9 "
          ]
        }
      ]
    },
    {
      "cell_type": "markdown",
      "source": [
        "### 문제\n",
        "for in 문을 이용하여 1 ~ 100까지 짝수의 총합을 구하는 프로그램을 작성해보자"
      ],
      "metadata": {
        "id": "1aQ_ceGjzbee"
      }
    },
    {
      "cell_type": "code",
      "source": [
        "sum = 0\n",
        "\n",
        "for i in range(1, 101, 1):\n",
        "  if i % 2 == 0:\n",
        "    sum += i\n",
        "print(f'1 부터 100까지의 짝수 총합: {sum}')"
      ],
      "metadata": {
        "colab": {
          "base_uri": "https://localhost:8080/"
        },
        "id": "Bz-f7fsJzoML",
        "outputId": "7fb689df-d52b-4905-c4a4-ff50a80ee815"
      },
      "execution_count": 41,
      "outputs": [
        {
          "output_type": "stream",
          "name": "stdout",
          "text": [
            "1 부터 100까지의 짝수 총합: 2550\n"
          ]
        }
      ]
    },
    {
      "cell_type": "code",
      "source": [
        "sum = 0\n",
        "for i in range(0, 101, 2):\n",
        "  sum += i\n",
        "\n",
        "print(f'1부터 100까지 짝수의 총합: {sum}')"
      ],
      "metadata": {
        "colab": {
          "base_uri": "https://localhost:8080/"
        },
        "id": "ycx0cYjp0C8S",
        "outputId": "04a5f7fd-7214-49de-bee8-d6fd0fc7cc81"
      },
      "execution_count": 42,
      "outputs": [
        {
          "output_type": "stream",
          "name": "stdout",
          "text": [
            "1부터 100까지 짝수의 총합: 2550\n"
          ]
        }
      ]
    },
    {
      "cell_type": "markdown",
      "source": [
        "### 1-5. enumerate\n",
        "* 반복문 사용 시 몇번째 반복인지 인덱스 번호로 확인\n",
        "* 인덱스 번호와 요소를 튜플 형태로 반환"
      ],
      "metadata": {
        "id": "U8JL5xpO0sdM"
      }
    },
    {
      "cell_type": "code",
      "source": [
        "li1 = [10, 20, 30, 40, 50]\n",
        "\n",
        "for e in enumerate(li1):\n",
        "  print(e)"
      ],
      "metadata": {
        "colab": {
          "base_uri": "https://localhost:8080/"
        },
        "id": "Qt-fD0sU0_zx",
        "outputId": "56906d22-45ba-417a-965f-a006714c8212"
      },
      "execution_count": 43,
      "outputs": [
        {
          "output_type": "stream",
          "name": "stdout",
          "text": [
            "(0, 10)\n",
            "(1, 20)\n",
            "(2, 30)\n",
            "(3, 40)\n",
            "(4, 50)\n"
          ]
        }
      ]
    },
    {
      "cell_type": "code",
      "source": [
        "for i, v in enumerate(li1):\n",
        "  print(f'index:{i}, value:{v}')"
      ],
      "metadata": {
        "colab": {
          "base_uri": "https://localhost:8080/"
        },
        "id": "p06j547U1N9j",
        "outputId": "4a379fb1-4c9d-44ab-fda0-03ea725a336d"
      },
      "execution_count": 44,
      "outputs": [
        {
          "output_type": "stream",
          "name": "stdout",
          "text": [
            "index:0, value:10\n",
            "index:1, value:20\n",
            "index:2, value:30\n",
            "index:3, value:40\n",
            "index:4, value:50\n"
          ]
        }
      ]
    },
    {
      "cell_type": "markdown",
      "source": [
        "### 1-6. zip() 함수\n",
        "* 객체가 담고있는 원소를 엮어서 튜플의 형태로 반환\n",
        "* 매개변수의 길이가 다를 때는 짧은 매개변수 기준으로 데이터가 엮이고, 나머지는 버려짐"
      ],
      "metadata": {
        "id": "xkoCG_Oh7Jef"
      }
    },
    {
      "cell_type": "code",
      "source": [
        "li1 = [10, 20, 30]\n",
        "li2 = ['apple', 'banana', 'orange']\n",
        "# (10, 'apple')\n",
        "# (20, 'banana')\n",
        "# (30, 'orange')\n",
        "\n",
        "for i in range(len(li1)):\n",
        "  print((li1[i], li2[i]))"
      ],
      "metadata": {
        "colab": {
          "base_uri": "https://localhost:8080/"
        },
        "id": "sHnDNInq7csa",
        "outputId": "a17b94ef-5446-4783-de88-4410c3623ebc"
      },
      "execution_count": 74,
      "outputs": [
        {
          "output_type": "stream",
          "name": "stdout",
          "text": [
            "(10, 'apple')\n",
            "(20, 'banana')\n",
            "(30, 'orange')\n"
          ]
        }
      ]
    },
    {
      "cell_type": "code",
      "source": [
        "for l1, l2 in zip(li1, li2):\n",
        "  print((l1, l2))"
      ],
      "metadata": {
        "colab": {
          "base_uri": "https://localhost:8080/"
        },
        "id": "oaKW-WCi8jF_",
        "outputId": "4a4ce305-f94f-47cf-f82a-29dbcc5af147"
      },
      "execution_count": 79,
      "outputs": [
        {
          "output_type": "stream",
          "name": "stdout",
          "text": [
            "(10, 'apple')\n",
            "(20, 'banana')\n",
            "(30, 'orange')\n"
          ]
        }
      ]
    },
    {
      "cell_type": "code",
      "source": [
        "for li in zip(li1, li2):\n",
        "  print(li)"
      ],
      "metadata": {
        "colab": {
          "base_uri": "https://localhost:8080/"
        },
        "id": "YL1iHgX9Ae9C",
        "outputId": "7c54e880-5dcb-41b5-8001-98fa6f49c264"
      },
      "execution_count": 80,
      "outputs": [
        {
          "output_type": "stream",
          "name": "stdout",
          "text": [
            "(10, 'apple')\n",
            "(20, 'banana')\n",
            "(30, 'orange')\n"
          ]
        }
      ]
    },
    {
      "cell_type": "code",
      "source": [
        "for n, A, a in zip('12345', 'ABCDE', 'abcde'):\n",
        "  print((n, A, a))"
      ],
      "metadata": {
        "colab": {
          "base_uri": "https://localhost:8080/"
        },
        "id": "DktAAXRg9HfF",
        "outputId": "56ef87c3-2ab6-4ba4-f45d-fc41fa0b5c50"
      },
      "execution_count": 76,
      "outputs": [
        {
          "output_type": "stream",
          "name": "stdout",
          "text": [
            "('1', 'A', 'a')\n",
            "('2', 'B', 'b')\n",
            "('3', 'C', 'c')\n",
            "('4', 'D', 'd')\n",
            "('5', 'E', 'e')\n"
          ]
        }
      ]
    },
    {
      "cell_type": "code",
      "source": [
        "for n, A, a in zip('12345', 'ABCDEF', 'abcdef'):\n",
        "  print((n, A, a))"
      ],
      "metadata": {
        "colab": {
          "base_uri": "https://localhost:8080/"
        },
        "id": "45gLT9pN9R22",
        "outputId": "6ac51ce0-8727-4e6c-8624-1016e878de97"
      },
      "execution_count": 78,
      "outputs": [
        {
          "output_type": "stream",
          "name": "stdout",
          "text": [
            "('1', 'A', 'a')\n",
            "('2', 'B', 'b')\n",
            "('3', 'C', 'c')\n",
            "('4', 'D', 'd')\n",
            "('5', 'E', 'e')\n"
          ]
        }
      ]
    },
    {
      "cell_type": "markdown",
      "source": [
        "### 1-7. list와 tuple을 for문과 함께 사용하기"
      ],
      "metadata": {
        "id": "W1a4DdXEkjFh"
      }
    },
    {
      "cell_type": "code",
      "source": [
        "li1 = ['apple', 'banana', 'orange', 'melon']\n",
        "\n",
        "for i in li1:\n",
        "  print(i, end=' ')"
      ],
      "metadata": {
        "colab": {
          "base_uri": "https://localhost:8080/"
        },
        "id": "KxZazERIlSkJ",
        "outputId": "b3b84399-29db-4d17-f6f8-dd94fa4abdbc"
      },
      "execution_count": 45,
      "outputs": [
        {
          "output_type": "stream",
          "name": "stdout",
          "text": [
            "apple banana orange melon "
          ]
        }
      ]
    },
    {
      "cell_type": "code",
      "source": [
        "tu1 = ('apple', 'banana', 'orange', 'melon')\n",
        "\n",
        "for i in tu1:\n",
        "  print(i, end=' ')"
      ],
      "metadata": {
        "colab": {
          "base_uri": "https://localhost:8080/"
        },
        "id": "CEYV2M8yli-1",
        "outputId": "7f9c715a-27dd-477d-84db-21c1860bb365"
      },
      "execution_count": 46,
      "outputs": [
        {
          "output_type": "stream",
          "name": "stdout",
          "text": [
            "apple banana orange melon "
          ]
        }
      ]
    },
    {
      "cell_type": "markdown",
      "source": [
        "### 문제\n",
        "아래 score 리스트에 저장된 점수가 60점 이상인 학생이 몇명인지 알아보는 프로그램을 작성해보자\n",
        "\n",
        "* score = [90, 30, 50, 60, 80, 70, 100, 40, 20, 10]"
      ],
      "metadata": {
        "id": "BCbW_7AelqVs"
      }
    },
    {
      "cell_type": "code",
      "source": [
        "score = [90, 30, 50, 60, 80, 70, 100, 40, 20, 10]\n",
        "sum = 0\n",
        "\n",
        "for i in score:\n",
        "  if i >= 60:\n",
        "    sum += 1\n",
        "\n",
        "print('60점 이상인 학생의 수: ', sum)"
      ],
      "metadata": {
        "colab": {
          "base_uri": "https://localhost:8080/"
        },
        "id": "k8LhG3_BmWBs",
        "outputId": "0c4ad8eb-11e0-445f-ebfa-49256c2a7815"
      },
      "execution_count": 48,
      "outputs": [
        {
          "output_type": "stream",
          "name": "stdout",
          "text": [
            "60점 이상인 학생의 수:  5\n"
          ]
        }
      ]
    },
    {
      "cell_type": "code",
      "source": [
        "score = [90, 30, 50, 60, 80, 70, 100, 40, 20, 10]\n",
        "count = 0\n",
        "\n",
        "for i in score:\n",
        "  if i >= 60:\n",
        "    count += 1\n",
        "\n",
        "print(f'60점 이상인 학생의 수는 {count}명입니다')"
      ],
      "metadata": {
        "colab": {
          "base_uri": "https://localhost:8080/"
        },
        "id": "5ePY3BY2mo4t",
        "outputId": "d5948a63-d462-42cf-f694-634ee30b2390"
      },
      "execution_count": 49,
      "outputs": [
        {
          "output_type": "stream",
          "name": "stdout",
          "text": [
            "60점 이상인 학생의 수는 5명입니다\n"
          ]
        }
      ]
    },
    {
      "cell_type": "markdown",
      "source": [
        "# 2. 다중반복문\n",
        "* 반복문이 2개이상 겹쳐져 있는 형태"
      ],
      "metadata": {
        "id": "775JSB_RoBEX"
      }
    },
    {
      "cell_type": "code",
      "source": [
        "for i in range(1, 4):\n",
        "  print(f'😎 i: {i}')\n",
        "  for j in range(1, 4):\n",
        "    print(f'   😍 j: {j}')"
      ],
      "metadata": {
        "colab": {
          "base_uri": "https://localhost:8080/"
        },
        "id": "E_kc_pLroI-8",
        "outputId": "7a9818a2-9c6d-4286-f51c-333a29962afe"
      },
      "execution_count": 54,
      "outputs": [
        {
          "output_type": "stream",
          "name": "stdout",
          "text": [
            "😎 i: 1\n",
            "   😍 j: 1\n",
            "   😍 j: 2\n",
            "   😍 j: 3\n",
            "😎 i: 2\n",
            "   😍 j: 1\n",
            "   😍 j: 2\n",
            "   😍 j: 3\n",
            "😎 i: 3\n",
            "   😍 j: 1\n",
            "   😍 j: 2\n",
            "   😍 j: 3\n"
          ]
        }
      ]
    },
    {
      "cell_type": "code",
      "source": [
        "# '🎃'를 이용하여 아래와 같은 도형을 만들어보자.\n",
        "'''\n",
        "🎃 🎃 🎃 🎃 🎃\n",
        "🎃 🎃 🎃 🎃 🎃\n",
        "🎃 🎃 🎃 🎃 🎃\n",
        "🎃 🎃 🎃 🎃 🎃\n",
        "🎃 🎃 🎃 🎃 🎃\n",
        "'''\n",
        "for i in range(5):\n",
        "  for j in range(5):\n",
        "    print('🎃', end=' ')\n",
        "  print()"
      ],
      "metadata": {
        "colab": {
          "base_uri": "https://localhost:8080/"
        },
        "id": "_NKxCVD3ozVK",
        "outputId": "63923b14-dc29-4fbb-f610-9f8fe2c44a3e"
      },
      "execution_count": 59,
      "outputs": [
        {
          "output_type": "stream",
          "name": "stdout",
          "text": [
            "🎃 🎃 🎃 🎃 🎃 \n",
            "🎃 🎃 🎃 🎃 🎃 \n",
            "🎃 🎃 🎃 🎃 🎃 \n",
            "🎃 🎃 🎃 🎃 🎃 \n",
            "🎃 🎃 🎃 🎃 🎃 \n"
          ]
        }
      ]
    },
    {
      "cell_type": "markdown",
      "source": [
        "### 문제1\n",
        "'🎃'를 이용하여 아래와 같은 도형을 만들어보자.\n",
        "\n",
        "🎃 🎃 🎃 🎃 🎃  \n",
        "🎃 🎃 🎃 🎃   \n",
        "🎃 🎃 🎃   \n",
        "🎃 🎃  \n",
        "🎃  "
      ],
      "metadata": {
        "id": "i2ZKpowrset7"
      }
    },
    {
      "cell_type": "code",
      "source": [
        "for i in range(5):\n",
        "  for j in range(5-i):\n",
        "    print('🎃', end=' ')\n",
        "  print()"
      ],
      "metadata": {
        "colab": {
          "base_uri": "https://localhost:8080/"
        },
        "id": "sqopHhqCtIGJ",
        "outputId": "53119144-a02e-4c41-bf86-32f503740b24"
      },
      "execution_count": 64,
      "outputs": [
        {
          "output_type": "stream",
          "name": "stdout",
          "text": [
            "🎃 🎃 🎃 🎃 🎃 \n",
            "🎃 🎃 🎃 🎃 \n",
            "🎃 🎃 🎃 \n",
            "🎃 🎃 \n",
            "🎃 \n"
          ]
        }
      ]
    },
    {
      "cell_type": "code",
      "source": [
        "for i in range(5):\n",
        "  for j in range(i, 5):\n",
        "    print('🎃', end=' ')\n",
        "  print()"
      ],
      "metadata": {
        "colab": {
          "base_uri": "https://localhost:8080/"
        },
        "id": "ICkA8ZyOvZQ1",
        "outputId": "70d6ba7a-3be1-417e-d5de-d5420d340fbd"
      },
      "execution_count": 65,
      "outputs": [
        {
          "output_type": "stream",
          "name": "stdout",
          "text": [
            "🎃 🎃 🎃 🎃 🎃 \n",
            "🎃 🎃 🎃 🎃 \n",
            "🎃 🎃 🎃 \n",
            "🎃 🎃 \n",
            "🎃 \n"
          ]
        }
      ]
    },
    {
      "cell_type": "markdown",
      "source": [
        "### 문제2\n",
        "\n",
        "'🎃'를 이용하여 아래와 같은 도형을 만들어보자.\n",
        "\n",
        "🎃  \n",
        "🎃 🎃  \n",
        "🎃 🎃 🎃  \n",
        "🎃 🎃 🎃 🎃  \n",
        "🎃 🎃 🎃 🎃 🎃  "
      ],
      "metadata": {
        "id": "2buYwjXcs44p"
      }
    },
    {
      "cell_type": "code",
      "source": [
        "for i in range(5):\n",
        "  for j in range(i+1):\n",
        "    print('🎃', end=' ')\n",
        "  print()"
      ],
      "metadata": {
        "colab": {
          "base_uri": "https://localhost:8080/"
        },
        "id": "hurodiQ4tF31",
        "outputId": "97c72fcc-c9d9-45f8-d870-be54b44dbc04"
      },
      "execution_count": 63,
      "outputs": [
        {
          "output_type": "stream",
          "name": "stdout",
          "text": [
            "🎃 \n",
            "🎃 🎃 \n",
            "🎃 🎃 🎃 \n",
            "🎃 🎃 🎃 🎃 \n",
            "🎃 🎃 🎃 🎃 🎃 \n"
          ]
        }
      ]
    },
    {
      "cell_type": "code",
      "source": [
        "# 2단부터 9단까지 구구단을 출력하는 프로그램을 작성\n",
        "\n",
        "for i in range(2, 10):\n",
        "  print(f'{i} 단')\n",
        "  for j in range(1, 10):\n",
        "    print(f'{i} * {j} = {i*j}')\n",
        "  print()"
      ],
      "metadata": {
        "colab": {
          "base_uri": "https://localhost:8080/"
        },
        "id": "iaUmAZxfyTjM",
        "outputId": "431b3819-408c-4719-d1e5-6abc2c71bffc"
      },
      "execution_count": 67,
      "outputs": [
        {
          "output_type": "stream",
          "name": "stdout",
          "text": [
            "2 단\n",
            "2 * 1 = 2\n",
            "2 * 2 = 4\n",
            "2 * 3 = 6\n",
            "2 * 4 = 8\n",
            "2 * 5 = 10\n",
            "2 * 6 = 12\n",
            "2 * 7 = 14\n",
            "2 * 8 = 16\n",
            "2 * 9 = 18\n",
            "\n",
            "3 단\n",
            "3 * 1 = 3\n",
            "3 * 2 = 6\n",
            "3 * 3 = 9\n",
            "3 * 4 = 12\n",
            "3 * 5 = 15\n",
            "3 * 6 = 18\n",
            "3 * 7 = 21\n",
            "3 * 8 = 24\n",
            "3 * 9 = 27\n",
            "\n",
            "4 단\n",
            "4 * 1 = 4\n",
            "4 * 2 = 8\n",
            "4 * 3 = 12\n",
            "4 * 4 = 16\n",
            "4 * 5 = 20\n",
            "4 * 6 = 24\n",
            "4 * 7 = 28\n",
            "4 * 8 = 32\n",
            "4 * 9 = 36\n",
            "\n",
            "5 단\n",
            "5 * 1 = 5\n",
            "5 * 2 = 10\n",
            "5 * 3 = 15\n",
            "5 * 4 = 20\n",
            "5 * 5 = 25\n",
            "5 * 6 = 30\n",
            "5 * 7 = 35\n",
            "5 * 8 = 40\n",
            "5 * 9 = 45\n",
            "\n",
            "6 단\n",
            "6 * 1 = 6\n",
            "6 * 2 = 12\n",
            "6 * 3 = 18\n",
            "6 * 4 = 24\n",
            "6 * 5 = 30\n",
            "6 * 6 = 36\n",
            "6 * 7 = 42\n",
            "6 * 8 = 48\n",
            "6 * 9 = 54\n",
            "\n",
            "7 단\n",
            "7 * 1 = 7\n",
            "7 * 2 = 14\n",
            "7 * 3 = 21\n",
            "7 * 4 = 28\n",
            "7 * 5 = 35\n",
            "7 * 6 = 42\n",
            "7 * 7 = 49\n",
            "7 * 8 = 56\n",
            "7 * 9 = 63\n",
            "\n",
            "8 단\n",
            "8 * 1 = 8\n",
            "8 * 2 = 16\n",
            "8 * 3 = 24\n",
            "8 * 4 = 32\n",
            "8 * 5 = 40\n",
            "8 * 6 = 48\n",
            "8 * 7 = 56\n",
            "8 * 8 = 64\n",
            "8 * 9 = 72\n",
            "\n",
            "9 단\n",
            "9 * 1 = 9\n",
            "9 * 2 = 18\n",
            "9 * 3 = 27\n",
            "9 * 4 = 36\n",
            "9 * 5 = 45\n",
            "9 * 6 = 54\n",
            "9 * 7 = 63\n",
            "9 * 8 = 72\n",
            "9 * 9 = 81\n",
            "\n"
          ]
        }
      ]
    },
    {
      "cell_type": "markdown",
      "source": [
        "### 문제\n",
        "* 2단부터 9단까지 구구단을 출력하는 프로그램을 while으로 작성해보자"
      ],
      "metadata": {
        "id": "ro1XbOUczC2f"
      }
    },
    {
      "cell_type": "code",
      "source": [
        "i = 2\n",
        "j = 1\n",
        "\n",
        "while i<=9:\n",
        "  print(f'{i}단')\n",
        "  while j<=9:\n",
        "    print(f'{i} * {j} = {i*j}')\n",
        "    j += 1\n",
        "    \n",
        "  i += 1\n",
        "  j = 1\n",
        "  print()"
      ],
      "metadata": {
        "colab": {
          "base_uri": "https://localhost:8080/"
        },
        "id": "5LCzmopAzlAQ",
        "outputId": "450fd526-7709-48b0-e671-ca4eab607d78"
      },
      "execution_count": 70,
      "outputs": [
        {
          "output_type": "stream",
          "name": "stdout",
          "text": [
            "2단\n",
            "2 * 1 = 2\n",
            "2 * 2 = 4\n",
            "2 * 3 = 6\n",
            "2 * 4 = 8\n",
            "2 * 5 = 10\n",
            "2 * 6 = 12\n",
            "2 * 7 = 14\n",
            "2 * 8 = 16\n",
            "2 * 9 = 18\n",
            "\n",
            "3단\n",
            "3 * 1 = 3\n",
            "3 * 2 = 6\n",
            "3 * 3 = 9\n",
            "3 * 4 = 12\n",
            "3 * 5 = 15\n",
            "3 * 6 = 18\n",
            "3 * 7 = 21\n",
            "3 * 8 = 24\n",
            "3 * 9 = 27\n",
            "\n",
            "4단\n",
            "4 * 1 = 4\n",
            "4 * 2 = 8\n",
            "4 * 3 = 12\n",
            "4 * 4 = 16\n",
            "4 * 5 = 20\n",
            "4 * 6 = 24\n",
            "4 * 7 = 28\n",
            "4 * 8 = 32\n",
            "4 * 9 = 36\n",
            "\n",
            "5단\n",
            "5 * 1 = 5\n",
            "5 * 2 = 10\n",
            "5 * 3 = 15\n",
            "5 * 4 = 20\n",
            "5 * 5 = 25\n",
            "5 * 6 = 30\n",
            "5 * 7 = 35\n",
            "5 * 8 = 40\n",
            "5 * 9 = 45\n",
            "\n",
            "6단\n",
            "6 * 1 = 6\n",
            "6 * 2 = 12\n",
            "6 * 3 = 18\n",
            "6 * 4 = 24\n",
            "6 * 5 = 30\n",
            "6 * 6 = 36\n",
            "6 * 7 = 42\n",
            "6 * 8 = 48\n",
            "6 * 9 = 54\n",
            "\n",
            "7단\n",
            "7 * 1 = 7\n",
            "7 * 2 = 14\n",
            "7 * 3 = 21\n",
            "7 * 4 = 28\n",
            "7 * 5 = 35\n",
            "7 * 6 = 42\n",
            "7 * 7 = 49\n",
            "7 * 8 = 56\n",
            "7 * 9 = 63\n",
            "\n",
            "8단\n",
            "8 * 1 = 8\n",
            "8 * 2 = 16\n",
            "8 * 3 = 24\n",
            "8 * 4 = 32\n",
            "8 * 5 = 40\n",
            "8 * 6 = 48\n",
            "8 * 7 = 56\n",
            "8 * 8 = 64\n",
            "8 * 9 = 72\n",
            "\n",
            "9단\n",
            "9 * 1 = 9\n",
            "9 * 2 = 18\n",
            "9 * 3 = 27\n",
            "9 * 4 = 36\n",
            "9 * 5 = 45\n",
            "9 * 6 = 54\n",
            "9 * 7 = 63\n",
            "9 * 8 = 72\n",
            "9 * 9 = 81\n",
            "\n"
          ]
        }
      ]
    },
    {
      "cell_type": "markdown",
      "source": [
        "### 문제\n",
        "* 아래 score 리스트의 요소를 모두 출력하는 프로그램을 작성해보자\n",
        "* score = [[80, 90, 50], [40, 70, 30], [90, 50, 100]]"
      ],
      "metadata": {
        "id": "wNv6lMQ40-h3"
      }
    },
    {
      "cell_type": "code",
      "source": [
        "score = [[80, 90, 50], [40, 70, 30], [90, 50, 100]]\n",
        "\n",
        "for i in score:\n",
        "  for j in i:\n",
        "    print(j, end=' ')"
      ],
      "metadata": {
        "colab": {
          "base_uri": "https://localhost:8080/"
        },
        "id": "R4eGWgww37Nl",
        "outputId": "28ebc183-d0c7-48bc-92e6-c77861e5e26c"
      },
      "execution_count": 71,
      "outputs": [
        {
          "output_type": "stream",
          "name": "stdout",
          "text": [
            "80 90 50 40 70 30 90 50 100 "
          ]
        }
      ]
    },
    {
      "cell_type": "markdown",
      "source": [
        "# 3. 컴프리헨션(Comprehension)\n",
        "* 이터러블한 오브젝트를 생성하기 위한 방법 중 하나로 파이썬에서 사용할 수 있는 유용한 기능"
      ],
      "metadata": {
        "id": "QtLPutFnA5vg"
      }
    },
    {
      "cell_type": "code",
      "source": [
        "n = range(0, 10, 1)\n",
        "print(n)"
      ],
      "metadata": {
        "colab": {
          "base_uri": "https://localhost:8080/"
        },
        "id": "OHFWRRfDBFNK",
        "outputId": "96e25ded-1a38-405a-8480-dac55924a38a"
      },
      "execution_count": 81,
      "outputs": [
        {
          "output_type": "stream",
          "name": "stdout",
          "text": [
            "range(0, 10)\n"
          ]
        }
      ]
    },
    {
      "cell_type": "code",
      "source": [
        "n = 10\n",
        "\n",
        "result = [0 for i in range(n)]\n",
        "print(result)"
      ],
      "metadata": {
        "colab": {
          "base_uri": "https://localhost:8080/"
        },
        "id": "DsBKna-JBL4z",
        "outputId": "0d43f17e-90ac-4cd7-975d-383f55ee0749"
      },
      "execution_count": 82,
      "outputs": [
        {
          "output_type": "stream",
          "name": "stdout",
          "text": [
            "[0, 0, 0, 0, 0, 0, 0, 0, 0, 0]\n"
          ]
        }
      ]
    },
    {
      "cell_type": "code",
      "source": [
        "result = [i for i in range(n)]\n",
        "print(result)"
      ],
      "metadata": {
        "colab": {
          "base_uri": "https://localhost:8080/"
        },
        "id": "8LYhxXF3B1Kl",
        "outputId": "743982a0-7592-4346-8105-e14b03520b53"
      },
      "execution_count": 83,
      "outputs": [
        {
          "output_type": "stream",
          "name": "stdout",
          "text": [
            "[0, 1, 2, 3, 4, 5, 6, 7, 8, 9]\n"
          ]
        }
      ]
    },
    {
      "cell_type": "code",
      "source": [
        "arr = [0, 1, 2, 3, 4, 5, 6, 7, 8, 9]\n",
        "\n",
        "result = [n for n in arr]\n",
        "print(result)"
      ],
      "metadata": {
        "colab": {
          "base_uri": "https://localhost:8080/"
        },
        "id": "psFiw5LtB8De",
        "outputId": "be72935d-bb43-4a06-9d79-dacf6f2d8c45"
      },
      "execution_count": 84,
      "outputs": [
        {
          "output_type": "stream",
          "name": "stdout",
          "text": [
            "[0, 1, 2, 3, 4, 5, 6, 7, 8, 9]\n"
          ]
        }
      ]
    },
    {
      "cell_type": "code",
      "source": [
        "arr = [0, 1, 2, 3, 4, 5, 6, 7, 8, 9]\n",
        "\n",
        "result = [n*n for n in arr]\n",
        "print(result)"
      ],
      "metadata": {
        "colab": {
          "base_uri": "https://localhost:8080/"
        },
        "id": "oBxrePJVCF0k",
        "outputId": "b556da9f-64f5-40c3-88fc-1095f3349105"
      },
      "execution_count": 85,
      "outputs": [
        {
          "output_type": "stream",
          "name": "stdout",
          "text": [
            "[0, 1, 4, 9, 16, 25, 36, 49, 64, 81]\n"
          ]
        }
      ]
    },
    {
      "cell_type": "code",
      "source": [
        "arr = ['apple', 'banana', 'orange', 'melon']\n",
        "\n",
        "result = [len(string) for string in arr]\n",
        "print(result)"
      ],
      "metadata": {
        "colab": {
          "base_uri": "https://localhost:8080/"
        },
        "id": "060jRuFWCacT",
        "outputId": "c595ea99-6f32-471a-a111-cac079d4afb4"
      },
      "execution_count": 86,
      "outputs": [
        {
          "output_type": "stream",
          "name": "stdout",
          "text": [
            "[5, 6, 6, 5]\n"
          ]
        }
      ]
    },
    {
      "cell_type": "code",
      "source": [
        "result = [n for n in range(10) if n % 2 == 0]\n",
        "print(result)"
      ],
      "metadata": {
        "colab": {
          "base_uri": "https://localhost:8080/"
        },
        "id": "xA1XKGVRCorm",
        "outputId": "18d72c82-11b1-43f4-cd39-b75a3f7b071b"
      },
      "execution_count": 88,
      "outputs": [
        {
          "output_type": "stream",
          "name": "stdout",
          "text": [
            "[0, 2, 4, 6, 8]\n"
          ]
        }
      ]
    },
    {
      "cell_type": "code",
      "source": [
        "# 0 ~ 100까지의 숫자 중 3의 배수이며, 홀수인 숫자만 리스트에 저장하기\n",
        "result = [n for n in range(101) if n % 3 == 0 if n % 2 != 0]\n",
        "print(result)"
      ],
      "metadata": {
        "colab": {
          "base_uri": "https://localhost:8080/"
        },
        "id": "v5qs0JqEC9yX",
        "outputId": "91ddf112-6696-4178-df9a-6c61dd91821b"
      },
      "execution_count": 89,
      "outputs": [
        {
          "output_type": "stream",
          "name": "stdout",
          "text": [
            "[3, 9, 15, 21, 27, 33, 39, 45, 51, 57, 63, 69, 75, 81, 87, 93, 99]\n"
          ]
        }
      ]
    },
    {
      "cell_type": "code",
      "source": [
        "result = [n for n in range(101) if n % 3 == 0 and n % 2 != 0]\n",
        "print(result)"
      ],
      "metadata": {
        "colab": {
          "base_uri": "https://localhost:8080/"
        },
        "id": "v_APgWnmDpGf",
        "outputId": "f5b0d82f-cf92-4ea0-8c81-e94a3a54faab"
      },
      "execution_count": 90,
      "outputs": [
        {
          "output_type": "stream",
          "name": "stdout",
          "text": [
            "[3, 9, 15, 21, 27, 33, 39, 45, 51, 57, 63, 69, 75, 81, 87, 93, 99]\n"
          ]
        }
      ]
    },
    {
      "cell_type": "code",
      "source": [
        "arr = [-1, 0, -4, 24, 5, -10, 2]\n",
        "\n",
        "# 양수는 리스트에 그대로 저장하고, 음수는 0으로 변환해서 저장하기\n",
        "result = [n if n>0 else 0 for n in arr]\n",
        "print(result)"
      ],
      "metadata": {
        "colab": {
          "base_uri": "https://localhost:8080/"
        },
        "id": "ynbuEiupDvpk",
        "outputId": "248bfe93-da52-453b-fb24-e9f00b363527"
      },
      "execution_count": 91,
      "outputs": [
        {
          "output_type": "stream",
          "name": "stdout",
          "text": [
            "[0, 0, 0, 24, 5, 0, 2]\n"
          ]
        }
      ]
    },
    {
      "cell_type": "code",
      "source": [
        "arr = []\n",
        "for i in range(1, 4):\n",
        "  for j in range(1, 3):\n",
        "    arr.append(i * j)\n",
        "\n",
        "print(arr)"
      ],
      "metadata": {
        "colab": {
          "base_uri": "https://localhost:8080/"
        },
        "id": "MjV21Z6PFHS1",
        "outputId": "5997e66b-bb81-4087-8d8d-21af1cda65f7"
      },
      "execution_count": 93,
      "outputs": [
        {
          "output_type": "stream",
          "name": "stdout",
          "text": [
            "[1, 2, 2, 4, 3, 6]\n"
          ]
        }
      ]
    },
    {
      "cell_type": "code",
      "source": [
        "arr = [i*j for i in range(1,4) for j in range(1, 3)]\n",
        "print(arr)"
      ],
      "metadata": {
        "colab": {
          "base_uri": "https://localhost:8080/"
        },
        "id": "zALklhC7FOoy",
        "outputId": "4b1d0292-8176-4454-c273-b8860eb8efea"
      },
      "execution_count": 94,
      "outputs": [
        {
          "output_type": "stream",
          "name": "stdout",
          "text": [
            "[1, 2, 2, 4, 3, 6]\n"
          ]
        }
      ]
    },
    {
      "cell_type": "code",
      "source": [
        "result = [[0 for i in range(2)] for j in range(3)]\n",
        "print(result)"
      ],
      "metadata": {
        "id": "zS6nYE7aFsZQ"
      },
      "execution_count": null,
      "outputs": []
    }
  ]
}