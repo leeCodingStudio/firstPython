{
  "nbformat": 4,
  "nbformat_minor": 0,
  "metadata": {
    "colab": {
      "provenance": [],
      "authorship_tag": "ABX9TyP7B6DYAMfJnGtF1+qwDNND",
      "include_colab_link": true
    },
    "kernelspec": {
      "name": "python3",
      "display_name": "Python 3"
    },
    "language_info": {
      "name": "python"
    }
  },
  "cells": [
    {
      "cell_type": "markdown",
      "metadata": {
        "id": "view-in-github",
        "colab_type": "text"
      },
      "source": [
        "<a href=\"https://colab.research.google.com/github/leeCodingStudio/firstPython/blob/master/09_%EC%A0%9C%EC%96%B4%EB%AC%B8(%EB%B0%98%EB%B3%B5%EB%AC%B8).ipynb\" target=\"_parent\"><img src=\"https://colab.research.google.com/assets/colab-badge.svg\" alt=\"Open In Colab\"/></a>"
      ]
    },
    {
      "cell_type": "markdown",
      "source": [
        "# 1. 반복문"
      ],
      "metadata": {
        "id": "xGfGEF7MfFp_"
      }
    },
    {
      "cell_type": "markdown",
      "source": [
        "### 1-1. 자료형 참/거짓 판단하기\n",
        "* 파이썬에서 사용하는 모든 자료형은 참 또는 거짓으로 표현이 가능"
      ],
      "metadata": {
        "id": "XoNzA5ocfS5X"
      }
    },
    {
      "cell_type": "code",
      "source": [
        "bool1 = True\n",
        "print(bool1)\n",
        "print(type(bool1))"
      ],
      "metadata": {
        "colab": {
          "base_uri": "https://localhost:8080/"
        },
        "id": "K6sXl9agfeOK",
        "outputId": "43e33c0e-fd44-4dea-af7d-f8ec9337d3bb"
      },
      "execution_count": 1,
      "outputs": [
        {
          "output_type": "stream",
          "name": "stdout",
          "text": [
            "True\n",
            "<class 'bool'>\n"
          ]
        }
      ]
    },
    {
      "cell_type": "code",
      "source": [
        "# 0 이 아닌 숫자는 모두 True, 0은 False\n",
        "num1 = 10\n",
        "print(num1)\n",
        "print(type(num1))\n",
        "print(bool(num1))\n",
        "\n",
        "num2 = 0\n",
        "print(num2)\n",
        "print(type(num2))\n",
        "print(bool(num2))"
      ],
      "metadata": {
        "colab": {
          "base_uri": "https://localhost:8080/"
        },
        "id": "E6l5K1_Lf-qJ",
        "outputId": "c05a29b0-0803-43e3-990d-09913d890816"
      },
      "execution_count": 6,
      "outputs": [
        {
          "output_type": "stream",
          "name": "stdout",
          "text": [
            "10\n",
            "<class 'int'>\n",
            "True\n",
            "0\n",
            "<class 'int'>\n",
            "False\n"
          ]
        }
      ]
    },
    {
      "cell_type": "code",
      "source": [
        "str1 = '안녕'\n",
        "print(str1)\n",
        "print(type(str1))\n",
        "print(bool(str1))\n",
        "\n",
        "str2 = ''\n",
        "print(str2)\n",
        "print(type(str2))\n",
        "print(bool(str2))"
      ],
      "metadata": {
        "colab": {
          "base_uri": "https://localhost:8080/"
        },
        "id": "tlBn5MsghEGh",
        "outputId": "aa2acd4b-6793-47b5-c906-2530614d47a0"
      },
      "execution_count": 10,
      "outputs": [
        {
          "output_type": "stream",
          "name": "stdout",
          "text": [
            "안녕\n",
            "<class 'str'>\n",
            "True\n",
            "\n",
            "<class 'str'>\n",
            "False\n"
          ]
        }
      ]
    },
    {
      "cell_type": "code",
      "source": [
        "list1 = [1, 2, 3]\n",
        "print(list1)\n",
        "print(type(list1))\n",
        "print(bool(list1))\n",
        "\n",
        "list2 = []\n",
        "print(list2)\n",
        "print(type(list2))\n",
        "print(bool(list2))"
      ],
      "metadata": {
        "colab": {
          "base_uri": "https://localhost:8080/"
        },
        "id": "iYwZSEmrgcac",
        "outputId": "7ec53778-357f-45bf-9946-2fedc5a6de2d"
      },
      "execution_count": 9,
      "outputs": [
        {
          "output_type": "stream",
          "name": "stdout",
          "text": [
            "[1, 2, 3]\n",
            "<class 'list'>\n",
            "True\n",
            "[]\n",
            "<class 'list'>\n",
            "False\n"
          ]
        }
      ]
    },
    {
      "cell_type": "code",
      "source": [
        "list1 = [1, 3, 5]\n",
        "\n",
        "if list1:\n",
        "  print('요소가 있습니다')\n",
        "else:\n",
        "  print('요소가 없습니다')"
      ],
      "metadata": {
        "colab": {
          "base_uri": "https://localhost:8080/"
        },
        "id": "6OYrYayZg8pF",
        "outputId": "9fdde2be-fea5-4a8d-d845-31a2a37e892a"
      },
      "execution_count": 11,
      "outputs": [
        {
          "output_type": "stream",
          "name": "stdout",
          "text": [
            "요소가 있습니다\n"
          ]
        }
      ]
    },
    {
      "cell_type": "markdown",
      "source": [
        "### 1-2. 대입 연산자\n",
        "* =, +=, -=, *=, /=, %=\n",
        "* 왼쪽에 저장된 값과 오른쪽 값을 연산한 뒤 다시 왼쪽에 대입(inplace 연산)"
      ],
      "metadata": {
        "id": "aH-4l93ThiBx"
      }
    },
    {
      "cell_type": "code",
      "source": [
        "num = 10"
      ],
      "metadata": {
        "id": "_VMjZI-miF31"
      },
      "execution_count": 12,
      "outputs": []
    },
    {
      "cell_type": "code",
      "source": [
        "num += 1 # num = num + 1\n",
        "print(num)"
      ],
      "metadata": {
        "colab": {
          "base_uri": "https://localhost:8080/"
        },
        "id": "WmOF57YxiH7O",
        "outputId": "0478e0f0-9d1a-4cba-a8b9-a72affb7e018"
      },
      "execution_count": 17,
      "outputs": [
        {
          "output_type": "stream",
          "name": "stdout",
          "text": [
            "11\n"
          ]
        }
      ]
    },
    {
      "cell_type": "code",
      "source": [
        "num -= 1\n",
        "print(num)"
      ],
      "metadata": {
        "colab": {
          "base_uri": "https://localhost:8080/"
        },
        "id": "6X4GQDiUiR0I",
        "outputId": "adfba326-100f-4bde-8e2f-a88450c94562"
      },
      "execution_count": 18,
      "outputs": [
        {
          "output_type": "stream",
          "name": "stdout",
          "text": [
            "10\n"
          ]
        }
      ]
    },
    {
      "cell_type": "code",
      "source": [
        "num *= 10\n",
        "print(num)"
      ],
      "metadata": {
        "colab": {
          "base_uri": "https://localhost:8080/"
        },
        "id": "_4I2OK0Fiq7b",
        "outputId": "d4168981-4c0c-44cb-acbb-4b2a9052081f"
      },
      "execution_count": 19,
      "outputs": [
        {
          "output_type": "stream",
          "name": "stdout",
          "text": [
            "100\n"
          ]
        }
      ]
    },
    {
      "cell_type": "code",
      "source": [
        "num /= 10\n",
        "print(num)"
      ],
      "metadata": {
        "colab": {
          "base_uri": "https://localhost:8080/"
        },
        "id": "4WzSK13Wi0B8",
        "outputId": "bc317c70-70c9-4fa2-bd5d-714ca7ea9971"
      },
      "execution_count": 20,
      "outputs": [
        {
          "output_type": "stream",
          "name": "stdout",
          "text": [
            "10.0\n"
          ]
        }
      ]
    },
    {
      "cell_type": "code",
      "source": [
        "num %= 2\n",
        "print(num)"
      ],
      "metadata": {
        "colab": {
          "base_uri": "https://localhost:8080/"
        },
        "id": "r6iXq1Qyi2Kr",
        "outputId": "f186f4dc-cc51-40e8-f06e-af1d870ae579"
      },
      "execution_count": 21,
      "outputs": [
        {
          "output_type": "stream",
          "name": "stdout",
          "text": [
            "0.0\n"
          ]
        }
      ]
    },
    {
      "cell_type": "markdown",
      "source": [
        "### 1-3. while 문\n",
        "\n",
        "```\n",
        "while 조건식:\n",
        "  조건식의 겨로가가 True인 동안 반복할 문장\n",
        "  ...\n",
        "```"
      ],
      "metadata": {
        "id": "7lZ_wX32i6zB"
      }
    },
    {
      "cell_type": "code",
      "source": [
        "# 무한 루프\n",
        "while True:\n",
        "  print('끝나지 않는 반복')"
      ],
      "metadata": {
        "id": "qsZRbCxWjgSW"
      },
      "execution_count": 24,
      "outputs": []
    },
    {
      "cell_type": "code",
      "source": [
        "i = 1\n",
        "\n",
        "while i <= 5:\n",
        "  print('Hello Python')\n",
        "  i += 1\n",
        "\n",
        "print(f'현재 i의 값은: {i}')"
      ],
      "metadata": {
        "colab": {
          "base_uri": "https://localhost:8080/"
        },
        "id": "5W62M1vBj_kq",
        "outputId": "9e427e6f-1e79-4053-83ca-fe79bc4c600a"
      },
      "execution_count": 28,
      "outputs": [
        {
          "output_type": "stream",
          "name": "stdout",
          "text": [
            "Hello Python\n",
            "Hello Python\n",
            "Hello Python\n",
            "Hello Python\n",
            "Hello Python\n",
            "현재 i의 값은: 6\n"
          ]
        }
      ]
    },
    {
      "cell_type": "code",
      "source": [
        "# 1 ~ 10까지의 총합\n",
        "# 1 + 2 + 3 + 4 + 5 + 6 + 7 + 8 + 9 + 10\n",
        "\n",
        "i = 1\n",
        "sum = 0\n",
        "\n",
        "while i <= 10:\n",
        "  sum += i\n",
        "  i += 1\n",
        "\n",
        "print(f'1부터 10까지의 합: {sum}')"
      ],
      "metadata": {
        "colab": {
          "base_uri": "https://localhost:8080/"
        },
        "id": "VI5ifPEPlFSZ",
        "outputId": "7ddcf42f-ecf1-40aa-8c76-b8c08790201b"
      },
      "execution_count": 33,
      "outputs": [
        {
          "output_type": "stream",
          "name": "stdout",
          "text": [
            "1부터 10까지의 합: 55\n"
          ]
        }
      ]
    },
    {
      "cell_type": "markdown",
      "source": [
        "### 문제\n",
        "* 1 ~ 100까지 짝수의 총합을 구하는 프로그램을 작성해보자"
      ],
      "metadata": {
        "id": "_gQ0-mEynPPQ"
      }
    },
    {
      "cell_type": "code",
      "source": [
        "i = 1\n",
        "sum = 0\n",
        "\n",
        "while i <= 100:\n",
        "  if i % 2 == 0:\n",
        "    sum += i\n",
        "  i += 1\n",
        "\n",
        "print(f'1부터 100까지 짝수의 합: {sum}')"
      ],
      "metadata": {
        "colab": {
          "base_uri": "https://localhost:8080/"
        },
        "id": "VovXrIpQnWA6",
        "outputId": "5b0a5d7a-12a2-41e7-ea0e-803ea4d38ce4"
      },
      "execution_count": 36,
      "outputs": [
        {
          "output_type": "stream",
          "name": "stdout",
          "text": [
            "1부터 100까지 짝수의 합: 2550\n"
          ]
        }
      ]
    },
    {
      "cell_type": "markdown",
      "source": [
        "### 문제\n",
        "* 원하는 단을 입력받아 해당 단의 구구단을 출력하는 프로그램을 작성해보자"
      ],
      "metadata": {
        "id": "uvq6MH_xnowJ"
      }
    },
    {
      "cell_type": "code",
      "source": [
        "i = int(input('원하는 단을 입력하세요: '))\n",
        "j = 1\n",
        "\n",
        "print(f'{i}단')\n",
        "while j <= 9:\n",
        "  print(f'{i} * {j} = {i * j}')\n",
        "  j += 1"
      ],
      "metadata": {
        "colab": {
          "base_uri": "https://localhost:8080/"
        },
        "id": "kiszYFCJpoof",
        "outputId": "5c5010d4-e0d8-43db-84d3-b5092a76c3a1"
      },
      "execution_count": 39,
      "outputs": [
        {
          "output_type": "stream",
          "name": "stdout",
          "text": [
            "원하는 단을 입력하세요: 7\n",
            "7단\n",
            "7 * 1 = 7\n",
            "7 * 2 = 14\n",
            "7 * 3 = 21\n",
            "7 * 4 = 28\n",
            "7 * 5 = 35\n",
            "7 * 6 = 42\n",
            "7 * 7 = 49\n",
            "7 * 8 = 56\n",
            "7 * 9 = 63\n"
          ]
        }
      ]
    },
    {
      "cell_type": "code",
      "source": [
        "dan = int(input('원하는 단을 입력하세요: '))\n",
        "print(f'{dan} 단')\n",
        "\n",
        "i=1\n",
        "while i <= 9:\n",
        "  print(f'{dan} * {i} = {dan * i}')\n",
        "  i += 1\n"
      ],
      "metadata": {
        "colab": {
          "base_uri": "https://localhost:8080/"
        },
        "id": "J2At_OqevKde",
        "outputId": "a762bfc8-b3ff-4966-a643-cf6c06c049b3"
      },
      "execution_count": 40,
      "outputs": [
        {
          "output_type": "stream",
          "name": "stdout",
          "text": [
            "원하는 단을 입력하세요: 7\n",
            "7 단\n",
            "7 * 1 = 7\n",
            "7 * 2 = 14\n",
            "7 * 3 = 21\n",
            "7 * 4 = 28\n",
            "7 * 5 = 35\n",
            "7 * 6 = 42\n",
            "7 * 7 = 49\n",
            "7 * 8 = 56\n",
            "7 * 9 = 63\n"
          ]
        }
      ]
    },
    {
      "cell_type": "markdown",
      "source": [
        "### 1-4. for in 문\n",
        "\n",
        "```\n",
        "for 변수 in iterable 객체:\n",
        "  이터러블 객체의 요소 갯수만큼 반복할 문장\n",
        "  ...\n",
        "```"
      ],
      "metadata": {
        "id": "hdmYDwo4vhT8"
      }
    },
    {
      "cell_type": "code",
      "source": [
        "list1 = [10, 20, 30, 40]\n",
        "\n",
        "for li in list1:\n",
        "  print(li)"
      ],
      "metadata": {
        "colab": {
          "base_uri": "https://localhost:8080/"
        },
        "id": "GI04l2d-wZNe",
        "outputId": "5616ce51-3ef4-48af-e820-89d73d2dd183"
      },
      "execution_count": 41,
      "outputs": [
        {
          "output_type": "stream",
          "name": "stdout",
          "text": [
            "10\n",
            "20\n",
            "30\n",
            "40\n"
          ]
        }
      ]
    },
    {
      "cell_type": "code",
      "source": [
        "import collections\n",
        "# instance(이터러블한 객체인지 확인하고자 하는 객체, collections.Iterable)\n",
        "isinstance(list1, collections.Iterable)"
      ],
      "metadata": {
        "colab": {
          "base_uri": "https://localhost:8080/"
        },
        "id": "pdnZbB57wks1",
        "outputId": "e55a90fe-6b76-41aa-d3eb-cbe344c824e1"
      },
      "execution_count": 44,
      "outputs": [
        {
          "output_type": "stream",
          "name": "stderr",
          "text": [
            "<ipython-input-44-743b06db6890>:3: DeprecationWarning: Using or importing the ABCs from 'collections' instead of from 'collections.abc' is deprecated since Python 3.3, and in 3.10 it will stop working\n",
            "  isinstance(list1, collections.Iterable)\n"
          ]
        },
        {
          "output_type": "execute_result",
          "data": {
            "text/plain": [
              "True"
            ]
          },
          "metadata": {},
          "execution_count": 44
        }
      ]
    },
    {
      "cell_type": "code",
      "source": [
        "# range(): 범위를 생성해주는 함수\n",
        "# range(시작인덱스, 종료인덱스, 증가값)\n",
        "num = range(0, 10, 1)\n",
        "print(num)"
      ],
      "metadata": {
        "colab": {
          "base_uri": "https://localhost:8080/"
        },
        "id": "1NQUThr1xo62",
        "outputId": "e7934602-7be8-4f9c-a82a-292a3cb86576"
      },
      "execution_count": 45,
      "outputs": [
        {
          "output_type": "stream",
          "name": "stdout",
          "text": [
            "range(0, 10)\n"
          ]
        }
      ]
    },
    {
      "cell_type": "code",
      "source": [
        "for i in num:\n",
        "  print(i, end = ' ')"
      ],
      "metadata": {
        "colab": {
          "base_uri": "https://localhost:8080/"
        },
        "id": "m89hxMW3yC4c",
        "outputId": "025f2d15-3daf-4f8b-dc63-e170afaea776"
      },
      "execution_count": 47,
      "outputs": [
        {
          "output_type": "stream",
          "name": "stdout",
          "text": [
            "0 1 2 3 4 5 6 7 8 9 "
          ]
        }
      ]
    },
    {
      "cell_type": "code",
      "source": [
        "isinstance(num, collections.Iterable)"
      ],
      "metadata": {
        "colab": {
          "base_uri": "https://localhost:8080/"
        },
        "id": "B7byRs2MyUZJ",
        "outputId": "b1925cd5-9690-4089-dcf3-233917b4b7ac"
      },
      "execution_count": 48,
      "outputs": [
        {
          "output_type": "execute_result",
          "data": {
            "text/plain": [
              "True"
            ]
          },
          "metadata": {},
          "execution_count": 48
        }
      ]
    },
    {
      "cell_type": "code",
      "source": [
        "num = 10\n",
        "# print(num)\n",
        "\n",
        "for i in num:\n",
        "  print(i, end = ' ')"
      ],
      "metadata": {
        "colab": {
          "base_uri": "https://localhost:8080/",
          "height": 229
        },
        "id": "oq22O7wsybZ8",
        "outputId": "7d93149d-b237-40ab-c5fa-2e43ad624285"
      },
      "execution_count": 49,
      "outputs": [
        {
          "output_type": "error",
          "ename": "TypeError",
          "evalue": "ignored",
          "traceback": [
            "\u001b[0;31m---------------------------------------------------------------------------\u001b[0m",
            "\u001b[0;31mTypeError\u001b[0m                                 Traceback (most recent call last)",
            "\u001b[0;32m<ipython-input-49-35697e8a110d>\u001b[0m in \u001b[0;36m<module>\u001b[0;34m\u001b[0m\n\u001b[1;32m      2\u001b[0m \u001b[0;31m# print(num)\u001b[0m\u001b[0;34m\u001b[0m\u001b[0;34m\u001b[0m\u001b[0;34m\u001b[0m\u001b[0m\n\u001b[1;32m      3\u001b[0m \u001b[0;34m\u001b[0m\u001b[0m\n\u001b[0;32m----> 4\u001b[0;31m \u001b[0;32mfor\u001b[0m \u001b[0mi\u001b[0m \u001b[0;32min\u001b[0m \u001b[0mnum\u001b[0m\u001b[0;34m:\u001b[0m\u001b[0;34m\u001b[0m\u001b[0;34m\u001b[0m\u001b[0m\n\u001b[0m\u001b[1;32m      5\u001b[0m   \u001b[0mprint\u001b[0m\u001b[0;34m(\u001b[0m\u001b[0mi\u001b[0m\u001b[0;34m,\u001b[0m \u001b[0mend\u001b[0m \u001b[0;34m=\u001b[0m \u001b[0;34m' '\u001b[0m\u001b[0;34m)\u001b[0m\u001b[0;34m\u001b[0m\u001b[0;34m\u001b[0m\u001b[0m\n",
            "\u001b[0;31mTypeError\u001b[0m: 'int' object is not iterable"
          ]
        }
      ]
    },
    {
      "cell_type": "code",
      "source": [
        "isinstance(num, collections.Iterable)"
      ],
      "metadata": {
        "colab": {
          "base_uri": "https://localhost:8080/"
        },
        "id": "VCoIyZakyn4-",
        "outputId": "76816651-2722-4a5d-cd2b-36a64e21bfc7"
      },
      "execution_count": 50,
      "outputs": [
        {
          "output_type": "execute_result",
          "data": {
            "text/plain": [
              "False"
            ]
          },
          "metadata": {},
          "execution_count": 50
        }
      ]
    },
    {
      "cell_type": "code",
      "source": [
        "for i in range(0, 10, 1):\n",
        "  print(i, end=' ')"
      ],
      "metadata": {
        "colab": {
          "base_uri": "https://localhost:8080/"
        },
        "id": "T7zHwoaeyqHn",
        "outputId": "fa1e1a23-41a8-4ac4-f608-31545bc1c1b4"
      },
      "execution_count": 51,
      "outputs": [
        {
          "output_type": "stream",
          "name": "stdout",
          "text": [
            "0 1 2 3 4 5 6 7 8 9 "
          ]
        }
      ]
    },
    {
      "cell_type": "code",
      "source": [
        "# 증가값을 생략하면 기본값은 1\n",
        "for i in range(0, 10):\n",
        "  print(i, end=' ')"
      ],
      "metadata": {
        "colab": {
          "base_uri": "https://localhost:8080/"
        },
        "id": "L4w0YdVLy2aX",
        "outputId": "e5402be1-5991-4d9f-b071-3db2c47bda3e"
      },
      "execution_count": 52,
      "outputs": [
        {
          "output_type": "stream",
          "name": "stdout",
          "text": [
            "0 1 2 3 4 5 6 7 8 9 "
          ]
        }
      ]
    },
    {
      "cell_type": "code",
      "source": [
        "# 시작값을 생략하면 기본값은 0\n",
        "for i in range(10):\n",
        "  print(i, end=' ')"
      ],
      "metadata": {
        "colab": {
          "base_uri": "https://localhost:8080/"
        },
        "id": "b6hShJ_hzJh0",
        "outputId": "4bebb8b5-163c-436c-c490-29f6e2cd2ef1"
      },
      "execution_count": 53,
      "outputs": [
        {
          "output_type": "stream",
          "name": "stdout",
          "text": [
            "0 1 2 3 4 5 6 7 8 9 "
          ]
        }
      ]
    },
    {
      "cell_type": "code",
      "source": [
        "# 시작값은 1, 종료값으 10, 증가값은 2\n",
        "for i in range(1, 10, 2):\n",
        "  print(i, end=' ')"
      ],
      "metadata": {
        "colab": {
          "base_uri": "https://localhost:8080/"
        },
        "id": "HXldYjYZzPQM",
        "outputId": "356777d9-3d83-460d-9cc3-b042bca7207e"
      },
      "execution_count": 55,
      "outputs": [
        {
          "output_type": "stream",
          "name": "stdout",
          "text": [
            "1 3 5 7 9 "
          ]
        }
      ]
    },
    {
      "cell_type": "markdown",
      "source": [
        "### 문제\n",
        "for in 문을 이용하여 1 ~ 100까지 짝수의 총합을 구하는 프로그램을 작성해보자"
      ],
      "metadata": {
        "id": "1aQ_ceGjzbee"
      }
    },
    {
      "cell_type": "code",
      "source": [
        "sum = 0\n",
        "\n",
        "for i in range(1, 101, 1):\n",
        "  if i % 2 == 0:\n",
        "    sum += i\n",
        "print(f'1 부터 100까지의 짝수 총합: {sum}')"
      ],
      "metadata": {
        "colab": {
          "base_uri": "https://localhost:8080/"
        },
        "id": "Bz-f7fsJzoML",
        "outputId": "21753ca1-fc5a-472f-a565-11f6933b3f53"
      },
      "execution_count": 57,
      "outputs": [
        {
          "output_type": "stream",
          "name": "stdout",
          "text": [
            "1 부터 100까지의 짝수 총합: 2550\n"
          ]
        }
      ]
    },
    {
      "cell_type": "code",
      "source": [
        "sum = 0\n",
        "for i in range(0, 101, 2):\n",
        "  sum += i\n",
        "\n",
        "print(f'1부터 100까지 짝수의 총합: {sum}')"
      ],
      "metadata": {
        "colab": {
          "base_uri": "https://localhost:8080/"
        },
        "id": "ycx0cYjp0C8S",
        "outputId": "77af1466-689a-49b8-9e5a-14cacda35aef"
      },
      "execution_count": 59,
      "outputs": [
        {
          "output_type": "stream",
          "name": "stdout",
          "text": [
            "1부터 100까지 짝수의 총합: 2550\n"
          ]
        }
      ]
    },
    {
      "cell_type": "markdown",
      "source": [
        "### 1-5. enumerate\n",
        "* 반복문 사용 시 몇번째 반복인지 인덱스 번호로 확인\n",
        "* 인덱스 번호와 요소를 튜플 형태로 반환"
      ],
      "metadata": {
        "id": "U8JL5xpO0sdM"
      }
    },
    {
      "cell_type": "code",
      "source": [
        "li1 = [10, 20, 30, 40, 50]\n",
        "\n",
        "for e in enumerate(li1):\n",
        "  print(e)"
      ],
      "metadata": {
        "colab": {
          "base_uri": "https://localhost:8080/"
        },
        "id": "Qt-fD0sU0_zx",
        "outputId": "089d2e8f-9a3f-410b-a6a3-cec75da6dc9e"
      },
      "execution_count": 60,
      "outputs": [
        {
          "output_type": "stream",
          "name": "stdout",
          "text": [
            "(0, 10)\n",
            "(1, 20)\n",
            "(2, 30)\n",
            "(3, 40)\n",
            "(4, 50)\n"
          ]
        }
      ]
    },
    {
      "cell_type": "code",
      "source": [
        "for i, v in enumerate(li1):\n",
        "  print(f'index:{i}, value:{v}')"
      ],
      "metadata": {
        "colab": {
          "base_uri": "https://localhost:8080/"
        },
        "id": "p06j547U1N9j",
        "outputId": "654599ef-9da3-46cb-a01a-acab69d902a4"
      },
      "execution_count": 61,
      "outputs": [
        {
          "output_type": "stream",
          "name": "stdout",
          "text": [
            "index:0, value:10\n",
            "index:1, value:20\n",
            "index:2, value:30\n",
            "index:3, value:40\n",
            "index:4, value:50\n"
          ]
        }
      ]
    },
    {
      "cell_type": "code",
      "source": [
        "%%shell\n",
        "jupyter nbconvert --to html /content/09_제어문\\(반복문\\).ipynb"
      ],
      "metadata": {
        "colab": {
          "base_uri": "https://localhost:8080/"
        },
        "id": "d8oYFhf51u4F",
        "outputId": "72b1333a-1a8a-47fd-8e25-c200154fbd00"
      },
      "execution_count": 62,
      "outputs": [
        {
          "output_type": "stream",
          "name": "stdout",
          "text": [
            "[NbConvertApp] Converting notebook /content/09_제어문(반복문).ipynb to html\n",
            "[NbConvertApp] Writing 627152 bytes to /content/09_제어문(반복문).html\n"
          ]
        },
        {
          "output_type": "execute_result",
          "data": {
            "text/plain": []
          },
          "metadata": {},
          "execution_count": 62
        }
      ]
    }
  ]
}