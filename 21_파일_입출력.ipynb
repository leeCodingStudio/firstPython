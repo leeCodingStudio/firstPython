{
  "nbformat": 4,
  "nbformat_minor": 0,
  "metadata": {
    "colab": {
      "provenance": [],
      "authorship_tag": "ABX9TyMaZIaiQmFwzRPFJNDcm7rL",
      "include_colab_link": true
    },
    "kernelspec": {
      "name": "python3",
      "display_name": "Python 3"
    },
    "language_info": {
      "name": "python"
    }
  },
  "cells": [
    {
      "cell_type": "markdown",
      "metadata": {
        "id": "view-in-github",
        "colab_type": "text"
      },
      "source": [
        "<a href=\"https://colab.research.google.com/github/leeCodingStudio/firstPython/blob/master/21_%ED%8C%8C%EC%9D%BC_%EC%9E%85%EC%B6%9C%EB%A0%A5.ipynb\" target=\"_parent\"><img src=\"https://colab.research.google.com/assets/colab-badge.svg\" alt=\"Open In Colab\"/></a>"
      ]
    },
    {
      "cell_type": "markdown",
      "source": [
        "# 1. 파일 열기\n",
        "\n",
        "```\n",
        "파일변수 = open('파일이름', '파일 열기 모드')\n",
        "```\n",
        "\n",
        "* 파일 열기 모드: w(출력), r(입력), a(추가출력)\n",
        "* w는 지정된 경로에 파일이 없으면 파일을 만든 후 저장하고, 파일이 있으면 기존의 모든 데이터를 지우고 다시 저장\n",
        "* r은 지정된 경로에 파일이 없으면 에러, 있으면 해당 파일의 데이터를 읽어옴\n",
        "* a는 지정된 경로에 파일이 없으면 파일을 만든 후 저장하고, 파일이 있으면 기존의 데이터 뒤에 이어서 저장\n",
        "* 파일 종류 모드: t(텍스트 파일, 생략가능), b(바이너리 파일)\n",
        "\n",
        "```\n",
        "input = open('text.txt', 'r') # 텍스트 파일 열기 모드\n",
        "input = open('text.txt', 'rt') # 텍스트 파일 열기 모드\n",
        "input = open('text.txt', 'rb') # 바이너리 파일 열기 모드\n",
        "```\n",
        "\n",
        "✅ 파일을 출력할 때 작업이 모두 완료되면 반드시 close() 메소드를 사용해서 파일을 닫아야 정상적으로 데이터가 저장됨"
      ],
      "metadata": {
        "id": "PR4zYY410NAe"
      }
    },
    {
      "cell_type": "markdown",
      "source": [
        "### 1-1. 파일 저장하기"
      ],
      "metadata": {
        "id": "EDlLhwcROGXj"
      }
    },
    {
      "cell_type": "code",
      "source": [
        "file = open('data.txt', 'wt')\n",
        "for i in range(10):\n",
        "  file.write('파일 열기 테스트: ' + str(i) + '\\n') # \\n: 파일 내에서 개행\n",
        "file.close()\n",
        "print('data.txt 파일에 쓰기 완료!')"
      ],
      "metadata": {
        "colab": {
          "base_uri": "https://localhost:8080/"
        },
        "id": "xJOZS6vI14cE",
        "outputId": "98bae08b-0021-491b-833f-614b0d2e8348"
      },
      "execution_count": 2,
      "outputs": [
        {
          "output_type": "stream",
          "name": "stdout",
          "text": [
            "data.txt 파일에 쓰기 완료!\n"
          ]
        }
      ]
    },
    {
      "cell_type": "markdown",
      "source": [
        "### 1-2. 파일 경로\n",
        "* 절대 경로: 디스크 드라이브의 최상위(root) 디렉토리부터 파일이 저장 또는 읽어올 디렉토리까지의 경로\n",
        "  예) C:/LeeCoding/Python/Day2/data.txt\n",
        "* 상대 경로: 현재 화면에 표시되는 소스파일이 위치한 디렉토리부터 파일이 저장 또는 읽어올 디렉토리까지의 경로\n",
        "  * 같은 디렉토리: 파일명 또는 ./파일명\n",
        "  * 상위 디렉토리: ../파일명 또는 ./../파일명\n",
        "  * 하위 디렉토리: 디렉토리명/파일명 또는 ./디렉토리명/파일명"
      ],
      "metadata": {
        "id": "e7MonsSGL60H"
      }
    },
    {
      "cell_type": "code",
      "source": [
        "file = open('./data/data.txt', 'wt')\n",
        "for i in range(10):\n",
        "  file.write('파일 열기 테스트: ' + str(i) + '\\n') # \\n: 파일 내에서 개행\n",
        "file.close()\n",
        "print('data.txt 파일에 쓰기 완료!')"
      ],
      "metadata": {
        "colab": {
          "base_uri": "https://localhost:8080/"
        },
        "id": "4G0CHX-iNLwR",
        "outputId": "93f88d4f-230a-4412-de74-01397d936576"
      },
      "execution_count": 5,
      "outputs": [
        {
          "output_type": "stream",
          "name": "stdout",
          "text": [
            "data.txt 파일에 쓰기 완료!\n"
          ]
        }
      ]
    },
    {
      "cell_type": "markdown",
      "source": [
        "### 1-3. 파일 읽어오기\n",
        "* read(): 파일로부터 전체 데이터를 읽어옴\n",
        "* read(size): 파일로부터 사이즈 만큼 데이터를 읽어옴"
      ],
      "metadata": {
        "id": "82sgdSvaNSrT"
      }
    },
    {
      "cell_type": "code",
      "source": [
        "file = open('./data/data.txt', 'rt')\n",
        "data = file.read()\n",
        "print('data.txt 파일 전체 데이터 읽기 완료')\n",
        "print(data)\n",
        "file.close()"
      ],
      "metadata": {
        "colab": {
          "base_uri": "https://localhost:8080/"
        },
        "id": "bbkKnY5YONtq",
        "outputId": "9b258d55-e6f1-44d2-f806-6c14d64cf68f"
      },
      "execution_count": 8,
      "outputs": [
        {
          "output_type": "stream",
          "name": "stdout",
          "text": [
            "data.txt 파일 전체 데이터 읽기 완료\n",
            "파일 열기 테스트: 0\n",
            "파일 열기 테스트: 1\n",
            "파일 열기 테스트: 2\n",
            "파일 열기 테스트: 3\n",
            "파일 열기 테스트: 4\n",
            "파일 열기 테스트: 5\n",
            "파일 열기 테스트: 6\n",
            "파일 열기 테스트: 7\n",
            "파일 열기 테스트: 8\n",
            "파일 열기 테스트: 9\n",
            "\n"
          ]
        }
      ]
    },
    {
      "cell_type": "code",
      "source": [
        "file = open('./data/data.txt', 'rt')\n",
        "data = file.read(10)\n",
        "print('data.txt 파일 일부 데이터 읽기 완료')\n",
        "print(data)\n",
        "file.close()"
      ],
      "metadata": {
        "colab": {
          "base_uri": "https://localhost:8080/"
        },
        "id": "z6vVJu5MOxCg",
        "outputId": "e7dfedae-38e7-494d-94bb-8594c406659d"
      },
      "execution_count": 9,
      "outputs": [
        {
          "output_type": "stream",
          "name": "stdout",
          "text": [
            "data.txt 파일 일부 데이터 읽기 완료\n",
            "파일 열기 테스트:\n"
          ]
        }
      ]
    },
    {
      "cell_type": "code",
      "source": [
        "# read(10)을 이용항 data.txt에 있는 모든 데이터를 출력하기\n",
        "file = open('./data/data.txt', 'rt')\n",
        "while True:\n",
        "  data = file.read(10)\n",
        "  if not data:\n",
        "    break\n",
        "  print(data, end='')"
      ],
      "metadata": {
        "colab": {
          "base_uri": "https://localhost:8080/"
        },
        "id": "B8yxDL5vPBhj",
        "outputId": "815a44dd-3f87-4014-f58a-5d25ce6be36b"
      },
      "execution_count": 10,
      "outputs": [
        {
          "output_type": "stream",
          "name": "stdout",
          "text": [
            "파일 열기 테스트: 0\n",
            "파일 열기 테스트: 1\n",
            "파일 열기 테스트: 2\n",
            "파일 열기 테스트: 3\n",
            "파일 열기 테스트: 4\n",
            "파일 열기 테스트: 5\n",
            "파일 열기 테스트: 6\n",
            "파일 열기 테스트: 7\n",
            "파일 열기 테스트: 8\n",
            "파일 열기 테스트: 9\n"
          ]
        }
      ]
    },
    {
      "cell_type": "markdown",
      "source": [
        "### 문제\n",
        "키보드로 데이터를 입력하고 텍스트 파일에 저장하는 프로그램을 작성해보자. (단. 'quit'가 입력되면 저장을 끝나고 프로그램을 종료)\n",
        "\n",
        "* 단어를 입력하세요: apple\n",
        "* 단어를 입력하세요: banana\n",
        "* 단어를 입력하세요: orange\n",
        "* 단어를 입력하세요: quit 저장되었습니다."
      ],
      "metadata": {
        "id": "2R3ppdluPwTE"
      }
    },
    {
      "cell_type": "code",
      "source": [
        "file = open('./data/test.txt', 'wt')\n",
        "\n",
        "while True:\n",
        "  data = input('단어를 입력하세요: ')\n",
        "  if data == 'quit':\n",
        "    break\n",
        "  file.write('입력한 단어: ' + data + '\\n')\n",
        "  \n",
        "file.close()\n",
        "print('저장되었습니다.')"
      ],
      "metadata": {
        "colab": {
          "base_uri": "https://localhost:8080/"
        },
        "id": "vMHDzfyeQNB1",
        "outputId": "a4a90d69-4d21-4249-960e-387af2e60f7d"
      },
      "execution_count": 12,
      "outputs": [
        {
          "output_type": "stream",
          "name": "stdout",
          "text": [
            "단어를 입력하세요: apple\n",
            "단어를 입력하세요: banana\n",
            "단어를 입력하세요: orange\n",
            "단어를 입력하세요: quit\n",
            "저장되었습니다.\n"
          ]
        }
      ]
    },
    {
      "cell_type": "code",
      "source": [
        "file = open('./data/word.txt', 'w')\n",
        "while True:\n",
        "  data = input('단어를 입력하세요: ')\n",
        "  if data.lower() == 'quit':\n",
        "    break\n",
        "  file.write(data + '\\n')\n",
        "file.close()"
      ],
      "metadata": {
        "colab": {
          "base_uri": "https://localhost:8080/"
        },
        "id": "XIywbo3dRRGU",
        "outputId": "29267133-cbfc-4f77-b23b-3405762e9d0b"
      },
      "execution_count": 13,
      "outputs": [
        {
          "name": "stdout",
          "output_type": "stream",
          "text": [
            "단어를 입력하세요: apple\n",
            "단어를 입력하세요: banana\n",
            "단어를 입력하세요: orange\n",
            "단어를 입력하세요: melon\n",
            "단어를 입력하세요: quit\n"
          ]
        }
      ]
    },
    {
      "cell_type": "markdown",
      "source": [
        "### 1-4. with 문\n",
        "* 자원을 획득하고 사용 후 반납해야 하는 경우 블록으로 사용하는 문장"
      ],
      "metadata": {
        "id": "vd3JOtz1TbB6"
      }
    },
    {
      "cell_type": "code",
      "source": [
        "with open('./data/word.txt', 'w') as f:\n",
        "  while True:\n",
        "    data = input('단어를 입력하세요: ')\n",
        "    if data.lower() == 'quit':\n",
        "      break\n",
        "    f.write(data + '\\n')"
      ],
      "metadata": {
        "colab": {
          "base_uri": "https://localhost:8080/"
        },
        "id": "sXYzxMtTTu6z",
        "outputId": "0b45a85b-3f3a-405e-f75e-e9d5c92455ab"
      },
      "execution_count": 14,
      "outputs": [
        {
          "name": "stdout",
          "output_type": "stream",
          "text": [
            "단어를 입력하세요: apple\n",
            "단어를 입력하세요: banana\n",
            "단어를 입력하세요: orange\n",
            "단어를 입력하세요: avocado\n",
            "단어를 입력하세요: quit\n"
          ]
        }
      ]
    },
    {
      "cell_type": "markdown",
      "source": [
        "### 1-5. readline()\n",
        "* 텍스트 파일을 한 줄씩 읽어서 퍼리\n",
        "* 파일이 종료되어 더이상 읽을 수 없으면 빈 문자열 ''을 읽어옴"
      ],
      "metadata": {
        "id": "W3pmofJTUAFt"
      }
    },
    {
      "cell_type": "code",
      "source": [
        "with open('./data/word.txt', 'r') as f:\n",
        "  lines = []\n",
        "  while True:\n",
        "    line = f.readline()\n",
        "    if not line:\n",
        "      break\n",
        "    if len(line.strip()) != 0:\n",
        "      print(line, end='')\n",
        "      lines.append(line.strip())\n",
        "print(lines)"
      ],
      "metadata": {
        "colab": {
          "base_uri": "https://localhost:8080/"
        },
        "id": "L507o4nbYNo3",
        "outputId": "8136c3bb-2d2b-47bc-b33f-842e2e955d64"
      },
      "execution_count": 15,
      "outputs": [
        {
          "output_type": "stream",
          "name": "stdout",
          "text": [
            "apple\n",
            "banana\n",
            "orange\n",
            "avocado\n",
            "['apple', 'banana', 'orange', 'avocado']\n"
          ]
        }
      ]
    },
    {
      "cell_type": "markdown",
      "source": [
        "### 1-6. readlines()\n",
        "* 전체라인을 모두 읽어서 각 라인단위로 리스트에 raw string으로 저장"
      ],
      "metadata": {
        "id": "2bWeNFa7ZU5o"
      }
    },
    {
      "cell_type": "code",
      "source": [
        "with open('./data/word.txt', 'r') as f:\n",
        "  lines = f.readlines()\n",
        "  print(lines)"
      ],
      "metadata": {
        "colab": {
          "base_uri": "https://localhost:8080/"
        },
        "id": "BPuFqNUYZd5u",
        "outputId": "08955bca-ce56-4601-d88a-ceb84f057a17"
      },
      "execution_count": 16,
      "outputs": [
        {
          "output_type": "stream",
          "name": "stdout",
          "text": [
            "['apple\\n', 'banana\\n', 'orange\\n', 'avocado\\n']\n"
          ]
        }
      ]
    },
    {
      "cell_type": "code",
      "source": [
        "for i in lines:\n",
        "  print(i, end='')"
      ],
      "metadata": {
        "colab": {
          "base_uri": "https://localhost:8080/"
        },
        "id": "LLHRunZVZo4_",
        "outputId": "3ff3d278-526b-40e9-b68e-412515d4cc74"
      },
      "execution_count": 17,
      "outputs": [
        {
          "output_type": "stream",
          "name": "stdout",
          "text": [
            "apple\n",
            "banana\n",
            "orange\n",
            "avocado\n"
          ]
        }
      ]
    },
    {
      "cell_type": "markdown",
      "source": [
        "# 2. 인코딩과 디코딩"
      ],
      "metadata": {
        "id": "Rx26vyXpZ4IM"
      }
    },
    {
      "cell_type": "markdown",
      "source": [
        "### 2-1. 인코딩(Encoding)\n",
        "* 컴퓨터에서 사람이 인지할 수 있는 형태의 데이터를 약속된 규칙에 의해 컴퓨터가 사용하는 0과 1로 변환하는 과정\n",
        "* 인코딩 = 코드화 = 암호화 = 부호화\n",
        "* 예) 아스키코드 인코딩, URL 인코딩, Base64 인코딩, 유니코드 인코딩..\n",
        "* [유니코드](https://home.unicode.org/)"
      ],
      "metadata": {
        "id": "dd16Bj9raX_z"
      }
    },
    {
      "cell_type": "code",
      "source": [
        "txt1 = 'Hello Python'\n",
        "type(txt1)"
      ],
      "metadata": {
        "colab": {
          "base_uri": "https://localhost:8080/"
        },
        "id": "4_fM2Ch6bpoq",
        "outputId": "79eb8198-791e-43d5-dffc-9f44daf07834"
      },
      "execution_count": 18,
      "outputs": [
        {
          "output_type": "execute_result",
          "data": {
            "text/plain": [
              "str"
            ]
          },
          "metadata": {},
          "execution_count": 18
        }
      ]
    },
    {
      "cell_type": "code",
      "source": [
        "txt2 = txt1.encode('utf-8')\n",
        "type(txt2)"
      ],
      "metadata": {
        "colab": {
          "base_uri": "https://localhost:8080/"
        },
        "id": "GgKv2BnPbuFT",
        "outputId": "987dbb96-3e38-4cde-83e3-65c987641ce8"
      },
      "execution_count": 19,
      "outputs": [
        {
          "output_type": "execute_result",
          "data": {
            "text/plain": [
              "bytes"
            ]
          },
          "metadata": {},
          "execution_count": 19
        }
      ]
    },
    {
      "cell_type": "code",
      "source": [
        "print(txt2)"
      ],
      "metadata": {
        "colab": {
          "base_uri": "https://localhost:8080/"
        },
        "id": "kcBy3v1wb29T",
        "outputId": "09f7333a-a9c7-447e-88f6-1771f0cd2f59"
      },
      "execution_count": 20,
      "outputs": [
        {
          "output_type": "stream",
          "name": "stdout",
          "text": [
            "b'Hello Python'\n"
          ]
        }
      ]
    },
    {
      "cell_type": "code",
      "source": [
        "txt3 = '안녕하세요 파이썬'\n",
        "print(txt3.encode('utf-8'))"
      ],
      "metadata": {
        "colab": {
          "base_uri": "https://localhost:8080/"
        },
        "id": "pIEzPE4Xb-EO",
        "outputId": "5da893b0-b405-43c4-9ac3-75fa3cc2047c"
      },
      "execution_count": 21,
      "outputs": [
        {
          "output_type": "stream",
          "name": "stdout",
          "text": [
            "b'\\xec\\x95\\x88\\xeb\\x85\\x95\\xed\\x95\\x98\\xec\\x84\\xb8\\xec\\x9a\\x94 \\xed\\x8c\\x8c\\xec\\x9d\\xb4\\xec\\x8d\\xac'\n"
          ]
        }
      ]
    },
    {
      "cell_type": "markdown",
      "source": [
        "### 2-2. 디코딩(Decoding)\n",
        "* 사람이 이해할 수 있는 언어로 되돌리는 것\n",
        "* 디코딩 = 역코드화 = 복호화\n",
        "* [유니코드 변환 사이트](https://checkserp.com/encode/unicode/)"
      ],
      "metadata": {
        "id": "wueKcEgfcY7O"
      }
    },
    {
      "cell_type": "code",
      "source": [
        "txt3 = '안녕하세요 파이썬'\n",
        "txt4 = txt3.encode('utf-8')\n",
        "print(txt4)"
      ],
      "metadata": {
        "colab": {
          "base_uri": "https://localhost:8080/"
        },
        "id": "jYSjI1WadIUC",
        "outputId": "fabcc0b8-2a1b-47e3-b80b-94da6f652f82"
      },
      "execution_count": 22,
      "outputs": [
        {
          "output_type": "stream",
          "name": "stdout",
          "text": [
            "b'\\xec\\x95\\x88\\xeb\\x85\\x95\\xed\\x95\\x98\\xec\\x84\\xb8\\xec\\x9a\\x94 \\xed\\x8c\\x8c\\xec\\x9d\\xb4\\xec\\x8d\\xac'\n"
          ]
        }
      ]
    },
    {
      "cell_type": "code",
      "source": [
        "print(txt4.decode('utf-8'))"
      ],
      "metadata": {
        "colab": {
          "base_uri": "https://localhost:8080/"
        },
        "id": "M_HCUtSKdRua",
        "outputId": "2f382bcb-d041-42ce-e6a2-8b86c9aebd96"
      },
      "execution_count": 23,
      "outputs": [
        {
          "output_type": "stream",
          "name": "stdout",
          "text": [
            "안녕하세요 파이썬\n"
          ]
        }
      ]
    },
    {
      "cell_type": "code",
      "source": [
        "print(txt4.decode('ascii'))"
      ],
      "metadata": {
        "colab": {
          "base_uri": "https://localhost:8080/",
          "height": 174
        },
        "id": "tmUlDWG2dVzm",
        "outputId": "c1908f62-8695-4818-fbb3-5d82a1ff4906"
      },
      "execution_count": 25,
      "outputs": [
        {
          "output_type": "error",
          "ename": "UnicodeDecodeError",
          "evalue": "ignored",
          "traceback": [
            "\u001b[0;31m---------------------------------------------------------------------------\u001b[0m",
            "\u001b[0;31mUnicodeDecodeError\u001b[0m                        Traceback (most recent call last)",
            "\u001b[0;32m<ipython-input-25-cb2758a9e6d4>\u001b[0m in \u001b[0;36m<module>\u001b[0;34m\u001b[0m\n\u001b[0;32m----> 1\u001b[0;31m \u001b[0mprint\u001b[0m\u001b[0;34m(\u001b[0m\u001b[0mtxt4\u001b[0m\u001b[0;34m.\u001b[0m\u001b[0mdecode\u001b[0m\u001b[0;34m(\u001b[0m\u001b[0;34m'ascii'\u001b[0m\u001b[0;34m)\u001b[0m\u001b[0;34m)\u001b[0m\u001b[0;34m\u001b[0m\u001b[0;34m\u001b[0m\u001b[0m\n\u001b[0m",
            "\u001b[0;31mUnicodeDecodeError\u001b[0m: 'ascii' codec can't decode byte 0xec in position 0: ordinal not in range(128)"
          ]
        }
      ]
    }
  ]
}