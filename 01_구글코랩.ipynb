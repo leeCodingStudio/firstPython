{
  "nbformat": 4,
  "nbformat_minor": 0,
  "metadata": {
    "colab": {
      "provenance": [],
      "toc_visible": true,
      "authorship_tag": "ABX9TyOrcaRK9cuI2s/pnwa2J8gf",
      "include_colab_link": true
    },
    "kernelspec": {
      "name": "python3",
      "display_name": "Python 3"
    },
    "language_info": {
      "name": "python"
    }
  },
  "cells": [
    {
      "cell_type": "markdown",
      "metadata": {
        "id": "view-in-github",
        "colab_type": "text"
      },
      "source": [
        "<a href=\"https://colab.research.google.com/github/leeCodingStudio/firstPython/blob/master/01_%EA%B5%AC%EA%B8%80%EC%BD%94%EB%9E%A9.ipynb\" target=\"_parent\"><img src=\"https://colab.research.google.com/assets/colab-badge.svg\" alt=\"Open In Colab\"/></a>"
      ]
    },
    {
      "cell_type": "markdown",
      "source": [
        "# 1. 코랩의 성능"
      ],
      "metadata": {
        "id": "yCL7jTX8DGqE"
      }
    },
    {
      "cell_type": "markdown",
      "source": [
        "### 1-1. OS 환경"
      ],
      "metadata": {
        "id": "m86TyiNYDoUJ"
      }
    },
    {
      "cell_type": "code",
      "source": [
        "!cat /etc/issue.net"
      ],
      "metadata": {
        "colab": {
          "base_uri": "https://localhost:8080/"
        },
        "id": "teOe94taDzUk",
        "outputId": "019764cb-e621-4bd1-bd19-cdae2f6fac90"
      },
      "execution_count": null,
      "outputs": [
        {
          "output_type": "stream",
          "name": "stdout",
          "text": [
            "Ubuntu 20.04.5 LTS\n"
          ]
        }
      ]
    },
    {
      "cell_type": "markdown",
      "source": [
        "### 1-2. Python 버전"
      ],
      "metadata": {
        "id": "is9s7-YIEZnJ"
      }
    },
    {
      "cell_type": "code",
      "source": [
        "!python --version"
      ],
      "metadata": {
        "colab": {
          "base_uri": "https://localhost:8080/"
        },
        "id": "Mf8dOCozEgrR",
        "outputId": "c6ad515d-acdc-482d-aa99-3a2d730d2d42"
      },
      "execution_count": null,
      "outputs": [
        {
          "output_type": "stream",
          "name": "stdout",
          "text": [
            "Python 3.8.10\n"
          ]
        }
      ]
    },
    {
      "cell_type": "markdown",
      "source": [
        "# 2. 셀의 종류\n",
        "* 코드: 파이썬 코드 및 리눅스 명령어를 실행할 수 있는 셀\n",
        "* 텍스트: 설명을 달거나 문구등을 적기 위한 텍스트 전용 셀(마크다운)"
      ],
      "metadata": {
        "id": "_oSWxb6uE-aA"
      }
    },
    {
      "cell_type": "markdown",
      "source": [
        "### 2-1. 셀의 삽입 방법\n",
        "1. 상단의 \"+코드\", \"+텍스트\" 버튼을 눌러 삽입\n",
        "2. 코드셀을 위에 삽입: 컨트롤 + M, A\n",
        "3. 코드셀을 아래로 삽입: 컨트롤 + M, B"
      ],
      "metadata": {
        "id": "eNIFuIG9FZl0"
      }
    },
    {
      "cell_type": "markdown",
      "source": [
        "### 2-2. 셀을 변경하는 방법\n",
        "1. 코드셀을 텍스트셀로 변경: 컨트롤 + M, M\n",
        "2. 텍스트셀을 코드셀로 변경: 컨트롤 + M, Y"
      ],
      "metadata": {
        "id": "djsZDV_eHhCF"
      }
    },
    {
      "cell_type": "markdown",
      "source": [
        "### 2-3. 셀을 삭제하는 방법\n",
        "1. 우측의 휴지통 아이콘을 클릭하여 삭제\n",
        "2. 컨트롤 + M, D"
      ],
      "metadata": {
        "id": "qIwuT8FuH9F4"
      }
    },
    {
      "cell_type": "markdown",
      "source": [
        "# 3. 셀의 실행\n",
        "* 콘트롤 + 엔터: 해당 셀을 실행하고 커서는 해당 셀에 남음\n",
        "* 쉬프트 + 엔터: 해당 셀을 실행하고 커서는 다음셀로 넘어감\n",
        "* 알트 + 엔터: 해당 셀을 실행하고 커서는 다음셀을 삽입 후 넘어감감"
      ],
      "metadata": {
        "id": "RZjRRITSIW7K"
      }
    },
    {
      "cell_type": "code",
      "source": [
        "print('안녕하세요!')"
      ],
      "metadata": {
        "colab": {
          "base_uri": "https://localhost:8080/"
        },
        "id": "LDQQpDAJIkfm",
        "outputId": "91a7bcad-fc8a-452c-eb17-5f062757c26e"
      },
      "execution_count": null,
      "outputs": [
        {
          "output_type": "stream",
          "name": "stdout",
          "text": [
            "안녕하세요!\n"
          ]
        }
      ]
    },
    {
      "cell_type": "code",
      "source": [],
      "metadata": {
        "id": "wk5TzlcwJw6q"
      },
      "execution_count": null,
      "outputs": []
    },
    {
      "cell_type": "code",
      "source": [
        "print('반갑습니다')"
      ],
      "metadata": {
        "colab": {
          "base_uri": "https://localhost:8080/"
        },
        "id": "3Z_iScrCIugs",
        "outputId": "aa9379df-5a29-4123-e88d-cba725f60a48"
      },
      "execution_count": null,
      "outputs": [
        {
          "output_type": "stream",
          "name": "stdout",
          "text": [
            "반갑습니다\n"
          ]
        }
      ]
    },
    {
      "cell_type": "markdown",
      "source": [
        "# 4. 이미지 다루기"
      ],
      "metadata": {
        "id": "7Vf9oOrGJGiu"
      }
    },
    {
      "cell_type": "markdown",
      "source": [
        "<img src='https://www.python.org/static/img/python-logo.png'>"
      ],
      "metadata": {
        "id": "uqFmkty6JK56"
      }
    },
    {
      "cell_type": "code",
      "source": [
        "from IPython.display import Image"
      ],
      "metadata": {
        "id": "gPqcacC0JpWj"
      },
      "execution_count": null,
      "outputs": []
    },
    {
      "cell_type": "code",
      "source": [
        "Image('https://www.python.org/static/img/python-logo.png')"
      ],
      "metadata": {
        "colab": {
          "base_uri": "https://localhost:8080/",
          "height": 99
        },
        "id": "1A_S8CKfKJsD",
        "outputId": "54434e8a-60df-446e-e48d-05aa57b886d9"
      },
      "execution_count": null,
      "outputs": [
        {
          "output_type": "execute_result",
          "data": {
            "image/png": "[encoded data removed]",
            "text/plain": [
              "<IPython.core.display.Image object>"
            ]
          },
          "metadata": {},
          "execution_count": 9
        }
      ]
    },
    {
      "cell_type": "markdown",
      "source": [
        "# 5. 유튜브 동영상 로딩하기"
      ],
      "metadata": {
        "id": "u0meMlUiKaYz"
      }
    },
    {
      "cell_type": "code",
      "source": [
        "from IPython.display import YouTubeVideo"
      ],
      "metadata": {
        "id": "3mi3oYgwKvGh"
      },
      "execution_count": null,
      "outputs": []
    },
    {
      "cell_type": "code",
      "source": [
        "YouTubeVideo('VCmpkk789H0', width=400, height=300)"
      ],
      "metadata": {
        "colab": {
          "base_uri": "https://localhost:8080/",
          "height": 320
        },
        "id": "DvTei4VDK3Ug",
        "outputId": "075769bf-0df2-4678-e88c-be1c152b345e"
      },
      "execution_count": null,
      "outputs": [
        {
          "output_type": "execute_result",
          "data": {
            "text/plain": [
              "<IPython.lib.display.YouTubeVideo at 0x7f1d3b016c10>"
            ],
            "text/html": [
              "\n",
              "        <iframe\n",
              "            width=\"400\"\n",
              "            height=\"300\"\n",
              "            src=\"https://www.youtube.com/embed/VCmpkk789H0\"\n",
              "            frameborder=\"0\"\n",
              "            allowfullscreen\n",
              "        ></iframe>\n",
              "        "
            ],
            "image/jpeg": "[encoded data removed]"
          },
          "metadata": {},
          "execution_count": 11
        }
      ]
    },
    {
      "cell_type": "code",
      "source": [],
      "metadata": {
        "id": "ZBhRHdwsLcWg"
      },
      "execution_count": null,
      "outputs": []
    }
  ]
}