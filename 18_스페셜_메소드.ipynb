{
  "nbformat": 4,
  "nbformat_minor": 0,
  "metadata": {
    "colab": {
      "provenance": [],
      "authorship_tag": "ABX9TyNdPtw7+PatNwDp6a7aKayI",
      "include_colab_link": true
    },
    "kernelspec": {
      "name": "python3",
      "display_name": "Python 3"
    },
    "language_info": {
      "name": "python"
    }
  },
  "cells": [
    {
      "cell_type": "markdown",
      "metadata": {
        "id": "view-in-github",
        "colab_type": "text"
      },
      "source": [
        "<a href=\"https://colab.research.google.com/github/leeCodingStudio/firstPython/blob/master/18_%EC%8A%A4%ED%8E%98%EC%85%9C_%EB%A9%94%EC%86%8C%EB%93%9C.ipynb\" target=\"_parent\"><img src=\"https://colab.research.google.com/assets/colab-badge.svg\" alt=\"Open In Colab\"/></a>"
      ]
    },
    {
      "cell_type": "markdown",
      "source": [
        "# 1. 스페셜 메소드(Special Method)\n",
        "* __로 시작해서 __로 끝나는 특수함수\n",
        "* 해당 메소드들을 재구현하면 객체에 여러가지 파이썬 내장 함수나 연산자에 원하는 기능을 부여할 수 있음"
      ],
      "metadata": {
        "id": "MatRS3hQVMfv"
      }
    },
    {
      "cell_type": "code",
      "source": [
        "class Point:\n",
        "  def __init__(self, x, y):\n",
        "    self.x = x\n",
        "    self.y = y\n",
        "\n",
        "  def print_point(self): # (3, 4)\n",
        "    print(f'({self.x}, {self.y})')\n",
        "\n",
        "  def __str__(self): # str() 함수를 오버라이딩\n",
        "    return (f'({self.x}, {self.y})')\n",
        "\n",
        "  def __add__(self, pt): # + 연산자를 오버라이딩 (객체 + 객체)\n",
        "    new_x = self.x + pt.x\n",
        "    new_y = self.y + pt.y\n",
        "    return Point(new_x, new_y)\n",
        "\n",
        "  def __sub__(self, pt): # - 연산자를 오버라이딩 (객체 - 객체)\n",
        "    new_x = self.x - pt.x\n",
        "    new_y = self.y - pt.y\n",
        "    return Point(new_x, new_y)\n",
        "\n",
        "  def __len__(self): # len()\n",
        "    return self.x + self.y\n",
        "\n",
        "  def __getitem__(self, index): # 인덱싱을 오버라이딩 (객체[인덱스])\n",
        "    if index == 0:\n",
        "      return self.x\n",
        "    elif index == 1:\n",
        "      return self.y\n",
        "    else:\n",
        "      return -1"
      ],
      "metadata": {
        "id": "TN7Jaze0WfBU"
      },
      "execution_count": 43,
      "outputs": []
    },
    {
      "cell_type": "code",
      "source": [
        "p1 = Point(3, 4)"
      ],
      "metadata": {
        "id": "z-_mxXxUWuOT"
      },
      "execution_count": 44,
      "outputs": []
    },
    {
      "cell_type": "code",
      "source": [
        "p1.print_point()"
      ],
      "metadata": {
        "colab": {
          "base_uri": "https://localhost:8080/"
        },
        "id": "3sMCaYC8WweN",
        "outputId": "17a437d7-68d4-431d-f7b4-8ed0bc70b326"
      },
      "execution_count": 45,
      "outputs": [
        {
          "output_type": "stream",
          "name": "stdout",
          "text": [
            "(3, 4)\n"
          ]
        }
      ]
    },
    {
      "cell_type": "code",
      "source": [
        "print(p1) # str() 생략"
      ],
      "metadata": {
        "colab": {
          "base_uri": "https://localhost:8080/"
        },
        "id": "2k45oasNXKES",
        "outputId": "2a5e00c6-8251-4b50-ff2f-2a06724c37a7"
      },
      "execution_count": 46,
      "outputs": [
        {
          "output_type": "stream",
          "name": "stdout",
          "text": [
            "(3, 4)\n"
          ]
        }
      ]
    },
    {
      "cell_type": "code",
      "source": [
        "print(str(p1))"
      ],
      "metadata": {
        "colab": {
          "base_uri": "https://localhost:8080/"
        },
        "id": "smcP7EW_XZ9y",
        "outputId": "0535f0d7-3afc-4c00-a814-2d3818b306d6"
      },
      "execution_count": 47,
      "outputs": [
        {
          "output_type": "stream",
          "name": "stdout",
          "text": [
            "(3, 4)\n"
          ]
        }
      ]
    },
    {
      "cell_type": "code",
      "source": [
        "num1 = 10\n",
        "num2 = 20\n",
        "print(num1 + num2)"
      ],
      "metadata": {
        "colab": {
          "base_uri": "https://localhost:8080/"
        },
        "id": "O7GywoGGXeTT",
        "outputId": "1d3940bd-d3a7-4a37-ba11-2d815df2fcb1"
      },
      "execution_count": 48,
      "outputs": [
        {
          "output_type": "stream",
          "name": "stdout",
          "text": [
            "30\n"
          ]
        }
      ]
    },
    {
      "cell_type": "code",
      "source": [
        "print(str(p1))"
      ],
      "metadata": {
        "colab": {
          "base_uri": "https://localhost:8080/"
        },
        "id": "gCLQN4Z9YhUh",
        "outputId": "44df3a15-49ff-4c6b-8e8d-d8d1a813d452"
      },
      "execution_count": 49,
      "outputs": [
        {
          "output_type": "stream",
          "name": "stdout",
          "text": [
            "(3, 4)\n"
          ]
        }
      ]
    },
    {
      "cell_type": "code",
      "source": [
        "p2 = Point(5, 8)"
      ],
      "metadata": {
        "id": "93eRlO4sYnXr"
      },
      "execution_count": 50,
      "outputs": []
    },
    {
      "cell_type": "code",
      "source": [
        "p3 = p1 + p2"
      ],
      "metadata": {
        "id": "QaAP6bKRYraP"
      },
      "execution_count": 51,
      "outputs": []
    },
    {
      "cell_type": "code",
      "source": [
        "print(p3)"
      ],
      "metadata": {
        "colab": {
          "base_uri": "https://localhost:8080/"
        },
        "id": "1jrkI8ulYuul",
        "outputId": "5a36c50d-a59f-4d6b-f250-3290b91fa20a"
      },
      "execution_count": 52,
      "outputs": [
        {
          "output_type": "stream",
          "name": "stdout",
          "text": [
            "(8, 12)\n"
          ]
        }
      ]
    },
    {
      "cell_type": "code",
      "source": [
        "p3 = p1 - p2\n",
        "print(p3)"
      ],
      "metadata": {
        "colab": {
          "base_uri": "https://localhost:8080/"
        },
        "id": "XWfS6Fa9ZdGX",
        "outputId": "9e4813ad-2c81-4ce7-e11d-10c6a0d1bc31"
      },
      "execution_count": 53,
      "outputs": [
        {
          "output_type": "stream",
          "name": "stdout",
          "text": [
            "(-2, -4)\n"
          ]
        }
      ]
    },
    {
      "cell_type": "code",
      "source": [
        "print(len(p1))"
      ],
      "metadata": {
        "colab": {
          "base_uri": "https://localhost:8080/"
        },
        "id": "MARq0gHZZ48z",
        "outputId": "b2b36053-a221-4d81-90a8-82f0e4506215"
      },
      "execution_count": 54,
      "outputs": [
        {
          "output_type": "stream",
          "name": "stdout",
          "text": [
            "7\n"
          ]
        }
      ]
    },
    {
      "cell_type": "code",
      "source": [
        "print(p1[0], p1[1], p1[100])"
      ],
      "metadata": {
        "colab": {
          "base_uri": "https://localhost:8080/"
        },
        "id": "KPd3XbRNuvAQ",
        "outputId": "f81b1ba7-c61c-476d-ed75-3ba3f0b7e55f"
      },
      "execution_count": 56,
      "outputs": [
        {
          "output_type": "stream",
          "name": "stdout",
          "text": [
            "3 4 -1\n"
          ]
        }
      ]
    }
  ]
}