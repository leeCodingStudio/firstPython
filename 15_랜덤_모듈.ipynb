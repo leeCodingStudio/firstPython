{
  "nbformat": 4,
  "nbformat_minor": 0,
  "metadata": {
    "colab": {
      "provenance": [],
      "authorship_tag": "ABX9TyOgON81smnaogdjehYi4vJX",
      "include_colab_link": true
    },
    "kernelspec": {
      "name": "python3",
      "display_name": "Python 3"
    },
    "language_info": {
      "name": "python"
    }
  },
  "cells": [
    {
      "cell_type": "markdown",
      "metadata": {
        "id": "view-in-github",
        "colab_type": "text"
      },
      "source": [
        "<a href=\"https://colab.research.google.com/github/leeCodingStudio/firstPython/blob/master/15_%EB%9E%9C%EB%8D%A4_%EB%AA%A8%EB%93%88.ipynb\" target=\"_parent\"><img src=\"https://colab.research.google.com/assets/colab-badge.svg\" alt=\"Open In Colab\"/></a>"
      ]
    },
    {
      "cell_type": "markdown",
      "source": [
        "# 1. 랜덤(random) 모듈\n",
        "* 임의의 숫자를 무작위로 반환"
      ],
      "metadata": {
        "id": "BG99Ipikka-B"
      }
    },
    {
      "cell_type": "markdown",
      "source": [
        "### 1-1. random()\n",
        "* 0이상 1미만의 실수 중에서 무작위로 하나를 뽑아 반환"
      ],
      "metadata": {
        "id": "Bl2wyEXHlKo2"
      }
    },
    {
      "cell_type": "code",
      "source": [
        "import random\n",
        "\n",
        "num = random.random()\n",
        "print(num)\n",
        "num = num * 10\n",
        "print(num)\n",
        "num = int(num) # 0 ~ 9까지 정수\n",
        "print(num)\n",
        "num = num + 1 # # 1 ~ 10까지 정수\n",
        "print(num)"
      ],
      "metadata": {
        "colab": {
          "base_uri": "https://localhost:8080/"
        },
        "id": "d4UKHQg3lXfj",
        "outputId": "ddb27903-c524-48b1-a9f7-d4d478ee42f2"
      },
      "execution_count": 9,
      "outputs": [
        {
          "output_type": "stream",
          "name": "stdout",
          "text": [
            "0.38020375522970495\n",
            "3.8020375522970493\n",
            "3\n",
            "4\n"
          ]
        }
      ]
    },
    {
      "cell_type": "code",
      "source": [
        "# 1 ~ 10까지 정수\n",
        "num = int(random.random() * 10) + 1\n",
        "print(num)"
      ],
      "metadata": {
        "id": "zHkKgcnIlfLY"
      },
      "execution_count": null,
      "outputs": []
    },
    {
      "cell_type": "markdown",
      "source": [
        "### 1-2. randRange()\n",
        "* 원하는 범위를 입력하여 범위의 부작위 정수를 반환"
      ],
      "metadata": {
        "id": "7K6VK6j_nVFt"
      }
    },
    {
      "cell_type": "code",
      "source": [
        "random.randrange(1, 46)"
      ],
      "metadata": {
        "colab": {
          "base_uri": "https://localhost:8080/"
        },
        "id": "nfoOMz8LngPE",
        "outputId": "34e15f45-2b43-46c3-ee30-66323c0f0afa"
      },
      "execution_count": 10,
      "outputs": [
        {
          "output_type": "execute_result",
          "data": {
            "text/plain": [
              "43"
            ]
          },
          "metadata": {},
          "execution_count": 10
        }
      ]
    },
    {
      "cell_type": "markdown",
      "source": [
        "### 1-3. shuffle()\n",
        "* 자료구조에 저장된 값들의 순서를 무작위로 섞음"
      ],
      "metadata": {
        "id": "aM6AO5iynmez"
      }
    },
    {
      "cell_type": "code",
      "source": [
        "li = ['김사과', '반하나', '오렌지', '이메론', '배애리']\n",
        "random.shuffle(li)\n",
        "print(li)"
      ],
      "metadata": {
        "colab": {
          "base_uri": "https://localhost:8080/"
        },
        "id": "fI7uevkIn1-b",
        "outputId": "cf28b948-c74c-4389-f3a1-8a311d0edbb9"
      },
      "execution_count": 14,
      "outputs": [
        {
          "output_type": "stream",
          "name": "stdout",
          "text": [
            "['이메론', '배애리', '반하나', '오렌지', '김사과']\n"
          ]
        }
      ]
    },
    {
      "cell_type": "markdown",
      "source": [
        "### 1-4. choice()\n",
        "* 자료구조에 저장된 값 중 하나를 무작위로 반환"
      ],
      "metadata": {
        "id": "pJwlDT1qoSxb"
      }
    },
    {
      "cell_type": "code",
      "source": [
        "li = ['김사과', '반하나', '오렌지', '이메론', '배애리']\n",
        "random.choice(li)"
      ],
      "metadata": {
        "colab": {
          "base_uri": "https://localhost:8080/",
          "height": 35
        },
        "id": "Zf1TIdpfofA3",
        "outputId": "34d0a1ca-046c-407d-a0c4-286cceaddbf2"
      },
      "execution_count": 15,
      "outputs": [
        {
          "output_type": "execute_result",
          "data": {
            "text/plain": [
              "'이메론'"
            ],
            "application/vnd.google.colaboratory.intrinsic+json": {
              "type": "string"
            }
          },
          "metadata": {},
          "execution_count": 15
        }
      ]
    },
    {
      "cell_type": "code",
      "source": [
        "random.choice([True, False])"
      ],
      "metadata": {
        "colab": {
          "base_uri": "https://localhost:8080/"
        },
        "id": "EcMHHVPpojGj",
        "outputId": "5715bc9b-7286-42a6-f664-fbae578d915f"
      },
      "execution_count": 17,
      "outputs": [
        {
          "output_type": "execute_result",
          "data": {
            "text/plain": [
              "True"
            ]
          },
          "metadata": {},
          "execution_count": 17
        }
      ]
    },
    {
      "cell_type": "code",
      "source": [
        "while True:\n",
        "  num = int(input('숫자를 입력하세요'))\n",
        "  if num == 6:\n",
        "    break"
      ],
      "metadata": {
        "colab": {
          "base_uri": "https://localhost:8080/"
        },
        "id": "wXGgGRZjpdBY",
        "outputId": "b9f055e8-4fed-46a3-a95f-5331669500fe"
      },
      "execution_count": 18,
      "outputs": [
        {
          "name": "stdout",
          "output_type": "stream",
          "text": [
            "숫자를 입력하세요1\n",
            "숫자를 입력하세요3\n",
            "숫자를 입력하세요6\n"
          ]
        }
      ]
    }
  ]
}