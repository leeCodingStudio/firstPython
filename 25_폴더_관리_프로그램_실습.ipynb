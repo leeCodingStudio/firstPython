{
  "cells": [
    {
      "cell_type": "markdown",
      "metadata": {
        "id": "view-in-github",
        "colab_type": "text"
      },
      "source": [
        "<a href=\"https://colab.research.google.com/github/leeCodingStudio/firstPython/blob/master/25_%ED%8F%B4%EB%8D%94_%EA%B4%80%EB%A6%AC_%ED%94%84%EB%A1%9C%EA%B7%B8%EB%9E%A8_%EC%8B%A4%EC%8A%B5.ipynb\" target=\"_parent\"><img src=\"https://colab.research.google.com/assets/colab-badge.svg\" alt=\"Open In Colab\"/></a>"
      ]
    },
    {
      "cell_type": "markdown",
      "id": "06274ea5",
      "metadata": {
        "id": "06274ea5"
      },
      "source": [
        "# 1. 압축 파일 정리하기"
      ]
    },
    {
      "cell_type": "code",
      "execution_count": null,
      "id": "b70b7363",
      "metadata": {
        "id": "b70b7363",
        "outputId": "1ad71886-ed21-4f91-83af-c5750fec6f83"
      },
      "outputs": [
        {
          "data": {
            "text/plain": [
              "'C:\\\\LeeCoding\\\\Python\\\\Jupyter'"
            ]
          },
          "execution_count": 1,
          "metadata": {},
          "output_type": "execute_result"
        }
      ],
      "source": [
        "import os\n",
        "os.getcwd()"
      ]
    },
    {
      "cell_type": "code",
      "execution_count": null,
      "id": "d5bcefd5",
      "metadata": {
        "id": "d5bcefd5"
      },
      "outputs": [],
      "source": [
        "# 정리 대상 폴더 경로를 설정\n",
        "target_path = './고라니'"
      ]
    },
    {
      "cell_type": "code",
      "execution_count": null,
      "id": "70362c21",
      "metadata": {
        "id": "70362c21",
        "outputId": "4c51187d-9948-45ef-a5bd-387052a8864c"
      },
      "outputs": [
        {
          "name": "stdout",
          "output_type": "stream",
          "text": [
            "['./고라니\\\\데이터저장_물류.zip']\n"
          ]
        }
      ],
      "source": [
        "# 압축 파일 확인\n",
        "import glob\n",
        "\n",
        "zipfile_path = []\n",
        "for filename in glob.glob(os.path.join(target_path, '**/*.zip'), recursive=True):\n",
        "    zipfile_path.append(filename)\n",
        "    print(zipfile_path)"
      ]
    },
    {
      "cell_type": "code",
      "execution_count": null,
      "id": "ab0177dc",
      "metadata": {
        "id": "ab0177dc",
        "outputId": "715b0297-92f7-4096-de92-f96f64f89edd"
      },
      "outputs": [
        {
          "name": "stdout",
          "output_type": "stream",
          "text": [
            "[<ZipInfo filename='D_20220110_╡Ñ└╠┼═└·└σ_╣░╖∙_001.pdf' compress_type=deflate external_attr=0x20 file_size=13264 compress_size=12312>, <ZipInfo filename='D_20220110_╡Ñ└╠┼═└·└σ_╣░╖∙_002.pdf' compress_type=deflate external_attr=0x20 file_size=13264 compress_size=12312>, <ZipInfo filename='D_20220723_╡Ñ└╠┼═└·└σ_╣░╖∙_001.pdf' compress_type=deflate external_attr=0x20 file_size=13264 compress_size=12312>, <ZipInfo filename='D_20220723_╝╛┼═░í╡┐╟÷╚▓_╣░╖∙_002.pdf' compress_type=deflate external_attr=0x20 file_size=13264 compress_size=12312>]\n"
          ]
        }
      ],
      "source": [
        "# 압축 파일 해제\n",
        "import zipfile\n",
        "\n",
        "for filename in zipfile_path:\n",
        "    with zipfile.ZipFile(filename) as myzip:\n",
        "        zipinfo = myzip.infolist() # zip파일 정보\n",
        "        for info in zipinfo:\n",
        "            decode_name = filename.encode('cp437').decode('euo-kr') # 한글 때짐 방지\n",
        "            info.filename = os.path.join(target_path, decode_name)\n",
        "            myzip.extract(info)"
      ]
    },
    {
      "cell_type": "markdown",
      "id": "9965e7d2",
      "metadata": {
        "id": "9965e7d2"
      },
      "source": [
        "# 2. 파일명 정리하기"
      ]
    },
    {
      "cell_type": "code",
      "execution_count": null,
      "id": "67d8d481",
      "metadata": {
        "id": "67d8d481",
        "outputId": "f36352c9-b353-4c2b-88d6-596834593c7a"
      },
      "outputs": [
        {
          "name": "stdout",
          "output_type": "stream",
          "text": [
            "Collecting openpyxl\n",
            "  Downloading openpyxl-3.1.2-py2.py3-none-any.whl (249 kB)\n",
            "Collecting et-xmlfile\n",
            "  Downloading et_xmlfile-1.1.0-py3-none-any.whl (4.7 kB)\n",
            "Installing collected packages: et-xmlfile, openpyxl\n",
            "Successfully installed et-xmlfile-1.1.0 openpyxl-3.1.2\n"
          ]
        },
        {
          "name": "stderr",
          "output_type": "stream",
          "text": [
            "WARNING: You are using pip version 20.2.1; however, version 23.0.1 is available.\n",
            "You should consider upgrading via the 'c:\\users\\acer\\appdata\\local\\programs\\python\\python38\\python.exe -m pip install --upgrade pip' command.\n"
          ]
        }
      ],
      "source": [
        "!pip install openpyxl"
      ]
    },
    {
      "cell_type": "code",
      "execution_count": null,
      "id": "f1fd13c7",
      "metadata": {
        "id": "f1fd13c7"
      },
      "outputs": [],
      "source": [
        "import openpyxl as opx"
      ]
    },
    {
      "cell_type": "code",
      "execution_count": null,
      "id": "27622a7e",
      "metadata": {
        "id": "27622a7e"
      },
      "outputs": [],
      "source": [
        "# 폴더별 파일명을 입력 받아 액셀파일에 저장하는 함수\n",
        "def getFileName(target_path):\n",
        "\n",
        "    wb = opx.Workbook()\n",
        "    ws = wb.active # 새로 생성한 WorkBook의 활성화 시트를 ws로 정의\n",
        "    \n",
        "    ws.cell(row=1, column=1).value = '파일경로'\n",
        "    ws.cell(row=1, column=2).value = '파일명(변경전)'\n",
        "    ws.cell(row=1, column=3).value = '파일명(변경후)'\n",
        "    \n",
        "    i = 2\n",
        "    \n",
        "    current_dir = target_path\n",
        "    filelist = os.listdir(current_dir)\n",
        "    \n",
        "    for filename in filelist:\n",
        "        ws.cell(row=i, column=1).value = current_dir + '/'\n",
        "        ws.cell(row=i, column=2).value = filename\n",
        "        i = i + 1\n",
        "    \n",
        "    wb.save(os.path.join(target_path, 'filelist.xlsx'))"
      ]
    },
    {
      "cell_type": "code",
      "execution_count": null,
      "id": "9157401a",
      "metadata": {
        "id": "9157401a"
      },
      "outputs": [],
      "source": [
        "getFileName(target_path)"
      ]
    },
    {
      "cell_type": "markdown",
      "id": "1cb2d6f5",
      "metadata": {
        "id": "1cb2d6f5"
      },
      "source": [
        "# 3. 파일명 변경하기"
      ]
    },
    {
      "cell_type": "code",
      "execution_count": null,
      "id": "4399bfad",
      "metadata": {
        "id": "4399bfad"
      },
      "outputs": [],
      "source": [
        "def excelRead(filepath : str) -> list:\n",
        "    wb = opx.load_workbook(filepath)\n",
        "    \n",
        "    ws = wb.active\n",
        "    \n",
        "    dirpath = [r[0].value for r in ws]\n",
        "    file_before = [r[1].value for r in ws]\n",
        "    file_after = [r[2].value for r in ws]\n",
        "    \n",
        "    len_num = len(dirpath)\n",
        "    datalist = []\n",
        "    for i in range(1, len_num):\n",
        "        temp_tuple = (dirpath[i], file_before[i], file_after[i])\n",
        "        datalist.append(temp_tuple)\n",
        "        \n",
        "    return datalist"
      ]
    },
    {
      "cell_type": "code",
      "execution_count": null,
      "id": "ecd0b140",
      "metadata": {
        "id": "ecd0b140",
        "outputId": "c389fc57-e905-464e-e223-018f0f466b22"
      },
      "outputs": [
        {
          "name": "stdout",
          "output_type": "stream",
          "text": [
            "[('./고라니/', 'A_2022_01_13_부서로그_인사_001.pdf', 'A_2022_01_13_부서로그_인사_001.pdf'), ('./고라니/', 'A_2022_01_13_부서로그_인사_002.pdf', 'A_2022_01_13_부서로그_인사_002.pdf'), ('./고라니/', 'A_2022_01_13_부서로그_인사_003.pdf', 'A_2022_01_13_부서로그_인사_003.pdf'), ('./고라니/', 'A_2022_04_10_생산로그_생산_001.pdf', 'A_2022_04_10_생산로그_생산_001.pdf'), ('./고라니/', 'A_2022_04_10_생산로그_생산_002.pdf', 'A_2022_04_10_생산로그_생산_002.pdf'), ('./고라니/', 'A_2022_04_10_생산로그_생산_003.pdf', 'A_2022_04_10_생산로그_생산_003.pdf'), ('./고라니/', 'A_2022_04_10_생산로그_생산_004.pdf', 'A_2022_04_10_생산로그_생산_004.pdf'), ('./고라니/', 'A_2022_06_30_생산로그_생산_001.pdf', 'A_2022_06_30_생산로그_생산_001.pdf'), ('./고라니/', 'A_2022_06_30_생산로그_생산_002.pdf', 'A_2022_06_30_생산로그_생산_002.pdf'), ('./고라니/', 'A_2022_07_20_부서로그_인사_001.pdf', 'A_2022_07_20_부서로그_인사_001.pdf'), ('./고라니/', 'A_2022_07_20_부서로그_인사_002.pdf', 'A_2022_07_20_부서로그_인사_002.pdf'), ('./고라니/', 'A_2022_07_20_부서로그_인사_003.pdf', 'A_2022_07_20_부서로그_인사_003.pdf'), ('./고라니/', 'A_2022_07_20_부서로그_인사_004 (1).pdf', 'A_2022_07_20_부서로그_인사_004.pdf'), ('./고라니/', 'B_2022_02_20_상반기_클래스설계_001.xlsx', 'B_2022_02_20_상반기_클래스설계_001.xlsx'), ('./고라니/', 'B_2022_02_20_상반기_클래스설계_002.xlsx', 'B_2022_02_20_상반기_클래스설계_002.xlsx'), ('./고라니/', 'B_2022_06_20_하반기_클래스설계_001.xlsx', 'B_2022_06_20_하반기_클래스설계_001.xlsx'), ('./고라니/', 'B_2022_06_30_하반기_클래스설계_002.xlsx', 'B_2022_06_30_하반기_클래스설계_002.xlsx'), ('./고라니/', 'C_2022_03_30_데이터베이스_ERD_001.xlsx', 'C_2022_03_30_데이터베이스_ERD_001.xlsx'), ('./고라니/', 'C_2022_03_30_데이터베이스_ERD_002.xlsx', 'C_2022_03_30_데이터베이스_ERD_002.xlsx'), ('./고라니/', 'C_2022_03_30_데이터베이스_ERD_003.xlsx', 'C_2022_03_30_데이터베이스_ERD_003.xlsx'), ('./고라니/', 'C_2022_09_10_데이터베이스_ERD_001 (1).xlsx', 'C_2022_09_10_데이터베이스_ERD_001.xlsx'), ('./고라니/', 'C_2022_09_10_데이터베이스_ERD_002.xlsx', 'C_2022_09_10_데이터베이스_ERD_002.xlsx'), ('./고라니/', 'C_2022_09_10_데이터베이스_ERD_003.xlsx', 'C_2022_09_10_데이터베이스_ERD_003.xlsx'), ('./고라니/', 'filelist.xlsx', 'filelist.xlsx'), ('./고라니/', '내사진.jpg', '내사진.jpg'), ('./고라니/', '데이터저장_물류.zip', '데이터저장_물류.zip'), ('./고라니/', '새파일1_복사본.txt', '새파일1_복사본.txt'), ('./고라니/', '점심시간.txt', '저녁시간.txt'), ('./고라니/', '주피터노트북.txt', '주피터노트북.txt')]\n"
          ]
        }
      ],
      "source": [
        "rename_list = excelRead(os.path.join(target_path, 'filelist.xlsx'))\n",
        "print(rename_list)"
      ]
    },
    {
      "cell_type": "code",
      "execution_count": null,
      "id": "c167f7c6",
      "metadata": {
        "id": "c167f7c6"
      },
      "outputs": [],
      "source": [
        "import shutil\n",
        "\n",
        "def fileRename(datalist : list):\n",
        "    for data in datalist:\n",
        "        print(data[1] + '의 파일 명을 ' + data[2] + '로 변경합니다')\n",
        "        shutil.move(data[0]+data[1], data[0]+data[2])"
      ]
    },
    {
      "cell_type": "code",
      "execution_count": null,
      "id": "3a19d2c5",
      "metadata": {
        "id": "3a19d2c5",
        "outputId": "adf2c180-8b8f-4ede-cf23-add1d380cc42"
      },
      "outputs": [
        {
          "name": "stdout",
          "output_type": "stream",
          "text": [
            "A_2022_01_13_부서로그_인사_001.pdf의 파일 명을 A_2022_01_13_부서로그_인사_001.pdf로 변경합니다\n",
            "A_2022_01_13_부서로그_인사_002.pdf의 파일 명을 A_2022_01_13_부서로그_인사_002.pdf로 변경합니다\n",
            "A_2022_01_13_부서로그_인사_003.pdf의 파일 명을 A_2022_01_13_부서로그_인사_003.pdf로 변경합니다\n",
            "A_2022_04_10_생산로그_생산_001.pdf의 파일 명을 A_2022_04_10_생산로그_생산_001.pdf로 변경합니다\n",
            "A_2022_04_10_생산로그_생산_002.pdf의 파일 명을 A_2022_04_10_생산로그_생산_002.pdf로 변경합니다\n",
            "A_2022_04_10_생산로그_생산_003.pdf의 파일 명을 A_2022_04_10_생산로그_생산_003.pdf로 변경합니다\n",
            "A_2022_04_10_생산로그_생산_004.pdf의 파일 명을 A_2022_04_10_생산로그_생산_004.pdf로 변경합니다\n",
            "A_2022_06_30_생산로그_생산_001.pdf의 파일 명을 A_2022_06_30_생산로그_생산_001.pdf로 변경합니다\n",
            "A_2022_06_30_생산로그_생산_002.pdf의 파일 명을 A_2022_06_30_생산로그_생산_002.pdf로 변경합니다\n",
            "A_2022_07_20_부서로그_인사_001.pdf의 파일 명을 A_2022_07_20_부서로그_인사_001.pdf로 변경합니다\n",
            "A_2022_07_20_부서로그_인사_002.pdf의 파일 명을 A_2022_07_20_부서로그_인사_002.pdf로 변경합니다\n",
            "A_2022_07_20_부서로그_인사_003.pdf의 파일 명을 A_2022_07_20_부서로그_인사_003.pdf로 변경합니다\n",
            "A_2022_07_20_부서로그_인사_004 (1).pdf의 파일 명을 A_2022_07_20_부서로그_인사_004.pdf로 변경합니다\n",
            "B_2022_02_20_상반기_클래스설계_001.xlsx의 파일 명을 B_2022_02_20_상반기_클래스설계_001.xlsx로 변경합니다\n",
            "B_2022_02_20_상반기_클래스설계_002.xlsx의 파일 명을 B_2022_02_20_상반기_클래스설계_002.xlsx로 변경합니다\n",
            "B_2022_06_20_하반기_클래스설계_001.xlsx의 파일 명을 B_2022_06_20_하반기_클래스설계_001.xlsx로 변경합니다\n",
            "B_2022_06_30_하반기_클래스설계_002.xlsx의 파일 명을 B_2022_06_30_하반기_클래스설계_002.xlsx로 변경합니다\n",
            "C_2022_03_30_데이터베이스_ERD_001.xlsx의 파일 명을 C_2022_03_30_데이터베이스_ERD_001.xlsx로 변경합니다\n",
            "C_2022_03_30_데이터베이스_ERD_002.xlsx의 파일 명을 C_2022_03_30_데이터베이스_ERD_002.xlsx로 변경합니다\n",
            "C_2022_03_30_데이터베이스_ERD_003.xlsx의 파일 명을 C_2022_03_30_데이터베이스_ERD_003.xlsx로 변경합니다\n",
            "C_2022_09_10_데이터베이스_ERD_001 (1).xlsx의 파일 명을 C_2022_09_10_데이터베이스_ERD_001.xlsx로 변경합니다\n",
            "C_2022_09_10_데이터베이스_ERD_002.xlsx의 파일 명을 C_2022_09_10_데이터베이스_ERD_002.xlsx로 변경합니다\n",
            "C_2022_09_10_데이터베이스_ERD_003.xlsx의 파일 명을 C_2022_09_10_데이터베이스_ERD_003.xlsx로 변경합니다\n",
            "filelist.xlsx의 파일 명을 filelist.xlsx로 변경합니다\n",
            "내사진.jpg의 파일 명을 내사진.jpg로 변경합니다\n",
            "데이터저장_물류.zip의 파일 명을 데이터저장_물류.zip로 변경합니다\n",
            "새파일1_복사본.txt의 파일 명을 새파일1_복사본.txt로 변경합니다\n",
            "점심시간.txt의 파일 명을 저녁시간.txt로 변경합니다\n",
            "주피터노트북.txt의 파일 명을 주피터노트북.txt로 변경합니다\n"
          ]
        }
      ],
      "source": [
        "fileRename(rename_list)"
      ]
    },
    {
      "cell_type": "markdown",
      "id": "4020ef1b",
      "metadata": {
        "id": "4020ef1b"
      },
      "source": [
        "# 4. 폴더 생성하기"
      ]
    },
    {
      "cell_type": "code",
      "execution_count": null,
      "id": "d8f4e2be",
      "metadata": {
        "id": "d8f4e2be"
      },
      "outputs": [],
      "source": [
        "import fnmatch"
      ]
    },
    {
      "cell_type": "code",
      "execution_count": null,
      "id": "7d797028",
      "metadata": {
        "id": "7d797028"
      },
      "outputs": [],
      "source": [
        "def categoryList(target_path : str) -> list:\n",
        "    file_list = []\n",
        "    for filename in os.listdir(target_path):\n",
        "        if fnmatch.fnmatch(filename, '*_[0-9][0-9][0-9].*'):\n",
        "            file_list.append(filename)\n",
        "            \n",
        "    category = []\n",
        "    for file in file_list:\n",
        "        temp_list = file.split('_')\n",
        "        category.append(temp_list[-2])\n",
        "        \n",
        "    temp_set = set(category)\n",
        "    result = list(temp_set)\n",
        "    \n",
        "    return result"
      ]
    },
    {
      "cell_type": "code",
      "execution_count": null,
      "id": "58637a2b",
      "metadata": {
        "id": "58637a2b",
        "outputId": "22646396-f49a-49e0-82b7-bc54eb4267f9"
      },
      "outputs": [
        {
          "data": {
            "text/plain": [
              "['클래스설계', '생산', 'ERD', '인사']"
            ]
          },
          "execution_count": 34,
          "metadata": {},
          "output_type": "execute_result"
        }
      ],
      "source": [
        "categoryList(target_path)"
      ]
    },
    {
      "cell_type": "code",
      "execution_count": null,
      "id": "57ac0b4e",
      "metadata": {
        "id": "57ac0b4e",
        "outputId": "90745e0b-7eda-4bc5-febe-8b07622ac9a8"
      },
      "outputs": [
        {
          "name": "stdout",
          "output_type": "stream",
          "text": [
            "['클래스설계', '생산', 'ERD', '인사', '기타']\n"
          ]
        }
      ],
      "source": [
        "categorylist = categoryList(target_path) + ['기타']\n",
        "print(categorylist)"
      ]
    },
    {
      "cell_type": "code",
      "execution_count": null,
      "id": "3a35706e",
      "metadata": {
        "id": "3a35706e"
      },
      "outputs": [],
      "source": [
        "import pathlib"
      ]
    },
    {
      "cell_type": "code",
      "execution_count": null,
      "id": "921160c9",
      "metadata": {
        "id": "921160c9"
      },
      "outputs": [],
      "source": [
        "new_path = './new_dir'\n",
        "\n",
        "def makeDir(new_path:str, categorylist:list):\n",
        "    for category in categorylist:\n",
        "        new_dir = pathlib.Path(os.path.join(new_path, category))\n",
        "        new_dir.mkdir(parents=True, exist_ok=True)"
      ]
    },
    {
      "cell_type": "code",
      "execution_count": null,
      "id": "c2eb76bd",
      "metadata": {
        "id": "c2eb76bd"
      },
      "outputs": [],
      "source": [
        "makeDir(new_path, categorylist)"
      ]
    },
    {
      "cell_type": "markdown",
      "id": "16267af4",
      "metadata": {
        "id": "16267af4"
      },
      "source": [
        "# 5. 파일 분류 및 이동하기"
      ]
    },
    {
      "cell_type": "code",
      "execution_count": null,
      "id": "21c41d3a",
      "metadata": {
        "id": "21c41d3a"
      },
      "outputs": [],
      "source": [
        "import shutil"
      ]
    },
    {
      "cell_type": "code",
      "execution_count": null,
      "id": "f48e352e",
      "metadata": {
        "id": "f48e352e"
      },
      "outputs": [],
      "source": [
        "def moveFile(new_path, target_path, categorylist):\n",
        "    dirlist = os.listdir(new_path) # 이동시킬 경로에 생성된 분류 디렉토리 리스트\n",
        "    filelist = os.listdir(target_path) # 이동시킬 파일명 리스트\n",
        "    categorydic = {}\n",
        "    \n",
        "    for file in filelist:\n",
        "        try:\n",
        "            temp_list = file.split('_')\n",
        "            assert temp_list[-2] in categorylist # 카테고리가 맞지 않으면 에러 발생\n",
        "            categorydic[file] = temp_list[-2] # {'파일명':'분류명'}\n",
        "            \n",
        "        except:\n",
        "            categorydic[file] = '기타' # {'파일명':'기타'}\n",
        "    \n",
        "#     print(categorydic)\n",
        "\n",
        "    for key, value in categorydic.items():\n",
        "        shutil.copy(target_path+'/'+key, new_path+'/'+value)"
      ]
    },
    {
      "cell_type": "code",
      "execution_count": null,
      "id": "7c145c77",
      "metadata": {
        "id": "7c145c77"
      },
      "outputs": [],
      "source": [
        "moveFile(new_path, target_path, categorylist)"
      ]
    }
  ],
  "metadata": {
    "kernelspec": {
      "display_name": "Python 3 (ipykernel)",
      "language": "python",
      "name": "python3"
    },
    "language_info": {
      "codemirror_mode": {
        "name": "ipython",
        "version": 3
      },
      "file_extension": ".py",
      "mimetype": "text/x-python",
      "name": "python",
      "nbconvert_exporter": "python",
      "pygments_lexer": "ipython3",
      "version": "3.8.6"
    },
    "colab": {
      "provenance": [],
      "include_colab_link": true
    }
  },
  "nbformat": 4,
  "nbformat_minor": 5
}