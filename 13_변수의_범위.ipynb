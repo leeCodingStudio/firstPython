{
  "nbformat": 4,
  "nbformat_minor": 0,
  "metadata": {
    "colab": {
      "provenance": [],
      "authorship_tag": "ABX9TyNIp9P5MalRCxEuJrh8Vini",
      "include_colab_link": true
    },
    "kernelspec": {
      "name": "python3",
      "display_name": "Python 3"
    },
    "language_info": {
      "name": "python"
    }
  },
  "cells": [
    {
      "cell_type": "markdown",
      "metadata": {
        "id": "view-in-github",
        "colab_type": "text"
      },
      "source": [
        "<a href=\"https://colab.research.google.com/github/leeCodingStudio/firstPython/blob/master/13_%EB%B3%80%EC%88%98%EC%9D%98_%EB%B2%94%EC%9C%84.ipynb\" target=\"_parent\"><img src=\"https://colab.research.google.com/assets/colab-badge.svg\" alt=\"Open In Colab\"/></a>"
      ]
    },
    {
      "cell_type": "markdown",
      "source": [
        "# 1. 스코프(scope)\n",
        "* 변수의 접근할 수 있는 범위\n",
        "* local: 가장 가까운 함수안의 범위\n",
        "* global: 함수 바깥의 변수 또는 import된 module"
      ],
      "metadata": {
        "id": "dDhSlSnh-MW0"
      }
    },
    {
      "cell_type": "code",
      "source": [
        "num1 = 10 # 글로벌 변수\n",
        "\n",
        "def func1():\n",
        "  num2 = 20 # 로컬 변수\n",
        "  print(num2)"
      ],
      "metadata": {
        "id": "rFF5t-kN-sJ5"
      },
      "execution_count": 1,
      "outputs": []
    },
    {
      "cell_type": "code",
      "source": [
        "print(num1)\n",
        "print(num2) # NameError: name 'num2' is not defined"
      ],
      "metadata": {
        "colab": {
          "base_uri": "https://localhost:8080/",
          "height": 211
        },
        "id": "VGWrMJhx-y5R",
        "outputId": "bcc2d882-27c9-4c22-c6e0-9510f941b81e"
      },
      "execution_count": 2,
      "outputs": [
        {
          "output_type": "stream",
          "name": "stdout",
          "text": [
            "10\n"
          ]
        },
        {
          "output_type": "error",
          "ename": "NameError",
          "evalue": "ignored",
          "traceback": [
            "\u001b[0;31m---------------------------------------------------------------------------\u001b[0m",
            "\u001b[0;31mNameError\u001b[0m                                 Traceback (most recent call last)",
            "\u001b[0;32m<ipython-input-2-235389bf156e>\u001b[0m in \u001b[0;36m<module>\u001b[0;34m\u001b[0m\n\u001b[1;32m      1\u001b[0m \u001b[0mprint\u001b[0m\u001b[0;34m(\u001b[0m\u001b[0mnum1\u001b[0m\u001b[0;34m)\u001b[0m\u001b[0;34m\u001b[0m\u001b[0;34m\u001b[0m\u001b[0m\n\u001b[0;32m----> 2\u001b[0;31m \u001b[0mprint\u001b[0m\u001b[0;34m(\u001b[0m\u001b[0mnum2\u001b[0m\u001b[0;34m)\u001b[0m\u001b[0;34m\u001b[0m\u001b[0;34m\u001b[0m\u001b[0m\n\u001b[0m",
            "\u001b[0;31mNameError\u001b[0m: name 'num2' is not defined"
          ]
        }
      ]
    },
    {
      "cell_type": "code",
      "source": [
        "num1 = 10\n",
        "\n",
        "def func1():\n",
        "  num2 = 20\n",
        "  print(num2)"
      ],
      "metadata": {
        "id": "pcuhxrm4_CU_"
      },
      "execution_count": 3,
      "outputs": []
    },
    {
      "cell_type": "code",
      "source": [
        "print(num1)\n",
        "func1()"
      ],
      "metadata": {
        "colab": {
          "base_uri": "https://localhost:8080/"
        },
        "id": "wymlzRN7_QvM",
        "outputId": "2e77049c-025b-4763-dbb7-cc2fed688d35"
      },
      "execution_count": 4,
      "outputs": [
        {
          "output_type": "stream",
          "name": "stdout",
          "text": [
            "10\n",
            "20\n"
          ]
        }
      ]
    },
    {
      "cell_type": "code",
      "source": [
        "# locals(): 로컬 변수를 확인해주는 함수\n",
        "# globals(): 글로벌 변수를 확인해주는 함수\n",
        "\n",
        "num1 = 10 # 글로벌 변수\n",
        "\n",
        "def func1():\n",
        "  num2 = 20 # 로컬 변수\n",
        "  print('num1 로컬 변수: ', 'num1' in locals())\n",
        "\n",
        "def func2():\n",
        "  num2 = 20 # 로컬 변수\n",
        "  print('num2 로컬 변수: ', 'num2' in locals())\n",
        "\n",
        "def func3():\n",
        "  print('num1 글로벌 변수: ', 'num1' in globals())"
      ],
      "metadata": {
        "id": "xoa8ZlGw_Tbu"
      },
      "execution_count": 13,
      "outputs": []
    },
    {
      "cell_type": "code",
      "source": [
        "func1()"
      ],
      "metadata": {
        "colab": {
          "base_uri": "https://localhost:8080/"
        },
        "id": "V7fgYRPZ_zVR",
        "outputId": "8271ca89-5b53-4da6-ea54-a0596a1e6134"
      },
      "execution_count": 9,
      "outputs": [
        {
          "output_type": "stream",
          "name": "stdout",
          "text": [
            "num1 로컬 변수:  False\n"
          ]
        }
      ]
    },
    {
      "cell_type": "code",
      "source": [
        "func2()"
      ],
      "metadata": {
        "colab": {
          "base_uri": "https://localhost:8080/"
        },
        "id": "69ofRsSg_0k1",
        "outputId": "602e4fa2-fd7a-415f-8588-837d0948ee19"
      },
      "execution_count": 11,
      "outputs": [
        {
          "output_type": "stream",
          "name": "stdout",
          "text": [
            "num2 로컬 변수:  True\n"
          ]
        }
      ]
    },
    {
      "cell_type": "code",
      "source": [
        "func3()"
      ],
      "metadata": {
        "colab": {
          "base_uri": "https://localhost:8080/"
        },
        "id": "3-vIgslEAM9a",
        "outputId": "152ad082-23eb-43f8-cf84-069bbf076364"
      },
      "execution_count": 14,
      "outputs": [
        {
          "output_type": "stream",
          "name": "stdout",
          "text": [
            "num1 글로벌 변수:  True\n"
          ]
        }
      ]
    },
    {
      "cell_type": "code",
      "source": [
        "num1 = 10\n",
        "\n",
        "def func4():\n",
        "  num1 = 20 # 지역 변수\n",
        "  print(num1)"
      ],
      "metadata": {
        "id": "mM3JcL5OAakh"
      },
      "execution_count": 16,
      "outputs": []
    },
    {
      "cell_type": "code",
      "source": [
        "func4()"
      ],
      "metadata": {
        "colab": {
          "base_uri": "https://localhost:8080/"
        },
        "id": "XVpk4P_jAk1y",
        "outputId": "b11c602c-bc6e-48f9-ce25-954abc630a04"
      },
      "execution_count": 18,
      "outputs": [
        {
          "output_type": "stream",
          "name": "stdout",
          "text": [
            "20\n"
          ]
        }
      ]
    },
    {
      "cell_type": "code",
      "source": [
        "print(num1) # 전역 변수"
      ],
      "metadata": {
        "colab": {
          "base_uri": "https://localhost:8080/"
        },
        "id": "xabgE8cyA0e4",
        "outputId": "ce59cdae-a68b-4b5c-a55d-12f6e2050728"
      },
      "execution_count": 19,
      "outputs": [
        {
          "output_type": "stream",
          "name": "stdout",
          "text": [
            "10\n"
          ]
        }
      ]
    },
    {
      "cell_type": "markdown",
      "source": [
        "# 2. global 키워드\n",
        "* 함수 내부에서 로컬변수가 아닌 글로벌 변수로 사용하게 함"
      ],
      "metadata": {
        "id": "Z96p88AlCFCh"
      }
    },
    {
      "cell_type": "code",
      "source": [
        "num1 = 10\n",
        "\n",
        "def func5():\n",
        "  print(num1)\n",
        "\n",
        "def func6(num):\n",
        "  num1 = num # 로컬변수에 값을 저장했으므로 글로벌 변수에 값이 변경되지 않음"
      ],
      "metadata": {
        "id": "Xphu3TU_BAyM"
      },
      "execution_count": 25,
      "outputs": []
    },
    {
      "cell_type": "code",
      "source": [
        "func5()"
      ],
      "metadata": {
        "colab": {
          "base_uri": "https://localhost:8080/"
        },
        "id": "o3rN5cumBYFc",
        "outputId": "342d16ac-6e55-45fb-ee6d-ad7ef8bcdeb1"
      },
      "execution_count": 22,
      "outputs": [
        {
          "output_type": "stream",
          "name": "stdout",
          "text": [
            "10\n"
          ]
        }
      ]
    },
    {
      "cell_type": "code",
      "source": [
        "func6(5)"
      ],
      "metadata": {
        "id": "-V5DKnbfBkpi"
      },
      "execution_count": 23,
      "outputs": []
    },
    {
      "cell_type": "code",
      "source": [
        "func5()"
      ],
      "metadata": {
        "colab": {
          "base_uri": "https://localhost:8080/"
        },
        "id": "YBxtWBMvBmiG",
        "outputId": "892aacf0-9bdf-41cb-8958-0ae8bd1ccb04"
      },
      "execution_count": 24,
      "outputs": [
        {
          "output_type": "stream",
          "name": "stdout",
          "text": [
            "10\n"
          ]
        }
      ]
    },
    {
      "cell_type": "code",
      "source": [
        "num1 = 10\n",
        "\n",
        "def func5():\n",
        "  print(num1)\n",
        "\n",
        "def func6(num):\n",
        "  global num1\n",
        "  num1 = num"
      ],
      "metadata": {
        "id": "zZPsLBmXBodY"
      },
      "execution_count": 26,
      "outputs": []
    },
    {
      "cell_type": "code",
      "source": [
        "func5()"
      ],
      "metadata": {
        "colab": {
          "base_uri": "https://localhost:8080/"
        },
        "id": "vQjT3ql1CcYo",
        "outputId": "607fd855-2b8a-4ec7-911d-dd0598354e49"
      },
      "execution_count": 27,
      "outputs": [
        {
          "output_type": "stream",
          "name": "stdout",
          "text": [
            "10\n"
          ]
        }
      ]
    },
    {
      "cell_type": "code",
      "source": [
        "func6(5)"
      ],
      "metadata": {
        "id": "rxc8yHfYChUz"
      },
      "execution_count": 28,
      "outputs": []
    },
    {
      "cell_type": "code",
      "source": [
        "func5()"
      ],
      "metadata": {
        "colab": {
          "base_uri": "https://localhost:8080/"
        },
        "id": "moOeoRGpCjkr",
        "outputId": "6fcf0dbd-244e-4f6e-9ee2-e6184853d454"
      },
      "execution_count": 29,
      "outputs": [
        {
          "output_type": "stream",
          "name": "stdout",
          "text": [
            "5\n"
          ]
        }
      ]
    }
  ]
}